{
 "cells": [
  {
   "cell_type": "markdown",
   "metadata": {},
   "source": [
    "[![Open In Colab](https://colab.research.google.com/assets/colab-badge.svg)](https://colab.research.google.com/github/lfmartins/introduction-to-computational-mathematics/blob/main/09-numpy-arrays.ipynb)\n",
    "# Introduction\n",
    "\n",
    "It turns out that lists are not perfect for numerical computations. Due to the way they are implemented, computations with lists are too slow. This is due to the fact that Python was not designed with computational mathematics as a priority. This should not come as a surprise: modern computer languages have a huge range of applications, and it is not possible to include optimized features for all possible uses of the language.\n",
    "\n",
    "The module `numpy` (\"numerical python\") was designed to overcome the limitations of the `list` datatype. `numpy` defines data structures and functions that are suitable for scientific computing. The most important of such structures is `ndarray`, which is used to represent arrays with one or more dimensions.\n",
    "\n",
    "To use the module `numpy`, it must first be imported, as shown in the following cell:"
   ]
  },
  {
   "cell_type": "code",
   "execution_count": null,
   "metadata": {},
   "outputs": [],
   "source": [
    "import numpy as np"
   ]
  },
  {
   "cell_type": "markdown",
   "metadata": {},
   "source": [
    "# Constructing arrays"
   ]
  },
  {
   "cell_type": "markdown",
   "metadata": {},
   "source": [
    "The most straightforward method to define an array is to construct it from a regular Python list:"
   ]
  },
  {
   "cell_type": "code",
   "execution_count": null,
   "metadata": {},
   "outputs": [],
   "source": [
    "u = np.array([2,5,-1,4,7,0])\n",
    "u"
   ]
  },
  {
   "cell_type": "markdown",
   "metadata": {},
   "source": [
    "There is a very important point in which arrays are different from lists. *All elements of an array must have the same type*. Technically, every array has a `dtype`. The `d` in `dtype` stands for \"data\", that is, `dtype` indicates what is the data type of elements of the array. To see what is the type of the array `u` we can use the following code:"
   ]
  },
  {
   "cell_type": "code",
   "execution_count": null,
   "metadata": {},
   "outputs": [],
   "source": [
    "u.dtype"
   ]
  },
  {
   "cell_type": "markdown",
   "metadata": {},
   "source": [
    "There is another important point here: usually we _don't_ want to work with integers when doing numerical work. To create an array of floats, we have two possible syntaxes:"
   ]
  },
  {
   "cell_type": "code",
   "execution_count": null,
   "metadata": {},
   "outputs": [],
   "source": [
    "v = np.array([2.,5.,-1.,4.,7.,0.])\n",
    "v"
   ]
  },
  {
   "cell_type": "code",
   "execution_count": null,
   "metadata": {},
   "outputs": [],
   "source": [
    "w = np.array([2,5,-1,4,7,0], dtype=np.float64)\n",
    "w"
   ]
  },
  {
   "cell_type": "markdown",
   "metadata": {},
   "source": [
    "If you are getting unexpected results when working with arrays, the first thing to check is if the arrays in your code have the correct `dtype`.\n",
    "\n",
    "Arrays use the same syntax as lists to refer to elements and slices:"
   ]
  },
  {
   "cell_type": "code",
   "execution_count": null,
   "metadata": {},
   "outputs": [],
   "source": [
    "v[3]"
   ]
  },
  {
   "cell_type": "code",
   "execution_count": null,
   "metadata": {},
   "outputs": [],
   "source": [
    "v[2] = 10\n",
    "v"
   ]
  },
  {
   "cell_type": "markdown",
   "metadata": {},
   "source": [
    "(Notice the automatic conversion to `float`.)"
   ]
  },
  {
   "cell_type": "code",
   "execution_count": null,
   "metadata": {},
   "outputs": [],
   "source": [
    "v[1:4]"
   ]
  },
  {
   "cell_type": "code",
   "execution_count": null,
   "metadata": {},
   "outputs": [],
   "source": [
    "v[0:5:2]"
   ]
  },
  {
   "cell_type": "markdown",
   "metadata": {},
   "source": [
    "Arrays have a powerful indexing facility that is not available for lists. Let's say we need to extract the elements with indexes 2, 5 and 1, in this order. This is how it can be done:"
   ]
  },
  {
   "cell_type": "code",
   "execution_count": null,
   "metadata": {},
   "outputs": [],
   "source": [
    "v[ [2, 5, 1] ]"
   ]
  },
  {
   "cell_type": "markdown",
   "metadata": {},
   "source": [
    "Notice how the indexes are specified in the input cell. We are using the _list_ `[2, 5, 1]` as the index for the array. We can actually even use an array as the index for an array with similar results.\n",
    "\n",
    "As with lists, we can define array ranges, with the `arange` function:"
   ]
  },
  {
   "cell_type": "code",
   "execution_count": null,
   "metadata": {},
   "outputs": [],
   "source": [
    "t = np.arange(2, 10)\n",
    "t"
   ]
  },
  {
   "cell_type": "markdown",
   "metadata": {},
   "source": [
    "Notice that this is an array of integers. We can specify the `dtype` to make this an array of floats:"
   ]
  },
  {
   "cell_type": "code",
   "execution_count": null,
   "metadata": {},
   "outputs": [],
   "source": [
    "t = np.arange(2, 10, dtype=np.float64)\n",
    "t"
   ]
  },
  {
   "cell_type": "markdown",
   "metadata": {},
   "source": [
    "This is actually one of the main advantages of an `arange` over a `range`: we can have floats in an `arange`. As with a `range`, we can specify a step with a third argument:"
   ]
  },
  {
   "cell_type": "code",
   "execution_count": null,
   "metadata": {},
   "outputs": [],
   "source": [
    "r = np.arange(3, 7, .4)\n",
    "r"
   ]
  },
  {
   "cell_type": "markdown",
   "metadata": {},
   "source": [
    "Notice that we didn't need to specify the `dtype`. `numpy` is smart enough to realize that this should be an array of floats.\n",
    "\n",
    "Finaly, there is `linspace`, which is very useful in many situations. `linspace` generates a specified number of equally spaced points between two given values. For example, to get 5 equally spaced points between 2 and 7, use:"
   ]
  },
  {
   "cell_type": "code",
   "execution_count": null,
   "metadata": {},
   "outputs": [],
   "source": [
    "p = np.linspace(2, 7, 5)\n",
    "p"
   ]
  },
  {
   "cell_type": "markdown",
   "metadata": {},
   "source": [
    "Notice that the endpoint 7 _is included_ in the array. This is an exception to the normal rule for sequence-type data structures in Python, but it is a convenient one. `linspace` is designed for case in which we need a regular grid of points in an interval, which is very common in numerical computing."
   ]
  },
  {
   "cell_type": "markdown",
   "metadata": {},
   "source": [
    "# Array functions and methods"
   ]
  },
  {
   "cell_type": "markdown",
   "metadata": {},
   "source": [
    "Many of the list functions and methods have array counterparts. The length of an array is computed by the `len()` function:"
   ]
  },
  {
   "cell_type": "code",
   "execution_count": null,
   "metadata": {},
   "outputs": [],
   "source": [
    "print(v)\n",
    "len(v)"
   ]
  },
  {
   "cell_type": "markdown",
   "metadata": {},
   "source": [
    "Elements of an array can be sorted in-place with the `sort()` function:"
   ]
  },
  {
   "cell_type": "code",
   "execution_count": null,
   "metadata": {},
   "outputs": [],
   "source": [
    "v.sort()\n",
    "v"
   ]
  },
  {
   "cell_type": "markdown",
   "metadata": {},
   "source": [
    "On the other hand, some list functions don't work with arrays. Suppose we want to append an element to an array. It looks like we could use something like:"
   ]
  },
  {
   "cell_type": "code",
   "execution_count": null,
   "metadata": {},
   "outputs": [],
   "source": [
    "v.append(3)"
   ]
  },
  {
   "cell_type": "markdown",
   "metadata": {},
   "source": [
    "There is a good reason why the method `append()` is not defined for `numpy` arrays. An array can be multidimensional, and it does not make much sense to append a single element to a multidimensional data structure. For example, it is not clear to what dimension the new element should be appended. \n",
    "\n",
    "There is a function `append` in the module `numpy`, but this method does not work as expected. For example, consider the following code:"
   ]
  },
  {
   "cell_type": "code",
   "execution_count": null,
   "metadata": {},
   "outputs": [],
   "source": [
    "w = np.append(v,3)\n",
    "print(v)\n",
    "print(w)"
   ]
  },
  {
   "cell_type": "markdown",
   "metadata": {},
   "source": [
    "The `numpy` function `append()` does not change the input array in-place. Instead, it returns an array with the appended element."
   ]
  },
  {
   "cell_type": "markdown",
   "metadata": {},
   "source": [
    "# Higher dimensional arrays"
   ]
  },
  {
   "cell_type": "markdown",
   "metadata": {},
   "source": [
    "Arrays can have any number of dimensions. The following defines a two-dimensional array (also known as a matrix, of course):"
   ]
  },
  {
   "cell_type": "code",
   "execution_count": null,
   "metadata": {},
   "outputs": [],
   "source": [
    "A = np.array([[1,2,3,4],[5,6,7,8],[9,10,11,12]])\n",
    "A"
   ]
  },
  {
   "cell_type": "markdown",
   "metadata": {},
   "source": [
    "When accessing the elements of a multidimensional array, remember that all dimensions start at the index 0:"
   ]
  },
  {
   "cell_type": "code",
   "execution_count": null,
   "metadata": {},
   "outputs": [],
   "source": [
    "A[0,2]"
   ]
  },
  {
   "cell_type": "markdown",
   "metadata": {},
   "source": [
    "Notice that, in the example above, we used \"matrix notation\" `A[i,j]` to access an array element. Notice that this is not allowed with lists. If `A` were a \"list of lists\", to reference elements of `A` one would have to use the notation `A[i][j]`."
   ]
  },
  {
   "cell_type": "markdown",
   "metadata": {},
   "source": [
    "To find the dimensions of an array, we use the `shape` field of the array:"
   ]
  },
  {
   "cell_type": "code",
   "execution_count": null,
   "metadata": {},
   "outputs": [],
   "source": [
    "A.shape"
   ]
  },
  {
   "cell_type": "markdown",
   "metadata": {},
   "source": [
    "Notice that `shape` is not a method, so we don't use the function call notation. `A.shape()` is a syntax error.\n",
    "\n",
    "The `size` of an array is the total number of elements:"
   ]
  },
  {
   "cell_type": "code",
   "execution_count": null,
   "metadata": {},
   "outputs": [],
   "source": [
    "A.size"
   ]
  },
  {
   "cell_type": "markdown",
   "metadata": {},
   "source": [
    "Slices in multidimensional arrays are very powerful. We can select almost any kind of subarray we can imagine. For example, to extract a submatrix of `A` with rows 1 to 3 and columns 0 to 2, we can use the slice:"
   ]
  },
  {
   "cell_type": "code",
   "execution_count": null,
   "metadata": {},
   "outputs": [],
   "source": [
    "A[1:3, 0:2]"
   ]
  },
  {
   "cell_type": "markdown",
   "metadata": {},
   "source": [
    "Notice that slices follow the Python convention don't include the endpoint of the range. So, the slice `1:3` refers to rows 1 and 2 only.\n",
    "\n",
    "The following are common idioms for extracting rows and columns of a two dimensional array:"
   ]
  },
  {
   "cell_type": "code",
   "execution_count": null,
   "metadata": {},
   "outputs": [],
   "source": [
    "A[1,:]  # Second row"
   ]
  },
  {
   "cell_type": "code",
   "execution_count": null,
   "metadata": {},
   "outputs": [],
   "source": [
    "A[:,2]  # Third column"
   ]
  },
  {
   "cell_type": "markdown",
   "metadata": {},
   "source": [
    "Notice that there is something strange with this last example. It seems that the the column is returned as a row vector. This is a good point to discuss in more detail the structure of `ndarray` objects.\n",
    "\n",
    "When we construct a one-dimensional array in Python, what we are actually defining is something called a `rank one array`. At first glance, it seems that this data structure represents a row vector or a column vector, but in truth it represents neither. To better understand this, let's construct a one-dimensional array and find its shape:"
   ]
  },
  {
   "cell_type": "code",
   "execution_count": null,
   "metadata": {},
   "outputs": [],
   "source": [
    "rank_one_array = np.array([1, 5, 3, -2, 4])\n",
    "print(rank_one_array)\n",
    "print(rank_one_array.shape)"
   ]
  },
  {
   "cell_type": "markdown",
   "metadata": {},
   "source": [
    "Notice that the shape of the array looks a little strange. `(5,)` denotes a Python `tuple` with a single element. A `tuple` is a Python datatype that represents an immutable sequence of data, and will be discussed in detail later in the course.\n",
    "\n",
    "For now, the important point is that this is neither a column or a row of data. The `numpy` designers decided that it was convenient to have a data structure that defines a one-dimensional sequence that is not tought of as neither a column or a row.\n",
    "\n",
    "In mathematics, we identify a column $n$-vector with a $n\\times 1$ matrix. We can define this in Python using the following code:"
   ]
  },
  {
   "cell_type": "code",
   "execution_count": null,
   "metadata": {},
   "outputs": [],
   "source": [
    "column_vector = np.array([1,5,3,-2,4]).reshape(5,1)\n",
    "column_vector"
   ]
  },
  {
   "cell_type": "markdown",
   "metadata": {},
   "source": [
    "Analogously, to construct a row vector we can use:"
   ]
  },
  {
   "cell_type": "code",
   "execution_count": null,
   "metadata": {},
   "outputs": [],
   "source": [
    "row_vector = np.array([1,5,3,-2,4]).reshape(1,5)\n",
    "row_vector"
   ]
  },
  {
   "cell_type": "markdown",
   "metadata": {},
   "source": [
    "Notice that this is different from:"
   ]
  },
  {
   "cell_type": "code",
   "execution_count": null,
   "metadata": {},
   "outputs": [],
   "source": [
    "np.array([1,5,3,-2,4])"
   ]
  },
  {
   "cell_type": "markdown",
   "metadata": {},
   "source": [
    "Some people say that rank-one arrays should never be used in numerical computations. In our opinion, this is an overkill. In cases where it does not matter if the data is visualized as a column or a row, it is fine to use rank-one arrays. However, in some cases, it *does* matter how the data is oriented. For example, suppose we want to compute the matrix multiplication:\n",
    "$$\n",
    "Av\n",
    "$$\n",
    "If the matrix is $m\\times n$, we expect $v$ to be a column vector, with dimensions $n\\times 1$, and the result to be a column vector with dimensions $m\\times 1$. The following cell illustrates how this can be done:"
   ]
  },
  {
   "cell_type": "code",
   "execution_count": null,
   "metadata": {},
   "outputs": [],
   "source": [
    "A = np.array([[1,3,4,2],[2,1,-3,4],[2,1,1,0]])\n",
    "print(A)\n",
    "v = np.array([1,3,-2,1]).reshape(4,1)\n",
    "print(A)\n",
    "w = A @ v\n",
    "print(w)"
   ]
  },
  {
   "cell_type": "markdown",
   "metadata": {},
   "source": [
    "Notice the use of the operator `@` for matrix multiplication. This is a special operator introduced in Python just for matrix multiplication. See the section below on array operations for a more thorough discussion."
   ]
  },
  {
   "cell_type": "markdown",
   "metadata": {},
   "source": [
    "# Special Arrays\n",
    "\n",
    "`numpy` has several predefined functions designed to create commonly used arrays. For example, to create an array of zeros we can use:"
   ]
  },
  {
   "cell_type": "code",
   "execution_count": null,
   "metadata": {},
   "outputs": [],
   "source": [
    "np.zeros((2,3))   # 2 x 3 matrix of zeros"
   ]
  },
  {
   "cell_type": "markdown",
   "metadata": {},
   "source": [
    "An array of ones can be created as follows:"
   ]
  },
  {
   "cell_type": "code",
   "execution_count": null,
   "metadata": {},
   "outputs": [],
   "source": [
    "np.ones((4,3))   # 4 x 3 matrix of ones"
   ]
  },
  {
   "cell_type": "markdown",
   "metadata": {},
   "source": [
    "The identity matrix is constructed with the `eye()` function. When calling this function, we need to specify the dimension of the matrix:"
   ]
  },
  {
   "cell_type": "code",
   "execution_count": null,
   "metadata": {},
   "outputs": [],
   "source": [
    "np.eye(4)   # 4 x 4 identity matrix"
   ]
  },
  {
   "cell_type": "markdown",
   "metadata": {},
   "source": [
    "By the way, did you get the nerd joke? \"Eye\" sounds like \"I\", which is the mathematical symbol for the identity matrix. The `numpy` designers decided that using `eye()` instead of `I()` makes the code more readable."
   ]
  },
  {
   "cell_type": "markdown",
   "metadata": {},
   "source": [
    "We can create a diagonal matrix with the following code:"
   ]
  },
  {
   "cell_type": "code",
   "execution_count": null,
   "metadata": {},
   "outputs": [],
   "source": [
    "np.diag([2,-3,4,5])"
   ]
  },
  {
   "cell_type": "markdown",
   "metadata": {},
   "source": [
    "In numerical computations, we frequently need to create matrices with random elements. This can be done with the function `np.random.rand()`:"
   ]
  },
  {
   "cell_type": "code",
   "execution_count": null,
   "metadata": {},
   "outputs": [],
   "source": [
    "A = np.random.rand(2, 4)  # 2 x 4 matrix with random entries\n",
    "A"
   ]
  },
  {
   "cell_type": "markdown",
   "metadata": {},
   "source": [
    "The function `rand()`, by default, generates random numbers uniformly distributed in the range $[0,1]$. If, for example, we need random numbers in the range $[0, 0.25]$, we can scale the result as follows:"
   ]
  },
  {
   "cell_type": "code",
   "execution_count": null,
   "metadata": {},
   "outputs": [],
   "source": [
    "B = np.random.rand(2, 4) * 0.25\n",
    "B"
   ]
  },
  {
   "cell_type": "markdown",
   "metadata": {},
   "source": [
    "`numpy` also supports the generation of non-uniform random numbers. For example, to generate a column vector of normally-distributed random values we can use:"
   ]
  },
  {
   "cell_type": "code",
   "execution_count": null,
   "metadata": {},
   "outputs": [],
   "source": [
    "C = np.random.randn(4, 1) # 4 x 1 matrix with normally distributed random values\n",
    "C"
   ]
  },
  {
   "cell_type": "markdown",
   "metadata": {},
   "source": [
    "The `randn()` function, by default, generates values according to a normal distribution with mean 0 and standard deviation 1. To change the mean and standard deviation we can scale-and-shift the output from `randn()`, as follows:"
   ]
  },
  {
   "cell_type": "code",
   "execution_count": null,
   "metadata": {},
   "outputs": [],
   "source": [
    "D = 2 + 1.5 * np.random.randn(4,1) # normally distributed random values with mean 2 and sdev 1.5\n",
    "D"
   ]
  },
  {
   "cell_type": "markdown",
   "metadata": {},
   "source": [
    "A final note to nitpickers: we know that, technically, computers can't generate random numbers, and the word *pseudorandom* should be used. But \"pseudorandom\" is too long and pedantic, so we simply use \"random\"."
   ]
  },
  {
   "cell_type": "markdown",
   "metadata": {},
   "source": [
    "# Array operations"
   ]
  },
  {
   "cell_type": "markdown",
   "metadata": {},
   "source": [
    "`numpy` defines all arithmetic operations between arrays necessary for computational mathematics. Let's define two vector and see what operations are available."
   ]
  },
  {
   "cell_type": "code",
   "execution_count": null,
   "metadata": {},
   "outputs": [],
   "source": [
    "u = np.array([2.,-1.,0.,2.])\n",
    "v = np.array([3.,6.,-4.,1.])"
   ]
  },
  {
   "cell_type": "markdown",
   "metadata": {},
   "source": [
    "To add two vectors, we use the standard addition operator:"
   ]
  },
  {
   "cell_type": "code",
   "execution_count": null,
   "metadata": {},
   "outputs": [],
   "source": [
    "u + v"
   ]
  },
  {
   "cell_type": "markdown",
   "metadata": {},
   "source": [
    "Addition of vectors is done, as expected, componentwise: if $u=[u_0,u_1,\\ldots u_k]$ and $v=[v_0,v_1,\\ldots v_k]$, then $u+v=[u_0+v0,u_1+v_1,\\ldots u_k+v_k]$\n",
    "\n",
    "We can also do componentwise subtraction, multiplication and division:"
   ]
  },
  {
   "cell_type": "code",
   "execution_count": null,
   "metadata": {},
   "outputs": [],
   "source": [
    "u - v"
   ]
  },
  {
   "cell_type": "code",
   "execution_count": null,
   "metadata": {},
   "outputs": [],
   "source": [
    "u * v"
   ]
  },
  {
   "cell_type": "code",
   "execution_count": null,
   "metadata": {},
   "outputs": [],
   "source": [
    "u / v"
   ]
  },
  {
   "cell_type": "markdown",
   "metadata": {},
   "source": [
    "It may seem a little strange that `numpy` defines componentwise versions of array multiplication and division, since these operations are not very common in standard mathematical practice. They are, however, very useful in Python, since they allow for much faster computations in some cases.\n",
    "\n",
    "The product of a scalar by an array is computed as expected:"
   ]
  },
  {
   "cell_type": "code",
   "execution_count": null,
   "metadata": {},
   "outputs": [],
   "source": [
    "3 * u"
   ]
  },
  {
   "cell_type": "markdown",
   "metadata": {},
   "source": [
    "We can also add a value to all elements of an array:"
   ]
  },
  {
   "cell_type": "code",
   "execution_count": null,
   "metadata": {},
   "outputs": [],
   "source": [
    "3 + u"
   ]
  },
  {
   "cell_type": "markdown",
   "metadata": {},
   "source": [
    "The last two examples use a feature of numpy called *broadcasting*. Behind the scenes, this is how the computation is carried out:\n",
    "\n",
    "- In the expression `3 + u`, the objects have different shapes: `3` is a scalar, ane `u` is one-dimensional\n",
    "- So, the `3` is \"broadcast\" to a one-dimensional array, and the expression is replaced by:\n",
    "\n",
    "    [3, 3, 3, 3] + [2.,-1.,0.,2.]\n",
    "    \n",
    "- The componentwise addition of the arrays is computed, resulting `[5., 2., 3., 5.]`\n",
    "\n",
    "Notice that the notion of componentwise operations do not correspond to the operations of vector algebra. For example, to compute the dot product of the arrays `u` and `v` we can use one of the following options:"
   ]
  },
  {
   "cell_type": "code",
   "execution_count": null,
   "metadata": {},
   "outputs": [],
   "source": [
    "np.dot(u,v)"
   ]
  },
  {
   "cell_type": "code",
   "execution_count": null,
   "metadata": {},
   "outputs": [],
   "source": [
    "u @ v"
   ]
  },
  {
   "cell_type": "markdown",
   "metadata": {},
   "source": [
    "The operator `@` has a very special role: it was introduced in Python with the exclusive purpose of supporting matrix multiplication. Here is an example:"
   ]
  },
  {
   "cell_type": "markdown",
   "metadata": {},
   "source": [
    "This is also available as a method, which is useful sometimes:"
   ]
  },
  {
   "cell_type": "code",
   "execution_count": null,
   "metadata": {},
   "outputs": [],
   "source": [
    "A = np.array([[1,-1,-2,0],[2,0,3,-4]])\n",
    "A"
   ]
  },
  {
   "cell_type": "code",
   "execution_count": null,
   "metadata": {},
   "outputs": [],
   "source": [
    "B = np.array([[1,3],[-1,4],[0,5],[-3,2]])\n",
    "B"
   ]
  },
  {
   "cell_type": "markdown",
   "metadata": {},
   "source": [
    "To compute the matrix product $AB$ we can use either of the following two options"
   ]
  },
  {
   "cell_type": "code",
   "execution_count": null,
   "metadata": {},
   "outputs": [],
   "source": [
    "A.dot(B)"
   ]
  },
  {
   "cell_type": "code",
   "execution_count": null,
   "metadata": {},
   "outputs": [],
   "source": [
    "A @ B"
   ]
  },
  {
   "cell_type": "markdown",
   "metadata": {},
   "source": [
    "# Vectorized functions"
   ]
  },
  {
   "cell_type": "markdown",
   "metadata": {},
   "source": [
    "A very useful characteristic of arrays are _vectorized functions_. These are functions that operate on every element of an array individually. `numpy` defines vectorized versions of all elementary functions. For example, let's say we need the sines of the angles $0$, $\\pi/3$, $2\\pi/3$ up to $\\pi$. We first generate an array with the points we need: "
   ]
  },
  {
   "cell_type": "code",
   "execution_count": null,
   "metadata": {},
   "outputs": [],
   "source": [
    "xvalues = np.arange(0, np.pi + 0.1, np.pi/3)\n",
    "xvalues"
   ]
  },
  {
   "cell_type": "markdown",
   "metadata": {},
   "source": [
    "(Question: why did we use `np.pi + 0.1` as the upper bound for the `arange`?)\n",
    "\n",
    "Now, to compute the sines of these angles, simply use:"
   ]
  },
  {
   "cell_type": "code",
   "execution_count": null,
   "metadata": {},
   "outputs": [],
   "source": [
    "yvalues = np.sin(xvalues)\n",
    "yvalues"
   ]
  },
  {
   "cell_type": "markdown",
   "metadata": {},
   "source": [
    "Some of the vectorized functions defined by `numpy` are:\n",
    "\n",
    "- Square, square root, absolute value: `square`, `sqrt`, `abs`.\n",
    "- Trigonometric and inverse trigonometric functions: `sin`, `cos`, `tan`, `arcsin`, `arccos`, `arctan`.\n",
    "- Exponential and logarithmic functions: `exp`, `log`, `log10`, `log2`.\n",
    "- Hyperbolic functions: `sinh`, `cosh`, `tanh`, `arcsinh`, `arccos`, `arctanh`.\n",
    "- Rounding: `round`, `trunc`, `floor`, `ceil`.\n",
    "\n",
    "Check the documentation for a complete list, as well as specifics for individual functions.\n",
    "\n",
    "Notice that `log` is the natural logarithm:"
   ]
  },
  {
   "cell_type": "code",
   "execution_count": null,
   "metadata": {},
   "outputs": [],
   "source": [
    "np.log(10)"
   ]
  },
  {
   "cell_type": "markdown",
   "metadata": {},
   "source": [
    "`log10` is the logarithm in base 10:"
   ]
  },
  {
   "cell_type": "code",
   "execution_count": null,
   "metadata": {},
   "outputs": [],
   "source": [
    "np.log10(10)"
   ]
  },
  {
   "cell_type": "markdown",
   "metadata": {},
   "source": [
    "Finally, `log2` is the logarithm in base two. To compute a logarithm in an arbitrary base, you have to use the change of base formula. For example, the logarithm of 531441\n",
    "in base 3, do:"
   ]
  },
  {
   "cell_type": "code",
   "execution_count": null,
   "metadata": {},
   "outputs": [],
   "source": [
    "np.log(531441) / np.log(3)"
   ]
  },
  {
   "cell_type": "markdown",
   "metadata": {},
   "source": [
    "Notice that this expression takes advantage of the componentwise division operator."
   ]
  },
  {
   "cell_type": "markdown",
   "metadata": {},
   "source": [
    "<a rel=\"license\" href=\"http://creativecommons.org/licenses/by-nc-sa/4.0/\"><img alt=\"Creative Commons License\" style=\"border-width:0\" src=\"http://i.creativecommons.org/l/by-nc-sa/4.0/88x31.png\" /></a><br /><span xmlns:dct=\"http://purl.org/dc/terms/\" property=\"dct:title\"><b>Introduction to Computational Mathematics with Python</b></span> by <a xmlns:cc=\"http://creativecommons.org/ns#\" href=\"mailto:l.martins@csuohio.edu\" property=\"cc:attributionName\" rel=\"cc:attributionURL\">L. Felipe Martins</a> and \n",
    "<a xmlns:cc=\"http://creativecommons.org/ns#\" href=\"mailto:a.p.hoover@csuohio.edu\" property=\"cc:attributionName\" rel=\"cc:attributionURL\">L. Alexander P. Hoover</a> and is licensed under a <a rel=\"license\" href=\"http://creativecommons.org/licenses/by-nc-sa/4.0/\">Creative Commons Attribution-NonCommercial-ShareAlike 4.0 International License</a>."
   ]
  },
  {
   "cell_type": "code",
   "execution_count": null,
   "metadata": {},
   "outputs": [],
   "source": []
  }
 ],
 "metadata": {
  "kernelspec": {
   "display_name": "Python 3 (ipykernel)",
   "language": "python",
   "name": "python3"
  },
  "language_info": {
   "codemirror_mode": {
    "name": "ipython",
    "version": 3
   },
   "file_extension": ".py",
   "mimetype": "text/x-python",
   "name": "python",
   "nbconvert_exporter": "python",
   "pygments_lexer": "ipython3",
   "version": "3.9.7"
  }
 },
 "nbformat": 4,
 "nbformat_minor": 4
}
