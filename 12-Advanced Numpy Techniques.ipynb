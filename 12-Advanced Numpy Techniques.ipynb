{
 "cells": [
  {
   "cell_type": "markdown",
   "id": "444cbbbe-e6f6-4a37-9249-ad1c09599995",
   "metadata": {},
   "source": [
    "# Introduction\n",
    "\n",
    "The `numpy` module is optimized for array operations that are frequently used in computational mathematics. This is supported by two features of `numpy` arrays: *vectorization* and *broadcasting*.\n",
    "\n",
    "Vectorization refers to operations and functions that operate \"in parallel\" on all elements of an array. This does not mean that the operations are actually done in parallel, but that `numpy` is able to do the operation using C loops, which are much faster than Python loops. Vectorization can also take advantage of CPU and GPU architectures that support parallelization.\n",
    "\n",
    "Broadcasting extends mathematical operations for arrays of different shape. It is a form of vectorization that leads to code that is expressive, easy to read and efficient.\n",
    "\n",
    "Before running this notebook, let's import the modules and functions we will use:"
   ]
  },
  {
   "cell_type": "code",
   "execution_count": 2,
   "id": "1c207cc2-85a8-4076-bf7f-7acb3d4f6d06",
   "metadata": {},
   "outputs": [],
   "source": [
    "import numpy as np\n",
    "import matplotlib.pyplot as plt"
   ]
  },
  {
   "cell_type": "markdown",
   "id": "917aa60a-f3cb-4218-83ab-c1887dcaec48",
   "metadata": {},
   "source": [
    "# Vectorized operations and functions\n",
    "\n",
    "Operations and functions on `numpy` arrays are *vectorized*. This means that they operate on all elements of an array \"simultaneously\". For example, let's compute the value of $\\sin(x)$ for the elements of an array:"
   ]
  },
  {
   "cell_type": "code",
   "execution_count": 3,
   "id": "f36e0247-edc2-4fba-a116-1bf80f5c5ecc",
   "metadata": {},
   "outputs": [
    {
     "name": "stdout",
     "output_type": "stream",
     "text": [
      "[0.         0.78539816 1.57079633 2.35619449 3.14159265]\n",
      "[0.00000000e+00 7.07106781e-01 1.00000000e+00 7.07106781e-01\n",
      " 1.22464680e-16]\n"
     ]
    }
   ],
   "source": [
    "xvalues = np.linspace(0, np.pi, 5)\n",
    "yvalues = np.sin(xvalues)\n",
    "print(xvalues)\n",
    "print(yvalues)"
   ]
  },
  {
   "cell_type": "markdown",
   "id": "d731e047-c83f-412e-8234-cc18bfc8992f",
   "metadata": {},
   "source": [
    "The function call `np.linspace(0, np.pi, 5)` returns an array of 5 points between $0$ and $\\pi$. Notice that, contrary to the usual Python convention, `linspace()` *does* include the endpoint of the interval.\n",
    "\n",
    "Next, notice the function call `np.sin(xvalues)`. This computes the value of $\\sin(x)$ for all elements of the array. Behind the scenes, `numpy` passes the function call to precompiled code written in the C language, which results in much faster execution times.\n",
    "\n",
    "To see how much faster the code is, let's compare the time of computation for a large array. First, let's do the computation using Python lists and a loop:"
   ]
  },
  {
   "cell_type": "code",
   "execution_count": 4,
   "id": "d39a940d-c056-4e3e-a430-c079f2c03c39",
   "metadata": {},
   "outputs": [
    {
     "name": "stdout",
     "output_type": "stream",
     "text": [
      "7.26 ms ± 102 µs per loop (mean ± std. dev. of 7 runs, 100 loops each)\n"
     ]
    }
   ],
   "source": [
    "%%timeit\n",
    "n = 10000\n",
    "yvalues = (n + 1) * [0.0]\n",
    "for i in range(n+1):\n",
    "    yvalues[i] = np.sin((i / n) * np.pi)"
   ]
  },
  {
   "cell_type": "markdown",
   "id": "0add5b39-7d68-48c3-a93c-36533eb9a326",
   "metadata": {},
   "source": [
    "Notice the `%%timeit` special instruction at the beginning of the cell. This kind of instruction is called a \"cell magic\". In this particular case, the cell is run a number of loops, and the average run time is recorder. Before checking the running time using `numpy` arrays, let's see if the execution time improves if we use a list comprehension instead of a `for` loop:"
   ]
  },
  {
   "cell_type": "code",
   "execution_count": 5,
   "id": "14751e17-f995-4ff4-9ec7-b0ecf6ac8680",
   "metadata": {},
   "outputs": [
    {
     "name": "stdout",
     "output_type": "stream",
     "text": [
      "7.04 ms ± 87.4 µs per loop (mean ± std. dev. of 7 runs, 100 loops each)\n"
     ]
    }
   ],
   "source": [
    "%%timeit\n",
    "n = 10000\n",
    "yvalues = [np.sin((i / n) * np.pi) for i in range(n+1)]"
   ]
  },
  {
   "cell_type": "markdown",
   "id": "74b3f207-e057-4337-b4b7-e662b00e9000",
   "metadata": {},
   "source": [
    "You'll probably notice that there is a slight improvement in running time. Let's now compare it with the `numpy` code:"
   ]
  },
  {
   "cell_type": "code",
   "execution_count": 6,
   "id": "65f353c8-b2ac-4abe-8d05-ab6c4ab3c3e8",
   "metadata": {},
   "outputs": [
    {
     "name": "stdout",
     "output_type": "stream",
     "text": [
      "25 µs ± 188 ns per loop (mean ± std. dev. of 7 runs, 10,000 loops each)\n"
     ]
    }
   ],
   "source": [
    "%%timeit\n",
    "xvalues = np.linspace(0, np.pi, 5)\n",
    "yvalues = np.sin(xvalues)"
   ]
  },
  {
   "cell_type": "markdown",
   "id": "57dde15f-f3ce-4657-b95f-d98733e3fc09",
   "metadata": {},
   "source": [
    "Notice that the execution is much faster now. The exact times will vary depending on the computer you are using. When we run this code in the list comprehension mode, execution takes about 5.7 milliseconds on the average. In the `numpy` version, it takes 23 *micro*seconds. So, the vectorized version is about 250 times faster! This is a bit unusual, in more typical situations the `numpy` code will be about 10 times faster than the standard Python code.\n",
    "\n",
    "It is also possible to define our own vectorized functions. The simplest way to do this is to use `numpy` vectorized functions. In this case, we essentially get the vectorization for free. As an example, suppose we want to define a function that computes the expression:\n",
    "$$\n",
    "e^{-t}(a\\cos(t)+b\\sin(t))\n",
    "$$\n",
    "This function represents an attenuated linear oscillation, which is studied in an introductory diferential equations course. In this expression, $a$ and $b$ are constants related to the initial conditions for the oscillation, and are scalars. The variable $t$, however, may be an array. Here is how we can define a version of this function that is automatically vectorized:"
   ]
  },
  {
   "cell_type": "code",
   "execution_count": 7,
   "id": "17f4672c-be90-4212-89bf-0cfa12eef261",
   "metadata": {},
   "outputs": [],
   "source": [
    "def oscillation(t, a, b):\n",
    "    return np.exp(-t) * (a * np.cos(t) + b * np.sin(t))"
   ]
  },
  {
   "cell_type": "markdown",
   "id": "9058235a-a942-410b-b26f-e0a3a13c3a30",
   "metadata": {},
   "source": [
    "We can use this function now to plot the oscillations:"
   ]
  },
  {
   "cell_type": "code",
   "execution_count": 8,
   "id": "5348075b-ebfd-43c7-a1c7-04b12a700b32",
   "metadata": {},
   "outputs": [
    {
     "data": {
      "image/png": "[encoded data removed]",
      "text/plain": [
       "<Figure size 576x432 with 1 Axes>"
      ]
     },
     "metadata": {
      "needs_background": "light"
     },
     "output_type": "display_data"
    }
   ],
   "source": [
    "plt.figure(figsize=(8, 6))\n",
    "tvalues = np.linspace(0, 3 * np.pi, 200)\n",
    "yvalues = oscillation(tvalues, 1, -1)\n",
    "plt.plot(tvalues, yvalues, lw=2, color='green')\n",
    "plt.axvline(0, lw=1, color='black')\n",
    "plt.axhline(0, lw=1, color='black')\n",
    "plt.xlabel('$t$')\n",
    "None"
   ]
  },
  {
   "cell_type": "markdown",
   "id": "a4ed4c03-e3c0-4904-8d9a-63cac3fca5fa",
   "metadata": {},
   "source": [
    "Just recall the following rule of thumb: Always use the `numpy` versions of mathematical functions, and your code will be automatically vectorized.\n",
    "\n",
    "Another built-in vectorization feature in `numpy` are the *componentwise operators*. `numpy` defines a componentwise operator for each of the Python arithmetic operators. Let's consider the following example:"
   ]
  },
  {
   "cell_type": "code",
   "execution_count": 9,
   "id": "ba245bbc-7dba-477f-bafd-f10a9807b911",
   "metadata": {},
   "outputs": [
    {
     "name": "stdout",
     "output_type": "stream",
     "text": [
      "[0.19052373 0.03263947 0.49211354 0.33088568 0.70207627]\n",
      "[0.2593982  0.64345313 0.69149856 0.51600359 0.10566543]\n",
      "[0.44992193 0.67609261 1.1836121  0.84688926 0.8077417 ]\n"
     ]
    }
   ],
   "source": [
    "n = 100\n",
    "# Define two arrays with random entries in the interval [0,1].\n",
    "a = np.random.rand(n)\n",
    "b = np.random.rand(n)\n",
    "# Add the two arrays component by component\n",
    "c = a + b\n",
    "print(a[:5])\n",
    "print(b[:5])\n",
    "print(c[:5])"
   ]
  },
  {
   "cell_type": "markdown",
   "id": "266c83d5-45cc-4e58-9e61-bc9756aae60f",
   "metadata": {},
   "source": [
    "In this example, the assignment `c = a + b`, behind the scenes, adds the vector using a fast loop through precompiled C code, instead of using the Python interpreter. This results in much faster execution."
   ]
  },
  {
   "cell_type": "markdown",
   "id": "e5ab5f0e-e8be-4109-a282-617c7c6350ae",
   "metadata": {},
   "source": [
    "# Array Functions\n",
    "\n",
    "Another `numpy` feature that helps write faster code are functions that operate on whole arrays. The most commonly used of these are:\n",
    "\n",
    "- `np.sum()`: computes the sum of the entries of an array.\n",
    "- `np.max()`: computes the largest entry of an array.\n",
    "- `np.min()`: computes the smallest entry of an array.\n",
    "- `np.prod()`: computes the product of the elements of an array:\n",
    "\n",
    "As an example, let's see how to compute the sum of the elements of an array. We start with defining an array with random entries:"
   ]
  },
  {
   "cell_type": "code",
   "execution_count": 17,
   "id": "efdc7cce-2768-4bbf-ab07-1a24efc5bfc6",
   "metadata": {},
   "outputs": [
    {
     "data": {
      "text/plain": [
       "array([0.26060605, 0.17979217, 0.34612529, 0.42217511, 0.52875733,\n",
       "       0.86591006, 0.31491744, 0.5796741 , 0.97815252, 0.63851656])"
      ]
     },
     "execution_count": 17,
     "metadata": {},
     "output_type": "execute_result"
    }
   ],
   "source": [
    "n = 1000\n",
    "a = np.random.rand(n)\n",
    "a[:10]"
   ]
  },
  {
   "cell_type": "markdown",
   "id": "bde7d9b1-78f8-4601-92e7-150eae9f894f",
   "metadata": {},
   "source": [
    "Let's now compute the sum of the elements using a Python `for` loop:"
   ]
  },
  {
   "cell_type": "code",
   "execution_count": 18,
   "id": "280c39a0-e69c-4b4a-9069-10f7c6bdc283",
   "metadata": {},
   "outputs": [
    {
     "name": "stdout",
     "output_type": "stream",
     "text": [
      "131 µs ± 2.24 µs per loop (mean ± std. dev. of 7 runs, 10,000 loops each)\n"
     ]
    }
   ],
   "source": [
    "%%timeit\n",
    "array_sum = 0.0\n",
    "for j in range(n):\n",
    "    array_sum += a[j]"
   ]
  },
  {
   "cell_type": "markdown",
   "id": "e6dd8616-9af2-4c6f-b22c-55e672972a15",
   "metadata": {},
   "source": [
    "Let's now compute the sum using the `np.sum()` function:"
   ]
  },
  {
   "cell_type": "code",
   "execution_count": 19,
   "id": "3a90da35-8634-4c8e-8ceb-f01fdc10ee1d",
   "metadata": {},
   "outputs": [
    {
     "name": "stdout",
     "output_type": "stream",
     "text": [
      "3.61 µs ± 19.2 ns per loop (mean ± std. dev. of 7 runs, 100,000 loops each)\n"
     ]
    }
   ],
   "source": [
    "%%timeit\n",
    "array_sum = np.sum(a)"
   ]
  },
  {
   "cell_type": "markdown",
   "id": "eb2639c7-7196-4648-9768-c049a6246df1",
   "metadata": {},
   "source": [
    "Again, we see that using the `numpy` function yields much faster code.\n",
    "\n",
    "What happens when we call `np.sum()` for a two-dimensional array? The next example illustrates it:"
   ]
  },
  {
   "cell_type": "code",
   "execution_count": 20,
   "id": "2a201c38-4674-4e86-83d1-c8b32389f620",
   "metadata": {},
   "outputs": [
    {
     "name": "stdout",
     "output_type": "stream",
     "text": [
      "[[ 0  1  2  3  4]\n",
      " [ 5  6  7  8  9]\n",
      " [10 11 12 13 14]\n",
      " [15 16 17 18 19]\n",
      " [20 21 22 23 24]]\n",
      "300\n"
     ]
    }
   ],
   "source": [
    "n = 5\n",
    "a = np.array([[i+n*j for i in range(n)] for j in range(n)])\n",
    "print(a)\n",
    "array_sum = np.sum(a)\n",
    "print(array_sum)"
   ]
  },
  {
   "cell_type": "markdown",
   "id": "2b8d7710-d6a0-4c38-90eb-e18740819502",
   "metadata": {},
   "source": [
    "The expression `np.sum(a)` computes the sum of all elements in the array `a`. Another frequent operation is to compute the sum of the rows or columns of a matrix. For example, to compute the row sum we can use:"
   ]
  },
  {
   "cell_type": "code",
   "execution_count": 21,
   "id": "70dff6a1-d34e-4149-8355-c466598724e8",
   "metadata": {},
   "outputs": [
    {
     "name": "stdout",
     "output_type": "stream",
     "text": [
      "[50 55 60 65 70]\n"
     ]
    }
   ],
   "source": [
    "row_sum = np.sum(a, axis=0)\n",
    "print(row_sum)"
   ]
  },
  {
   "cell_type": "markdown",
   "id": "ce33ab97-a219-49c0-8efc-1c81769ba325",
   "metadata": {},
   "source": [
    "The option `axis=0` specifies that the sum should be computed \"along axis 0\". This means that the statement above is equivalent to the following loop:"
   ]
  },
  {
   "cell_type": "code",
   "execution_count": 27,
   "id": "e3d0a835-34bf-44f9-9d03-2c80c9cc0af2",
   "metadata": {},
   "outputs": [
    {
     "name": "stdout",
     "output_type": "stream",
     "text": [
      "[50 55 60 65 70]\n"
     ]
    }
   ],
   "source": [
    "row_sum_1 = 0\n",
    "for i in range(5):\n",
    "    row_sum_1 += a[i,:]\n",
    "print(row_sum_1)"
   ]
  },
  {
   "cell_type": "markdown",
   "id": "a3ace19c-ab9e-481d-90a4-debc6dbfc7c1",
   "metadata": {},
   "source": [
    "The code using `np.sum()` is, of course, much faster, and should be preferred. To find the sum of the columns, we can use:"
   ]
  },
  {
   "cell_type": "code",
   "execution_count": 28,
   "id": "580dacff-be30-46b7-a525-3d5285b7d932",
   "metadata": {},
   "outputs": [
    {
     "name": "stdout",
     "output_type": "stream",
     "text": [
      "[ 10  35  60  85 110]\n"
     ]
    }
   ],
   "source": [
    "col_sum = np.sum(a, axis=1)\n",
    "print(col_sum)"
   ]
  },
  {
   "cell_type": "markdown",
   "id": "3464d8d3-2fd0-45a0-a017-0fca79853738",
   "metadata": {},
   "source": [
    "# Broadcasting\n",
    "\n",
    "Look carefully at the code in the following cell. Notice that there is something strange about it."
   ]
  },
  {
   "cell_type": "code",
   "execution_count": 36,
   "id": "26714a79-70bc-4023-b1d6-fdb6da59ff01",
   "metadata": {},
   "outputs": [
    {
     "name": "stdout",
     "output_type": "stream",
     "text": [
      "[[ 0  1  2  3  4]\n",
      " [ 4  5  6  7  8]\n",
      " [ 8  9 10 11 12]\n",
      " [12 13 14 15 16]]\n",
      "[0 1 2 3 4]\n",
      "[[ 0  2  4  6  8]\n",
      " [ 4  6  8 10 12]\n",
      " [ 8 10 12 14 16]\n",
      " [12 14 16 18 20]]\n"
     ]
    }
   ],
   "source": [
    "m, n = 5, 4\n",
    "a = np.array([[i+n*j for i in range(m)] for j in range(n)])\n",
    "print(a)\n",
    "b = np.array([i for i in range(m)])\n",
    "print(b)\n",
    "c = a + b\n",
    "print(c)"
   ]
  },
  {
   "cell_type": "markdown",
   "id": "5ae07771-30e5-4c6a-9628-ec0aa27861cc",
   "metadata": {},
   "source": [
    "The assignment `c = a + b` looks strange, doesn't it? The arrays `a` and `b` have shapes `(4,5)` and `(4,)`, and, in mathematical notation, it is not possible to add arrays of different shapes. \n",
    "\n",
    "Here, `numpy` is using a feature called *broadcasting*. This is what is happening in the background:\n",
    "\n",
    "- `numpy` realizes that the shape array `[0 1 2 3 4]` matches the number of *columns* of the array `a`.\n",
    "- The array `b` is then \"broadcast\" to match the number of rows of `a`. That is, the array `b` is replaced by:\n",
    "\n",
    "        np.array([[0, 1, 2, 3, 4],\n",
    "                  [0, 1, 2, 3, 4],\n",
    "                  [0, 1, 2, 3, 4],\n",
    "                  [0, 1, 2, 3, 4]])\n",
    "                  \n",
    "- The arrays are then added. The overall result is adding the vector `b` to each row of `a`.\n",
    "\n",
    "Notice that the array `b` is interpreted as a *row vector* here. Notice that the following yields an error:"
   ]
  },
  {
   "cell_type": "code",
   "execution_count": 41,
   "id": "9278d85b-9ee9-4571-a2e6-452c09ed5934",
   "metadata": {},
   "outputs": [
    {
     "name": "stdout",
     "output_type": "stream",
     "text": [
      "[[ 0  1  2  3  4]\n",
      " [ 4  5  6  7  8]\n",
      " [ 8  9 10 11 12]\n",
      " [12 13 14 15 16]]\n",
      "[0 1 2 3]\n"
     ]
    },
    {
     "ename": "ValueError",
     "evalue": "operands could not be broadcast together with shapes (4,5) (4,) ",
     "output_type": "error",
     "traceback": [
      "\u001b[0;31m---------------------------------------------------------------------------\u001b[0m",
      "\u001b[0;31mValueError\u001b[0m                                Traceback (most recent call last)",
      "Input \u001b[0;32mIn [41]\u001b[0m, in \u001b[0;36m<cell line: 6>\u001b[0;34m()\u001b[0m\n\u001b[1;32m      4\u001b[0m b \u001b[38;5;241m=\u001b[39m np\u001b[38;5;241m.\u001b[39marray([i \u001b[38;5;28;01mfor\u001b[39;00m i \u001b[38;5;129;01min\u001b[39;00m \u001b[38;5;28mrange\u001b[39m(n)])\n\u001b[1;32m      5\u001b[0m \u001b[38;5;28mprint\u001b[39m(b)\n\u001b[0;32m----> 6\u001b[0m c \u001b[38;5;241m=\u001b[39m \u001b[43ma\u001b[49m\u001b[43m \u001b[49m\u001b[38;5;241;43m+\u001b[39;49m\u001b[43m \u001b[49m\u001b[43mb\u001b[49m\n\u001b[1;32m      7\u001b[0m \u001b[38;5;28mprint\u001b[39m(c)\n",
      "\u001b[0;31mValueError\u001b[0m: operands could not be broadcast together with shapes (4,5) (4,) "
     ]
    }
   ],
   "source": [
    "m, n = 5, 4\n",
    "a = np.array([[i+n*j for i in range(m)] for j in range(n)])\n",
    "print(a)\n",
    "b = np.array([i for i in range(n)])\n",
    "print(b)\n",
    "c = a + b\n",
    "print(c)"
   ]
  },
  {
   "cell_type": "markdown",
   "id": "25894de7-5440-4b98-bd6a-98eb3c31a797",
   "metadata": {},
   "source": [
    "If we want to add a vector to the columns of `a` we need code as follows:"
   ]
  },
  {
   "cell_type": "code",
   "execution_count": 43,
   "id": "9f11bc86-cf6f-4df0-8ee0-449b2236260a",
   "metadata": {},
   "outputs": [
    {
     "name": "stdout",
     "output_type": "stream",
     "text": [
      "[[ 0  1  2  3  4]\n",
      " [ 4  5  6  7  8]\n",
      " [ 8  9 10 11 12]\n",
      " [12 13 14 15 16]]\n",
      "[[0]\n",
      " [1]\n",
      " [2]\n",
      " [3]]\n",
      "[[ 0  1  2  3  4]\n",
      " [ 5  6  7  8  9]\n",
      " [10 11 12 13 14]\n",
      " [15 16 17 18 19]]\n"
     ]
    }
   ],
   "source": [
    "m, n = 5, 4\n",
    "a = np.array([[i+n*j for i in range(m)] for j in range(n)])\n",
    "print(a)\n",
    "b = np.array([i for i in range(n)]).reshape(n,1)\n",
    "print(b)\n",
    "c = a + b\n",
    "print(c)"
   ]
  },
  {
   "cell_type": "markdown",
   "id": "a977e90a-66dd-422a-8547-6d4a6c596641",
   "metadata": {},
   "source": [
    "Notice the use of `reshape(n,1)`. This makes the array `b` represent a column vector, and `numpy` is smart enough to realize that, in the expression `a + b`, `b` should be broadcast along the columns of `a`.\n",
    "\n",
    "A final case in which broadcasting is very common is when doing a scalar operation. For example, to multiply all entries of an array by a scalar, we can use code as follows:"
   ]
  },
  {
   "cell_type": "code",
   "execution_count": 46,
   "id": "de4eab49-f6d0-425d-852f-582b7af2a34f",
   "metadata": {},
   "outputs": [
    {
     "name": "stdout",
     "output_type": "stream",
     "text": [
      "[[ 0  1  2  3  4]\n",
      " [ 4  5  6  7  8]\n",
      " [ 8  9 10 11 12]\n",
      " [12 13 14 15 16]]\n",
      "[[ 0  2  4  6  8]\n",
      " [ 8 10 12 14 16]\n",
      " [16 18 20 22 24]\n",
      " [24 26 28 30 32]]\n"
     ]
    }
   ],
   "source": [
    "m, n = 5, 4\n",
    "a = np.array([[i+n*j for i in range(m)] for j in range(n)])\n",
    "print(a)\n",
    "a_times_2 = 2 * a\n",
    "print(a_times_2)"
   ]
  },
  {
   "cell_type": "markdown",
   "id": "b05c4f0a-bda4-4959-8686-0f1eb8b6b962",
   "metadata": {},
   "source": [
    "Broadcasting is very powerful when combining with slicing. The example in the following cell shows how to add a constant to a column of a matrix:"
   ]
  },
  {
   "cell_type": "code",
   "execution_count": 45,
   "id": "723a5523-4b88-4e56-bbc8-957f86f33308",
   "metadata": {},
   "outputs": [
    {
     "name": "stdout",
     "output_type": "stream",
     "text": [
      "[[ 0  1  2  3  4]\n",
      " [ 4  5  6  7  8]\n",
      " [ 8  9 10 11 12]\n",
      " [12 13 14 15 16]]\n",
      "[[ 0  1  2  3  7]\n",
      " [ 4  5  6  7 11]\n",
      " [ 8  9 10 11 15]\n",
      " [12 13 14 15 19]]\n"
     ]
    }
   ],
   "source": [
    "m, n = 5, 4\n",
    "a = np.array([[i+n*j for i in range(m)] for j in range(n)])\n",
    "print(a)\n",
    "a[:, 4] += 3\n",
    "print(a)"
   ]
  },
  {
   "cell_type": "markdown",
   "id": "54f13618-e1a7-4361-8f6d-349c2b9f83c5",
   "metadata": {},
   "source": [
    "The result of the code is to add the constant $3$ to the fourth column (column 3) of the array `a`. Notice that the array `a` is modified \"in place\" in this example."
   ]
  },
  {
   "cell_type": "markdown",
   "id": "03ea62c4-327a-44a0-acce-55a97161c10f",
   "metadata": {},
   "source": [
    "# Matrix Products\n",
    "\n",
    "One situation where there is a great gain in efficiency is when computing matrix products. To experiment with this concept, let's generate a random matrix and a vector."
   ]
  },
  {
   "cell_type": "code",
   "execution_count": 47,
   "id": "a632fe9c-a490-43c0-8165-e550d86d91d0",
   "metadata": {},
   "outputs": [],
   "source": [
    "n = 100\n",
    "A = np.random.rand(n, n)\n",
    "v = np.random.rand(n)"
   ]
  },
  {
   "cell_type": "markdown",
   "id": "bb66ac21-f948-4972-870b-1a9aa3efb44d",
   "metadata": {},
   "source": [
    "Let's now compute $Av$ using nested `for` loops, according to the definition of matrix-vector product:"
   ]
  },
  {
   "cell_type": "code",
   "execution_count": 48,
   "id": "c99568c7-1493-4569-a1cc-d4a3ce05768e",
   "metadata": {},
   "outputs": [
    {
     "name": "stdout",
     "output_type": "stream",
     "text": [
      "4.12 ms ± 48.3 µs per loop (mean ± std. dev. of 7 runs, 100 loops each)\n"
     ]
    }
   ],
   "source": [
    "%%timeit\n",
    "w = np.zeros(n)\n",
    "for i in range(n):\n",
    "    for j in range(n):\n",
    "        w[i] += A[i,j] * v[j]"
   ]
  },
  {
   "cell_type": "markdown",
   "id": "5f886818-c1bd-4658-bc3e-c3e388f8fb02",
   "metadata": {},
   "source": [
    "Let's now compute it using the `dot()` method of array objects:"
   ]
  },
  {
   "cell_type": "code",
   "execution_count": 44,
   "id": "d566b00b-a75e-4dd6-bff8-93e0efd42197",
   "metadata": {},
   "outputs": [
    {
     "name": "stdout",
     "output_type": "stream",
     "text": [
      "1.27 µs ± 19.6 ns per loop (mean ± std. dev. of 7 runs, 1,000,000 loops each)\n"
     ]
    }
   ],
   "source": [
    "%%timeit\n",
    "w = A.dot(v)"
   ]
  },
  {
   "cell_type": "markdown",
   "id": "766b4235-137a-4a6a-8fbe-4b76234f5d8a",
   "metadata": {},
   "source": [
    "It should be clear that using the `numpy` version is, again, much faster. \n",
    "\n",
    "Instead of using the `dot()` method, we can use the `@` operator, which is specially defined for matrix products."
   ]
  },
  {
   "cell_type": "code",
   "execution_count": 50,
   "id": "98e3a076-3a97-418d-97df-ef9b313c2434",
   "metadata": {},
   "outputs": [
    {
     "name": "stdout",
     "output_type": "stream",
     "text": [
      "1.99 µs ± 63.1 ns per loop (mean ± std. dev. of 7 runs, 100,000 loops each)\n"
     ]
    }
   ],
   "source": [
    "%%timeit\n",
    "w = A @ v"
   ]
  },
  {
   "cell_type": "markdown",
   "id": "931f354d-332a-49a0-9179-236d464b215b",
   "metadata": {},
   "source": [
    "Notice that using `@` is somewhat slower than using `dot()`. So, even though using `@` yields code that is easier to read, we should use `dot()` if speed is essential."
   ]
  },
  {
   "cell_type": "markdown",
   "id": "fb3a1b2a-9780-450c-896e-85f2163f1dc9",
   "metadata": {},
   "source": [
    "# Exercises"
   ]
  },
  {
   "cell_type": "markdown",
   "id": "f9f56d27-c6e2-44c1-bca2-788b8ae8382a",
   "metadata": {},
   "source": [
    "**1.** The *Trapezoid Rule* to approximate an integral is given by the formula:\n",
    "$$\n",
    "\\int_{a}^{b}f(x)\\,dx \\approx \\frac{1}{2}\\sum_{j=0}^{n-1}(f(x_{j+1})+f(x_j))\\Delta x_j\n",
    "$$\n",
    "where $\\Delta x_j=x_{j+1}-x_j$. \n",
    "\n",
    "**a)** Write code to implement the Trapezoid Rule using vectorized functions. Test your code with the following two integrals:\n",
    "$$\n",
    "\\int_0^1 x^2\\,dx,\\quad \\int_0^2 e^{x}\\,dx\n",
    "$$\n",
    "\n",
    "**b)** Define a function with signature:\n",
    "\n",
    "    trapezoid(f, a, b, nintervals)\n",
    "    \n",
    "that approximates $\\int_a^bf(x)\\,dx$ using a trapezoid approximation with `nintervals` subintervals. Then, use your code to approximate the integral:\n",
    "$$\n",
    "\\int_0^2 e^{-x^2}\\,dx\n",
    "$$"
   ]
  },
  {
   "cell_type": "markdown",
   "id": "3008dbbd-8eab-4c51-8a0c-1731abc330de",
   "metadata": {},
   "source": [
    "**2.** Run the cell below to generate a matrix `A` and a vector `v`. Then, write code that computes the following items. Your code should use vectorized `numpy` functions. Try to find a solution that uses only *one line of code* for each item.\n",
    "\n",
    "**a)** Adds 2 to each entry of `A`.\n",
    "\n",
    "**b)** Adds the vector `v` to each row of `A`.\n",
    "\n",
    "**c)** Adds the vector `v` to each column of `A`.\n",
    "\n",
    "**d)** Finds the largest value of `A`.\n",
    "\n",
    "**e)** Finds the largest value of each column of `A`. The result should be a vector with 5 elements.\n",
    "\n",
    "**f)** Finds the largest value of each row of `A`. Ther result will also be a vector with 5 elements\n",
    "\n",
    "**g)** Computes the sum of the squares of all entries of `A`\n",
    "\n",
    "**h)** Computes the product of the columns of `A` with indexes 1, 2 and 3.\n",
    "\n",
    "**i)** Computes the product of the rows of `A` with indexes 1, 2 and 3."
   ]
  },
  {
   "cell_type": "code",
   "execution_count": 51,
   "id": "6dc0ea28-62d8-404b-bd43-a38da5032388",
   "metadata": {},
   "outputs": [],
   "source": [
    "n = 5\n",
    "A = np.random.rand(5, 5)\n",
    "v = np.random.rand(5)"
   ]
  },
  {
   "cell_type": "markdown",
   "id": "855c4758-93a8-4198-98b1-95d6b611dd1f",
   "metadata": {},
   "source": []
  }
 ],
 "metadata": {
  "kernelspec": {
   "display_name": "Python 3 (ipykernel)",
   "language": "python",
   "name": "python3"
  },
  "language_info": {
   "codemirror_mode": {
    "name": "ipython",
    "version": 3
   },
   "file_extension": ".py",
   "mimetype": "text/x-python",
   "name": "python",
   "nbconvert_exporter": "python",
   "pygments_lexer": "ipython3",
   "version": "3.9.7"
  }
 },
 "nbformat": 4,
 "nbformat_minor": 5
}
