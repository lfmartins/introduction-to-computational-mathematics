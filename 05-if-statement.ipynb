{
 "cells": [
  {
   "cell_type": "markdown",
   "id": "9abf009d-630d-4f37-8daa-149921134517",
   "metadata": {},
   "source": [
    "# Introduction\n",
    "\n",
    "One critical feature of computer programs is the capability of testing conditions, and to decide how to proceed with a computation based on the outcome of the conditions tested.\n",
    "\n",
    "In Python, this is supported by the `if` statement. In this lesson, we will learn how to use `if` statements to structure conditionals computations in Python."
   ]
  },
  {
   "cell_type": "markdown",
   "id": "0dd68908-3b28-4889-93fa-25b593482eef",
   "metadata": {},
   "source": [
    "# The `if` statement\n",
    "\n",
    "Let's pretend we need to write code to compute a student's final score in a course. According to the syllabus, students that have more than 90% attendance receive a 5 point bonus in their score. This could be implemented in the following way:"
   ]
  },
  {
   "cell_type": "code",
   "execution_count": 1,
   "id": "ca439065-b805-4b08-ab40-72563dc272e0",
   "metadata": {},
   "outputs": [
    {
     "name": "stdout",
     "output_type": "stream",
     "text": [
      "93\n"
     ]
    }
   ],
   "source": [
    "score = 88\n",
    "attendance = 92\n",
    "if attendance > 90:\n",
    "    score += 5\n",
    "print(score)"
   ]
  },
  {
   "cell_type": "markdown",
   "id": "a8c1968e-cca6-4599-a910-c68924bddb3d",
   "metadata": {},
   "source": [
    "In this code, `score` and `attendance` are assigned the values `88` and `92`, respectively. Then, we get to the `if` statement:\n",
    "\n",
    "    if attendance > 90:\n",
    "        score += 5\n",
    "\n",
    "This code first compares the value of the variable `attendance` to `90`. If `attendance` is larger than `90`, then the statement `score += 5` is executed, incrementing the `score` by `5`. If `score` is not larger than `90`, the statement `score += 5` is skipped and execution continues to the first statement after the `if` block.\n",
    "\n",
    "Go back to the code cell above and experiment with changing the value of the `attendance` variable and notice what happens.\n",
    "\n",
    "Another form of the Python `if` statement is the following:\n",
    "\n",
    "    if <condition>:\n",
    "        <statement block 1>\n",
    "    else:\n",
    "        <statement block 2>\n",
    "        \n",
    "This code first evaluates the `<condition>`. If the result is true, then `<statement block 1>` is executed. Otherwise, `<statement block 2>` is executed. Execution then proceeds with the first statement after the `if` structure.\n",
    "\n",
    "Here is an example:"
   ]
  },
  {
   "cell_type": "code",
   "execution_count": 2,
   "id": "aac12776-a77d-4370-ae71-19231bef3edc",
   "metadata": {},
   "outputs": [
    {
     "name": "stdout",
     "output_type": "stream",
     "text": [
      "The larger of 3, 5 is 5, and the smaller is 3\n"
     ]
    }
   ],
   "source": [
    "a, b = 3, 5\n",
    "if a > b:\n",
    "    larger = a\n",
    "    smaller = b\n",
    "else:\n",
    "    larger = b\n",
    "    smaller = a\n",
    "print(f\"The larger of {a}, {b} is {larger}, and the smaller is {smaller}\")"
   ]
  },
  {
   "cell_type": "markdown",
   "id": "f63eac2d-3243-4e80-bae3-4b381a35dd2d",
   "metadata": {},
   "source": [
    "Play with the values of `a` and `b` to make sure you understand how execution flows through the code.\n",
    "\n",
    "On important structural feature of Python are *indented blocks* of code. This is how Python groups a sequence of commands that should be considered as a unit. For example, in the code above, consider the statements right after the `if a > b:` line\n",
    "\n",
    "    larger = a\n",
    "    smaller = b\n",
    "\n",
    "These two statements for a *block*, which is executed only if the condition `a > b` is true.\n",
    "\n",
    "Blocks of statements in Python are identified by indentation. Indentation within a block must be consistent, so that the following, for example, will be a syntax error:\n",
    "\n",
    "    if a > b:\n",
    "        larger = a\n",
    "      smaller = b   # Indentation error\n",
    "    else:\n",
    "        larger = b\n",
    "        smaller = a\n",
    "\n",
    "Indentation can be done with either blank spaces or tabs. However, *it is very strongly recommended that blank spaces only are used for indentation*. That is, simply **don't use tabs**. All text editors compatible with Python, including Jupyter, use spaces as default for indentation.\n",
    "\n",
    "If we have more than two conditions to test, we can use `elif` clauses (which is short for `else if`). The following code cell has an example:"
   ]
  },
  {
   "cell_type": "code",
   "execution_count": 6,
   "id": "1c58a7fa-821f-4f09-a50d-c5449342ca6d",
   "metadata": {},
   "outputs": [
    {
     "name": "stdout",
     "output_type": "stream",
     "text": [
      "Your grade in this assignment is B. Good job!\n"
     ]
    }
   ],
   "source": [
    "score = 85\n",
    "if score >= 90:\n",
    "    grade = \"A\"\n",
    "    message = 'Outstanding!'\n",
    "elif score >= 80:\n",
    "    grade = 'B'\n",
    "    message = 'Good job!'\n",
    "elif score >= 70:\n",
    "    grade = 'C'\n",
    "    message = 'You can do better!'\n",
    "else:\n",
    "    grade = 'D'\n",
    "    message = 'Need more effort!'\n",
    "print(f\"Your grade in this assignment is {grade}. {message}\")"
   ]
  },
  {
   "cell_type": "code",
   "execution_count": null,
   "id": "a64e6911-6773-4713-b7e9-2753a1fef66c",
   "metadata": {},
   "outputs": [],
   "source": []
  }
 ],
 "metadata": {
  "kernelspec": {
   "display_name": "Python 3 (ipykernel)",
   "language": "python",
   "name": "python3"
  },
  "language_info": {
   "codemirror_mode": {
    "name": "ipython",
    "version": 3
   },
   "file_extension": ".py",
   "mimetype": "text/x-python",
   "name": "python",
   "nbconvert_exporter": "python",
   "pygments_lexer": "ipython3",
   "version": "3.9.7"
  }
 },
 "nbformat": 4,
 "nbformat_minor": 5
}
