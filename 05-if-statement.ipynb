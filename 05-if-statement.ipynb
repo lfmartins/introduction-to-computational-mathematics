{
 "cells": [
  {
   "cell_type": "markdown",
   "id": "9abf009d-630d-4f37-8daa-149921134517",
   "metadata": {},
   "source": [
    "# Introduction\n",
    "\n",
    "One critical feature of computer programs is the capability of testing conditions, and to decide how to proceed with a computation based on the outcome of the conditions tested.\n",
    "\n",
    "In Python, this is supported by the `if` statement. In this lesson, we will learn how to use `if` statements to structure conditionals computations in Python."
   ]
  },
  {
   "cell_type": "markdown",
   "id": "0dd68908-3b28-4889-93fa-25b593482eef",
   "metadata": {},
   "source": [
    "# The `if` statement\n",
    "\n",
    "Let's pretend we need to write code to compute a student's final score in a course. According to the syllabus, students that have more than 90% attendance receive a 5 point bonus in their score. This could be implemented in the following way:"
   ]
  },
  {
   "cell_type": "code",
   "execution_count": 1,
   "id": "ca439065-b805-4b08-ab40-72563dc272e0",
   "metadata": {},
   "outputs": [
    {
     "name": "stdout",
     "output_type": "stream",
     "text": [
      "93\n"
     ]
    }
   ],
   "source": [
    "score = 88\n",
    "attendance = 92\n",
    "if attendance > 90:\n",
    "    score += 5\n",
    "print(score)"
   ]
  },
  {
   "cell_type": "markdown",
   "id": "a8c1968e-cca6-4599-a910-c68924bddb3d",
   "metadata": {},
   "source": [
    "In this code, `score` and `attendance` are assigned the values `88` and `92`, respectively. Then, we get to the `if` statement:\n",
    "\n",
    "    if attendance > 90:\n",
    "        score += 5\n",
    "\n",
    "This code first compares the value of the variable `attendance` to `90`. If `attendance` is larger than `90`, then the statement `score += 5`\n"
   ]
  },
  {
   "cell_type": "markdown",
   "id": "f63eac2d-3243-4e80-bae3-4b381a35dd2d",
   "metadata": {},
   "source": [
    "The basic form of the Python `if` statement is the following:\n",
    "\n",
    "    if <condition>:\n",
    "        <statement block>\n",
    "    <other statements>\n",
    "        \n",
    "When executing an `if` statement, Python first evaluates the `<condition>"
   ]
  }
 ],
 "metadata": {
  "kernelspec": {
   "display_name": "Python 3 (ipykernel)",
   "language": "python",
   "name": "python3"
  },
  "language_info": {
   "codemirror_mode": {
    "name": "ipython",
    "version": 3
   },
   "file_extension": ".py",
   "mimetype": "text/x-python",
   "name": "python",
   "nbconvert_exporter": "python",
   "pygments_lexer": "ipython3",
   "version": "3.9.7"
  }
 },
 "nbformat": 4,
 "nbformat_minor": 5
}
