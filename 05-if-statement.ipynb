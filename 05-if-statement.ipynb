{
 "cells": [
  {
   "cell_type": "markdown",
   "id": "9abf009d-630d-4f37-8daa-149921134517",
   "metadata": {},
   "source": [
    "[![Open In Colab](https://colab.research.google.com/assets/colab-badge.svg)](https://colab.research.google.com/github/lfmartins/introduction-to-computational-mathematics/blob/main/05-if-statement.ipynb)\n",
    "\n",
    "# Introduction\n",
    "\n",
    "One critical feature of computer programs is the capability of testing conditions, and to decide how to proceed with a computation based on the outcome of the conditions tested.\n",
    "\n",
    "In Python, this is supported by the `if` statement. In this lesson, we will learn how to use `if` statements to structure conditionals computations in Python."
   ]
  },
  {
   "cell_type": "markdown",
   "id": "0dd68908-3b28-4889-93fa-25b593482eef",
   "metadata": {},
   "source": [
    "# The `if` statement\n",
    "\n",
    "Let's pretend we need to write code to compute a student's final score in a course. According to the syllabus, students that have more than 90% attendance receive a 5 point bonus in their score. This could be implemented in the following way:"
   ]
  },
  {
   "cell_type": "code",
   "execution_count": null,
   "id": "ca439065-b805-4b08-ab40-72563dc272e0",
   "metadata": {},
   "outputs": [],
   "source": [
    "score = 88\n",
    "attendance = 92\n",
    "if attendance > 90:\n",
    "    score += 5\n",
    "print(score)"
   ]
  },
  {
   "cell_type": "markdown",
   "id": "a8c1968e-cca6-4599-a910-c68924bddb3d",
   "metadata": {},
   "source": [
    "In this code, `score` and `attendance` are assigned the values `88` and `92`, respectively. Then, we get to the `if` statement:\n",
    "\n",
    "    if attendance > 90:\n",
    "        score += 5\n",
    "\n",
    "This code first compares the value of the variable `attendance` to `90`. If `attendance` is larger than `90`, then the statement `score += 5` is executed, incrementing the `score` by `5`. If `score` is not larger than `90`, the statement `score += 5` is skipped and execution continues to the first statement after the `if` block.\n",
    "\n",
    "Go back to the code cell above and experiment with changing the value of the `attendance` variable and notice what happens.\n",
    "\n",
    "Another form of the Python `if` statement is the following:\n",
    "\n",
    "    if <condition>:\n",
    "        <statement block 1>\n",
    "    else:\n",
    "        <statement block 2>\n",
    "        \n",
    "This code first evaluates the `<condition>`. If the result is true, then `<statement block 1>` is executed. Otherwise, `<statement block 2>` is executed. Execution then proceeds with the first statement after the `if` structure.\n",
    "\n",
    "Here is an example:"
   ]
  },
  {
   "cell_type": "code",
   "execution_count": null,
   "id": "aac12776-a77d-4370-ae71-19231bef3edc",
   "metadata": {},
   "outputs": [],
   "source": [
    "a, b = 3, 5\n",
    "if a > b:\n",
    "    larger = a\n",
    "    smaller = b\n",
    "else:\n",
    "    larger = b\n",
    "    smaller = a\n",
    "print(f\"The larger of {a}, {b} is {larger}, and the smaller is {smaller}\")"
   ]
  },
  {
   "cell_type": "markdown",
   "id": "f63eac2d-3243-4e80-bae3-4b381a35dd2d",
   "metadata": {},
   "source": [
    "Play with the values of `a` and `b` to make sure you understand how execution flows through the code.\n",
    "\n",
    "On important structural feature of Python are *indented blocks* of code. This is how Python groups a sequence of commands that should be considered as a unit. For example, in the code above, consider the statements right after the `if a > b:` line\n",
    "\n",
    "    larger = a\n",
    "    smaller = b\n",
    "\n",
    "These two statements for a *block*, which is executed only if the condition `a > b` is true.\n",
    "\n",
    "Blocks of statements in Python are identified by indentation. Indentation within a block must be consistent, so that the following, for example, will be a syntax error:\n",
    "\n",
    "    if a > b:\n",
    "        larger = a\n",
    "      smaller = b   # Indentation error\n",
    "    else:\n",
    "        larger = b\n",
    "        smaller = a\n",
    "\n",
    "Indentation can be done with either blank spaces or tabs. However, *it is very strongly recommended that blank spaces only are used for indentation*. That is, simply **don't use tabs**. All text editors compatible with Python, including Jupyter, use spaces as default for indentation.\n",
    "\n",
    "If we have more than two conditions to test, we can use `elif` clauses (which is short for `else if`). The following code cell has an example:"
   ]
  },
  {
   "cell_type": "code",
   "execution_count": null,
   "id": "1c58a7fa-821f-4f09-a50d-c5449342ca6d",
   "metadata": {},
   "outputs": [],
   "source": [
    "score = 85\n",
    "if score >= 90:\n",
    "    grade = \"A\"\n",
    "    message = 'Outstanding!'\n",
    "elif score >= 80:\n",
    "    grade = 'B'\n",
    "    message = 'Good job!'\n",
    "elif score >= 70:\n",
    "    grade = 'C'\n",
    "    message = 'You can do better!'\n",
    "else:\n",
    "    grade = 'D'\n",
    "    message = 'Need more effort!'\n",
    "print(f\"Your grade in this assignment is {grade}. {message}\")"
   ]
  },
  {
   "cell_type": "markdown",
   "id": "9bace825-c892-4634-833a-90d6a7718da6",
   "metadata": {},
   "source": [
    "Play with the value of the variable `score` to see how the code works in different situations."
   ]
  },
  {
   "cell_type": "markdown",
   "id": "c3234908-1ecd-4ec5-addf-b8da631f3c0d",
   "metadata": {},
   "source": [
    "# Boolean values and comparison operators\n",
    "\n",
    "The condition in an `if` statement must be an expression resulting in a *boolean value*. In Python, the two possible boolean values are represented by `True` and `False`. The following cell has a some examples:"
   ]
  },
  {
   "cell_type": "code",
   "execution_count": null,
   "id": "05df7aa6-e08d-4ea3-aceb-c1ec391a685a",
   "metadata": {},
   "outputs": [],
   "source": [
    "a, b, c, d = 2, 5, 10, 5\n",
    "print(a > b)\n",
    "print(c > b)\n",
    "print(a < b and b < c)\n",
    "print(a < b < c)\n",
    "print(b >= d)\n",
    "print(b != d)\n",
    "print(b == d)"
   ]
  },
  {
   "cell_type": "markdown",
   "id": "030a5dd9-5872-479f-bea8-70dcefa0a662",
   "metadata": {},
   "source": [
    "Here is an explanation of how the expression in each example is evaluated:\n",
    "\n",
    "- `a > b`: since `a` is not larger than `b`, the comparison results `False`.\n",
    "- `c > b`: since `c` is larger than `b`, the comparison results `True`.\n",
    "- `print(a < b and b < c)`: `True`, since the result of both comparisons is `True`.\n",
    "- `a < b < c`: this is just an abbreviation for `a < b and b < c`.\n",
    "- `b >= c`: `>=` is the \"greater or equal\" operator. Since `b` is larger than or equal to `d`, the comparison results `True`\n",
    "- `b != d`: `!=` is the \"not equal\" operator, so this is `False`\n",
    "- `b == d`: `==` is the \"equal\" operator, so this is `True`.\n",
    "\n",
    "Notice that `==` (equality comparison operator) is different from `=` (assignment statement). The following is a syntax error:"
   ]
  },
  {
   "cell_type": "code",
   "execution_count": null,
   "id": "8bd12941-36cb-4afc-bf5b-210e3b6dfe3c",
   "metadata": {},
   "outputs": [],
   "source": [
    "a, b = 2, 2\n",
    "if a = b:  # This is an error\n",
    "    print(\"a and be are equal\")"
   ]
  },
  {
   "cell_type": "markdown",
   "id": "8d89ce56-5e0b-4576-b2da-7621ced9a24e",
   "metadata": {},
   "source": [
    "# Exercises\n",
    "\n",
    "**1.** The *Collatz sequence* or $3n+1$ *sequence* is defined as follows:\n",
    "\n",
    "- Choose a positive integer $x_0$.\n",
    "- Define $x_n$ recursively by:\n",
    "$$\n",
    "x_{n+1}=\\begin{cases}\n",
    "x_n/2 & \\text{if $x_n$ is even;}\\\\\n",
    "3x_n+1 & \\text{otherwise}\n",
    "\\end{cases}\n",
    "$$\n",
    "\n",
    "Write code that, given a value $x$, computes and prints the next term in the Collatz sequence. By repeatedly executing the code in the cell, you can get successive terms in the sequence. Then, experiment with several initial values and try to guess what happens with the sequence.\n",
    "\n",
    "*Hint*: To decide if a number is even, use the `%` operator, which computes the remainder of the division of an integer by another."
   ]
  },
  {
   "cell_type": "markdown",
   "id": "95efb613-26cd-454a-9c47-03962c8c1954",
   "metadata": {},
   "source": [
    "**2.** The bissection method is a generic method for solving equations defined in terms of continuous functions. For example, let's say we want to solve the equation\n",
    "$$\n",
    "x=\\cos(x)\n",
    "$$\n",
    "Choose the two initial values $x=0$ and $y=\\pi/2$. Notice that:\n",
    "$$\n",
    "x<\\cos(x)\\text{ and } y>\\cos(y).\n",
    "$$\n",
    "This implies that there is a solution of the equation between $x_0$ and $y_0$.\n",
    "\n",
    "The bisection method first computes $z=(x+y)/2$. Then by comparing the values of $z$ and $\\cos(z)$ we can decide if there is a solution of the equation in the interval $[x,z]$ or $[z,y]$. We can then update the endpoints of the interval that contains a solution using an `if` statements that does the following:\n",
    "\n",
    "- If there is a solution in $[x,z]$, let $y=z$.\n",
    "- If there is a solution in $[z,y]$, let $x=z$\n",
    "\n",
    "Write code that performs one step of the bissection method. By repeatedly running the cell of the code, we get better and better approximations for the solution. Use your code to get an approximation that is correct to 4 decimal places.\n"
   ]
  },
  {
   "cell_type": "markdown",
   "id": "63d531c1-51fe-4221-9961-35cf68399c11",
   "metadata": {},
   "source": [
    "<a rel=\"license\" href=\"http://creativecommons.org/licenses/by-nc-sa/4.0/\"><img alt=\"Creative Commons License\" style=\"border-width:0\" src=\"http://i.creativecommons.org/l/by-nc-sa/4.0/88x31.png\" /></a><br /><span xmlns:dct=\"http://purl.org/dc/terms/\" property=\"dct:title\"><b>Introduction to Computational Mathematics with Python</b></span> by <a xmlns:cc=\"http://creativecommons.org/ns#\" href=\"mailto:l.martins@csuohio.edu\" property=\"cc:attributionName\" rel=\"cc:attributionURL\">L. Felipe Martins</a> and \n",
    "<a xmlns:cc=\"http://creativecommons.org/ns#\" href=\"mailto:a.p.hoover@csuohio.edu\" property=\"cc:attributionName\" rel=\"cc:attributionURL\">L. Alexander P. Hoover</a> and is licensed under a <a rel=\"license\" href=\"http://creativecommons.org/licenses/by-nc-sa/4.0/\">Creative Commons Attribution-NonCommercial-ShareAlike 4.0 International License</a>."
   ]
  },
  {
   "cell_type": "code",
   "execution_count": null,
   "id": "a0c87da7-bd5b-4255-9578-f6580c31f864",
   "metadata": {},
   "outputs": [],
   "source": []
  }
 ],
 "metadata": {
  "kernelspec": {
   "display_name": "Python 3 (ipykernel)",
   "language": "python",
   "name": "python3"
  },
  "language_info": {
   "codemirror_mode": {
    "name": "ipython",
    "version": 3
   },
   "file_extension": ".py",
   "mimetype": "text/x-python",
   "name": "python",
   "nbconvert_exporter": "python",
   "pygments_lexer": "ipython3",
   "version": "3.9.7"
  }
 },
 "nbformat": 4,
 "nbformat_minor": 5
}
