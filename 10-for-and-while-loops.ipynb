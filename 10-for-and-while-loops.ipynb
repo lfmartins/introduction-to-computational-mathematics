{
  "cells": [
    {
      "cell_type": "markdown",
      "id": "3ebf123e-7478-4b38-81cf-0b3341600c2d",
      "metadata": {
        "id": "3ebf123e-7478-4b38-81cf-0b3341600c2d"
      },
      "source": [
        "# Introduction\n",
        "\n",
        "In this lesson, we will learn about Python's *flow control* statements. These include `for` and `while` loops, which execute a block of code until some condition is reached. These are important programming structures that appear in almost any Python program. "
      ]
    },
    {
      "cell_type": "markdown",
      "id": "3c5e520d-eebd-41ff-8588-095db8ede728",
      "metadata": {
        "id": "3c5e520d-eebd-41ff-8588-095db8ede728"
      },
      "source": [
        "# `for` loops\n",
        "\n",
        "`for` loops perform a set task in a repeated manner over a range of indices. This repeated action is often referred to as a loop\n",
        "\n",
        "\n",
        "Below is an example of `for` loop that prints all integers from 0 to 9 and their squares:"
      ]
    },
    {
      "cell_type": "code",
      "execution_count": null,
      "id": "61c2fa40-4043-4c76-acfb-8723f18eb42f",
      "metadata": {
        "id": "61c2fa40-4043-4c76-acfb-8723f18eb42f",
        "outputId": "a5cc76ca-d562-4a8d-88cc-7a0b906ba75e"
      },
      "outputs": [
        {
          "name": "stdout",
          "output_type": "stream",
          "text": [
            "The square of 0 is 0\n",
            "The square of 1 is 1\n",
            "The square of 2 is 4\n",
            "The square of 3 is 9\n",
            "The square of 4 is 16\n",
            "The square of 5 is 25\n",
            "The square of 6 is 36\n",
            "The square of 7 is 49\n",
            "The square of 8 is 64\n",
            "The square of 9 is 81\n"
          ]
        }
      ],
      "source": [
        "for n in range(10):\n",
        "    print(f'The square of {n} is {n ** 2}')"
      ]
    },
    {
      "cell_type": "markdown",
      "id": "bc424e86-96bd-4ad0-a674-b1ed2b1263e6",
      "metadata": {
        "id": "bc424e86-96bd-4ad0-a674-b1ed2b1263e6"
      },
      "source": [
        "Note that the spacing matters, where a 'tab' spacing designates what is done in the loop. Anything following the colon is the action that is repeated.\n",
        "\n",
        "When this code is executed, Python assigns the values in `range(10)` successively to the variable `n`, and then executes the indented statement:\n",
        "\n",
        "    print(f'The square of {n} is {n ** 2}')\n",
        "\n",
        "The general structure of a `for` loop is:\n",
        "\n",
        "    for <identifier> in <iterable>:\n",
        "        <indented block>\n",
        "        \n",
        "An *iterable* is a Python object capable of returning its members one at a time. Examples of iterables are lists, tuples and strings, but other types of objects, such as dictionaries and sets, are also iterable. In the example above, the iterable is `range(10)`. Range objects are a special kind of object that supports iteration on a set of equally spaced integer values.\n",
        "\n",
        "*Technical note*: A range object can be tought as a list, but internally it is represented by a different type of object. The reason for that is efficiency. The elements of a range are only generated as needed, while a list must be kept in memory in its entirety.\n",
        "\n",
        "Let's play around with the range function, just to be comfortable with what it produces. \n",
        "\n",
        "Calling `range(0,10)` will produce a list of 10 integers from 0 to 9. Note that it does not include 10."
      ]
    },
    {
      "cell_type": "code",
      "source": [
        "for n in range(0,10):\n",
        "  print(n)"
      ],
      "metadata": {
        "id": "YQGAMDbMdXcQ",
        "outputId": "0814bc42-c4ad-4cfc-b6aa-472a4fb7ba88",
        "colab": {
          "base_uri": "https://localhost:8080/"
        }
      },
      "id": "YQGAMDbMdXcQ",
      "execution_count": 6,
      "outputs": [
        {
          "output_type": "stream",
          "name": "stdout",
          "text": [
            "0\n",
            "1\n",
            "2\n",
            "3\n",
            "4\n",
            "5\n",
            "6\n",
            "7\n",
            "8\n",
            "9\n"
          ]
        }
      ]
    },
    {
      "cell_type": "markdown",
      "source": [
        "If we wanted to cycle through integers from 1 to 10, then we would call `range(1,11)`."
      ],
      "metadata": {
        "id": "8l05M-nsd3Da"
      },
      "id": "8l05M-nsd3Da"
    },
    {
      "cell_type": "code",
      "source": [
        "for n in range(1,11):\n",
        "  print(n)"
      ],
      "metadata": {
        "id": "d1upcakFdwEj",
        "outputId": "1c03b797-0f77-4241-976a-49d8efd92140",
        "colab": {
          "base_uri": "https://localhost:8080/"
        }
      },
      "id": "d1upcakFdwEj",
      "execution_count": 7,
      "outputs": [
        {
          "output_type": "stream",
          "name": "stdout",
          "text": [
            "1\n",
            "2\n",
            "3\n",
            "4\n",
            "5\n",
            "6\n",
            "7\n",
            "8\n",
            "9\n",
            "10\n"
          ]
        }
      ]
    },
    {
      "cell_type": "markdown",
      "source": [
        "The `<indented block>` in a `for` loop can be any sequence of indented Python commands. In the following example, we compute the sum of all integers from 1 to 100, as well as the sum of their squares:"
      ],
      "metadata": {
        "id": "pFMJ2s5LciVR"
      },
      "id": "pFMJ2s5LciVR"
    },
    {
      "cell_type": "code",
      "execution_count": null,
      "id": "7de64ee0-7592-40f7-ab76-c8bb0ab9378c",
      "metadata": {
        "id": "7de64ee0-7592-40f7-ab76-c8bb0ab9378c",
        "outputId": "f1ad3163-9a95-489a-a412-e7a3cfaaa5b5"
      },
      "outputs": [
        {
          "name": "stdout",
          "output_type": "stream",
          "text": [
            "Sum: 5050\n",
            "Sum of squares: 338350\n"
          ]
        }
      ],
      "source": [
        "sum_values = 0\n",
        "sum_squares = 0\n",
        "for n in range(1, 101):\n",
        "    sum_values += n\n",
        "    sum_squares += n * n\n",
        "print(f'Sum: {sum_values}\\nSum of squares: {sum_squares}')"
      ]
    },
    {
      "cell_type": "markdown",
      "id": "e6b9de41-5534-4da7-8ac4-e685530e9cdd",
      "metadata": {
        "id": "e6b9de41-5534-4da7-8ac4-e685530e9cdd"
      },
      "source": [
        "The iterator in a `for` loop does not have to be a range. The next example shows how to compute the product of the elements of a list:"
      ]
    },
    {
      "cell_type": "code",
      "execution_count": null,
      "id": "911e9c2f-e959-41aa-b981-c57f9a0c5333",
      "metadata": {
        "id": "911e9c2f-e959-41aa-b981-c57f9a0c5333",
        "outputId": "39f238a4-392b-487d-d425-b10553211918"
      },
      "outputs": [
        {
          "name": "stdout",
          "output_type": "stream",
          "text": [
            "The product of the numbers is 2160\n"
          ]
        }
      ],
      "source": [
        "numbers = [2, 3, -5, 4, -2, 9]\n",
        "product = 1\n",
        "for n in numbers:\n",
        "    product *= n\n",
        "print(f'The product of the numbers is {product}')"
      ]
    },
    {
      "cell_type": "markdown",
      "id": "97219060-6371-4b19-8e7a-0a81ff0b5f85",
      "metadata": {
        "id": "97219060-6371-4b19-8e7a-0a81ff0b5f85"
      },
      "source": [
        "It is also possible to iterate over`numpy` arrays, but we must be a little careful. Consider the following example:"
      ]
    },
    {
      "cell_type": "code",
      "execution_count": null,
      "id": "69758fbb-2822-4e44-9201-9bbd28cffa47",
      "metadata": {
        "id": "69758fbb-2822-4e44-9201-9bbd28cffa47",
        "outputId": "503c77c3-7e27-4146-e7d1-90b6690a1e5d"
      },
      "outputs": [
        {
          "name": "stdout",
          "output_type": "stream",
          "text": [
            "[0.96737623 0.16186401 0.96125718 0.42734536]\n",
            "[0.05210643 0.90011304 0.79235528 0.1597244 ]\n",
            "[0.91670954 0.21845037 0.76251124 0.51880728]\n",
            "[0.5789509  0.9770197  0.4761449  0.39741368]\n"
          ]
        }
      ],
      "source": [
        "import numpy as np\n",
        "A = np.random.random((4,4))\n",
        "for row in A:\n",
        "    print(row)"
      ]
    },
    {
      "cell_type": "markdown",
      "id": "ba5576dc-8261-48b0-a496-fdfc72e0b954",
      "metadata": {
        "id": "ba5576dc-8261-48b0-a496-fdfc72e0b954"
      },
      "source": [
        "Notice that this iterates over the *rows* of the two-dimensional array `A`. If we want to iterate over each element separately we can use nested loops:"
      ]
    },
    {
      "cell_type": "code",
      "execution_count": null,
      "id": "5e70b753-4493-4820-9cff-fbc0a3ad762d",
      "metadata": {
        "id": "5e70b753-4493-4820-9cff-fbc0a3ad762d",
        "outputId": "3e951238-12cb-461f-cffe-acd16106fc42"
      },
      "outputs": [
        {
          "name": "stdout",
          "output_type": "stream",
          "text": [
            "The sum of the elements of A is 9.268149530610502\n"
          ]
        }
      ],
      "source": [
        "sum_of_elements = 0\n",
        "for row in A:\n",
        "    for value in row:\n",
        "        sum_of_elements += value\n",
        "print(f'The sum of the elements of A is {sum_of_elements}')"
      ]
    },
    {
      "cell_type": "markdown",
      "source": [
        "### Exercises\n",
        "\n",
        "1. Compute $2^n$ for the first 100 integers, with $n=0$ being your initial value.\n",
        "\n",
        "2. Use a `for` loop to compute the first 20 numbers in a  Fibonacci sequence. Fibonacci sequence is defined by the previous numbers\n",
        "$$x_{n+1}=x_{n}+x_{n-1}$$\n",
        "where $x_0=0$ and $x_1=1$. \n",
        "\n",
        "Fix the following incomplete code to compute the first 20 Fibonacci numbers in a numpy array.\n",
        "\n",
        "```\n",
        "F=np.zeros(20)\n",
        "F[0]=0\n",
        "F[1]=1\n",
        "for n in range(FILL, OUT):\n",
        "  F[?]=\n",
        "print(F)\n",
        "\n",
        "```\n"
      ],
      "metadata": {
        "id": "c9WCNQNmewXq"
      },
      "id": "c9WCNQNmewXq"
    },
    {
      "cell_type": "code",
      "execution_count": 11,
      "id": "81538409-434c-4b62-b3fc-812c99b516d2",
      "metadata": {
        "id": "81538409-434c-4b62-b3fc-812c99b516d2",
        "outputId": "a245f6a7-9037-40c4-b7c1-8fd6abe56d23",
        "colab": {
          "base_uri": "https://localhost:8080/"
        }
      },
      "outputs": [
        {
          "output_type": "stream",
          "name": "stdout",
          "text": [
            "[0.000e+00 1.000e+00 1.000e+00 2.000e+00 3.000e+00 5.000e+00 8.000e+00\n",
            " 1.300e+01 2.100e+01 3.400e+01 5.500e+01 8.900e+01 1.440e+02 2.330e+02\n",
            " 3.770e+02 6.100e+02 9.870e+02 1.597e+03 2.584e+03 4.181e+03]\n"
          ]
        }
      ],
      "source": [
        "import numpy as np\n",
        "F=np.zeros(20)\n",
        "F[0]=0\n",
        "F[1]=1\n",
        "for n in range(2, 20):\n",
        "  F[n]=F[n-1]+F[n-2]\n",
        "print(F)\n"
      ]
    },
    {
      "cell_type": "code",
      "source": [],
      "metadata": {
        "id": "MUg9eLWjgyyV"
      },
      "id": "MUg9eLWjgyyV",
      "execution_count": null,
      "outputs": []
    }
  ],
  "metadata": {
    "kernelspec": {
      "display_name": "Python 3 (ipykernel)",
      "language": "python",
      "name": "python3"
    },
    "language_info": {
      "codemirror_mode": {
        "name": "ipython",
        "version": 3
      },
      "file_extension": ".py",
      "mimetype": "text/x-python",
      "name": "python",
      "nbconvert_exporter": "python",
      "pygments_lexer": "ipython3",
      "version": "3.8.5"
    },
    "colab": {
      "provenance": []
    }
  },
  "nbformat": 4,
  "nbformat_minor": 5
}