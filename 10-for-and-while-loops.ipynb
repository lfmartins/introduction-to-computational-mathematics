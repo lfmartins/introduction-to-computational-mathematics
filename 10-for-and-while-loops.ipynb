{
 "cells": [
  {
   "cell_type": "markdown",
   "id": "3ebf123e-7478-4b38-81cf-0b3341600c2d",
   "metadata": {},
   "source": [
    "# Introduction\n",
    "\n",
    "In this lesson, we will learn about Python's *flow control* statements. These include `for` and `while` loops, which execute a block of code until some condition is reached. These are important programming structures that appear in almost any Python program. "
   ]
  },
  {
   "cell_type": "markdown",
   "id": "3c5e520d-eebd-41ff-8588-095db8ede728",
   "metadata": {},
   "source": [
    "# `for` loops\n",
    "\n",
    "Below is an example of `for` loop that prints all integers from 0 to 9 and their squares:"
   ]
  },
  {
   "cell_type": "code",
   "execution_count": 2,
   "id": "61c2fa40-4043-4c76-acfb-8723f18eb42f",
   "metadata": {},
   "outputs": [
    {
     "name": "stdout",
     "output_type": "stream",
     "text": [
      "The square of 0 is 0\n",
      "The square of 1 is 1\n",
      "The square of 2 is 4\n",
      "The square of 3 is 9\n",
      "The square of 4 is 16\n",
      "The square of 5 is 25\n",
      "The square of 6 is 36\n",
      "The square of 7 is 49\n",
      "The square of 8 is 64\n",
      "The square of 9 is 81\n"
     ]
    }
   ],
   "source": [
    "for n in range(10):\n",
    "    print(f'The square of {n} is {n ** 2}')"
   ]
  },
  {
   "cell_type": "markdown",
   "id": "bc424e86-96bd-4ad0-a674-b1ed2b1263e6",
   "metadata": {},
   "source": [
    "When this code is executed, Python assignes the values in `range(10)` successively to the variable `n`, and then executes the indented statement:\n",
    "\n",
    "    print(f'The square of {n} is {n ** 2}')\n",
    "\n",
    "The general structure of a `for` loop is:\n",
    "\n",
    "    for <identifier> in <iterable>:\n",
    "        <indented block>\n",
    "        \n",
    "An *iterable* is a Python object capable of returning its members one at a time. Examples of iterables are lists, tuples and strings, but other types of objects, such as dictionaries and sets, are also iterable. In the example above, the iterable is `range(10)`. Range objects are a special kind of object that supports iteration on a set of equally spaced integer values.\n",
    "\n",
    "*Technical note*: A range object can be tought as a list, but internally it is represented by a different type of object. The reason for that is efficiency. The elements of a range are only generated as needed, while a list must be kept in memory in its entirety.\n",
    "\n",
    "The `<indented block>` in a `for` loop can be any sequence of indented Python commands. In the following example, we compute the sum of all integers from 1 to 100, as well as the sum of their squares:"
   ]
  },
  {
   "cell_type": "code",
   "execution_count": 7,
   "id": "7de64ee0-7592-40f7-ab76-c8bb0ab9378c",
   "metadata": {},
   "outputs": [
    {
     "name": "stdout",
     "output_type": "stream",
     "text": [
      "Sum: 5050\n",
      "Sum of squares: 338350\n"
     ]
    }
   ],
   "source": [
    "sum_values = 0\n",
    "sum_squares = 0\n",
    "for n in range(1, 101):\n",
    "    sum_values += n\n",
    "    sum_squares += n * n\n",
    "print(f'Sum: {sum_values}\\nSum of squares: {sum_squares}')"
   ]
  },
  {
   "cell_type": "markdown",
   "id": "e6b9de41-5534-4da7-8ac4-e685530e9cdd",
   "metadata": {},
   "source": [
    "The iterator in a `for` loop does not have to be a range. The next example shows how to compute the product of the elements of a list:"
   ]
  },
  {
   "cell_type": "code",
   "execution_count": 10,
   "id": "911e9c2f-e959-41aa-b981-c57f9a0c5333",
   "metadata": {},
   "outputs": [
    {
     "name": "stdout",
     "output_type": "stream",
     "text": [
      "The product of the numbers is 2160\n"
     ]
    }
   ],
   "source": [
    "numbers = [2, 3, -5, 4, -2, 9]\n",
    "product = 1\n",
    "for n in numbers:\n",
    "    product *= n\n",
    "print(f'The product of the numbers is {product}')"
   ]
  },
  {
   "cell_type": "markdown",
   "id": "97219060-6371-4b19-8e7a-0a81ff0b5f85",
   "metadata": {},
   "source": [
    "It is also possible to iterate over`numpy` arrays, but we must be a little careful. Consider the following example:"
   ]
  },
  {
   "cell_type": "code",
   "execution_count": 14,
   "id": "69758fbb-2822-4e44-9201-9bbd28cffa47",
   "metadata": {},
   "outputs": [
    {
     "name": "stdout",
     "output_type": "stream",
     "text": [
      "[0.96737623 0.16186401 0.96125718 0.42734536]\n",
      "[0.05210643 0.90011304 0.79235528 0.1597244 ]\n",
      "[0.91670954 0.21845037 0.76251124 0.51880728]\n",
      "[0.5789509  0.9770197  0.4761449  0.39741368]\n"
     ]
    }
   ],
   "source": [
    "import numpy as np\n",
    "A = np.random.random((4,4))\n",
    "for row in A:\n",
    "    print(row)"
   ]
  },
  {
   "cell_type": "markdown",
   "id": "ba5576dc-8261-48b0-a496-fdfc72e0b954",
   "metadata": {},
   "source": [
    "Notice that this iterates over the *rows* of the two-dimensional array `A`. If we want to iterate over each element separately we can use nested loops:"
   ]
  },
  {
   "cell_type": "code",
   "execution_count": 17,
   "id": "5e70b753-4493-4820-9cff-fbc0a3ad762d",
   "metadata": {},
   "outputs": [
    {
     "name": "stdout",
     "output_type": "stream",
     "text": [
      "The sum of the elements of A is 9.268149530610502\n"
     ]
    }
   ],
   "source": [
    "sum_of_elements = 0\n",
    "for row in A:\n",
    "    for value in row:\n",
    "        sum_of_elements += value\n",
    "print(f'The sum of the elements of A is {sum_of_elements}')"
   ]
  },
  {
   "cell_type": "code",
   "execution_count": 18,
   "id": "a61c11f5-3d9b-4628-8f76-245780db0db1",
   "metadata": {},
   "outputs": [
    {
     "data": {
      "text/plain": [
       "9"
      ]
     },
     "execution_count": 18,
     "metadata": {},
     "output_type": "execute_result"
    }
   ],
   "source": []
  },
  {
   "cell_type": "code",
   "execution_count": null,
   "id": "81538409-434c-4b62-b3fc-812c99b516d2",
   "metadata": {},
   "outputs": [],
   "source": []
  }
 ],
 "metadata": {
  "kernelspec": {
   "display_name": "Python 3 (ipykernel)",
   "language": "python",
   "name": "python3"
  },
  "language_info": {
   "codemirror_mode": {
    "name": "ipython",
    "version": 3
   },
   "file_extension": ".py",
   "mimetype": "text/x-python",
   "name": "python",
   "nbconvert_exporter": "python",
   "pygments_lexer": "ipython3",
   "version": "3.8.5"
  }
 },
 "nbformat": 4,
 "nbformat_minor": 5
}
