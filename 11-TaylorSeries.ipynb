{
 "cells": [
  {
   "cell_type": "markdown",
   "metadata": {
    "colab_type": "text",
    "id": "view-in-github"
   },
   "source": [
    "<a href=\"https://colab.research.google.com/github/lfmartins/introduction-to-computational-mathematics/blob/main/11-TaylorSeries.ipynb\" target=\"_parent\"><img src=\"https://colab.research.google.com/assets/colab-badge.svg\" alt=\"Open In Colab\"/></a>"
   ]
  },
  {
   "cell_type": "markdown",
   "metadata": {
    "id": "k7Y8MFSLQR1L"
   },
   "source": [
    "# Series and For Loops\n",
    "\n",
    "One of the most dreaded topics in Calculus II is the appearance of series at the end of the course. Generally, we're taught summation notation in the following manner\n",
    "\n",
    "$$\\sum_{n=0}^{\\infty} c_n \\mbox{ or } \\sum_{n=1}^{\\infty} c_n$$\n",
    "\n",
    "where $c_n$ is a sequence of values, $\\{c_{n}\\}$, that we're summing up, with $n$ representing the index of the sequence, which has starting integer value (above that was either 0 or 1). The above were infinite series, but we can also use a finite number of terms, \n",
    "\n",
    "$$\\sum_{n=0}^{N} c_n $$\n",
    "\n",
    "where N is the final index of $n$. \n",
    "\n",
    "As much as series can cause headaches when initially introduced to them, one connection between finite series and for-loops. Given the series\n",
    "\n",
    "$$\\sum_{n=1}^{100}1/n^{2}$$\n",
    "\n",
    "we can calculate this value easily using a for-loop\n",
    "\n",
    "```\n",
    "y=0\n",
    "N=100\n",
    "for n in range(1,N+1):\n",
    "      y = y + n**(-2) \n",
    "    return y\n",
    "\n",
    "print(y)\n",
    "```\n",
    "\n",
    "If we know how to express the sequence of values being summed up using numpy expressions and the index of our for-loop, then we can translate finite series into for-loops and vice versa.\n",
    "\n"
   ]
  },
  {
   "cell_type": "markdown",
   "metadata": {
    "id": "wI84lJvYY90w"
   },
   "source": [
    "### Exercises\n",
    "\n",
    "1. Translate the following series into a for-loop and compute the resulting value:\n",
    "\n",
    "$$\\sum_{n=0}^{50}e^{-n}$$\n",
    "\n",
    "2. Translate the following series into a for-loop and compute the resulting value:\n",
    "\n",
    "$$\\sum_{n=1}^{200}\\frac{1}{2^{n}}+n^2$$"
   ]
  },
  {
   "cell_type": "code",
   "execution_count": null,
   "metadata": {
    "id": "Rke4yFbpgQnW"
   },
   "outputs": [],
   "source": []
  },
  {
   "cell_type": "markdown",
   "metadata": {
    "id": "wyCaIX9rgRHX"
   },
   "source": [
    "# Series as functions\n",
    "\n",
    "One jump that we have to make is that we can think of series as function. For instance, $\\sum_n 2^n$ and $\\sum_n (0.5)^n$ are two points on a for a power series $\\sum_n x^{n}$. We can also center the series as a point $a$,  $\\sum_n (x-a)^{n}$, as well multiply it be a set of constants $\\{c_n\\}$,  $\\sum_n c_n(x-a)^{n}$."
   ]
  },
  {
   "cell_type": "markdown",
   "metadata": {
    "id": "cvdxZQS1kzcR"
   },
   "source": [
    "# Taylor Series\n",
    "\n",
    "One of the most useful tools in applied math is the ability to take a Taylor series of continuous functions. Given a function $f(x)$ that is continuous on an interval containing $a$, we can have a series representation of the function\n",
    "\n",
    "$$f(x)=\\sum_{n=0}^{\\infty}\\frac{f^{(n)}(a)}{n!}(x-a)^{n}=f(a)+\\frac{f'(a)}{1!}(x-a)+\\frac{f''(a)}{2!}(x-a)^2+\\frac{f^{(3)}(a)}{3!}(x-a)^3+....$$\n",
    "\n",
    "Note that this is a power series, $\\sum_{n=0}^{\\infty}{c_n}{(x-a)^{n}}$, where $c_n$ is the nth coefficient, $a$ is the center of a the series, and $x$ is a variable. Remember that the derivative term we see in a Taylor series is a constant.\n",
    "\n",
    "$$\\sum_{n=0}^{\\infty}\\color{blue}{c_n}\\color{red}{(x-a)^{n}}=\\sum_{n=0}^{\\infty}\\color{blue}{\\frac{f^{(n)}(a)}{n!}}\\color{red}{(x-a)^{n}}$$\n",
    "\n",
    "Thinking about Taylor series a little bit, we note that when $x$ is close to $a$, the higher order terms associated with larger $n$ will be smaller. In other words, if $x$ is close to $a$\n",
    "\n",
    "$$|x-a|>|x-a|^2>|x-a|^3>|x-a|^4>|x-a|^5>...$$\n",
    "\n",
    "For example, if |x-a|=0.1, then the inequality shows\n",
    "$$0.1>(0.1)^2>(0.1)^3>(0.1)^4>(0.1)^5>...$$\n",
    "$$⇒$$\n",
    "$$0.1>0.01>0.001>0.0001>0.00001>...$$\n",
    "\n",
    "This means that as $x$ gets close to $a$, the contributions of higher order terms will decrease.\n"
   ]
  },
  {
   "cell_type": "markdown",
   "metadata": {
    "id": "FAICi7MH3ELu"
   },
   "source": [
    "Let's test this out numerically. The function $e^x$ has a Taylor series of $\\sum_{n=0}^{\\infty}\\frac{e}{n!}(x-1)^n$ at $a=1$. For practice, confirm this formula to be true, using the definition of the Taylor series.\n",
    "\n"
   ]
  },
  {
   "cell_type": "code",
   "execution_count": null,
   "metadata": {
    "id": "t082PdM80zYH"
   },
   "outputs": [],
   "source": []
  },
  {
   "cell_type": "markdown",
   "metadata": {
    "id": "4OxrV78n0Uto"
   },
   "source": [
    "The following function computes the Taylor series of $e^x$ at $a=1$ up to first $N$ terms. This is equivalent to $\\sum_{n=0}^{N}\\frac{e}{n!}(x-1)^n$ \n",
    "\n",
    "The function 'exp_TS_1' has two inputs; $x$ is the point at which we're evaluating the Taylor series and $N$ is the highest index we're using in our summation. Remember we also include n=0, so the number of terms in the series is $N+1$."
   ]
  },
  {
   "cell_type": "code",
   "execution_count": null,
   "metadata": {
    "id": "apS_O89K6NTA"
   },
   "outputs": [],
   "source": [
    "import numpy as np\n",
    "def exp_TS_1(x,N):\n",
    "    y=np.exp(1)\n",
    "    for n in range(1,N+1):\n",
    "      y = y + (np.exp(1)/np.math.factorial(n))*(x-1)**n\n",
    "    return y"
   ]
  },
  {
   "cell_type": "code",
   "execution_count": null,
   "metadata": {
    "colab": {
     "base_uri": "https://localhost:8080/"
    },
    "id": "9VgJeDWK7W9f",
    "outputId": "f1c2eedf-5f57-4ac5-befd-07e7cdfd3186"
   },
   "outputs": [
    {
     "name": "stdout",
     "output_type": "stream",
     "text": [
      "The true value of the exponential at x= 10 is 22026.465794806718\n",
      "The Taylor series value of the exponential using N= 40 terms at x= 10 is 22026.465794806583\n"
     ]
    }
   ],
   "source": [
    "x=10\n",
    "N=40\n",
    "\n",
    "e_true=np.exp(x)\n",
    "e_TS=exp_TS_1(x,N)\n",
    "\n",
    "print('The true value of the exponential at x=',x,'is', e_true)\n",
    "print('The Taylor series value of the exponential using N=',N,'terms at x=',x,'is',e_TS)"
   ]
  },
  {
   "cell_type": "markdown",
   "metadata": {
    "id": "BZXt-6tX1acL"
   },
   "source": [
    "### Exercises\n",
    "\n",
    "1. Use the code given above to test how accurate the Taylor series is at $x=1.1$ using a few different $N$ values. Calculate the absolute error (i.e. the absolute value of the difference between the two values) for each term. How larger an $N$ do we need for a 'reasonable' answer (... say accurate up to 8 digits)?\n",
    "\n",
    "2. What if we have an $x$ that is further away from the center $a$ of the Taylor series? How many terms do we need to be 'reasonable'? Try for $x=2, 5, 10$.\n",
    "\n",
    "3. Adjust the code of 'exp_TS_1' to make it so that we can have an input for any $a$ center point of our Taylor series. Let the new function be\n",
    "```\n",
    "def exp_TS_a(x,N,a):\n",
    "```\n",
    "\n",
    "  Test it for $f(x)=e^{x}$ with $a=10$ at $x=9$"
   ]
  },
  {
   "cell_type": "code",
   "execution_count": null,
   "metadata": {
    "id": "jJ3pVB75Pm-m"
   },
   "outputs": [],
   "source": []
  },
  {
   "cell_type": "markdown",
   "metadata": {
    "id": "1pJHvnpEPpYm"
   },
   "source": [
    "## Absolute Error and Relative Error\n",
    "\n",
    "If we think of the error associated with the Taylor series approximation, $f_{TS}(x)$, at a point $x_0$, one way would be to calculate the absolute difference between the approximation and the original function, $f(x)$. This is known as absolute error, $e_{abs}$.\n",
    "\n",
    "$$e_{abs}=|f(x_0)-f_{TS}(x_0)|$$\n",
    "\n",
    "Another way to calculate the error would be the relative error of the function, where we normalize the error with respect to the function value at $x_0$.\n",
    "\n",
    "$$e_{abs}=|f(x_0)-f_{TS}(x_0)|/|f(x_0)|$$\n",
    "\n",
    "This gives the error as a percentage or fraction of the actual value.\n",
    "\n"
   ]
  },
  {
   "cell_type": "markdown",
   "metadata": {
    "id": "dSleuZ-Le3qq"
   },
   "source": [
    "### Exercise\n",
    "\n",
    "1. Let's plot the absolute error for the first 40 terms using of the previous section's Taylor series from #1 and #2. Use a for-loop to store the absolute error.  \n",
    "\n",
    "2. Repeat for relative error.\n"
   ]
  },
  {
   "cell_type": "markdown",
   "metadata": {
    "id": "U8tRlKYA1-5a"
   },
   "source": [
    "# Taylor Polynomials\n",
    "\n",
    "If one chops of the number of terms of a Taylor series and treats them as a function, then one can think of them as a polynomial approximation to the function $f(x)$, which does not have to be a polynomial.\n",
    "\n",
    "For instance the 1st order Taylor polynomial of $f(x)=e^{x}$ at $a=1$ is \n",
    "\n",
    "$p_1(x)=f(1)+\\frac{f'(a)}{1!}(x-a)=e^{1}+e^{1}(x-1)$\n",
    "\n",
    "and the 2nd order Taylor polynomial is\n",
    "\n",
    "$p_2(x)=f(1)+\\frac{f'(a)}{1!}(x-a)+\\frac{f''(a)}{2!}(x-a)^{2}=e^{1}+e^{1}(x-1)+\\frac{e^{1}}{2}(x-1)^2$\n",
    "\n",
    "and the 3rd order Taylor polynomial is\n",
    "\n",
    "$p_3(x)=f(1)+\\frac{f'(a)}{1!}(x-a)+\\frac{f''(a)}{2!}(x-a)^{2}+\\frac{f'''(a)}{3!}(x-a)^{3}=e^{1}+e^{1}(x-1)+\\frac{e^{1}}{2}(x-1)^2+\\frac{e^{1}}{6}(x-1)^3$\n",
    "\n",
    "Plotting them using numpy and matplotlib\n",
    "\n"
   ]
  },
  {
   "cell_type": "code",
   "execution_count": null,
   "metadata": {
    "colab": {
     "base_uri": "https://localhost:8080/",
     "height": 265
    },
    "id": "tc9QC5D5lGzJ",
    "outputId": "c224d900-4d51-4837-d320-5198f59e7ab4"
   },
   "outputs": [
    {
     "data": {
      "image/png": "[encoded data removed]",
      "text/plain": [
       "<Figure size 432x288 with 1 Axes>"
      ]
     },
     "metadata": {
      "needs_background": "light"
     },
     "output_type": "display_data"
    }
   ],
   "source": [
    "import numpy as np\n",
    "import matplotlib.pyplot as plt\n",
    "def p1(x):\n",
    "  e=np.exp(1)\n",
    "  p1=e+e*(x-1)\n",
    "  return p1\n",
    "def p2(x):\n",
    "  e=np.exp(1)\n",
    "  p1=e+e*(x-1)+(e/2)*(x-1)**2\n",
    "  return p1\n",
    "def p3(x):\n",
    "  e=np.exp(1)\n",
    "  p1=e+e*(x-1)+(e/2)*(x-1)**2+(e/6)*(x-1)**3\n",
    "  return p1\n",
    "\n",
    "x=np.linspace(.5,1.5) \n",
    "plt.plot(x,np.exp(x))\n",
    "plt.plot(x,p1(x),':')\n",
    "plt.plot(x,p2(x),':')\n",
    "plt.plot(x,p3(x),':')\n",
    "plt.grid()"
   ]
  },
  {
   "cell_type": "markdown",
   "metadata": {
    "id": "syDO3prPkwbX"
   },
   "source": [
    "### Exercises\n",
    "\n",
    "1. Plot the each of first five Taylor polynomials of $f(x)=\\sin(x)$ at $a=-3\\pi/2$."
   ]
  },
  {
   "cell_type": "code",
   "execution_count": 1,
   "metadata": {
    "id": "vlqxnmickjLu"
   },
   "outputs": [
    {
     "data": {
      "text/plain": [
       "730.3094776362286"
      ]
     },
     "execution_count": 1,
     "metadata": {},
     "output_type": "execute_result"
    }
   ],
   "source": [
    "2/3*(802)**(3/2) - 2/3*776**(3/2)"
   ]
  },
  {
   "cell_type": "code",
   "execution_count": null,
   "metadata": {},
   "outputs": [],
   "source": []
  }
 ],
 "metadata": {
  "colab": {
   "authorship_tag": "ABX9TyMvxU88ALw41YmJBviNrxPv",
   "collapsed_sections": [],
   "include_colab_link": true,
   "provenance": []
  },
  "kernelspec": {
   "display_name": "Python 3 (ipykernel)",
   "language": "python",
   "name": "python3"
  },
  "language_info": {
   "codemirror_mode": {
    "name": "ipython",
    "version": 3
   },
   "file_extension": ".py",
   "mimetype": "text/x-python",
   "name": "python",
   "nbconvert_exporter": "python",
   "pygments_lexer": "ipython3",
   "version": "3.9.7"
  }
 },
 "nbformat": 4,
 "nbformat_minor": 4
}
