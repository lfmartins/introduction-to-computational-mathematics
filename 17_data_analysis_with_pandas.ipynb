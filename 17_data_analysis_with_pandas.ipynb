{
  "nbformat": 4,
  "nbformat_minor": 0,
  "metadata": {
    "colab": {
      "provenance": [],
      "authorship_tag": "ABX9TyPw5I0dZ5CDiQZj8YJvSfaa",
      "include_colab_link": true
    },
    "kernelspec": {
      "name": "python3",
      "display_name": "Python 3"
    },
    "language_info": {
      "name": "python"
    }
  },
  "cells": [
    {
      "cell_type": "markdown",
      "metadata": {
        "id": "view-in-github",
        "colab_type": "text"
      },
      "source": [
        "<a href=\"https://colab.research.google.com/github/lfmartins/introduction-to-computational-mathematics/blob/main/17_data_analysis_with_pandas.ipynb\" target=\"_parent\"><img src=\"https://colab.research.google.com/assets/colab-badge.svg\" alt=\"Open In Colab\"/></a>"
      ]
    },
    {
      "cell_type": "markdown",
      "source": [
        "# Introduction\n",
        "\n",
        "In this notebook we explore `pandas`, a Python module designed for data manipulation and data analysis. The first thing we need to do is to import the data. There are different approaches to load data into `pandas`, depending on where the data is.\n",
        "\n",
        "In this notebook, we will use the file `movies.csv`. The `csv` extension refers to *comma separated values*, which is a very basic text format for storing data. \n",
        "\n",
        "Run the following code cell to import the data:"
      ],
      "metadata": {
        "id": "5NlPWOw3mycL"
      }
    },
    {
      "cell_type": "code",
      "source": [
        "import pandas as pd\n",
        "url = 'https://raw.githubusercontent.com/lfmartins/introduction-to-computational-mathematics/main/movies.csv'\n",
        "movies_df = pd.read_csv(url, index_col='Film')"
      ],
      "metadata": {
        "id": "KWQE61OMoF39"
      },
      "execution_count": null,
      "outputs": []
    },
    {
      "cell_type": "markdown",
      "source": [
        "In this example, the data is imported from GitHub, an online system designed for collaborative software development. This course is itself stored as a GitHub repository. It is very common today to have data stored in a web site.\n",
        "\n",
        "The data is read with the function `pd.read_csv()` from the URL of the file in GitHub. It is also possible to read a local file by entering its name in place of the URL.\n",
        "\n",
        "Let's now see how to work with the data in Pandas.\n",
        "\n"
      ],
      "metadata": {
        "id": "iDv2xtxcpyt4"
      }
    },
    {
      "cell_type": "markdown",
      "source": [
        "# Dataframes and Series\n",
        "\n",
        "All data in `pandas` is stored in two kinds of objects:\n",
        "\n",
        "- `DataFrame` represents a two-dimensional array (that is, a table) of data.\n",
        "- `Series` represents a one-dimensional array of data.\n",
        "\n",
        "A `DataFrame` is a collection of `Series` objects, representing the columns of the table.\n",
        "\n",
        "The data for our example is stored in the variable `movies_df`. We can now examine the contents of the file:"
      ],
      "metadata": {
        "id": "VuiA7nK-q3mq"
      }
    },
    {
      "cell_type": "code",
      "source": [
        "movies_df"
      ],
      "metadata": {
        "id": "r0gAuVgNiusC"
      },
      "execution_count": null,
      "outputs": []
    },
    {
      "cell_type": "markdown",
      "source": [
        "Notice that `pandas`, by default, does not show the whole table. Data sets are usually large, so they can't be seen in their entirety.\n",
        "\n",
        "Now click on the \"magic wand\" icon that appears under the data set. This will create an interactive display that allows \"paging\" on the data. \n",
        "\n",
        "Another useful method for seeing the structure of a `DataFrame` is `head()`:"
      ],
      "metadata": {
        "id": "WepScAUCwScc"
      }
    },
    {
      "cell_type": "code",
      "source": [
        "movies_df.head(5)"
      ],
      "metadata": {
        "id": "XjBH4WGtsbmB"
      },
      "execution_count": null,
      "outputs": []
    },
    {
      "cell_type": "markdown",
      "source": [
        "This displays the first five rows of the table.\n",
        "\n",
        "To know the size of the data set, use the function `len()`:"
      ],
      "metadata": {
        "id": "wK9wqPWZxTDM"
      }
    },
    {
      "cell_type": "code",
      "source": [
        "len(movies_df)"
      ],
      "metadata": {
        "id": "tE6YAJl-xR8x"
      },
      "execution_count": null,
      "outputs": []
    },
    {
      "cell_type": "markdown",
      "source": [
        "Data is organized in columns. To get the column names, we can use the variable `columns`:"
      ],
      "metadata": {
        "id": "eRCekTPO0fj0"
      }
    },
    {
      "cell_type": "code",
      "source": [
        "cols = movies_df.columns\n",
        "cols"
      ],
      "metadata": {
        "id": "vQ2JIrI_xhtk"
      },
      "execution_count": null,
      "outputs": []
    },
    {
      "cell_type": "markdown",
      "source": [
        "Notice that the first column does not appear in the list of columns. To access a column in the `DataFrame`, we use use the column name as a dictionary key:"
      ],
      "metadata": {
        "id": "iz0p7ftS07Oz"
      }
    },
    {
      "cell_type": "code",
      "source": [
        "rtpercent = movies_df['Rotten Tomatoes %']\n",
        "rtpercent"
      ],
      "metadata": {
        "id": "2oRvcz2z4kwz"
      },
      "execution_count": null,
      "outputs": []
    },
    {
      "cell_type": "markdown",
      "source": [
        "The first column in a `DataFrame` is called *index column*, and is used to identify rows in the dataset:"
      ],
      "metadata": {
        "id": "hkLoWkHj4orP"
      }
    },
    {
      "cell_type": "code",
      "source": [
        "movies_df.loc['When in Rome']"
      ],
      "metadata": {
        "id": "f5aD0wvE0O5Z"
      },
      "execution_count": null,
      "outputs": []
    },
    {
      "cell_type": "markdown",
      "source": [
        "It is sometimes useful to reorder the dataset, which is accomplished with the method `sort_values`. Let's say we would like to identify the movies with highest audience score:"
      ],
      "metadata": {
        "id": "QRc7EB3A4MxX"
      }
    },
    {
      "cell_type": "code",
      "source": [
        "movies_df.sort_values(by='Audience score %', ascending=False).head(10)"
      ],
      "metadata": {
        "id": "vkI1-Wus333F"
      },
      "execution_count": null,
      "outputs": []
    },
    {
      "cell_type": "markdown",
      "source": [
        "In this code, notice the use of a *pipeline*: we first call the method `sort_values()` of the object `movies_df`. Then, we call the method `head()` on the result to display the first 10 rows of the table. This kind of piplining is very common and useful. "
      ],
      "metadata": {
        "id": "BJ5pxx4M9FOL"
      }
    },
    {
      "cell_type": "markdown",
      "source": [
        "# Cleaning the Data\n",
        "\n",
        "Data ofent does not come in a format that is ready for analysis. Data cleanup is usually the first task in a project.\n",
        "\n",
        "Notice that the column `Genre` is somewhat inconsistent. Some of the entries are capitalized and others are not. Also notice in the output above that the genre for *Midnight in Paris* is incorrectly spelled as \"Romence\". We can see the a summary of the values in a column using the method `value_counts():"
      ],
      "metadata": {
        "id": "W6NFZLaO6xgB"
      }
    },
    {
      "cell_type": "code",
      "source": [
        "movies_df.value_counts('Genre')"
      ],
      "metadata": {
        "id": "BruAobM25hkK"
      },
      "execution_count": null,
      "outputs": []
    },
    {
      "cell_type": "markdown",
      "source": [
        "We can see that there are only a few errors, so we fix them \"manually\". For example, there is an incorrectly spelled entry `Comdy`. Let's first find the row in which the error appears:"
      ],
      "metadata": {
        "id": "aD95pZec91ol"
      }
    },
    {
      "cell_type": "code",
      "source": [
        "movies_df.loc[movies_df['Genre'] == 'Comdy']"
      ],
      "metadata": {
        "id": "u__Kac3a9uFs"
      },
      "execution_count": null,
      "outputs": []
    },
    {
      "cell_type": "markdown",
      "source": [
        "Once we know the row with the mistake, it is easy to correct it:"
      ],
      "metadata": {
        "id": "nWkCZNMw-_rc"
      }
    },
    {
      "cell_type": "code",
      "source": [
        "movies_df.loc['Made of Honor', 'Genre'] = 'Comedy'\n",
        "movies_df.loc['Made of Honor', 'Genre']"
      ],
      "metadata": {
        "id": "fNlq3LvD6bBL"
      },
      "execution_count": null,
      "outputs": []
    },
    {
      "cell_type": "markdown",
      "source": [
        "**Exercise:** Fix the other mistakes in the `Genre` column."
      ],
      "metadata": {
        "id": "c55yByfY_0PR"
      }
    },
    {
      "cell_type": "code",
      "source": [],
      "metadata": {
        "id": "PTSyj9zhfyIV"
      },
      "execution_count": null,
      "outputs": []
    },
    {
      "cell_type": "code",
      "source": [],
      "metadata": {
        "id": "JLpcNNIVfx7s"
      },
      "execution_count": null,
      "outputs": []
    },
    {
      "cell_type": "code",
      "source": [],
      "metadata": {
        "id": "e_4mI7KhfxuY"
      },
      "execution_count": null,
      "outputs": []
    },
    {
      "cell_type": "code",
      "source": [],
      "metadata": {
        "id": "KGpbx0wafxh8"
      },
      "execution_count": null,
      "outputs": []
    },
    {
      "cell_type": "markdown",
      "source": [
        "After you fix all incorrect entries, run the `value_counts` method again to make sure everything is fine:"
      ],
      "metadata": {
        "id": "1007fe0NA2D_"
      }
    },
    {
      "cell_type": "code",
      "source": [
        "movies_df.value_counts('Genre')"
      ],
      "metadata": {
        "id": "3JWXip10BBFG"
      },
      "execution_count": null,
      "outputs": []
    },
    {
      "cell_type": "markdown",
      "source": [
        "The column `Worldwide Gross` also presents a problem. We would like the dollar values to be numerical, but they are strings. One way to do this is to"
      ],
      "metadata": {
        "id": "2L7X93D3AlQ2"
      }
    },
    {
      "cell_type": "code",
      "source": [
        "def string_to_float(v):\n",
        "  return float(v[1:])\n",
        "movies_df['Worldwide Gross']=movies_df['Worldwide Gross'].apply(string_to_float)\n",
        "movies_df.head(5)"
      ],
      "metadata": {
        "id": "JGUi9D-I6ktB"
      },
      "execution_count": null,
      "outputs": []
    },
    {
      "cell_type": "markdown",
      "source": [
        "The values in the `Worldwide Gross` column are now of type `float`.\n",
        "\n",
        "**Exercise:** Find the 10 highest grossing movies in the dataset."
      ],
      "metadata": {
        "id": "QUV_MZrwDpD7"
      }
    },
    {
      "cell_type": "code",
      "source": [
        "movies_df.sort_values(by='Worldwide Gross', ascending=False).head(10)"
      ],
      "metadata": {
        "id": "WTys52I0FWmK"
      },
      "execution_count": null,
      "outputs": []
    },
    {
      "cell_type": "markdown",
      "source": [
        "# Exploring the Data\n",
        "\n",
        "Let's now start exploring the data. Let's start examining the `Worldwide Gross` column. We first construct a histogram of the data:"
      ],
      "metadata": {
        "id": "udVbGL8RD3iT"
      }
    },
    {
      "cell_type": "code",
      "source": [
        "movies_df['Worldwide Gross'].plot.hist()\n",
        "None"
      ],
      "metadata": {
        "id": "kx52VXjBDotW"
      },
      "execution_count": null,
      "outputs": []
    },
    {
      "cell_type": "markdown",
      "source": [
        "We can see that the distribution is quite asymmetric, with most movies having low grossing values (a sobering fact for the movie industry).\n",
        "\n",
        "We can get a summary of the data with the method `describe()`:\n",
        "\n"
      ],
      "metadata": {
        "id": "FBLzeqG-EvAT"
      }
    },
    {
      "cell_type": "code",
      "source": [
        "movies_df['Worldwide Gross'].describe()"
      ],
      "metadata": {
        "id": "wqNtoa-DAA4a"
      },
      "execution_count": null,
      "outputs": []
    },
    {
      "cell_type": "markdown",
      "source": [
        "This yields some basic statistics for the `Worldwide Gross` column: the mean, standard deviation, minimum, quartiles and maximum.\n",
        "\n",
        "The quartiles (25%, 50%, 75%)are points that split the data set in 4 equal segments, each containing 25% of the data. For example, 25% of the movies gross between 79.18 and 205.3 millions of dollars.\n",
        "\n",
        "The 50% quartile is also the median of the data set, which is the point that splits the data into two segments, each containing half of the data. Notice that the median (79.18) is much smaller than the mean (145.217532). This indicates that the data has a long \"tail\" to the right.\n",
        "\n",
        "This statistical summary has a nice representation called a *boxplot*:"
      ],
      "metadata": {
        "id": "j8hIMoQTGW6q"
      }
    },
    {
      "cell_type": "code",
      "source": [
        "movies_df['Worldwide Gross'].plot(kind='box')\n",
        "None"
      ],
      "metadata": {
        "id": "zfSpKlFqCbBR"
      },
      "execution_count": null,
      "outputs": []
    },
    {
      "cell_type": "markdown",
      "source": [
        "In this graph, the dots on top of the boxplot represent *outliers*, data values that are outside of the range where most of the data is. The box and segments (sometimes called \"whiskers\") represent, from top to bottom, the maximum, 75th percentile, 50th percentile (median), 25th percentile and minimum. For example, we can see that the top 25% grossing movies make between 200 and 400 millions of dollars.\n",
        "\n",
        "Let's now dig a little deeper in the data. Suppose we want to know what studios gross the most.\n",
        "\n",
        "To do this, we first extract a `DataFrame` that has only the two columns that interest us:"
      ],
      "metadata": {
        "id": "Efk-HWR-IJeN"
      }
    },
    {
      "cell_type": "code",
      "source": [
        "studio_gross_df = movies_df[['Lead Studio', 'Worldwide Gross']]\n",
        "studio_gross_df.head(5)"
      ],
      "metadata": {
        "id": "wDFWmcA7H93s"
      },
      "execution_count": null,
      "outputs": []
    },
    {
      "cell_type": "markdown",
      "source": [
        "We now call the method `groupby` to find the total gross of each studio:"
      ],
      "metadata": {
        "id": "avBLZJF_MGnz"
      }
    },
    {
      "cell_type": "code",
      "source": [
        "studio_gross_df.groupby('Lead Studio').sum()"
      ],
      "metadata": {
        "id": "k6kGTiwQLnLS"
      },
      "execution_count": null,
      "outputs": []
    },
    {
      "cell_type": "markdown",
      "source": [
        "It is possible to pipeline the calls, so that we can run the code in a single line. In the code below, we do the following operations in succeccion: \n",
        "\n",
        "- Extract two columns from the data.\n",
        "- Group by `Lead Studio`, computing the sum of `Worldwide Gross` for each group.\n",
        "- Sort the table in descending order."
      ],
      "metadata": {
        "id": "a6yIU6UhMd2V"
      }
    },
    {
      "cell_type": "code",
      "source": [
        "movies_df[['Lead Studio', 'Worldwide Gross']].groupby('Lead Studio').sum().sort_values(by='Worldwide Gross', ascending=False)"
      ],
      "metadata": {
        "id": "gADDDvUBMZlw"
      },
      "execution_count": null,
      "outputs": []
    },
    {
      "cell_type": "markdown",
      "source": [
        "Perhaps a better measure of the popularity of a studio's movies is the average value of `Worldwide Gross`:"
      ],
      "metadata": {
        "id": "GMxLAjqUNgrK"
      }
    },
    {
      "cell_type": "code",
      "source": [
        "movies_df[['Lead Studio', 'Worldwide Gross']].groupby('Lead Studio').mean().sort_values(by='Worldwide Gross', ascending=False)"
      ],
      "metadata": {
        "id": "PBTTeYZAMpyw"
      },
      "execution_count": null,
      "outputs": []
    },
    {
      "cell_type": "markdown",
      "source": [
        "**Exercise:** Do an analysis of the `Profitability` column in the movie dataset."
      ],
      "metadata": {
        "id": "1e37h9j-OH2J"
      }
    },
    {
      "cell_type": "markdown",
      "source": [
        "# Linear Regression\n",
        "\n",
        "One of the main goals of data analysis is to find relationships between variables. We might want to know, for example, if there is a relation between the Audience Score and the Rotten Tomatoes score of a movie.\n",
        "\n",
        "A good starting point is to do a scatterplot of the data of interest:"
      ],
      "metadata": {
        "id": "WHtI8TWJOaEg"
      }
    },
    {
      "cell_type": "code",
      "source": [
        "movies_df.plot.scatter(x='Rotten Tomatoes %', y='Audience score %')\n",
        "None"
      ],
      "metadata": {
        "id": "7jBk7vJTOZZF"
      },
      "execution_count": null,
      "outputs": []
    },
    {
      "cell_type": "markdown",
      "source": [
        "The scatterplot indicates that there seems to be an increasing trend between the variables, but it is somewhat weak. To quantify this, we can use a *linear regression*, which finds the best linear relationship between the data.\n",
        "\n",
        "Regression is an extensive subject, and `pandas` itself does not have methods to compute linear regression. Instead, we use the module `sklearn`, which is a library for machine learning. The code is in the following cell:"
      ],
      "metadata": {
        "id": "KZr3rpIMTg8z"
      }
    },
    {
      "cell_type": "code",
      "source": [
        "import numpy as np\n",
        "from sklearn.linear_model import LinearRegression\n",
        "rt_scores = movies_df['Rotten Tomatoes %'].to_numpy().reshape(-1, 1)\n",
        "a_scores = movies_df['Audience score %'].to_numpy()\n",
        "model = LinearRegression().fit(rt_scores, a_scores)"
      ],
      "metadata": {
        "id": "LWKbZs__S7AQ"
      },
      "execution_count": null,
      "outputs": []
    },
    {
      "cell_type": "markdown",
      "source": [
        "We now need to extract the coefficients of the regression line:"
      ],
      "metadata": {
        "id": "qQbFaQi7bPjp"
      }
    },
    {
      "cell_type": "code",
      "source": [
        "a = model.coef_[0]\n",
        "b = model.intercept_\n",
        "print(a, b)"
      ],
      "metadata": {
        "id": "KR3511LPXDG5"
      },
      "execution_count": null,
      "outputs": []
    },
    {
      "cell_type": "markdown",
      "source": [
        "From the output above, we get the following model:\n",
        "\\[\n",
        "y = a x + b\n",
        "\\]\n",
        "where $x$ represents the Rotten Tomatoes score and $y$ represents the Audience score.\n",
        "\n",
        "Let's now construct a plot with the data and the linear model superimposed:"
      ],
      "metadata": {
        "id": "HxwK3CrXbZUp"
      }
    },
    {
      "cell_type": "code",
      "source": [
        "import matplotlib.pyplot as plt\n",
        "movies_df.plot.scatter(x='Rotten Tomatoes %', y='Audience score %')\n",
        "xvalues = np.linspace(0, 100, 400)\n",
        "yvalues = a * xvalues + b\n",
        "plt.plot(xvalues, yvalues, lw=2, color='red')\n",
        "None"
      ],
      "metadata": {
        "id": "uAfNOSM-XiUV"
      },
      "execution_count": null,
      "outputs": []
    },
    {
      "cell_type": "markdown",
      "source": [
        "This plot shows that there is an increasing relationship between the variables, but it is weak. To assess the quality of the model, we use the `score` model:"
      ],
      "metadata": {
        "id": "BpSuHZxacnNz"
      }
    },
    {
      "cell_type": "code",
      "source": [
        "model.score(rt_scores, a_scores)"
      ],
      "metadata": {
        "id": "Vn4kShyrXi0G"
      },
      "execution_count": null,
      "outputs": []
    },
    {
      "cell_type": "markdown",
      "source": [
        "This number is called R-squared, and measures the proportion of the variability in the data that is explained by the model. This is a number between 0 and 1, interpreted as a percent. A value of 37% shows that the relationship between the variables is weak.\n",
        "\n",
        "Another interesting tool to explore correlations is a *scatter matrix*. The following code computes a scatter matrix for the quantitative variables in the movies dataset:"
      ],
      "metadata": {
        "id": "JDhiWoypc16K"
      }
    },
    {
      "cell_type": "code",
      "source": [
        "from pandas.plotting import scatter_matrix\n",
        "moviesn_df = movies_df[['Audience score %', 'Profitability',\n",
        "       'Rotten Tomatoes %', 'Worldwide Gross']]\n",
        "scatter_matrix(moviesn_df)\n",
        "None"
      ],
      "metadata": {
        "id": "xyGiIj3PZCNE"
      },
      "execution_count": null,
      "outputs": []
    },
    {
      "cell_type": "markdown",
      "source": [
        "This matrix has scatterplots for all pairs of variables in the dataset, and histograms for each variable along the diagonal."
      ],
      "metadata": {
        "id": "Ao730bq0e8qI"
      }
    },
    {
      "cell_type": "markdown",
      "source": [
        "**Exercise** Investigate if there is a relationship between the Rotten Tomatoes scores and the Worldwide grossing of the movies in this dataset."
      ],
      "metadata": {
        "id": "FXObPmuAfPyA"
      }
    },
    {
      "cell_type": "code",
      "source": [],
      "metadata": {
        "id": "fp3qoasjdu8n"
      },
      "execution_count": null,
      "outputs": []
    }
  ]
}