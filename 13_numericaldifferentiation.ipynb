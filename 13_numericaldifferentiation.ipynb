{
 "cells": [
  {
   "cell_type": "markdown",
   "metadata": {
    "colab_type": "text",
    "id": "view-in-github"
   },
   "source": [
    "<a href=\"https://colab.research.google.com/github/lfmartins/introduction-to-computational-mathematics/blob/main/13_numericaldifferentiation.ipynb\" target=\"_parent\"><img src=\"https://colab.research.google.com/assets/colab-badge.svg\" alt=\"Open In Colab\"/></a>"
   ]
  },
  {
   "cell_type": "markdown",
   "metadata": {
    "id": "1XaxBm_3UAp8"
   },
   "source": [
    "# Numerical Differentiation\n",
    "\n",
    "In a a previous lesson, we used an approximation of the derivative that came from Calc 1 and the start of discussions about the limit definition of a derivative,\n",
    "\n",
    "$$ f'(x)=\\lim_{h\\to0} \\frac{f(x+h)-f(x)}{h}.$$\n",
    "\n",
    "But why does this work? In Calc 1, we often play around with algebra for a few functions to show that this can reduce to a single algebraic expression after taking a limit of h. \n",
    "\n",
    "However, we can also use Taylor series to examine why this works and what error looks like when using it as a approximation,\n",
    "\n",
    "$$ f'(x)≈\\frac{f(x+h)-f(x)}{h}.$$\n",
    "\n",
    "This is often called a **forward difference** approximation .Let's begin by first taking an a Taylor series of $f(x+h)$ centered at $x$.\n",
    "\n",
    "$$f(x+h)=f(x)+\\frac{f'(x)}{1!}(x+h-x)+\\frac{f''(x)}{2!}(x+h-x)^2+\\frac{f^{(3)}(x)}{3!}(x+h-x)^3+\\frac{f^{(4)}(x)}{4!}(x+h-x)^4...$$\n",
    "$$=f(x)+\\frac{f'(x)}{1}h+\\frac{f''(x)}{2}h^2+\\frac{f^{(3)}(x)}{6}h^3+\\frac{f^{(4)}(x)}{24}h^4...$$\n",
    "\n",
    "Here we've show the first five terms of the Taylor series. Note that all of the terms after the first term depend on $h$, which is distance between $x$ and $x+h$.\n",
    "\n",
    "Now replacing $f(x+h)$ with our Taylor series,\n",
    "\n",
    "$$\\frac{f(x+h)-f(x)}{h}=\\frac{(f(x)+\\frac{f'(x)}{1}h+\\frac{f''(x)}{2}h^2+\\frac{f^{(3)}(x)}{6}h^3+...)-f(x)}{h}$$\n",
    "$$=\\frac{f'(x)h+\\frac{1}{2}f''(x)h^{2}+\\frac{1}{6}f^{(3)}(x)h^3+...}{h}$$\n",
    "$$=f'(x)+\\frac{1}{2}f''(x)h+\\frac{1}{6}f^{(3)}(x)h^2+...$$\n",
    "\n",
    "Let's note a few things. \n",
    "\n",
    "First, if $h\\to0$ then the only term left is the first derivative $f'(x)$, which is the goal of the approximation. In practice this is only true up to a certain point due to finite digit precision.\n",
    "\n",
    "Another thing to note is that if $0<h<1$, then $h>h^{2}>h^{3}>h^{4}>....$ This means that additional terms of the Taylor series will be smaller than lower order terms. The largest contribution of error would be probably from $\\frac{1}{2}f''(x)h$. We can use the Taylor Remainder Theorem to say there exists an $\\xi$ between $x$ and $x+h$ such that\n",
    "\n",
    "$$\\frac{1}{2}f''(\\xi)h=\\frac{1}{2}f''(x)h+\\frac{1}{6}f^{(3)}(x)h^2+...$$\n",
    "\n",
    "We can treat $\\frac{1}{2}f''(\\xi)$ as a constant C so that the largest contribution to approximation error is $Ch$ which is often written using big-'Oh' notation as $O(h)$.\n",
    "\n",
    "In summary, we can say the forward difference approximation approximates the first derivative with an additional error term\n",
    "\n",
    "$$ \\frac{f(x+h)-f(x)}{h}= f'(x)+O(h)$$\n",
    "\n",
    "\n",
    "\n",
    "The forward difference approximation is a **first order method** since the lowest order error term is of order 1, i.e. $O(h)=O(h^1)$. If the approximation's *lowest order error* term that is a constant multiplied by the stepsize squared, i.e. $O(h^{2})$, then we say the approximation is **second order**."
   ]
  },
  {
   "cell_type": "code",
   "execution_count": null,
   "metadata": {
    "id": "Rj1cJRjPrWI-"
   },
   "outputs": [],
   "source": []
  },
  {
   "cell_type": "markdown",
   "metadata": {
    "id": "4-ZiqfqurXJj"
   },
   "source": [
    "## Exercises\n",
    "\n",
    "1. Prove that the backward difference approximation,\n",
    "$$f(x)-f(x-h)\\over h$$\n",
    "is a first order approximation to $f'(x)$. This should be similar to the example from the forward difference operator. \n",
    "\n",
    "2. Prove that the centered difference approximation,\n",
    "$$f(x+h)-f(x-h)\\over 2h$$\n",
    "is a second order approximation to $f'(x)$.\n",
    "\n",
    "\n",
    "3. Prove that the second-order centered difference approximation\n",
    "$$f(x+h)-2f(x)+f(x-h)\\over h^2$$\n",
    "is a second order approximation to $f''(x)$. Not that this is an approximation to the second derivative.\n"
   ]
  },
  {
   "cell_type": "markdown",
   "metadata": {
    "id": "g7SP-5tSs-sV"
   },
   "source": [
    "# Finite Precision Issues\n",
    "\n",
    "Let's see how well this story about error works in practice with finite digit precision. Let's calculate the error associated with the forward difference approximation for $e^{x}$ at $x=0$ as we range $h$ from $10^{0}$ to $10^{-16}$. "
   ]
  },
  {
   "cell_type": "code",
   "execution_count": 9,
   "metadata": {
    "colab": {
     "base_uri": "https://localhost:8080/",
     "height": 283
    },
    "id": "V-lXYiIUs9pL",
    "outputId": "79e741d3-7bc2-4e73-e893-331fd7bacd03"
   },
   "outputs": [
    {
     "data": {
      "text/plain": [
       "[<matplotlib.lines.Line2D at 0x7f0fa26c04d0>]"
      ]
     },
     "execution_count": 9,
     "metadata": {},
     "output_type": "execute_result"
    },
    {
     "data": {
      "image/png": "[encoded data removed]",
      "text/plain": [
       "<Figure size 432x288 with 1 Axes>"
      ]
     },
     "metadata": {
      "needs_background": "light"
     },
     "output_type": "display_data"
    }
   ],
   "source": [
    "import numpy as np\n",
    "import matplotlib.pyplot as plt\n",
    "\n",
    "def forwarddiff(f,x,h):\n",
    "  df=(f(x+h)-f(x))/h\n",
    "  return df\n",
    "\n",
    "\n",
    "df_true=1.0\n",
    "x=0.0\n",
    "error=np.zeros(16)\n",
    "h=np.zeros(16)\n",
    "for k in range(0,16):\n",
    "  h[k]=10**(-k)\n",
    "  df_approx=forwarddiff(np.exp,x,h[k])\n",
    "  error[k]=np.abs(df_true-df_approx)\n",
    "\n",
    "plt.plot(h,error,'sr-')\n",
    "\n"
   ]
  },
  {
   "cell_type": "markdown",
   "metadata": {
    "id": "rwHbfsjrxLQm"
   },
   "source": [
    "We note that the plot appears to be decreasing, but because the stepsizes and error get increasingly smaller it becomes harder to visualize using a standard plot. Instead we can change the scale of the plots to be on a logarithmic scale using `loglog()`."
   ]
  },
  {
   "cell_type": "code",
   "execution_count": 11,
   "metadata": {
    "colab": {
     "base_uri": "https://localhost:8080/",
     "height": 287
    },
    "id": "uEPe0GZGxn__",
    "outputId": "a50ad605-58c0-4b09-83a1-e356f82fe026"
   },
   "outputs": [
    {
     "data": {
      "text/plain": [
       "[<matplotlib.lines.Line2D at 0x7f0fa26965d0>]"
      ]
     },
     "execution_count": 11,
     "metadata": {},
     "output_type": "execute_result"
    },
    {
     "data": {
      "image/png": "[encoded data removed]",
      "text/plain": [
       "<Figure size 432x288 with 1 Axes>"
      ]
     },
     "metadata": {
      "needs_background": "light"
     },
     "output_type": "display_data"
    }
   ],
   "source": [
    "plt.loglog(h,error,'sr-')\n"
   ]
  },
  {
   "cell_type": "code",
   "execution_count": null,
   "metadata": {
    "id": "frZwdHSvxo0i"
   },
   "outputs": [],
   "source": []
  },
  {
   "cell_type": "code",
   "execution_count": null,
   "metadata": {
    "id": "tkd6xlP4yPvu"
   },
   "outputs": [],
   "source": []
  },
  {
   "cell_type": "markdown",
   "metadata": {
    "id": "lCkXwDucyQq-"
   },
   "source": [
    "We see this V shape instead of a straight slope. While the larger stepsizes display we introduce round-off error with our substraction, such that error is really\n",
    "\n",
    "$$e=Ch+\\frac{\\epsilon}{h}$$\n",
    "\n",
    "where $\\epsilon=10^{-16}$. As $h$ initially decreases, the first term declines, cause the total error to go down. As $h$ gets below a certain point the second term begins to grow. "
   ]
  },
  {
   "cell_type": "markdown",
   "metadata": {
    "id": "ML4AbQv-yQwp"
   },
   "source": [
    "## Exercises\n",
    "\n",
    "1. Perform the same error experiment for \n",
    "\n",
    "$$f(x+h)-f(x-h)\\over 2h.$$\n",
    "\n",
    "2. Perform the same error experiment for \n",
    "\n",
    "$$f(x+h)-2f(x)+f(x-h)\\over h^2$$\n",
    "\n",
    "3. One can find the optimal $h$ to minimize error by finding the minimimum of $e=e(h)$. Let $c=1$ and find which $h$ minimizes error."
   ]
  }
 ],
 "metadata": {
  "colab": {
   "authorship_tag": "ABX9TyOwYBIVxzXlFFdRc1IEHB2i",
   "collapsed_sections": [],
   "include_colab_link": true,
   "provenance": []
  },
  "kernelspec": {
   "display_name": "Python 3 (ipykernel)",
   "language": "python",
   "name": "python3"
  },
  "language_info": {
   "codemirror_mode": {
    "name": "ipython",
    "version": 3
   },
   "file_extension": ".py",
   "mimetype": "text/x-python",
   "name": "python",
   "nbconvert_exporter": "python",
   "pygments_lexer": "ipython3",
   "version": "3.8.5"
  }
 },
 "nbformat": 4,
 "nbformat_minor": 4
}
