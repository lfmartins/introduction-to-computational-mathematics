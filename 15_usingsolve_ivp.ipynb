{
  "cells": [
    {
      "cell_type": "markdown",
      "metadata": {
        "id": "view-in-github",
        "colab_type": "text"
      },
      "source": [
        "<a href=\"https://colab.research.google.com/github/lfmartins/introduction-to-computational-mathematics/blob/main/15_usingsolve_ivp.ipynb\" target=\"_parent\"><img src=\"https://colab.research.google.com/assets/colab-badge.svg\" alt=\"Open In Colab\"/></a>"
      ]
    },
    {
      "cell_type": "markdown",
      "metadata": {
        "id": "dZFeYq2uSS5s"
      },
      "source": [
        "# Using `solve_ivp`\n",
        "\n",
        "Lesson Objectives:\n",
        "- Learning how to use SciPy ODE Solvers in Jupyter Notebooks\n",
        "____"
      ]
    },
    {
      "cell_type": "markdown",
      "metadata": {
        "id": "2UnP3KPjSS5u"
      },
      "source": [
        "Today's goal is to learn how to use integrated ODE Solvers in Jupyter Notebooks. These ODE solvers are similar to those used many times in Matlab.\n",
        "\n",
        "All information relating to this lesson can be found in https://docs.scipy.org/doc/scipy/reference/generated/scipy.integrate.solve_ivp.html .\n",
        "\n",
        "There are a few reasons for choosing integrated solvers. Many times, there is error tolerance control via adaptive time stepping. Other times they are coded in such a way to decrease the computing time associated withe solving the ODE. \n",
        "\n",
        "At its core, the `solve_ivp` function is used to generate a numerical solution to an initial value problem (IVP)\n",
        "\n",
        "$$\\frac{dy}{dt}=f(t,y),\\qquad y(t_{0})=y_{0}$$\n",
        "\n",
        "___"
      ]
    },
    {
      "cell_type": "markdown",
      "metadata": {
        "id": "ulCS38D5SS5v"
      },
      "source": [
        "To solve an ODE in Jupyter with a library, you need to use a function from the SciPy library, known as `scipy.integrate.solve_ivp`. Examining the inputs of `solve_ivp`:\n",
        "\n",
        "`solve_ivp(fun, t_span, y0, method='RK45', t_eval=None, dense_output=False, events=None, vectorized=False, args=None, **options)`\n",
        "\n",
        "`fun`: the right-hand side of our ODE\n",
        "\n",
        "`t_span`: the interval of your ODE\n",
        "\n",
        "`y0`: the initial value (this can be a vector)\n",
        "\n",
        "`method`: the numerical ODE method you are using, default is RK45 (we'll talk more about this)\n",
        "\n",
        "`t_eval`: the time points that are stored in the computed solution. They must fall within the range of `t_span`. If nothing is set, then the points will be chosen by the solver\n",
        "\n",
        "`dense_output`: when the resulting solutions has many points to output, it may be useful to store as an interpolating polynomial\n",
        "\n",
        "`events`: (don't worry about this at the moment)\n",
        "\n",
        "`vectorized` : if the right hand side is vectorized, this should be set to True. Default is False.\n",
        "\n",
        "`options`: options associated with the ODE solver (we'll discuss this more)\n",
        "\n",
        "\n",
        "____"
      ]
    },
    {
      "cell_type": "markdown",
      "metadata": {
        "id": "39NDqCX1SS5w"
      },
      "source": [
        "The possible numerical ODE methods listed under `methods` are as follows:\n",
        "\n",
        "`RK45`: Explicit RK method of order 5 (globally 4). This should be the first option.\n",
        "\n",
        "`RK23`: Explicit RK method of order 3 (globally 2)\n",
        "\n",
        "`DOP853`: Explicit RK method of order 8. Use for problems needing high precision.\n",
        "\n",
        "`Radau`: Implicit RK method that is order 5.\n",
        "\n",
        "`BDF`: Implicit multistep method of variable order.\n",
        "\n",
        "`LSODA`: A method that automatically uses an Adams method for non-stiff problems and a BDF method for stiff problems.\n",
        "\n",
        "At first try to run ‘RK45’. If it takes too many iterations, diverges, or fails, your problem is likely to be stiff and you should use ‘Radau’ or ‘BDF’. \n",
        "\n",
        "_____"
      ]
    },
    {
      "cell_type": "markdown",
      "metadata": {
        "id": "YG6ffMOHSS5x"
      },
      "source": [
        "The options listed under `options` are associated with the ODE solver. A few of the more relevant options are the following:\n",
        "\n",
        "`first_step`: the initial step size\n",
        "\n",
        "`max_step`: the max step size\n",
        "\n",
        "`atol,rtol`: solver uses a local error estimate that ensures that the estimate is less than `atol + rtol * abs(y)`, where if the error estimate is above the threshold, a smaller step size is chosen.\n",
        "\n",
        "____"
      ]
    },
    {
      "cell_type": "markdown",
      "metadata": {
        "id": "URg9ys8uSS5x"
      },
      "source": [
        "Let's use this solver for a simple ODE\n",
        "\n",
        "$$y'=-y,\\qquad y(0)=1$$\n",
        "\n",
        "using RK45"
      ]
    },
    {
      "cell_type": "code",
      "execution_count": 48,
      "metadata": {
        "colab": {
          "base_uri": "https://localhost:8080/",
          "height": 283
        },
        "id": "Ib2XGEEiSS5y",
        "outputId": "db686a57-cc37-4dd1-d0f8-a6e405759d35"
      },
      "outputs": [
        {
          "output_type": "execute_result",
          "data": {
            "text/plain": [
              "[<matplotlib.lines.Line2D at 0x7f80187fcb90>]"
            ]
          },
          "metadata": {},
          "execution_count": 48
        },
        {
          "output_type": "display_data",
          "data": {
            "text/plain": [
              "<Figure size 432x288 with 1 Axes>"
            ],
            "image/png": "[encoded data removed]"
          },
          "metadata": {
            "needs_background": "light"
          }
        }
      ],
      "source": [
        "from scipy.integrate import solve_ivp\n",
        "import matplotlib.pyplot as plt\n",
        "import numpy as np\n",
        "def fun1(t,y):\n",
        "    f=-1*y\n",
        "    return f\n",
        "\n",
        "sol=solve_ivp(fun1,[0,10],[1])\n",
        "# print(sol)\n",
        "# print(sol.t)\n",
        "# print(sol.y)\n",
        "plt.plot(sol.t,sol.y[0,:],'-vb')"
      ]
    },
    {
      "cell_type": "markdown",
      "metadata": {
        "id": "jzo2CpEFSS5z"
      },
      "source": [
        "Let's say we want more time points. Then we need to include `t_eval` in our solver (and also specify `RK45` as our method)"
      ]
    },
    {
      "cell_type": "code",
      "execution_count": 49,
      "metadata": {
        "colab": {
          "base_uri": "https://localhost:8080/",
          "height": 283
        },
        "id": "Ixy6nHLTSS50",
        "outputId": "134de908-7841-4865-b8cc-45f5b90b7b7b"
      },
      "outputs": [
        {
          "output_type": "execute_result",
          "data": {
            "text/plain": [
              "[<matplotlib.lines.Line2D at 0x7f8018b9d050>]"
            ]
          },
          "metadata": {},
          "execution_count": 49
        },
        {
          "output_type": "display_data",
          "data": {
            "text/plain": [
              "<Figure size 432x288 with 1 Axes>"
            ],
            "image/png": "[encoded data removed]"
          },
          "metadata": {
            "needs_background": "light"
          }
        }
      ],
      "source": [
        "teval=np.linspace(0,10,101)\n",
        "sol=solve_ivp(fun1,[0,10],[1],'RK45',teval)\n",
        "# print(sol)\n",
        "plt.plot(sol.t,sol.y[0,:],'-vb')"
      ]
    },
    {
      "cell_type": "markdown",
      "metadata": {
        "id": "5At0TeWHSS51"
      },
      "source": [
        "If we want to run our ODE solver with multiple initial values, then we can do so with our initial conditions"
      ]
    },
    {
      "cell_type": "code",
      "execution_count": null,
      "metadata": {
        "id": "A8c9_ndOSS51"
      },
      "outputs": [],
      "source": [
        "\n",
        "y0=[10,1,.1]\n",
        "print(y0)\n",
        "sol=solve_ivp(fun1,[0,10],y0,'RK45',teval)\n",
        "# print(sol.y)\n",
        "# plt.plot(sol.t,sol.y[0,:],sol.t,sol.y[1,:],sol.t,sol.y[2,:])"
      ]
    },
    {
      "cell_type": "markdown",
      "metadata": {
        "id": "QtbtepZCSS52"
      },
      "source": [
        "We can also set our error tolerances to different levels and our ODE solver will take an appropriate step size. Here we play with `rtol`:"
      ]
    },
    {
      "cell_type": "code",
      "execution_count": null,
      "metadata": {
        "id": "Qw6fTDiiSS52"
      },
      "outputs": [],
      "source": [
        "sol1=solve_ivp(fun1,[0,10],[1],'RK45',atol=.1)\n",
        "# print(sol1.y)\n",
        "sol2=solve_ivp(fun1,[0,10],[1],'RK45',atol=.01)\n",
        "# print(sol2.y)\n",
        "sol3=solve_ivp(fun1,[0,10],[1],'RK45',atol=1e-8)\n",
        "# print(sol3.y)\n",
        "# plt.plot(sol1.t,sol1.y[0,:],sol2.t,sol2.y[0,:],sol3.t,sol3.y[0,:])"
      ]
    },
    {
      "cell_type": "markdown",
      "source": [
        "### Exercises\n",
        "\n",
        "We're going to revisit the previous exercises using `solve_ivp`. For these solutions, use the default `RK45` and the relative tolerance set to $10^{-4}$. Vary the relative tolerance and see how the solutions change.\n",
        "\n",
        "1. Adjust ``fun`` for the function $f(t,y)=y-t^2+1$ and use Forward Euler code to find the approximation for the interval $[0,2]$ with $y(0)=0.5$. Compare the approximation with the solution $y=(t+1)^2-0.5e^t$.\n",
        "\n",
        "2. Adjust ``fun`` for the function $f(t,y)=1+y/t$ and use Forward Euler code to find the approximation for the interval $[1,2]$ with $y(1)=2$. \n",
        "Compare the approximation with the solution $y=2t+t\\log(t)$.\n",
        "\n",
        "3. Adjust ``fun`` for the function $f(t,y)=\\cos(2t)+\\sin(2t)$ and use Forward Euler to find the approximation for the interval $[0,1]$ with $y(0)=1$. Compare the approximation with the solution $y=\\frac{1}{2}\\sin(2t)-\\frac{1}{3}\\cos(3t)+4/3$."
      ],
      "metadata": {
        "id": "pzxupyF_uozT"
      }
    },
    {
      "cell_type": "markdown",
      "metadata": {
        "id": "EG2NpOIHSS52"
      },
      "source": [
        "# Systems of ODEs\n",
        "Let's investigate how to approach systems of ODEs. \n",
        "\n",
        "One of the most famous ODEs is the Lotka-Volterra model for Predator-Prey interactions. They were developed in the 1920s in parallel by two mathematicians, Alfred Lotka (USA) and Vito Volterra (Italy).\n",
        "\n",
        "Let $X$ represent the population of prey. Prey grow exponentially when left to their own devices (assuming infinite carrying capacity in the environment), so $X'=a X$.\n",
        "\n",
        "If there are predators present, whose population is represented by $Y$, then the predators cause the prey decline at a rate that is jointly proportional to the population of predators and prey. If no few predators are present, then they cause less of a decline to the prey population. One of our equations becomes \n",
        "$$X'= a X - b XY$$\n",
        "\n",
        "The predators grow at a rate that is also jointly proportional to the number of predators and prey, so $Y'=c XY$. Predators compete with each other, so the more predators present, the more a population declines. Our predator equation then becomes\n",
        "$$Y'=c XY - d Y$$\n",
        "\n",
        "Our set of equations are then\n",
        "\n",
        "$$X'=aX-b XY,\\qquad X(0)=X_0$$\n",
        "$$Y'=c XY - dY,\\qquad Y(0)=Y_0$$\n",
        "\n",
        "Let's explore how to model this with our solver. Note we use two variables, `x,y` stored in a vector `z`. Setting up the function:\n"
      ]
    },
    {
      "cell_type": "code",
      "execution_count": null,
      "metadata": {
        "id": "g9Kh5ZPjSS52"
      },
      "outputs": [],
      "source": [
        "def LVEqn(t,Z):\n",
        "    a=1.5\n",
        "    b=1\n",
        "    c=.1\n",
        "    d=1\n",
        "    x,y=Z\n",
        "    f1=a*x-b*x*y\n",
        "    f2=c*x*y-d*y\n",
        "    return [f1,f2]"
      ]
    },
    {
      "cell_type": "markdown",
      "metadata": {
        "id": "DqOS_E5bSS52"
      },
      "source": [
        "Note that our solver uses multiple arguments in the right hand side."
      ]
    },
    {
      "cell_type": "code",
      "execution_count": 39,
      "metadata": {
        "colab": {
          "base_uri": "https://localhost:8080/",
          "height": 283
        },
        "id": "y9r8TvmJSS52",
        "outputId": "a8ccb8f3-972a-4125-efdf-ad122a59415a"
      },
      "outputs": [
        {
          "output_type": "stream",
          "name": "stdout",
          "text": [
            "42.35056550806467\n"
          ]
        },
        {
          "output_type": "display_data",
          "data": {
            "text/plain": [
              "<Figure size 432x288 with 1 Axes>"
            ],
            "image/png": "[encoded data removed]"
          },
          "metadata": {
            "needs_background": "light"
          }
        }
      ],
      "source": [
        "teval=np.linspace(0,50,1000)\n",
        "sol = solve_ivp(LVEqn, [0, 50], [10, 5],'RK45',teval,atol=1e-3)\n",
        "\n",
        "plt.plot(sol.t,sol.y[0,:],sol.t,sol.y[1,:])\n",
        "plt.legend(['X: Prey','Y: Predator'])\n",
        "\n",
        "print(np.max(sol.y[0,:]))"
      ]
    },
    {
      "cell_type": "code",
      "execution_count": null,
      "metadata": {
        "id": "i_PM6twHSS53"
      },
      "outputs": [],
      "source": []
    },
    {
      "cell_type": "markdown",
      "metadata": {
        "id": "_oICX_DLSS53"
      },
      "source": [
        "Notice that some of our solutions don't seem that smooth. One reason for this is that the ODE is stiff (rapid changes occur) and can lead to stability issues with our solution. \n",
        "\n",
        "Certain solvers have been formulated to deal with these issues. Try `LSODA`."
      ]
    },
    {
      "cell_type": "code",
      "execution_count": null,
      "metadata": {
        "id": "PIjXCDmQSS53"
      },
      "outputs": [],
      "source": [
        "sol = solve_ivp(LVEqn, [0, 50], [10, 5],'LSODA',atol=1e-6)\n",
        "\n",
        "plt.plot(sol.t,sol.y[0,:],sol.t,sol.y[1,:])\n",
        "plt.legend(['X: Prey','Y: Predator'])"
      ]
    },
    {
      "cell_type": "markdown",
      "metadata": {
        "id": "Kqa31g8lSS53"
      },
      "source": [
        "Before continuing try playing around with parameters of the equation. Note how the solution changes. We can also play around with a phase plot with respect to $X$ and $Y$."
      ]
    },
    {
      "cell_type": "code",
      "execution_count": null,
      "metadata": {
        "id": "62z7E2bsSS53"
      },
      "outputs": [],
      "source": [
        "plt.plot(sol.y[0,:],sol.y[1,:])\n",
        "plt.xlabel('X Prey')\n",
        "plt.ylabel('Y Predator')\n"
      ]
    },
    {
      "cell_type": "markdown",
      "metadata": {
        "id": "X3UvwGGMSS53"
      },
      "source": [
        "For comparison, here is an image of hare and lynx populations (counted by the number of furs collected by the Hudson Bay Company) over time:"
      ]
    },
    {
      "cell_type": "code",
      "execution_count": null,
      "metadata": {
        "id": "nNomdGx6SS53"
      },
      "outputs": [],
      "source": [
        "from IPython.display import Image\n",
        "Image(filename='hare_lynx_population.jpg') "
      ]
    },
    {
      "cell_type": "markdown",
      "source": [
        "### Exercises \n",
        "1. The following systems of ODEs, formulated by Lorenz, represent a crude model of atmospheric circulation:\n",
        "$$x'=\\sigma(y-x)$$\n",
        "$$y'=rx-y-x z$$\n",
        "$$z'=x y - b z$$\n",
        "where $x$ is proportional to the rate of convection, $y$ to the horizontal temperature variation, and z to the vertical temperature variation. Taking $\\sigma=10$, $b=8/3$, $r=28$ and initial values $x(0)=z(0)=0$ and $y(0)=1$. Integrate the ODE from $t=0$ to $t=100$. Plot $x$, $y$, and $z$ with respect to $t$ on one graph. Use RK45 and set `rtol=1e-7`.\n",
        "\n",
        "2. Plot three additional graphs of the trajectories $(x,y)$, $(x,z)$, and $(y,z)$. Perturb the initial values by a tiny amount and see how much difference this makes in the solution at $t=100$.\n",
        "\n",
        "2. Use matplotlib to plot $x$, $y$, and $z$ on the same graph. Adjust the following snippet of code that plots a graph in 3D.\n"
      ],
      "metadata": {
        "id": "QWG-PKXbWxT_"
      }
    },
    {
      "cell_type": "code",
      "source": [
        "import numpy as np\n",
        "import matplotlib.pyplot as plt\n",
        "%matplotlib inline\n",
        "fig = plt.figure()\n",
        "ax = plt.axes(projection='3d')\n",
        "\n",
        "# Data for a three-dimensional line\n",
        "zline = np.linspace(0, 15, 1000)\n",
        "xline = np.sin(zline)\n",
        "yline = np.cos(zline)\n",
        "ax.plot3D(xline, yline, zline)"
      ],
      "metadata": {
        "id": "_aDGhL1cX_6O"
      },
      "execution_count": null,
      "outputs": []
    },
    {
      "cell_type": "markdown",
      "metadata": {
        "id": "17F8o_aiSS53"
      },
      "source": [
        "____\n",
        "### Stiff Problems\n",
        "\n",
        "Many times when talking about stability of our methods, we talk about the stiffness of a system of equations. The formal definition of stiffness is a bit vague but generally the idea is asking how small of a timestep do we need to take to have a stable numerical solution.\n",
        "\n",
        "For instance\n",
        "\n",
        "$$y'= -y,\\qquad t\\in[a,b]$$\n",
        "\n",
        "is a simple ODE that can give solutions that are not converging to the correct answer if the tolerances are set too high.\n"
      ]
    },
    {
      "cell_type": "code",
      "source": [
        "from scipy.integrate import solve_ivp\n",
        "import matplotlib.pyplot as plt\n",
        "import numpy as np\n",
        "def fun1(t,y):\n",
        "    f=-1*y\n",
        "    return f\n",
        "\n",
        "sol0=solve_ivp(fun1,[0,10],[1],rtol=.01)\n",
        "sol1=solve_ivp(fun1,[0,10],[1],rtol=.1)\n",
        "sol2=solve_ivp(fun1,[0,10],[1],rtol=1)\n",
        "sol3=solve_ivp(fun1,[0,10],[1],rtol=2)\n",
        "\n",
        "plt.plot(sol0.t,sol0.y[0,:],sol1.t,sol1.y[0,:],sol2.t,sol2.y[0,:],sol3.t,sol3.y[0,:])"
      ],
      "metadata": {
        "colab": {
          "base_uri": "https://localhost:8080/",
          "height": 336
        },
        "id": "Imo7QCG8shgi",
        "outputId": "b1dd47ba-95c5-4b11-ac72-7998773624c0"
      },
      "execution_count": 59,
      "outputs": [
        {
          "output_type": "execute_result",
          "data": {
            "text/plain": [
              "[<matplotlib.lines.Line2D at 0x7f80190832d0>,\n",
              " <matplotlib.lines.Line2D at 0x7f8018386d50>,\n",
              " <matplotlib.lines.Line2D at 0x7f8018386f10>,\n",
              " <matplotlib.lines.Line2D at 0x7f8018391110>]"
            ]
          },
          "metadata": {},
          "execution_count": 59
        },
        {
          "output_type": "display_data",
          "data": {
            "text/plain": [
              "<Figure size 432x288 with 1 Axes>"
            ],
            "image/png": "[encoded data removed]"
          },
          "metadata": {
            "needs_background": "light"
          }
        }
      ]
    },
    {
      "cell_type": "markdown",
      "source": [
        "Generally, there is a rule that\n",
        "\n",
        "$$y'=\\lambda y,\\qquad t\\in[t_0,t_N]$$\n",
        "\n",
        "required a small time step for Forward Euler generally if $(t_N-t_0)Re(\\lambda)<<-1$. \n",
        "\n",
        "This is due to the rapid decay of the system. \n",
        "\n",
        "For systems\n",
        "$$\\mathbf{y}'=\\mathbf{f}(\\mathbf{y},t)$$\n",
        "we can perform a similar analysis if we examine the Jacobian of the the system\n",
        "$$J=\\frac{\\partial \\mathbf{f}_i}{\\partial \\mathbf{y}_j}=\\begin{bmatrix} {\\partial f_1\\over\\partial y_{1}} & {\\partial f_1\\over\\partial y_{2}}\\\\\n",
        "{\\partial f_2\\over\\partial y_{1}} & {\\partial f_2\\over\\partial y_{2}}\n",
        "\\end{bmatrix}$$\n",
        "where $i$ stands for the row of the Jacobian and $j$ stands for the column of the Jacobian. We can make the argument that a system is stiff if\n",
        "\n",
        "$(t_N-t_0)\\min_{j}(Re(\\lambda_{j}))<<-1$\n",
        "\n",
        "where $\\lambda_{j}$ is an eigenvalue of the Jacobian. This can be found using eigen solve present in `numpy`.\n"
      ],
      "metadata": {
        "id": "_8Zkc86ash-r"
      }
    },
    {
      "cell_type": "code",
      "execution_count": null,
      "metadata": {
        "id": "_Gt3hoKkSS54"
      },
      "outputs": [],
      "source": []
    },
    {
      "cell_type": "markdown",
      "source": [
        "### Example \n",
        "Let's check out the stiffness of the Lotka Volterra equations. Our first step is to calculate the Jacobian of the system.\n",
        "\n",
        "We're going to first rewrite our variables $X$ and $Y$ as $y_1$ and $y_2$ to correspond to how we wrote out our stiff formulation\n",
        "\n",
        "$$y_1'=ay_1-b y_1 y_2=f_1(t,y_1,y_2),\\qquad y_1(0)=y_{1,0}$$\n",
        "$$y_2'=c y_1 y_2 - dy_2=f_2(t,y_1,y_2),\\qquad y_2(0)=y_{2,0}$$\n",
        "\n",
        "where $a=1.5$, $b=1$, $c=0.1$, and $d=1$. Now let's take a partial derivative of $f_1$ and $f_2$ (i.e. take a derivative with respect to only the variable in the numerator of ${df_i\\over dy_j}$ and treat all other variables as constants.\n",
        "\n",
        "$${\\partial f_1\\over \\partial y_1}=a-b y_2$$\n",
        "$${\\partial f_1\\over \\partial y_2}=-b y_1$$\n",
        "$${\\partial f_2\\over \\partial y_1}=c y_2$$\n",
        "$${\\partial f_2\\over \\partial y_2}=c y_1-d$$\n",
        "\n",
        "So our Jacobian is\n",
        "\n",
        "$$J=\\begin{bmatrix} {\\partial f_1\\over\\partial y_{1}} & {\\partial f_1\\over\\partial y_{2}}\\\\\n",
        "{\\partial f_2\\over\\partial y_{1}} & {\\partial f_2\\over\\partial y_{2}}\n",
        "\\end{bmatrix}=\\begin{bmatrix} a-b y_2 & -b y_1\\\\\n",
        "cy_2 & cy_1-d\n",
        "\\end{bmatrix}$$\n",
        "\n",
        "plugging in the given values of $a,$ $b,$ $c,$ and $d$, and choosing $y_1=40$ and $y_2=.1$ to correspond roughly to the solution during a period where a lot of changes are occurring (i.e. when either the prey populations are very high and the predator population is very low). This value was taken from looking the previous solution.\n",
        "\n"
      ],
      "metadata": {
        "id": "trrV_Mzne2-c"
      }
    },
    {
      "cell_type": "code",
      "source": [
        "import numpy as np\n",
        "from numpy.linalg import eig\n",
        "\n",
        "y1=40\n",
        "y2=.1\n",
        "\n",
        "a=1.5\n",
        "b=1.\n",
        "c=0.1\n",
        "d=1.\n",
        "\n",
        "J = np.array([[a-b*y1, -b*y1], \n",
        "              [c*y2, c*y1-d]])\n",
        "w,v=eig(J)\n",
        "print('eigenvalue:', w)\n",
        "print('eigenvector', v)\n",
        "\n",
        "print(min(w))"
      ],
      "metadata": {
        "colab": {
          "base_uri": "https://localhost:8080/"
        },
        "id": "GxfRlznvoytF",
        "outputId": "5c40a828-a5e0-428c-ad80-976016fb021f"
      },
      "execution_count": 52,
      "outputs": [
        {
          "output_type": "stream",
          "name": "stdout",
          "text": [
            "eigenvalue: [-38.49035921   2.99035921]\n",
            "eigenvector [[-9.99999971e-01  6.94058597e-01]\n",
            " [ 2.41019839e-04 -7.19918512e-01]]\n",
            "-38.49035920614684\n"
          ]
        }
      ]
    },
    {
      "cell_type": "markdown",
      "source": [
        "### Exercise\n",
        "\n",
        "1. Play around with different values of $y_1$ and $y_2$. use the previous numerical solutions to guide. Find a point in time when the system is not stiff and a point in time when it is stiff (this time with predators having large population and prey being much smaller)."
      ],
      "metadata": {
        "id": "fMgfZYotptMF"
      }
    },
    {
      "cell_type": "code",
      "source": [],
      "metadata": {
        "id": "0YiDs1AWWyC0"
      },
      "execution_count": null,
      "outputs": []
    }
  ],
  "metadata": {
    "kernelspec": {
      "display_name": "Python 3 (ipykernel)",
      "language": "python",
      "name": "python3"
    },
    "language_info": {
      "codemirror_mode": {
        "name": "ipython",
        "version": 3
      },
      "file_extension": ".py",
      "mimetype": "text/x-python",
      "name": "python",
      "nbconvert_exporter": "python",
      "pygments_lexer": "ipython3",
      "version": "3.9.12"
    },
    "colab": {
      "provenance": [],
      "collapsed_sections": [],
      "include_colab_link": true
    }
  },
  "nbformat": 4,
  "nbformat_minor": 0
}