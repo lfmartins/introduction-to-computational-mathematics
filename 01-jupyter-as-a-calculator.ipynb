{
 "cells": [
  {
   "cell_type": "markdown",
   "metadata": {
    "tags": []
   },
   "source": [
    "[![Open In Colab](https://colab.research.google.com/assets/colab-badge.svg)](https://colab.research.google.com/github/lfmartins/introduction-to-computational-mathematics/blob/main/python-tutorial/01-jupyter-as-a-calculator.ipynb.ipynb)\n",
    "# Introduction\n",
    "In this tutorial, we cover the basics of Python programming in Jupyter. Jupyter and Python, together with special purpose libraries, provide a powerful platform for scientific computing, data analysis and machine learning. Computations in a Jupyter notebook can be easily shared, and colaboration can be as simple as emailing a text file or using a repository such as github. \n",
    "\n",
    "We recommend use of [Google Colab](https://colab.research.google.com/), which provides both execution and sharing of Jupyter notebooks. To open this notebook in Google colab, simply click the link above.\n",
    "\n",
    "No previous knowledge of computer programming is assumed in this course. We encourage students students to learn by experimenting with code in the notebook. In our opinion, this is the most efficient way to learnn a new programming language, or being exposed to computer programming for the first time.\n",
    "\n"
   ]
  },
  {
   "cell_type": "markdown",
   "metadata": {
    "tags": []
   },
   "source": [
    "# Using Jupyter as a calculator\n",
    "At the most basic level, Jupyter behaves pretty much like a calculator: the user enters some commands, asks Jupyter to execute them, and receives a result. All computations are done in a _computation cell_, which looks like the following:"
   ]
  },
  {
   "cell_type": "code",
   "execution_count": null,
   "metadata": {},
   "outputs": [],
   "source": [
    "2 + 3"
   ]
  },
  {
   "cell_type": "markdown",
   "metadata": {},
   "source": [
    "To evaluate the contents of the cell do one of the following:\n",
    "\n",
    "- Click on the cell and press __Shift+Enter__, that is, simultaneously press the __Shift__ and __Enter__ keys on the keyboard.)\n",
    "- In Google Colab, hover over the cell and click the _run cell_ icon to the left.\n",
    "- If running the notebook locally, click the play button on the notebook toolbar or use the Jupyter menu\n",
    "\n",
    "Go ahead an try executing the cell above, using any of the methods outlined above.\n",
    "\n",
    "The mathematical operations are represented by the following symbols:\n",
    "\n",
    "- `+`: addition\n",
    "- `-`: subtraction or \"unary minus\"\n",
    "- `*`: multiplication\n",
    "- `/`: division\n",
    "- `//`: integer division\n",
    "- `**`: exponentiation (powers)\n",
    "- `%`: remainder\n",
    "\n",
    "The following cells show some examples:\n",
    "\n",
    "(You should press __Shift+Enter__ on each cell to evaluate it.)"
   ]
  },
  {
   "cell_type": "code",
   "execution_count": null,
   "metadata": {},
   "outputs": [],
   "source": [
    "2 + 4 * 3"
   ]
  },
  {
   "cell_type": "markdown",
   "metadata": {},
   "source": [
    "To edit a code cell, either click on the cell or use the arrow keys to move to the cell and then press __Enter__. Try this now: edit the cell above to change the expression and then execute the modified code."
   ]
  },
  {
   "cell_type": "markdown",
   "metadata": {},
   "source": [
    "The usual rules of precedence apply. Operations are evaluated in the following order:\n",
    "   1. powers\n",
    "   2. multiplication and division\n",
    "   3. addition and subtraction\n",
    "\n",
    "This order can be altered with the use of parenthesis as shown in the cell below:"
   ]
  },
  {
   "cell_type": "code",
   "execution_count": null,
   "metadata": {},
   "outputs": [],
   "source": [
    "(2 + 4) * 3"
   ]
  },
  {
   "cell_type": "markdown",
   "metadata": {},
   "source": [
    "Notice that it is common practice to leave spaces around binary mathematical operators. This is not required, but is recommended by the Python style conventions."
   ]
  },
  {
   "cell_type": "markdown",
   "metadata": {},
   "source": [
    "Python has two division operators. A single slash `/` denotes _floating point division_. This is the kind that is most common in computational mathematics, and is illustrated in the next computations:"
   ]
  },
  {
   "cell_type": "code",
   "execution_count": null,
   "metadata": {},
   "outputs": [],
   "source": [
    "18.2 / 3.4"
   ]
  },
  {
   "cell_type": "code",
   "execution_count": null,
   "metadata": {},
   "outputs": [],
   "source": [
    "100 / 3"
   ]
  },
  {
   "cell_type": "code",
   "execution_count": null,
   "metadata": {},
   "outputs": [],
   "source": [
    "100 / 2"
   ]
  },
  {
   "cell_type": "markdown",
   "metadata": {},
   "source": [
    "Every object in Python has a _type_. Two of the most used types are `int` (representing integers) and `float` (representing real numbers). Let's consider the first example above:\n",
    "    \n",
    "    18.2 / 3.4\n",
    "\n",
    "We are asking Python to divide two floating point numbers (indicated by the presence of a decimal point). The result is, naturally, a `float`.\n",
    "\n",
    "Now consider the second example:\n",
    "\n",
    "    100 / 3\n",
    "\n",
    "Here, we want to divide two integer numbers. Notice, however, that the result is still a `float`, since 100 cannot be exactly divided by 3. That is, the single slash operator `/` _always returns a floating point number_.\n",
    "\n",
    "The third example illustrates that:\n",
    "\n",
    "    100 / 2\n",
    "    \n",
    "Even though the division in this case is exact, _Python still returns the result as a float_. This can be seen by the decimal point in 50.0.\n",
    "\n",
    "In some situations, we want only the integer part of the division. This is computed by the _double slash operator_ `//`, as illustrated in the examples below:"
   ]
  },
  {
   "cell_type": "code",
   "execution_count": null,
   "metadata": {},
   "outputs": [],
   "source": [
    "18.2 // 3.4"
   ]
  },
  {
   "cell_type": "code",
   "execution_count": null,
   "metadata": {},
   "outputs": [],
   "source": [
    "100 // 3"
   ]
  },
  {
   "cell_type": "code",
   "execution_count": null,
   "metadata": {},
   "outputs": [],
   "source": [
    "100 // 2"
   ]
  },
  {
   "cell_type": "markdown",
   "metadata": {},
   "source": [
    "The _power_ or _exponentiation_ operator is represented by a double asterisk `**`, as shown in the next computation cell:"
   ]
  },
  {
   "cell_type": "code",
   "execution_count": null,
   "metadata": {},
   "outputs": [],
   "source": [
    "2 ** 100"
   ]
  },
  {
   "cell_type": "markdown",
   "metadata": {},
   "source": [
    "This last point is often forgotten, since most mathematics software use a caret `^` for powers. However, in Python, this is a different operation (`xor`):"
   ]
  },
  {
   "cell_type": "code",
   "execution_count": null,
   "metadata": {},
   "outputs": [],
   "source": [
    "12 ^ 2"
   ]
  },
  {
   "cell_type": "code",
   "execution_count": null,
   "metadata": {},
   "outputs": [],
   "source": [
    "12 ** 2"
   ]
  },
  {
   "cell_type": "markdown",
   "metadata": {},
   "source": [
    "As a rule of thumb, in numerical computations, we want to use `**`, not `^`."
   ]
  },
  {
   "cell_type": "markdown",
   "metadata": {},
   "source": [
    "# The Jupyter interface\n",
    "\n",
    "Jupyter notebooks have a powerful and flexible interface. We have already seen how to enter code in a cell and execute it. In this section we will explore other features of the interface.\n",
    "\n",
    "The first important concept to be learned is that Jupyter notebooks can be in two modes:\n",
    "\n",
    "- _Edit mode_: use this mode to edit the contents of a cell.\n",
    "- _Command mode_: use this mode to modify the structure of the notebook.\n",
    "\n",
    "It is important to know how to go from one mode to the other. Read the instructions below and practice with the three cells below:\n",
    "\n",
    "1. Click on the first cell. This will place Jupyter in edit mode, and you can enter an expression and evaluate it (try it!). Notice that after evaluation the cursor is moved to the next cell, but you are now in command mode!\n",
    "2. To go into edit mode, you can either press __Enter__ or click on the second cell. Try either of these, enter an expression in the cell _but do not execute it_.\n",
    "3. Press __Esc__. This will bring you command mode.\n",
    "4. Using the arrow keys, you can move to other cells, but stay in command mode.\n",
    "\n",
    "Practice with the cells below as much as needed to understand how to move between edit and command mode."
   ]
  },
  {
   "cell_type": "code",
   "execution_count": null,
   "metadata": {},
   "outputs": [],
   "source": []
  },
  {
   "cell_type": "code",
   "execution_count": null,
   "metadata": {},
   "outputs": [],
   "source": []
  },
  {
   "cell_type": "code",
   "execution_count": null,
   "metadata": {},
   "outputs": [],
   "source": []
  },
  {
   "cell_type": "markdown",
   "metadata": {},
   "source": [
    "Summarizing: \n",
    "\n",
    "- To enter edit mode, either click on a cell or press __Enter__.\n",
    "- To enter command mode, press __Esc__\n",
    "\n",
    "Let's now see how to add cells. There are different ways to do this, depending on the interface you are using.\n",
    "\n",
    "- Go to a cell and make sure you are in command mode (press __Esc__ if necessary). Then, press either `a` or `b` to add a cell above or below the current cell, respectively.\n",
    "- In Google Colab, hover the mouse between two cells, and a pop-up will appear. Bu clicking the __+ Code__ button you can add a code cell.\n",
    "\n",
    "Try this with the cell below:"
   ]
  },
  {
   "cell_type": "code",
   "execution_count": null,
   "metadata": {},
   "outputs": [],
   "source": []
  },
  {
   "cell_type": "markdown",
   "metadata": {},
   "source": [
    "The procedure to delete a cell depends on the interface you are using.\n",
    "\n",
    "- In Google Colab, hover the mouse over the cell and notice the popup at the right. Click on the trash can symbol to delete the cell.\n",
    "- In a local Jupyter notebook, click on the cell, press __Esc__ to go in command mode, and press the `d` key twice.\n",
    "- Alternatively, use the _Edit_ menu in either interface.\n",
    "\n",
    "Practice deleting cells with the cells you added above."
   ]
  },
  {
   "cell_type": "markdown",
   "metadata": {},
   "source": [
    "# Text Cells and Markdown\n",
    "\n",
    "You probably noticed that this notebook intermixes code and text cells. Text cells are a nice way to add commentary to your solutions. To insert a text cell, do one of the following:\n",
    "\n",
    "- In Google Colab, hover between cells until the popup shows, and then click __+ Text__\n",
    "- In a local Jupyter notebook, insert a cell in the desired position and make sure you are in command mode. Then, click `m` on the keyboard.\n",
    "\n",
    "Once you have a text cell, you can click on it and start editing the text. The interface works like a regular text editor, and you can cut, copy and paste text as usual. \n",
    "\n",
    "Try inserting a text cell below this one and adding some text. Once you are done, press __Shift-Enter__ to see the text nicely formatted. Notice that to start a new paragraph you must leave a blank line between two lines of text."
   ]
  },
  {
   "cell_type": "markdown",
   "metadata": {},
   "source": [
    "You can also try the following:\n",
    "\n",
    "- Type \\*\\*bold\\*\\* to enter **bold** text.\n",
    "- Type \\*italics\\* to enter *italics* text.\n",
    "- Type \\`monospace\\` to enter `monospace` text\n",
    "- Start a line with a dash `-` to start a list. Add more items with successive lines starting with `-`.\n",
    "- Start successive lines with `1.`, `2.`, etc. to make a numbered list.\n",
    "\n",
    "Try this on the text cell you created above. After a text cell is created, to edit the cell you must double click on it.\n",
    "\n",
    "It is also possible to include mathematical formulas in text cells. For example, by typing `$\\int_0^1x\\,dx=\\frac{1}{3}$` you get $\\int_0^1x\\,dx=\\frac{1}{3}$.\n",
    "\n",
    "Formulas can also be displayed, by enclosing them in double dollar signs. For example type the code:\n",
    "\n",
    "    $$\\int_{-\\infty}^{\\infty}e^{-x^2}\\,dx=\\sqrt{\\pi}$$\n",
    "    \n",
    "This will produce a formula that is diplayed by itself and centered:\n",
    "$$\\int_{-\\infty}^{\\infty}e^{-x^2}\\,dx=\\sqrt{\\pi}$$\n",
    "\n",
    "Jupyter uses a typesetting system called Latex to handle mathematical expressions. See the link below for more information on Latex."
   ]
  },
  {
   "cell_type": "markdown",
   "metadata": {},
   "source": [
    "## Exercises\n",
    "__1__. Write and evaluate Python expressions that calculate the following. Do each computation in a separate cell.\n",
    "\n",
    "1. Add 3 and 7, and then raise the result to the third power.\n",
    "2. Add 3 to 7 raised to the third power.\n",
    "3. Raise the sum of 2 and 5 to the product of 5 and 13.\n",
    "4. The volume of a cone with height 3 inches and base radius 4.\n",
    "5. How many miles are in 12 kilometers. (One mile is equal to 1.62 kilometers.)\n",
    "6. Use the quadratic formula to find the two solutions of the quadratic equation $2x^2-7x+3=0$. Recall that, to compute a square root, you can raise an expression to the power 1/2. Check that your solutions are correct, by plugging them back into the equation.\n",
    "7. In solving the previous problem, a student attempted to compute a square root using an expression like `12 ** 1/2`. Why is this incorrect? How can it be fixed? (There are two ways to fix it. See if you can find both.)"
   ]
  },
  {
   "cell_type": "code",
   "execution_count": null,
   "metadata": {},
   "outputs": [],
   "source": []
  },
  {
   "cell_type": "markdown",
   "metadata": {},
   "source": [
    "__2__. What happens if you enter an incorrect expression? Try the following expressions, which contain some common mistakes, and try you understand the messages you get. Then, attempt to fix the error. Notice that some, for some of the examples, there are more than one way to fix the expression.\n",
    "\n",
    "1. `2 + * 3`\n",
    "2. `(2+7**2`\n",
    "3. `pi * 3 ^ 2`\n",
    "5. `4 / 0`\n",
    "6. `2 ^ 0.5`\n",
    "7. `(-2) ** 0.5`\n",
    "8. `3 7`"
   ]
  },
  {
   "cell_type": "code",
   "execution_count": null,
   "metadata": {},
   "outputs": [],
   "source": []
  },
  {
   "cell_type": "markdown",
   "metadata": {},
   "source": [
    "__3__. Sometimes, an expression, even if correct, does not produce the expected results. Evaluate the following, and explain the results.\n",
    "\n",
    "1. `3 ** 2 ** 4`\n",
    "2. `3 - - 2`\n",
    "3. `3----+---+-2`\n",
    "3. `4 ** (1 / 2)`"
   ]
  },
  {
   "cell_type": "code",
   "execution_count": null,
   "metadata": {},
   "outputs": [],
   "source": []
  },
  {
   "cell_type": "code",
   "execution_count": null,
   "metadata": {},
   "outputs": [],
   "source": [
    "__4__. "
   ]
  },
  {
   "cell_type": "markdown",
   "metadata": {},
   "source": [
    "# Further information\n",
    "\n",
    "- Python home: <https://python.org>\n",
    "- Python tutorial: <https://docs.python.org/3.9/tutorial>\n",
    "- Jupyter home: <https://jupyter.org>\n",
    "- Google Colab: <https://colab.research.google.com>\n",
    "- Markdown guide: <https://www.markdownguide.org>\n",
    "- Latex: <https://www.latex-project.org>"
   ]
  },
  {
   "cell_type": "markdown",
   "metadata": {},
   "source": [
    "<a rel=\"license\" href=\"http://creativecommons.org/licenses/by-nc-sa/4.0/\"><img alt=\"Creative Commons License\" style=\"border-width:0\" src=\"http://i.creativecommons.org/l/by-nc-sa/4.0/88x31.png\" /></a><br /><span xmlns:dct=\"http://purl.org/dc/terms/\" property=\"dct:title\"><b>Introduction to Computational Mathematics with Python</b></span> by <a xmlns:cc=\"http://creativecommons.org/ns#\" href=\"mailto:l.martins@csuohio.edu\" property=\"cc:attributionName\" rel=\"cc:attributionURL\">L. Felipe Martins</a> and \n",
    "<a xmlns:cc=\"http://creativecommons.org/ns#\" href=\"mailto:a.p.hoover@csuohio.edu\" property=\"cc:attributionName\" rel=\"cc:attributionURL\">L. Alexander P. Hoover</a> and is licensed under a <a rel=\"license\" href=\"http://creativecommons.org/licenses/by-nc-sa/4.0/\">Creative Commons Attribution-NonCommercial-ShareAlike 4.0 International License</a>."
   ]
  },
  {
   "cell_type": "code",
   "execution_count": null,
   "metadata": {},
   "outputs": [],
   "source": []
  },
  {
   "cell_type": "code",
   "execution_count": null,
   "metadata": {},
   "outputs": [],
   "source": []
  }
 ],
 "metadata": {
  "kernelspec": {
   "display_name": "Python 3 (ipykernel)",
   "language": "python",
   "name": "python3"
  },
  "language_info": {
   "codemirror_mode": {
    "name": "ipython",
    "version": 3
   },
   "file_extension": ".py",
   "mimetype": "text/x-python",
   "name": "python",
   "nbconvert_exporter": "python",
   "pygments_lexer": "ipython3",
   "version": "3.8.5"
  }
 },
 "nbformat": 4,
 "nbformat_minor": 4
}
