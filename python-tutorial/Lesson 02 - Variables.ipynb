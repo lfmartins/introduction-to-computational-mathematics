{
 "cells": [
  {
   "cell_type": "markdown",
   "metadata": {},
   "source": [
    "# Lesson 2: Variables\n",
    "\n",
    "When we do some work, we want in general to save the computations we perform, so that they can be used sowhere else. In Python this is done using _variables_. In this lesson, you will learn how to use variables to work more efficiently.\n",
    "\n",
    "## Setting and Retrieving Values\n",
    "\n",
    "A variable, in Python, is represented by a sequence of characters according to the following rules:\n",
    "\n",
    "- The only allowed characters are letters, digits and the underscore `_`.\n",
    "- The first character must be a letter or the underscore `_`.\n",
    "\n",
    "To assign a value to a variable, we use the _assignment operator_ `=`, as in the example below:"
   ]
  },
  {
   "cell_type": "code",
   "execution_count": null,
   "metadata": {},
   "outputs": [],
   "source": [
    "a = 2"
   ]
  },
  {
   "cell_type": "markdown",
   "metadata": {},
   "source": [
    "The cell above, once evaluated, _assigns_ the value 2 to the variable `a`. This means that Python reserves some space in memory, writes the integer 2 in that space, and makes the name `a` refer to that memory location.\n",
    "\n",
    "To retrieve the value of the variable `a`, we simply use its name. Evaluate the cell below:"
   ]
  },
  {
   "cell_type": "code",
   "execution_count": null,
   "metadata": {},
   "outputs": [],
   "source": [
    "a"
   ]
  },
  {
   "cell_type": "markdown",
   "metadata": {},
   "source": [
    "Variables can also be used in expressions. Suppose we want to compute the area and perimeter of a rectangle of height 4 and width 3. We could do the following:"
   ]
  },
  {
   "cell_type": "code",
   "execution_count": null,
   "metadata": {},
   "outputs": [],
   "source": [
    "height = 4\n",
    "width = 3\n",
    "volume = height * width\n",
    "perimeter = 2 * (height + width)"
   ]
  },
  {
   "cell_type": "markdown",
   "metadata": {},
   "source": [
    "Notice that we performed several statements in the same cell. To enter a new line in a cell, simply press `Enter`. As usual, press `Shift+Enter` at the end to evaluate the cell.\n",
    "\n",
    "We assigned the volume and perimeter to variables with the appropriate names. To display the variable values, evaluate each one in a single cell:"
   ]
  },
  {
   "cell_type": "code",
   "execution_count": null,
   "metadata": {},
   "outputs": [],
   "source": [
    "volume"
   ]
  },
  {
   "cell_type": "code",
   "execution_count": null,
   "metadata": {},
   "outputs": [],
   "source": [
    "perimeter"
   ]
  },
  {
   "cell_type": "markdown",
   "metadata": {},
   "source": [
    "As mentioned above, variable names can include digits and the underscore symbol. As an example, suppose we want to compute the area of a ring formed by two concentric circles with radii $r_1=3$ and $r_2=5$. We could store the radii in two variables:"
   ]
  },
  {
   "cell_type": "code",
   "execution_count": null,
   "metadata": {},
   "outputs": [],
   "source": [
    "r1 = 3\n",
    "r2 = 5"
   ]
  },
  {
   "cell_type": "markdown",
   "metadata": {},
   "source": [
    "We also need the value of $\\pi$. We will learn later how to use Python to get the value of $\\pi$, but for now let's just define a new variable:"
   ]
  },
  {
   "cell_type": "code",
   "execution_count": null,
   "metadata": {},
   "outputs": [],
   "source": [
    "pi = 3.14159265"
   ]
  },
  {
   "cell_type": "markdown",
   "metadata": {},
   "source": [
    "Then, the area could be computed as:"
   ]
  },
  {
   "cell_type": "code",
   "execution_count": null,
   "metadata": {},
   "outputs": [],
   "source": [
    "ring_area = pi * (r2 ** 2 - r1 **2)\n",
    "ring_area"
   ]
  },
  {
   "cell_type": "markdown",
   "metadata": {},
   "source": [
    "Notice what we did in the previous example: we first compute the area, and then display it. This is a pretty common idiom in Jupyter.\n",
    "\n",
    "We used the underscore instead of a space, since variable names can't have blanks. The only thing to be carefula about the underscore is that sometimes it has special meaning when it appears at the beginning or ending of a variable name.\n",
    "\n",
    "In fact, we can have even a single underscore as a variable name. IPython uses `_`  to store the result of the last calculation done. Evaluate the following cell:"
   ]
  },
  {
   "cell_type": "code",
   "execution_count": null,
   "metadata": {},
   "outputs": [],
   "source": [
    "_"
   ]
  },
  {
   "cell_type": "markdown",
   "metadata": {},
   "source": [
    "It can be even used in expressions, but you have to be careful if you do that. Evaluate the following cell several times, and observe the results. Can you explain what is happening?"
   ]
  },
  {
   "cell_type": "code",
   "execution_count": null,
   "metadata": {},
   "outputs": [],
   "source": [
    "2 * _"
   ]
  },
  {
   "cell_type": "markdown",
   "metadata": {},
   "source": [
    "Another useful feature is _multiple assignment_, which allows the assignment of several variables simultaneosly. For example:"
   ]
  },
  {
   "cell_type": "code",
   "execution_count": null,
   "metadata": {},
   "outputs": [],
   "source": [
    "a, b, c = 4.0, 5.0, 3.0\n",
    "arithmetic_mean, geometric_mean, harmonic_mean = (a + b + c)/3, (a * b * c) ** (1./3.), (1/a + 1/b + 1/c) ** (-1)\n",
    "arithmetic_mean, geometric_mean, harmonic_mean"
   ]
  },
  {
   "cell_type": "markdown",
   "metadata": {},
   "source": [
    "## The `print()` Function\n",
    "\n",
    "The `print()` function is used to display formatted text, and can print the values of several variables simultaneously.\n",
    "\n",
    "For example, after the computation of the means in the previous example, we could print the result using:"
   ]
  },
  {
   "cell_type": "code",
   "execution_count": null,
   "metadata": {},
   "outputs": [],
   "source": [
    "print( f'The arithmetic mean is: {arithmetic_mean}' )\n",
    "print( f'The geometric mean is: {geometric_mean}' )\n",
    "print( f'The harmonic mean is: {harmonic_mean}' )"
   ]
  },
  {
   "cell_type": "markdown",
   "metadata": {},
   "source": [
    "In the examples above, we use a _formatted string_ to specify how to display the results. As an example, let's look at the string in the first call to ``print()`` in the example above:\n",
    "\n",
    "    f'The arithmetic mean is: {arithmetic_mean}'\n",
    "\n",
    "**Very important**: Notice that the string is preceded by the letter `f`, which identifies a formatted string. \n",
    "\n",
    "To print the value of a variable, we surround the variable name in curly braces:\n",
    "\n",
    "    {arithmetic_mean}\n",
    "    \n",
    "The variable`arithmetic_mean` is then evaluated and its value is inserted in the string, resulting the output:\n",
    "\n",
    "    The arithmetic mean is: 4.0\n",
    "\n",
    "It is possible to print more than one variable in the same call to ``print()``, as shown in the example below:"
   ]
  },
  {
   "cell_type": "code",
   "execution_count": null,
   "metadata": {},
   "outputs": [],
   "source": [
    "print(f'The arithmetic mean is {arithmetic_mean}, and the geometric mean is {geometric_mean}')"
   ]
  },
  {
   "cell_type": "markdown",
   "metadata": {},
   "source": [
    "Notice that there are two placeholders, `{arithmetic_mean}` and `{geometric_mean}`. They are replaced, respectively, by the values of the variables `arithmetic_mean` and `geometric_mean`.\n",
    "\n",
    "In the examples above, floating point values are printed to full precision. Usually, we would like to specify the precision we want for a result. This can be done as follows:"
   ]
  },
  {
   "cell_type": "code",
   "execution_count": null,
   "metadata": {},
   "outputs": [],
   "source": [
    "print(f'The arithmetic mean is {arithmetic_mean:8.6f}, and the geometric mean is {geometric_mean:8.6f}')"
   ]
  },
  {
   "cell_type": "markdown",
   "metadata": {},
   "source": [
    "The format specification in this case is `{%8.7f}`. This means that we want a floating-point format, with a total width of 8 characters, and a decimal part with 6 decimals.\n",
    "\n",
    "There is a rich set of format specifications. Some of them are illustrated below: "
   ]
  },
  {
   "cell_type": "code",
   "execution_count": null,
   "metadata": {},
   "outputs": [],
   "source": [
    "a = 7\n",
    "b = 8.23\n",
    "c = 6.67408E-11\n",
    "print(f'Decimal integer: {a:d}. Floating point: {b:5.3f}. Scientific notation: {c:10.4g}')"
   ]
  },
  {
   "cell_type": "markdown",
   "metadata": {},
   "source": [
    "The `print()` function is also useful to display intermediate results in a computation:"
   ]
  },
  {
   "cell_type": "code",
   "execution_count": null,
   "metadata": {},
   "outputs": [],
   "source": [
    "a, b, c = 2.3, 3.4, 7.2\n",
    "print(f'The values of a, b, c are: {a}, {b}, and {c}'.format(a,b,c))\n",
    "mean = (a + b + c) / 3\n",
    "print(f'The mean of a, b, c is: {mean}')\n",
    "sd = ( ( (a - mean)**2 + (b - mean)**2 +(c - mean)**2 ) / 2 ) ** 0.5\n",
    "print(f'The standard deviation of a, b, c is: {sd:9.7f}')"
   ]
  },
  {
   "cell_type": "markdown",
   "metadata": {},
   "source": [
    "Another useful feature of formatted strings is automatic printing of variable names, and even expressions. This may be very useful for debugging, and is illustrated in the following cell:"
   ]
  },
  {
   "cell_type": "code",
   "execution_count": null,
   "metadata": {},
   "outputs": [],
   "source": [
    "a = 3\n",
    "b = 5\n",
    "c = 2 * a + b\n",
    "print(f'{a=}, {b=}, {c=}')\n",
    "print(f'{2*a-3*b=}, {abs(a-b)=}')"
   ]
  },
  {
   "cell_type": "markdown",
   "metadata": {},
   "source": [
    "## Exercises\n",
    "\n",
    "__1__. Suppose you want to solve the quadratic equation $ax^2+bx+c=0$ for several values of $a$, $b$ and $c$. Use variables to write expressions that represent the solutions of the equation. Use separate variables for intermediate results that can be reused. Place all computations in a single cell, following the pattern:\n",
    "\n",
    "    a, b, c = .....\n",
    "    \n",
    "    .... intermediate computations ....\n",
    "    \n",
    "    x1, x2 = .....\n",
    "    \n",
    "Also, include code to check that your solutions are correct."
   ]
  },
  {
   "cell_type": "code",
   "execution_count": null,
   "metadata": {},
   "outputs": [],
   "source": []
  },
  {
   "cell_type": "markdown",
   "metadata": {},
   "source": [
    "__2__. Write a `print` command that displays the solution of the equation from Problem 1 in a complete phrase, such as:\n",
    "\n",
    "    The solutions of the quadratic with a=..., b=... and c=... are x1=... and x2=...\n",
    "   \n",
    "Use the appropriate format for each variable."
   ]
  },
  {
   "cell_type": "code",
   "execution_count": null,
   "metadata": {},
   "outputs": [],
   "source": []
  },
  {
   "cell_type": "markdown",
   "metadata": {},
   "source": [
    "__3__. Test the expression your wrote in  the previous exercises with several values for the coefficients. In the tests, include both examples in which the computation is successful and examples where there is an error."
   ]
  },
  {
   "cell_type": "code",
   "execution_count": null,
   "metadata": {},
   "outputs": [],
   "source": []
  },
  {
   "cell_type": "markdown",
   "metadata": {},
   "source": [
    "__4__. Complex numbers are supported in Python. The complex constant $3-2i$, for example, is represented by:\n",
    "\n",
    "    3-2j\n",
    "    \n",
    "Notice the use of `j` for the imaginary unit. Choose values of $a$, $b$ and $c$ for which the solutions of $ax^2+bx+c=0$ are not real. Can you use the expressions from the previous exercises to find the solutions? Notice that you must enter the coefficients as complex values, even though they are real. For example, to set a coefficient to 2 use the expression:\n",
    "\n",
    "    2+0j"
   ]
  },
  {
   "cell_type": "code",
   "execution_count": null,
   "metadata": {},
   "outputs": [],
   "source": []
  },
  {
   "cell_type": "markdown",
   "metadata": {},
   "source": [
    "__5__. Guess what the values of the variables `a`, `b` and `c` are after the following statements. Then, run the statements in Jupyter to check your guess:\n",
    "\n",
    "    a, b, c = 1, 2, 3\n",
    "    r, s = a + b, b - c\n",
    "    r, s = s, r\n",
    "    c, a, b = a, b, c"
   ]
  },
  {
   "cell_type": "markdown",
   "metadata": {},
   "source": [
    "__6__. What is the difference between the following statements:\n",
    "\n",
    "    print(f'The value of a is {a}')\n",
    "    \n",
    "    printf('The value of a is {a}')\n",
    "    \n",
    "Guess the output for each statement, and then confirm your answer in Python."
   ]
  },
  {
   "cell_type": "markdown",
   "metadata": {},
   "source": [
    "__7__. What if we want to print curly braces in a formatted string? Suppose, for example that we have the following code:\n",
    "\n",
    "    a = 5\n",
    "    b = 2\n",
    "    c = a + b\n",
    "    \n",
    "Find a formatted string that prints the following output:\n",
    "\n",
    "    The values of the variables are 5 {first variable}, 2 {second variable} and 7 {their sum} "
   ]
  },
  {
   "cell_type": "markdown",
   "metadata": {},
   "source": [
    "## What you learned in this lesson\n",
    "\n",
    "- How to use variables to hold results of computations.\n",
    "- How to use variables in expressions.\n",
    "- How multiple assignment works.\n",
    "- Using `print()` to display data in a nice format.\n",
    "\n",
    "## Further information\n",
    "\n",
    "- The supported string format specifiers are [documented here](https://docs.python.org/3/tutorial/inputoutput.html#tut-f-strings)\n"
   ]
  },
  {
   "cell_type": "markdown",
   "metadata": {},
   "source": [
    "<a rel=\"license\" href=\"http://creativecommons.org/licenses/by-nc-sa/4.0/\"><img alt=\"Creative Commons License\" style=\"border-width:0\" src=\"http://i.creativecommons.org/l/by-nc-sa/4.0/88x31.png\" /></a><br /><span xmlns:dct=\"http://purl.org/dc/terms/\" property=\"dct:title\"><b>Introduction to IPython, SciPy and matplotlib</b></span> by <a xmlns:cc=\"http://creativecommons.org/ns#\" href=\"http://academic.csuohio.edu/fmartins\" property=\"cc:attributionName\" rel=\"cc:attributionURL\">L. Felipe Martins</a> is licensed under a <a rel=\"license\" href=\"http://creativecommons.org/licenses/by-nc-sa/4.0/\">Creative Commons Attribution-NonCommercial-ShareAlike 4.0 International License</a>."
   ]
  }
 ],
 "metadata": {
  "kernelspec": {
   "display_name": "Python 3",
   "language": "python",
   "name": "python3"
  },
  "language_info": {
   "codemirror_mode": {
    "name": "ipython",
    "version": 3
   },
   "file_extension": ".py",
   "mimetype": "text/x-python",
   "name": "python",
   "nbconvert_exporter": "python",
   "pygments_lexer": "ipython3",
   "version": "3.8.5"
  }
 },
 "nbformat": 4,
 "nbformat_minor": 4
}
