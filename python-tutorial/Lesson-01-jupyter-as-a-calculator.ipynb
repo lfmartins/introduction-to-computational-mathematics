{
 "cells": [
  {
   "cell_type": "markdown",
   "metadata": {
    "tags": []
   },
   "source": [
    "[![Open In Colab](https://colab.research.google.com/assets/colab-badge.svg)](https://colab.research.google/github/lfmartins/introduction-to-computational-mathematics/blob/main/python-tutorial/Lesson%2001%20-%20Jupyter%20as%20a%20Calculator.ipynb)\n",
    "\n",
    "# Using Jupyter as a calculator\n",
    "\n",
    "In this tutorial, we cover the basics of Python programming in Jupyter. No previous knowledge of computer programming is assumed. In fact, we encourage the use of Jupyter as a platform for experimenting and testing code. This is, in the author's experience, the best way to learn to use new software, learning a new programming language, or being exposed to computer programming for the first time.\n",
    "\n",
    "At the most basic level, Jupyter behaves pretty much like an old-fashioned calculator: the user enters some commands, asks Jupyter to execute them, and receives a result. All computations is done in a _computation cell_, which looks like the following:"
   ]
  },
  {
   "cell_type": "code",
   "execution_count": 1,
   "metadata": {},
   "outputs": [
    {
     "data": {
      "text/plain": [
       "5"
      ]
     },
     "execution_count": 1,
     "metadata": {},
     "output_type": "execute_result"
    }
   ],
   "source": [
    "2 + 3"
   ]
  },
  {
   "cell_type": "markdown",
   "metadata": {},
   "source": [
    "To evaluate the contents of the cell, click on it and then press `Shift+Enter`. (This means, simultaneously hold the \"shift\" and \"enter\" keys on the keyboard.) \n",
    "\n",
    "Go ahead an try executing the cell above.\n",
    "\n",
    "The mathematical operations are represented by the following symbols:\n",
    "\n",
    "- `+`: addition\n",
    "- `-`: subtraction or \"unary minus\"\n",
    "- `*`: multiplication\n",
    "- `/`: division\n",
    "- `//`: integer division\n",
    "- `**`: exponentiation (powers)\n",
    "- `%`: remainder\n",
    "\n",
    "The following cells show some examples:\n",
    "\n",
    "(You should press `Shift+Enter` on each cell to evaluate it.)"
   ]
  },
  {
   "cell_type": "code",
   "execution_count": 2,
   "metadata": {},
   "outputs": [
    {
     "data": {
      "text/plain": [
       "14"
      ]
     },
     "execution_count": 2,
     "metadata": {},
     "output_type": "execute_result"
    }
   ],
   "source": [
    "2 + 4 * 3"
   ]
  },
  {
   "cell_type": "code",
   "execution_count": 3,
   "metadata": {},
   "outputs": [
    {
     "data": {
      "text/plain": [
       "18"
      ]
     },
     "execution_count": 3,
     "metadata": {},
     "output_type": "execute_result"
    }
   ],
   "source": [
    "(2 + 4) * 3"
   ]
  },
  {
   "cell_type": "code",
   "execution_count": 4,
   "metadata": {},
   "outputs": [
    {
     "data": {
      "text/plain": [
       "33.333333333333336"
      ]
     },
     "execution_count": 4,
     "metadata": {},
     "output_type": "execute_result"
    }
   ],
   "source": [
    "100 / 3"
   ]
  },
  {
   "cell_type": "code",
   "execution_count": 5,
   "metadata": {},
   "outputs": [
    {
     "data": {
      "text/plain": [
       "5.0"
      ]
     },
     "execution_count": 5,
     "metadata": {},
     "output_type": "execute_result"
    }
   ],
   "source": [
    "10/2"
   ]
  },
  {
   "cell_type": "code",
   "execution_count": 6,
   "metadata": {},
   "outputs": [
    {
     "data": {
      "text/plain": [
       "33"
      ]
     },
     "execution_count": 6,
     "metadata": {},
     "output_type": "execute_result"
    }
   ],
   "source": [
    "100 // 3"
   ]
  },
  {
   "cell_type": "code",
   "execution_count": 8,
   "metadata": {},
   "outputs": [
    {
     "data": {
      "text/plain": [
       "33.333333333333336"
      ]
     },
     "execution_count": 8,
     "metadata": {},
     "output_type": "execute_result"
    }
   ],
   "source": [
    "100 / 3"
   ]
  },
  {
   "cell_type": "code",
   "execution_count": 9,
   "metadata": {},
   "outputs": [
    {
     "data": {
      "text/plain": [
       "1267650600228229401496703205376"
      ]
     },
     "execution_count": 9,
     "metadata": {},
     "output_type": "execute_result"
    }
   ],
   "source": [
    "2 ** 100"
   ]
  },
  {
   "cell_type": "markdown",
   "metadata": {},
   "source": [
    "Notice the following:\n",
    "\n",
    "- The usual precedence rules for mathematical expressions are enforced. Operations are evaluated in the following order:\n",
    "   1. powers\n",
    "   2. multiplication and division\n",
    "   3. addition and subtraction\n",
    "- The order of operations can be altered with the use of parenthesis\n",
    "- The single slash, `/`, denotes the usual division operator, and always returns a floating-point number.\n",
    "- The double slash, `//`, is used to represent integer division.\n",
    "- Exponentiation is denoted by `**`.\n",
    "\n",
    "This last point is often forgotten, since people got used to use `^` for powers. However, this is a different operation (`xor`) in Python:"
   ]
  },
  {
   "cell_type": "code",
   "execution_count": null,
   "metadata": {},
   "outputs": [],
   "source": [
    "12 ^ 2"
   ]
  },
  {
   "cell_type": "code",
   "execution_count": null,
   "metadata": {},
   "outputs": [],
   "source": [
    "12 ** 2"
   ]
  },
  {
   "cell_type": "markdown",
   "metadata": {},
   "source": [
    "As a rule of thumb, in numerical computations, we want to use ``**``, not ``^``."
   ]
  },
  {
   "cell_type": "markdown",
   "metadata": {},
   "source": [
    "# The Jupyter interface"
   ]
  },
  {
   "cell_type": "markdown",
   "metadata": {},
   "source": [
    "## Exercises\n",
    "\n",
    "Do the exercises below, use the ``+`` button at the top of the page, or use the ``a`` and ``b`` shortcuts. To see all the available shortcuts, press ``h`` in command mode. \n",
    "\n",
    "To insert a new cell, use the menu or buttons on the top of the page.\n",
    "\n",
    "__1__. Write and evaluate Python expressions that calculate the following:\n",
    "\n",
    "1. Add 3 and 7, and then raise the result to the third power.\n",
    "2. Add 3 to 7 raised to the third power.\n",
    "3. Raise the sum of 2 and 5 to the product of 5 and 13.\n",
    "4. The volume of a cone with height 3 inches and base radius 4.\n",
    "5. How many miles are in 12 kilometers. (One mile is equal to 1.62 kilometers.)\n",
    "6. The two solutions of the quadratic equation $2x^2-7x+3=0$, using the quadratic formula. You can compute a square root by raising to the appropriate power. Check that your solutions are correct, by plugging them back into the equation."
   ]
  },
  {
   "cell_type": "code",
   "execution_count": null,
   "metadata": {},
   "outputs": [],
   "source": []
  },
  {
   "cell_type": "markdown",
   "metadata": {},
   "source": [
    "__2__. What happens if you enter an incorrect expression? Try the following expressions, which contain some common mistakes, and try you understand the messages you get. Then, attempt to fix the error. Notice that some, for some of the examples, there are more than one way to fix the expression.\n",
    "\n",
    "1. `2 + * 3`\n",
    "2. `(2+7**2`\n",
    "3. `pi * 3 ^ 2`\n",
    "5. `4 / 0`\n",
    "6. `2 ^ 0.5`\n",
    "7. `(-2) ** 0.5`\n",
    "8. `3 7`"
   ]
  },
  {
   "cell_type": "code",
   "execution_count": null,
   "metadata": {},
   "outputs": [],
   "source": []
  },
  {
   "cell_type": "markdown",
   "metadata": {},
   "source": [
    "__3__. Sometimes, an expression, even if correct, does not produce the expected results. Evaluate the following, and explain the results.\n",
    "\n",
    "1. `3 ** 2 ** 4`\n",
    "2. `3 - - 2`\n",
    "3. `3----+---+-2`\n",
    "3. `4 ** (1 / 2)`"
   ]
  },
  {
   "cell_type": "code",
   "execution_count": null,
   "metadata": {},
   "outputs": [],
   "source": []
  },
  {
   "cell_type": "markdown",
   "metadata": {},
   "source": [
    "## What you learned in this lesson\n",
    "\n",
    "- How to enter expressions and evaluate cells.\n",
    "- How to evaluate arithmetic expressions.\n",
    "- Rules of precedence for expressions.\n",
    "\n",
    "## Further information\n",
    "\n",
    "- Python home: <http://python.org>\n",
    "- Python tutorial: <https://docs.python.org/3.5/tutorial/>\n",
    "- IPython home: <http://ipython.org>\n",
    "- Jupyter home: <http://jupyter.org>"
   ]
  },
  {
   "cell_type": "markdown",
   "metadata": {},
   "source": [
    "<a rel=\"license\" href=\"http://creativecommons.org/licenses/by-nc-sa/4.0/\"><img alt=\"Creative Commons License\" style=\"border-width:0\" src=\"http://i.creativecommons.org/l/by-nc-sa/4.0/88x31.png\" /></a><br /><span xmlns:dct=\"http://purl.org/dc/terms/\" property=\"dct:title\"><b>Introduction to IPython, SciPy and matplotlib</b></span> by <a xmlns:cc=\"http://creativecommons.org/ns#\" href=\"http://academic.csuohio.edu/fmartins\" property=\"cc:attributionName\" rel=\"cc:attributionURL\">L. Felipe Martins</a> is licensed under a <a rel=\"license\" href=\"http://creativecommons.org/licenses/by-nc-sa/4.0/\">Creative Commons Attribution-NonCommercial-ShareAlike 4.0 International License</a>."
   ]
  },
  {
   "cell_type": "code",
   "execution_count": null,
   "metadata": {},
   "outputs": [],
   "source": []
  },
  {
   "cell_type": "code",
   "execution_count": null,
   "metadata": {},
   "outputs": [],
   "source": []
  }
 ],
 "metadata": {
  "kernelspec": {
   "display_name": "Python 3 (ipykernel)",
   "language": "python",
   "name": "python3"
  },
  "language_info": {
   "codemirror_mode": {
    "name": "ipython",
    "version": 3
   },
   "file_extension": ".py",
   "mimetype": "text/x-python",
   "name": "python",
   "nbconvert_exporter": "python",
   "pygments_lexer": "ipython3",
   "version": "3.9.7"
  }
 },
 "nbformat": 4,
 "nbformat_minor": 4
}
