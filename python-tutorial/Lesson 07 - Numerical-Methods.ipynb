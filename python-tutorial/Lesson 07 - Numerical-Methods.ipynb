{
 "cells": [
  {
   "cell_type": "markdown",
   "id": "816f7f95",
   "metadata": {},
   "source": [
    "# Introduction"
   ]
  },
  {
   "cell_type": "markdown",
   "id": "8017a1df",
   "metadata": {},
   "source": [
    "Most differential equations cannot be solved by exact formulas. This does not prevent us from carrying a qualitative analysis, but at some point it may be necessary to find actual numerical values for solutions, or make accurate plots.\n",
    "\n",
    "In this tutorials, we will study the numerical methods `scipy` provides for solving initial value problems. We will also consider the question of getting accurate approximations to equilibrium points. As usual, we load `pylab`. "
   ]
  },
  {
   "cell_type": "code",
   "execution_count": null,
   "id": "7b6c863e",
   "metadata": {
    "collapsed": false,
    "jupyter": {
     "outputs_hidden": false
    }
   },
   "outputs": [],
   "source": [
    "%matplotlib inline\n",
    "import numpy as np\n",
    "import matplotlib.pyplot as plt"
   ]
  },
  {
   "cell_type": "markdown",
   "id": "032e6b22",
   "metadata": {},
   "source": [
    "# First-order, one-dimensional DEs."
   ]
  },
  {
   "cell_type": "markdown",
   "id": "a07e73c4",
   "metadata": {},
   "source": [
    "Let's consider the differntial equation:\n",
    "$$\n",
    "\\newcommand{\\mtab}{\\quad\\quad\\quad\\quad}\n",
    "\\mtab \\dot{x} = \\gamma(t)-\\sin(x)\n",
    "$$\n",
    "This can be interpreted as an overdamped pendulum subject to an external, time varying, torque $\\gamma(t)$. Notice that this is a nonautonomous system. Except in very special cases for the function $\\gamma(t)$, this differential equation will not have a closed-form solution.\n",
    "\n",
    "For definiteness, let's suppose that the external torque has the form $\\gamma(t)=A\\sin(\\omega t)$, so we want to solve the differential equation:\n",
    "$$\n",
    "\\mtab \\dot{x} = A\\sin(\\omega t) - \\sin(x)\n",
    "$$\n",
    "Let's suppose first that $A=1$ and \\omega=0.25$. We will see later how to deal with changing parameters.\n",
    "\n",
    "Solving a differential equation is a four-step process:\n",
    "\n",
    "- Define a Python function that specifies the flow (the right hand side of the equation).\n",
    "- Choose the times at which the solution is to be computed.\n",
    "- Choose the initial condition.\n",
    "- Call the numerical solver\n",
    "\n",
    "The numerical solver we are going to use is `odeint`, which is in the `scipy.integrate` library:"
   ]
  },
  {
   "cell_type": "code",
   "execution_count": null,
   "id": "0588bb52",
   "metadata": {
    "collapsed": false,
    "jupyter": {
     "outputs_hidden": false
    }
   },
   "outputs": [],
   "source": [
    "from scipy.integrate import odeint"
   ]
  },
  {
   "cell_type": "markdown",
   "id": "771f579d",
   "metadata": {},
   "source": [
    "Let's now define the function $f(x,t)=\\sin(0.25t)-\\sin(x)$. Since this is a simple function, we just use a lambda-function. Notice that it is a function of two variables, $x$ and $t$."
   ]
  },
  {
   "cell_type": "code",
   "execution_count": null,
   "id": "c1f67e2a",
   "metadata": {
    "collapsed": false,
    "jupyter": {
     "outputs_hidden": false
    }
   },
   "outputs": [],
   "source": [
    "de = lambda x, t: np.sin(0.25 * t) - np.sin(x) "
   ]
  },
  {
   "cell_type": "markdown",
   "id": "6215d94e",
   "metadata": {},
   "source": [
    "Let's solve the differential equation with initial condition $x(0)=1.5$ and want the solution at times $0.0$, $0.1$, $0.2$,$\\dots$ $2.0$. This is how to do it:"
   ]
  },
  {
   "cell_type": "code",
   "execution_count": null,
   "id": "97a166b6",
   "metadata": {
    "collapsed": false,
    "jupyter": {
     "outputs_hidden": false
    }
   },
   "outputs": [],
   "source": [
    "t = arange(0,2.1,0.1)\n",
    "x0 = 1.5\n",
    "x = odeint(de, x0, t)"
   ]
  },
  {
   "cell_type": "markdown",
   "id": "900e59c3",
   "metadata": {},
   "source": [
    "Nothing is printed, since we assigned the solution to the array `x`. Let's print a table of values:"
   ]
  },
  {
   "cell_type": "code",
   "execution_count": null,
   "id": "5d9dc25b",
   "metadata": {
    "collapsed": false,
    "jupyter": {
     "outputs_hidden": false
    }
   },
   "outputs": [],
   "source": [
    "for tt, xx in zip(t,x):\n",
    "    print(f'{tt} {xx}')"
   ]
  },
  {
   "cell_type": "markdown",
   "id": "94880e77",
   "metadata": {},
   "source": [
    "Notice that the solution is given as a vector (with a single element). `odeint` always interprets the problem as a system, even if it is a single differential equation. Usually, we will want to plot the solution:"
   ]
  },
  {
   "cell_type": "code",
   "execution_count": null,
   "id": "82c7e27e",
   "metadata": {
    "collapsed": false,
    "jupyter": {
     "outputs_hidden": false
    }
   },
   "outputs": [],
   "source": [
    "t = np.linspace(0,80,200)\n",
    "x0 = 1.5\n",
    "x = odeint( de, x0, t)\n",
    "plot(t,x)\n",
    "xlabel('t')\n",
    "ylabel('x')"
   ]
  },
  {
   "cell_type": "markdown",
   "id": "6f17aeb9",
   "metadata": {},
   "source": [
    "It seems that the solution quiclkly converges to a periodic oscillation with period about 45. Is this behavior valid for all initial conditions? Is the limiting periodic function the same for all initial condition? Let's plot the solution for several different initial conditions:"
   ]
  },
  {
   "cell_type": "code",
   "execution_count": null,
   "id": "01983ed3",
   "metadata": {
    "collapsed": false,
    "jupyter": {
     "outputs_hidden": false
    }
   },
   "outputs": [],
   "source": [
    "t = np.linspace(0,80,200)\n",
    "ic = [-1.5, -0.5, 0.0, 1.0, 1.5]\n",
    "for x0 in ic:\n",
    "    x = odeint( de, x0, t )\n",
    "    plot( t, x, color = 'blue' )\n",
    "xlabel('t')\n",
    "ylabel('x')"
   ]
  },
  {
   "cell_type": "markdown",
   "id": "738f0822",
   "metadata": {},
   "source": [
    "So we see that the solution quickly converges to the periodic oscillaton, for any of the initial conditions tried."
   ]
  }
 ],
 "metadata": {
  "kernelspec": {
   "display_name": "Python 3 (ipykernel)",
   "language": "python",
   "name": "python3"
  },
  "language_info": {
   "codemirror_mode": {
    "name": "ipython",
    "version": 3
   },
   "file_extension": ".py",
   "mimetype": "text/x-python",
   "name": "python",
   "nbconvert_exporter": "python",
   "pygments_lexer": "ipython3",
   "version": "3.8.5"
  }
 },
 "nbformat": 4,
 "nbformat_minor": 5
}
