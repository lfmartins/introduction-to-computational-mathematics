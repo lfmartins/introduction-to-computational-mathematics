{
 "cells": [
  {
   "cell_type": "markdown",
   "metadata": {},
   "source": [
    "[![Open In Colab](https://colab.research.google.com/assets/colab-badge.svg)](https://colab.research.google.com/github/lfmartins/introduction-to-computational-mathematics/blob/main/06-lists.ipynb)\n",
    "# Introduction\n",
    "\n",
    "Any program that goes beyond simple computations will use some sort of _data structure_, that is, data that is organized in a specific way.\n",
    "\n",
    "In this lesson we introduce _lists_, one of the most basic data structures in Python. As we will see in the next lesson, lists are not the best structure for numerical work and scientific computing. However, knowing how to use lists is still an essential skill for Python programmers.\n",
    "\n",
    "# Lists\n",
    "\n",
    "A _list_ is an ordered collection of objects. Here is how we can define a list:"
   ]
  },
  {
   "cell_type": "code",
   "execution_count": null,
   "metadata": {},
   "outputs": [],
   "source": [
    "lst = [ -4, 2.3, 1+3j, 'Hello, world!' ]\n",
    "lst"
   ]
  },
  {
   "cell_type": "markdown",
   "metadata": {},
   "source": [
    "Notice that the list can contain different types of data: the list above contains an integer, a floating point number, a complex number and a string. Elements of the list can then accessed by indexing:"
   ]
  },
  {
   "cell_type": "code",
   "execution_count": null,
   "metadata": {},
   "outputs": [],
   "source": [
    "lst[0]"
   ]
  },
  {
   "cell_type": "code",
   "execution_count": null,
   "metadata": {},
   "outputs": [],
   "source": [
    "lst[1]"
   ]
  },
  {
   "cell_type": "code",
   "execution_count": null,
   "metadata": {},
   "outputs": [],
   "source": [
    "lst[2]"
   ]
  },
  {
   "cell_type": "code",
   "execution_count": null,
   "metadata": {},
   "outputs": [],
   "source": [
    "lst[3]"
   ]
  },
  {
   "cell_type": "markdown",
   "metadata": {},
   "source": [
    "Notice that *the index of the first element in a list is zero*. This is a general convention in Python: any data structure that uses integer indexes starts with the index 0. If you refer to an element outside the list range, you get an error:"
   ]
  },
  {
   "cell_type": "code",
   "execution_count": null,
   "metadata": {},
   "outputs": [],
   "source": [
    "lst[4]"
   ]
  },
  {
   "cell_type": "markdown",
   "metadata": {},
   "source": [
    "Negative indexes are allowed. In this case, the index $-1$ refers to the last element of the list, $-2$ refer to the next to last element, and so on. For example:"
   ]
  },
  {
   "cell_type": "code",
   "execution_count": null,
   "metadata": {},
   "outputs": [],
   "source": [
    "lst[-1]"
   ]
  },
  {
   "cell_type": "code",
   "execution_count": null,
   "metadata": {},
   "outputs": [],
   "source": [
    "lst[-2]"
   ]
  },
  {
   "cell_type": "markdown",
   "metadata": {},
   "source": [
    "To change an element of the list, just assign the new value to a position of the list:"
   ]
  },
  {
   "cell_type": "code",
   "execution_count": null,
   "metadata": {},
   "outputs": [],
   "source": [
    "lst[2] = 5.6\n",
    "lst"
   ]
  },
  {
   "cell_type": "markdown",
   "metadata": {},
   "source": [
    "## List Functions\n",
    "\n",
    "There are several functions provided to work with lists. To get the size of a list, use the function `len()` (for \"length\"):"
   ]
  },
  {
   "cell_type": "code",
   "execution_count": null,
   "metadata": {},
   "outputs": [],
   "source": [
    "len(lst)"
   ]
  },
  {
   "cell_type": "markdown",
   "metadata": {},
   "source": [
    "We can add the elements of a list with the `sum` function:"
   ]
  },
  {
   "cell_type": "code",
   "execution_count": null,
   "metadata": {},
   "outputs": [],
   "source": [
    "lst = [3, 4.5, -6.3, 2**1.5]\n",
    "sum(lst)"
   ]
  },
  {
   "cell_type": "markdown",
   "metadata": {},
   "source": [
    "The `append` method inserts a new element at the end of a list:"
   ]
  },
  {
   "cell_type": "code",
   "execution_count": null,
   "metadata": {},
   "outputs": [],
   "source": [
    "lst.append(42)\n",
    "lst"
   ]
  },
  {
   "cell_type": "markdown",
   "metadata": {},
   "source": [
    "A _method_ is just a function that is associated to an _object_. Objects are the most general kind of data structure supported by Python, and will be discussed later. For now, notice the syntax:\n",
    "\n",
    "    lst.append(42)\n",
    "    \n",
    "This can be read as \"append the integer 42 to the list `lst`\".\n",
    "\n",
    "Python provides a rich set of methods to operate on lists. Here is another example. Let's define a list of names:\n"
   ]
  },
  {
   "cell_type": "code",
   "execution_count": null,
   "metadata": {},
   "outputs": [],
   "source": [
    "names = [ \"Caesar\", \"Augustus\", \"Claudius\", \"Vespasian\", \"Trajan\" ]\n",
    "names"
   ]
  },
  {
   "cell_type": "markdown",
   "metadata": {},
   "source": [
    "To order the list alphabetically, we and use the `sort()` method:"
   ]
  },
  {
   "cell_type": "code",
   "execution_count": null,
   "metadata": {},
   "outputs": [],
   "source": [
    "names.sort()\n",
    "names"
   ]
  },
  {
   "cell_type": "markdown",
   "metadata": {},
   "source": [
    "# Ranges and List Comprehensions\n",
    "\n",
    "A Python _range_ represents a finite sequence of equally spaced values. For example, run the following cell:  "
   ]
  },
  {
   "cell_type": "code",
   "execution_count": null,
   "metadata": {},
   "outputs": [],
   "source": [
    "rng = range(10)\n",
    "list(rng)"
   ]
  },
  {
   "cell_type": "markdown",
   "metadata": {},
   "source": [
    "The expression:\n",
    "\n",
    "    range(10)\n",
    "    \n",
    "defines a sequence of $10$ integer values starting at 0.\n",
    "    \n",
    "Notice that the starting value is implicitly set to zero, following the same convention discussed above for list indexes. As a consequence the last element of the range is 9, not 10. This may take a while to get used to, but it is a very important detail:\n",
    "\n",
    "> The final value in the specification of a range is never included in the range.\n",
    "\n",
    "Another way to remember this is to think of the range as defining an interval that is closed to the left and open to the right. That is, `range(a,b)` represents the integers in the interval $[a,b)$.\n",
    "\n",
    "Notice that to display the elements of the range, we first convert to a list, with the statement `list(rng)`. A range is a Python object of type `range`, and is not automatically converted to a list, as can be shown by statement:"
   ]
  },
  {
   "cell_type": "code",
   "execution_count": null,
   "metadata": {},
   "outputs": [],
   "source": [
    "rng"
   ]
  },
  {
   "cell_type": "markdown",
   "metadata": {},
   "source": [
    "Ranges are most commonly used in the `for` looping structure.\n",
    "\n",
    "A range can start at a value different from zero:"
   ]
  },
  {
   "cell_type": "code",
   "execution_count": null,
   "metadata": {},
   "outputs": [],
   "source": [
    "rng = range(2, 13)\n",
    "list(rng)"
   ]
  },
  {
   "cell_type": "markdown",
   "metadata": {},
   "source": [
    "We can also use a third argument to specify ranges with gaps. For example, to generate the odd integers up to $20$ we can use:"
   ]
  },
  {
   "cell_type": "code",
   "execution_count": null,
   "metadata": {},
   "outputs": [],
   "source": [
    "rng = range(1, 20, 2)\n",
    "list(rng)"
   ]
  },
  {
   "cell_type": "markdown",
   "metadata": {},
   "source": [
    "Notice that the following computation does not give the desired result:"
   ]
  },
  {
   "cell_type": "code",
   "execution_count": null,
   "metadata": {},
   "outputs": [],
   "source": [
    "rng = range(1, 19, 2)\n",
    "list(rng)"
   ]
  },
  {
   "cell_type": "markdown",
   "metadata": {},
   "source": [
    "Can you explain why this does not work?\n",
    "\n",
    "Ranges are rarely used by themselves. They are intended as building blocks in more complex data structures. One example is _lists comprehensions_, which is an easy and efficient way to build lists. Let's say, for example, that we want to generate a list of the squares of the integers from 0 to 10. The following cell shows how this can be done:"
   ]
  },
  {
   "cell_type": "code",
   "execution_count": null,
   "metadata": {},
   "outputs": [],
   "source": [
    "squares = [k**2 for k in range(11)]\n",
    "squares"
   ]
  },
  {
   "cell_type": "markdown",
   "metadata": {},
   "source": [
    "Notice the syntax we used:\n",
    "\n",
    "    [k**2 for k in range(11)]\n",
    "    \n",
    "This can be read in English as:\n",
    "\n",
    "> The list of $k^2$, where $k$ is an integer in the interval $[0,11)$.\n",
    "\n",
    "Notice that the interval $[0,11)$ is _open at the right_, indicating the fact that $11$ is _not_ in the range.\n",
    "\n",
    "List comprehensions are very similar to set comprehension notation in mathematics. For example, the set definition corresponding to the example above would be:\n",
    "$$\n",
    "\\left\\{k^2\\,|\\,k\\in\\mathbb{Z}, 1\\le k < 11\\right\\}\n",
    "$$\n",
    "Notice, however, that lists are ordered collections, and sets are not. Sets are also supported in Python, as we will learn in a future lesson.\n",
    "\n",
    "One of the drawbacks of ranges is that they can only contain integers. List comprehensions can be used to get around this problem. For example, let's suppose we need a list of 6 equally spaced values in the interval $[0,1]$. Here is how a list comprehension can be used to obtain this result:"
   ]
  },
  {
   "cell_type": "code",
   "execution_count": null,
   "metadata": {},
   "outputs": [],
   "source": [
    "values = [k/5 for k in range(6)]\n",
    "values"
   ]
  },
  {
   "cell_type": "markdown",
   "metadata": {},
   "source": [
    "A more general format of a list comprehension is:\n",
    "\n",
    "    [ <expression> for <variable> in <list> if <condition> ]\n",
    "  \n",
    "The two things to note there is that the `<list>` does not have to be a range, it can be any Python list (in fact, it can be any Python _iterable_). Also, the optional `if` clause selects which elements to keep.\n",
    "\n",
    "As an example, here is the first paragraph of Moby Dick:"
   ]
  },
  {
   "cell_type": "code",
   "execution_count": null,
   "metadata": {},
   "outputs": [],
   "source": [
    "moby = \"\"\"Call me Ishmael. Some years ago - never mind how long precisely - having little or no money in my purse, and nothing \n",
    "particular to interest me on shore, I thought I would sail about a little and see the watery part of the world. It is a way I \n",
    "have of driving off the spleen and regulating the circulation. Whenever I find myself growing grim about the mouth; whenever it \n",
    "is a damp, drizzly November in my soul; whenever I find myself involuntarily pausing before coffin warehouses, and bringing up \n",
    "the rear of every funeral I meet; and especially whenever my hypos get such an upper hand of me, that it requires a strong \n",
    "moral principle to prevent me from deliberately stepping into the street, and methodically knocking people's hats off - then, \n",
    "I account it high time to get to sea as soon as I can. This is my substitute for pistol and ball. With a philosophical \n",
    "flourish Cato throws himself upon his sword; I quietly take to the ship. There is nothing surprising in this. If they but \n",
    "knew it, almost all men in their degree, some time or other, cherish very nearly the same feelings towards the ocean with me.\"\"\""
   ]
  },
  {
   "cell_type": "markdown",
   "metadata": {},
   "source": [
    "Suppose we want to find all words with length at least 5 in the text. First, we need to convert the text into a list of words. This can be done with the method `split()`:"
   ]
  },
  {
   "cell_type": "code",
   "execution_count": null,
   "metadata": {},
   "outputs": [],
   "source": [
    "words = moby.split()\n",
    "words[:10]  # First ten words"
   ]
  },
  {
   "cell_type": "markdown",
   "metadata": {},
   "source": [
    "We then use a list comprehension "
   ]
  },
  {
   "cell_type": "code",
   "execution_count": null,
   "metadata": {},
   "outputs": [],
   "source": [
    "long_words = [word for word in moby.split() if len(word) >= 5]\n",
    "long_words[:10]"
   ]
  },
  {
   "cell_type": "markdown",
   "metadata": {},
   "source": [
    "Notice that this is not perfect, as some of the punctuation is kept as part of the word. We can fix this in the following way:"
   ]
  },
  {
   "cell_type": "code",
   "execution_count": null,
   "metadata": {},
   "outputs": [],
   "source": [
    "import string\n",
    "words = [word.strip(string.punctuation) for word in moby.split()]\n",
    "long_words = [word for word in words if len(word) >= 5]\n",
    "long_words[:10]"
   ]
  },
  {
   "cell_type": "markdown",
   "metadata": {},
   "source": [
    "Here is how this code works:\n",
    "\n",
    "- We first import the module `string`, which is part of the standard library.\n",
    "- Then, we use a list comprehension to strip any punctuation from the words, in the list comprehension:\n",
    "\n",
    "    [word.strip(string.punctuation) for word in moby.split()]\n",
    "    \n",
    "- Finally, we select the long words with the list comprehension:\n",
    "\n",
    "    [word for word in words if len(word) >= 5]\n",
    "    \n",
    "Notice that we have been using the expression `long_words[:10]` to display the first 10 elements of the list `long_words`. This is called a *slice* of the list. See below for a detailed description of slices.\n",
    "\n",
    "We can now do some rudimentary text analysis. The number of words with 5 or more letters is:"
   ]
  },
  {
   "cell_type": "code",
   "execution_count": null,
   "metadata": {},
   "outputs": [],
   "source": [
    "len(long_words)"
   ]
  },
  {
   "cell_type": "markdown",
   "metadata": {},
   "source": [
    "Notice, however, that some words are repeated. To eliminate repetitions, can use a Python data structure called a _set_:"
   ]
  },
  {
   "cell_type": "code",
   "execution_count": null,
   "metadata": {},
   "outputs": [],
   "source": [
    "long_words_set = set(long_words)\n",
    "len(long_words_set)"
   ]
  },
  {
   "cell_type": "markdown",
   "metadata": {},
   "source": [
    "Sets, by definition, don't include repeated elements. The expression `set(long_words)` constructs a set from the list `long_words` and, in doing so, eliminates repetitions.\n",
    "\n",
    "Finally, suppose now we want a list of non-repeated long words, alphabetically sorted. We convert the set back to a list and then sort it. (Sets are unordered data structures, so they can't be sorted.)"
   ]
  },
  {
   "cell_type": "code",
   "execution_count": null,
   "metadata": {},
   "outputs": [],
   "source": [
    "long_words_norep = list(long_words_set)\n",
    "long_words_norep.sort()\n",
    "long_words_norep[:10]"
   ]
  },
  {
   "cell_type": "markdown",
   "metadata": {},
   "source": [
    "Notice that all capitalized words come first. This happens because, when text is encoded into bytes, the capital letters have a lower code than the lowercase letters.\n",
    "\n",
    "# Slices\n",
    "\n",
    "To refer to a part of a list, we use _slices_. Let's first generate a list to play with:"
   ]
  },
  {
   "cell_type": "code",
   "execution_count": null,
   "metadata": {},
   "outputs": [],
   "source": [
    "lst = [0.5 * i for i in range(1,11)]\n",
    "lst"
   ]
  },
  {
   "cell_type": "markdown",
   "metadata": {},
   "source": [
    "To get a sublist with the elements with indexes from 2 to 5, we use:"
   ]
  },
  {
   "cell_type": "code",
   "execution_count": null,
   "metadata": {},
   "outputs": [],
   "source": [
    "lst[2:6]"
   ]
  },
  {
   "cell_type": "markdown",
   "metadata": {},
   "source": [
    "The slice expression:\n",
    "\n",
    "    2:6\n",
    "\n",
    "refers to elements 2 to 5 of the list. Notice that, according to the usual Python convention, a slice does not contain the right endpoint. \n",
    "\n",
    "We can use negative indices in slices:"
   ]
  },
  {
   "cell_type": "code",
   "execution_count": null,
   "metadata": {},
   "outputs": [],
   "source": [
    "lst[3:-2]"
   ]
  },
  {
   "cell_type": "markdown",
   "metadata": {},
   "source": [
    "To understand this result, we have to use the rules carefully:\n",
    "\n",
    "- Index `-2` refers to the next-to-last element of the list.\n",
    "- The slice `3:-2` ends _immediately before_ the index `-2`.\n",
    "\n",
    "So, `3:-2` starts with index 3, and ends at the third index from the end of the list.\n",
    "\n",
    "As is the case with ranges, it is possible to give a third argument to a slice, indicating a step:"
   ]
  },
  {
   "cell_type": "code",
   "execution_count": null,
   "metadata": {},
   "outputs": [],
   "source": [
    "lst[1:7:2]"
   ]
  },
  {
   "cell_type": "markdown",
   "metadata": {},
   "source": [
    "Notice, as usual, that the last index, 7 in this case, is not included in the slice. By the way, to get a sublist in reverse order we can use a negative step:"
   ]
  },
  {
   "cell_type": "code",
   "execution_count": null,
   "metadata": {},
   "outputs": [],
   "source": [
    "lst[9:1:-1]"
   ]
  },
  {
   "cell_type": "markdown",
   "metadata": {},
   "source": [
    "Finally, extracting a beginning or ending slice of a list is a very common operation, and there is a special syntax for those cases:"
   ]
  },
  {
   "cell_type": "code",
   "execution_count": null,
   "metadata": {},
   "outputs": [],
   "source": [
    "lst[3:]"
   ]
  },
  {
   "cell_type": "code",
   "execution_count": null,
   "metadata": {},
   "outputs": [],
   "source": [
    "lst[:7]"
   ]
  },
  {
   "cell_type": "markdown",
   "metadata": {},
   "source": [
    "Negative indexes are useful in this case:"
   ]
  },
  {
   "cell_type": "code",
   "execution_count": null,
   "metadata": {},
   "outputs": [],
   "source": [
    "lst[:-3]"
   ]
  },
  {
   "cell_type": "markdown",
   "metadata": {},
   "source": [
    "Make sure you understand why the last two cells produce the same result.\n",
    "\n",
    "Finally, you can refer to the whole list this way:"
   ]
  },
  {
   "cell_type": "code",
   "execution_count": null,
   "metadata": {},
   "outputs": [],
   "source": [
    "lst[:]"
   ]
  },
  {
   "cell_type": "markdown",
   "metadata": {},
   "source": [
    "You may be wondering why this would be useful. Actually, this is the standard way to produce a copy a list. This kind of notation will also be useful when we want to select a row or column from a matrix."
   ]
  },
  {
   "cell_type": "markdown",
   "metadata": {},
   "source": [
    "# Exercises\n",
    "\n",
    "__1__. Given the list:\n",
    "\n",
    "    lst = [2.5, 3, \"dog\", [2,3,1,4], 3+2j, 42]\n",
    "\n",
    "describe what is the result of the following operations. Then, check your answer by running each statement.\n",
    "\n",
    "1. `lst[1]`\n",
    "1. `lst[-2]`\n",
    "1. `lst[3]`\n",
    "1. `lst[3][2]`\n",
    "1. `lst[6]`\n",
    "1. `lst[2:4]`\n",
    "1. `lst[-2:-4]`\n",
    "1. `lst[-2:-4:-1]`\n",
    "1. `lst.sort()`\n",
    "1. `len(lst[3])`\n",
    "1. `lst[3].sort()`"
   ]
  },
  {
   "cell_type": "code",
   "execution_count": null,
   "metadata": {},
   "outputs": [],
   "source": []
  },
  {
   "cell_type": "markdown",
   "metadata": {},
   "source": [
    "__2__. Write range expressions that generate each of the following lists:\n",
    "\n",
    "1. `[0, 2, 3, 4, 5]`\n",
    "1. `[11, 12, 13, 14, 15, 16]`\n",
    "1. `[3, 7, 11, 15, 19]`\n",
    "1. `[10, 9, 8, 7, 6, 5]`\n",
    "1. `[5, 2, -1, -4]`"
   ]
  },
  {
   "cell_type": "code",
   "execution_count": null,
   "metadata": {},
   "outputs": [],
   "source": []
  },
  {
   "cell_type": "markdown",
   "metadata": {},
   "source": [
    "__3__. Suppose that you need to find the sum of all positive integers up to 1000. Explain why the expression:\n",
    "\n",
    "    sum(range(1000))\n",
    "    \n",
    "gives the incorrect answer, and show how to fix it."
   ]
  },
  {
   "cell_type": "code",
   "execution_count": null,
   "metadata": {},
   "outputs": [],
   "source": []
  },
  {
   "cell_type": "markdown",
   "metadata": {},
   "source": [
    "__4__. Write a one-line expression that computes the sum of all multiples of 3 between 123 and 321."
   ]
  },
  {
   "cell_type": "code",
   "execution_count": null,
   "metadata": {},
   "outputs": [],
   "source": []
  },
  {
   "cell_type": "markdown",
   "metadata": {},
   "source": [
    "__5__. Given the list:\n",
    "\n",
    "    lst = [2, 4, 5, 8, 0, 3, 7, -4, 1, 1]\n",
    "\n",
    "write slice expressions that result in the following sublists. Try to make your answers as concise as possible.\n",
    "\n",
    "1. `[5, 8, 0, 3, -7]`\n",
    "1. `[4, 8, 3]`\n",
    "1. `[-4, 7, 3, 0]`\n",
    "1. `[0, 3, 7, -4, 1, 1]`\n",
    "1. `[7, 8, 2]`\n",
    "1. `[1, 1, -4, 7, 3, 0, 8, 5, 4, 2]`\n"
   ]
  },
  {
   "cell_type": "markdown",
   "metadata": {},
   "source": [
    "__6__. Use list comprehensions to compute the following:\n",
    "\n",
    "1. A list of the squares of the integers in the interval $[8, 10]$.\n",
    "1. A list of the square roots of all multiples of 3 in the interval $[2,21]$\n",
    "1. The sum of the squares of all integers in the interval $[1,100]$\n",
    "1. A list of all integers in the interval $[1,100]$ that are either a multiple of 5 or a multiple of 7.\n",
    "1. The list `[3.0, 3.2, 3.4, 3.6, 3.8, 4.0, 4.2]`.\n",
    "1. The list `[5, 4, 3, 2, 1, 0, 1, 2, 3, 4, 5]`.\n",
    "1. The list `[3, 1, 4, 1, 5, 9, 2, 6, 5]`."
   ]
  },
  {
   "cell_type": "code",
   "execution_count": null,
   "metadata": {},
   "outputs": [],
   "source": []
  },
  {
   "cell_type": "markdown",
   "metadata": {},
   "source": [
    "__*7__. Write a function that, given an integer $n$ as input, returns `True` if the integer is not a multiple of any of the numbers in the list `[2,3,5,7,11]`. Use a list comprehension, the remainder operator `%` and the [built-in function `all`](https://docs.python.org/3.5/library/functions.html#all). Verify that your function produces the expected result in at least five test cases."
   ]
  },
  {
   "cell_type": "code",
   "execution_count": null,
   "metadata": {},
   "outputs": [],
   "source": []
  },
  {
   "cell_type": "markdown",
   "metadata": {},
   "source": [
    "__*8__. Use the function from the previous exercise and a list comprehension to find all prime numbers in the interval $[2,100]$. Use the fact that a number in $[12,100]$ is prime if and only if it is not divisible by any of 2, 3, 5, 7, 11."
   ]
  },
  {
   "cell_type": "code",
   "execution_count": null,
   "metadata": {},
   "outputs": [],
   "source": []
  },
  {
   "cell_type": "markdown",
   "metadata": {},
   "source": [
    "## What you learned in this lesson\n",
    "\n",
    "- What is a list, how to access and change list entries.\n",
    "- How to append, sum and sort elements of a list.\n",
    "- Using ranges and list comprehensions to build lists.\n",
    "- How to refer to part of a list using slices.\n",
    "\n",
    "## Further information\n",
    "\n",
    "- If you want to do something with a list, it is very likely that Python there is a function to do what you need, so you don't need to do any programming at all. Check the documentation on [sequence types](https://docs.python.org/3.5/library/stdtypes.html#sequence-types-list-tuple-range).\n",
    "- [List comprehension documentation](https://docs.python.org/3.5/tutorial/datastructures.html#list-comprehensions).\n",
    "- See [this article](http://nealcaren.web.unc.edu/an-introduction-to-text-analysis-with-python-part-1/) for an interesting example of text analysis done in Python."
   ]
  },
  {
   "cell_type": "markdown",
   "metadata": {},
   "source": [
    "<a rel=\"license\" href=\"http://creativecommons.org/licenses/by-nc-sa/4.0/\"><img alt=\"Creative Commons License\" style=\"border-width:0\" src=\"http://i.creativecommons.org/l/by-nc-sa/4.0/88x31.png\" /></a><br /><span xmlns:dct=\"http://purl.org/dc/terms/\" property=\"dct:title\"><b>Introduction to Computational Mathematics with Python</b></span> by <a xmlns:cc=\"http://creativecommons.org/ns#\" href=\"mailto:l.martins@csuohio.edu\" property=\"cc:attributionName\" rel=\"cc:attributionURL\">L. Felipe Martins</a> and \n",
    "<a xmlns:cc=\"http://creativecommons.org/ns#\" href=\"mailto:a.p.hoover@csuohio.edu\" property=\"cc:attributionName\" rel=\"cc:attributionURL\">L. Alexander P. Hoover</a> and is licensed under a <a rel=\"license\" href=\"http://creativecommons.org/licenses/by-nc-sa/4.0/\">Creative Commons Attribution-NonCommercial-ShareAlike 4.0 International License</a>."
   ]
  },
  {
   "cell_type": "code",
   "execution_count": null,
   "metadata": {},
   "outputs": [],
   "source": []
  }
 ],
 "metadata": {
  "kernelspec": {
   "display_name": "Python 3 (ipykernel)",
   "language": "python",
   "name": "python3"
  },
  "language_info": {
   "codemirror_mode": {
    "name": "ipython",
    "version": 3
   },
   "file_extension": ".py",
   "mimetype": "text/x-python",
   "name": "python",
   "nbconvert_exporter": "python",
   "pygments_lexer": "ipython3",
   "version": "3.8.5"
  }
 },
 "nbformat": 4,
 "nbformat_minor": 4
}
