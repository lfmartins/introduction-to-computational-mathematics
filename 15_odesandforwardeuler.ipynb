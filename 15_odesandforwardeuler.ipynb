{
  "nbformat": 4,
  "nbformat_minor": 0,
  "metadata": {
    "colab": {
      "provenance": [],
      "authorship_tag": "ABX9TyPrAf0JtyJsejmOkMpxUHAU",
      "include_colab_link": true
    },
    "kernelspec": {
      "name": "python3",
      "display_name": "Python 3"
    },
    "language_info": {
      "name": "python"
    }
  },
  "cells": [
    {
      "cell_type": "markdown",
      "metadata": {
        "id": "view-in-github",
        "colab_type": "text"
      },
      "source": [
        "<a href=\"https://colab.research.google.com/github/lfmartins/introduction-to-computational-mathematics/blob/main/15_odesandforwardeuler.ipynb\" target=\"_parent\"><img src=\"https://colab.research.google.com/assets/colab-badge.svg\" alt=\"Open In Colab\"/></a>"
      ]
    },
    {
      "cell_type": "markdown",
      "source": [
        "# Differential Equations\n",
        "\n",
        "Differential equations are equations that are composed of derivatives of functions and functions. Since it's an equation we know that '$=$' present and the derivatives are with respect to an independent variable, e.g. $t$, $x$.\n",
        "\n",
        "Here are a few examples:\n",
        "\n",
        "*  ${dy\\over dt} =cy,\\qquad c=$constant\n",
        "*  ${dy\\over dx} = x^2-2x$\n",
        "*  ${d^2y\\over dt^2} = t^2-2t$\n",
        "*  $m{d^2y\\over dt^2}+ \\beta{dy\\over dt}+gy=0$\n",
        "*  $ $\n",
        "\n",
        "In MTH 286, we spend time learning methods for analytical solutions to these equations. These solutions are functions with respect to the independent variable. General solutions for the above equations are the following:\n",
        "\n",
        "*  $y = Ae^{ct}$\n",
        "*  $y = {1\\over3}x^3-x^2 + C$\n",
        "*  ${d^2y\\over dt^2} = t^2-2t$\n",
        "*  $m{d^2y\\over dt^2}+ \\beta{dy\\over dt}+gy=0$\n",
        "*  $ $\n"
      ],
      "metadata": {
        "id": "jAwavoLHZd6v"
      }
    },
    {
      "cell_type": "markdown",
      "source": [
        "# Forward Euler"
      ],
      "metadata": {
        "id": "xc3JbJ5VZiof"
      }
    },
    {
      "cell_type": "markdown",
      "source": [
        "# Systems of Differential Equations\n"
      ],
      "metadata": {
        "id": "agqvPXqHZxVw"
      }
    },
    {
      "cell_type": "markdown",
      "source": [],
      "metadata": {
        "id": "beDy-BYoZ4ui"
      }
    }
  ]
}