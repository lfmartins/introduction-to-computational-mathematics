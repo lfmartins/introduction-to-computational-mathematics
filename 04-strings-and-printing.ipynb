{
 "cells": [
  {
   "cell_type": "markdown",
   "id": "9c620ffa-4b46-4863-816c-b264fb702dd9",
   "metadata": {},
   "source": [
    "[![Open In Colab](https://colab.research.google.com/assets/colab-badge.svg)](https://colab.research.google.com/github/lfmartins/introduction-to-computational-mathematics/blob/main/04-strings-and-printing.ipynb)\n",
    "\n",
    "# Introduction\n",
    "\n",
    "Any useful computer code must produce some kind of output. The most basic form of output is *text based*, that is, a sequence of characteres that can be displayed on the screen or printed. A sequence of characters is called a *string*. In this lesson we explore the use of strings to display the result of computations."
   ]
  },
  {
   "cell_type": "markdown",
   "id": "1e788a82-e89e-43dc-b07d-7b29bcdede54",
   "metadata": {},
   "source": [
    "# Strings\n",
    "\n",
    "A *string* is a sequence of characters. To define a string we enclose the sequence of characters in either double quotes or single quotes:"
   ]
  },
  {
   "cell_type": "code",
   "execution_count": 2,
   "id": "37a7d4a9-42ba-4391-8a91-4d8884937a34",
   "metadata": {},
   "outputs": [
    {
     "name": "stdout",
     "output_type": "stream",
     "text": [
      "This is a string!\n",
      "This too!\n"
     ]
    }
   ],
   "source": [
    "string1 = \"This is a string!\"\n",
    "print(string1)\n",
    "string2 = 'This too!'\n",
    "print(string2)"
   ]
  },
  {
   "cell_type": "markdown",
   "id": "3f072977-7cd1-4a78-8892-6407d69d4b91",
   "metadata": {},
   "source": [
    "In Python, there is *absolutely no difference between single quoted or double quoted strings*.  Other languages make a distinction between `\"...\"` and `'...'` but Python doesn't. \n",
    "\n",
    "We can use this feature if we need to insert the symbols `\"` or `'` in a string. For example, to define the string `Don't do this!`, we can use the following syntax:"
   ]
  },
  {
   "cell_type": "code",
   "execution_count": 3,
   "id": "584a2b48-551f-46f0-aa16-728eddaa846b",
   "metadata": {},
   "outputs": [
    {
     "name": "stdout",
     "output_type": "stream",
     "text": [
      "Don't do this!\n"
     ]
    }
   ],
   "source": [
    "warning= \"Don't do this!\"\n",
    "print(warning)"
   ]
  },
  {
   "cell_type": "markdown",
   "id": "5407f8a8-642f-4813-b27a-9e2df45b1477",
   "metadata": {},
   "source": [
    "Notice that using single quotes, as in `'Dont't do this!'` yields a syntax error (try it!). Likewise, we can insert double quotes in single-quoted string:"
   ]
  },
  {
   "cell_type": "code",
   "execution_count": 4,
   "id": "31216e5c-6c01-48aa-8e96-8601fa3b0e2a",
   "metadata": {},
   "outputs": [
    {
     "name": "stdout",
     "output_type": "stream",
     "text": [
      "It is said that 42 is the answer to \"life, the universe and everything\"\n"
     ]
    }
   ],
   "source": [
    "message = 'It is said that 42 is the answer to \"life, the universe and everything\"'\n",
    "print(message)"
   ]
  },
  {
   "cell_type": "markdown",
   "id": "39f4c60c-b2d8-431b-90c7-29d89b08b646",
   "metadata": {},
   "source": [
    "Strings spanning multiple lines are specified using triple quotes, `\"\"\"   \"\"\"` or `'''   '''`:"
   ]
  },
  {
   "cell_type": "code",
   "execution_count": 5,
   "id": "1fa3581c-c3b3-4327-ae19-1899dcfd4c14",
   "metadata": {},
   "outputs": [
    {
     "name": "stdout",
     "output_type": "stream",
     "text": [
      "Tyger Tyger, burning bright, \n",
      "In the forests of the night; \n",
      "What immortal hand or eye, \n",
      "Could frame thy fearful symmetry?\n"
     ]
    }
   ],
   "source": [
    "poem = \"\"\"Tyger Tyger, burning bright, \n",
    "In the forests of the night; \n",
    "What immortal hand or eye, \n",
    "Could frame thy fearful symmetry?\"\"\"\n",
    "print(poem)"
   ]
  },
  {
   "cell_type": "markdown",
   "id": "736207f5-0e5b-4e58-a786-f9a8705072b2",
   "metadata": {},
   "source": [
    "Python provides a powerful set of operations for string manipulations. One of the most useful is *string concatenation*, which is represented by the plus operator `+`. As an example, we can write:"
   ]
  },
  {
   "cell_type": "code",
   "execution_count": 6,
   "id": "c4c718cd-e52a-4e46-a9d2-6d3a2e0a11d1",
   "metadata": {},
   "outputs": [
    {
     "name": "stdout",
     "output_type": "stream",
     "text": [
      "Hello Alex\n",
      "Hello Felipe\n"
     ]
    }
   ],
   "source": [
    "greeting = \"Hello \"\n",
    "name1 = \"Alex\"\n",
    "name2 = \"Felipe\"\n",
    "print(greeting + name1)\n",
    "print(greeting + name2)"
   ]
  },
  {
   "cell_type": "markdown",
   "id": "e02bd117-c0f8-4d48-afbd-c80b37fecd35",
   "metadata": {},
   "source": [
    "To get the length of a string, use the function `len()`:"
   ]
  },
  {
   "cell_type": "code",
   "execution_count": 7,
   "id": "63b3f553-d30c-4a19-910b-3a7d96eac78a",
   "metadata": {},
   "outputs": [
    {
     "data": {
      "text/plain": [
       "42"
      ]
     },
     "execution_count": 7,
     "metadata": {},
     "output_type": "execute_result"
    }
   ],
   "source": [
    "message = \"What is life, the universe and everything?\"\n",
    "len(message)"
   ]
  },
  {
   "cell_type": "markdown",
   "id": "0cd17332-6302-491e-bdba-d8e316e2beb0",
   "metadata": {},
   "source": [
    "Python has an extensive collection of string methods, documented in [this link](https://docs.python.org/3/library/stdtypes.html#string-methods). The following cell has some examples: "
   ]
  },
  {
   "cell_type": "code",
   "execution_count": 8,
   "id": "3e82d9fc-e0df-4f5e-982e-82a41e33b14e",
   "metadata": {},
   "outputs": [
    {
     "name": "stdout",
     "output_type": "stream",
     "text": [
      "The quick brown fox jumped over the lazy dog.\n",
      "THE QUICK BROWN FOX JUMPED OVER THE LAZY DOG.\n",
      "20\n",
      "The quick brown fox laughed at the lazy dog.\n"
     ]
    }
   ],
   "source": [
    "str1 = \"The quick brown fox jumped over the lazy dog.\"\n",
    "print(str1)\n",
    "str2 = str1.upper()  # Convert to uppercase\n",
    "print(str2)\n",
    "index = str1.find(\"jumped\") # Find position of a substring\n",
    "print(index)\n",
    "str3 = str1.replace(\"jumped over\", \"laughed at\") # Substring replacement\n",
    "print(str3)"
   ]
  },
  {
   "cell_type": "markdown",
   "id": "10468fd4-7c59-4ace-816f-6ff2cf6afbb0",
   "metadata": {},
   "source": [
    "One very important feature of Python is that *every object in Python has a string representation*. To convert a variable to a string, use the function `str()`, as shown in the next code cell"
   ]
  },
  {
   "cell_type": "code",
   "execution_count": 10,
   "id": "537182e9-b667-476a-988e-16af4330141f",
   "metadata": {},
   "outputs": [
    {
     "data": {
      "text/plain": [
       "('42', '3.14')"
      ]
     },
     "execution_count": 10,
     "metadata": {},
     "output_type": "execute_result"
    }
   ],
   "source": [
    "a = 42\n",
    "b = 3.14\n",
    "str(a), str(b)"
   ]
  },
  {
   "cell_type": "markdown",
   "id": "aa1a1abd-ccd3-4e3b-acc0-cf33b23a44c5",
   "metadata": {},
   "source": [
    "Now, let's consider a less trivial example. In the example below we create a set of integers and then convert it to a string:"
   ]
  },
  {
   "cell_type": "code",
   "execution_count": 12,
   "id": "174e784b-2926-47b5-978c-06c7cebe4fc8",
   "metadata": {},
   "outputs": [
    {
     "data": {
      "text/plain": [
       "'{1, 2, 3}'"
      ]
     },
     "execution_count": 12,
     "metadata": {},
     "output_type": "execute_result"
    }
   ],
   "source": [
    "set_of_integers = {1, 2, 3}\n",
    "str(set_of_integers)"
   ]
  },
  {
   "cell_type": "markdown",
   "id": "308cd979-d935-4cb8-ae53-f05583aa3873",
   "metadata": {},
   "source": [
    "One might think that strings are an outdated representation of data, given that computer code today can work with rich media such as images, video and sound. Nothing could be further from the truth. Web pages for example, are just strings in the markup language HTML. Even Jupyter notebooks are represented by strings. For example, the initial characteres of the string that represents this notebook are:\n",
    "\n",
    "    {\n",
    "     \"cells\": [\n",
    "      {\n",
    "       \"cell_type\": \"markdown\",\n",
    "       \"id\": \"9c620ffa-4b46-4863-816c-b264fb702dd9\",\n",
    "       \"metadata\": {},\n",
    "       \"source\": [\n",
    "       ...     \n",
    "Jupyter notebooks are stored in a data exchange format called JSON, which is one of the most widely used formats in the web. A JSON file is a text file, and could, for example, be read into a string in an application.\n",
    "\n",
    "In the next section we will see that the combination of strings with the `print()` function provide a powerful tool for presenting the result of computations."
   ]
  },
  {
   "cell_type": "markdown",
   "id": "16706947-86d0-41d2-b561-1dabaff6b167",
   "metadata": {},
   "source": [
    "# The `print()` function and formatting.\n",
    "\n",
    "We have already seen how to use the `print()` function to display values of variables. Here is one more example:"
   ]
  },
  {
   "cell_type": "code",
   "execution_count": 14,
   "id": "f255c80f-8027-4d7d-a2e0-7638c4f65c9b",
   "metadata": {},
   "outputs": [
    {
     "name": "stdout",
     "output_type": "stream",
     "text": [
      "42 3.14 Python is awsome\n"
     ]
    }
   ],
   "source": [
    "answer = 42\n",
    "pi = 3.14\n",
    "message = \"Python is awsome\"\n",
    "print(answer, pi, message)"
   ]
  },
  {
   "cell_type": "markdown",
   "id": "0caddd89-a9dc-4f97-86b4-4aa3740d8d9c",
   "metadata": {},
   "source": [
    "There is quite a lot happening in the background when we call the `print()` function:\n",
    "\n",
    "- First, each argument to `print()` is converted to a string (using the `str()` function discussed above).\n",
    "- Then, the strings are concatenated, with a blank space inserted between strings.\n",
    "- Finally, the concatenated string is displayed under the computation cell.\n",
    "\n",
    "Let's now suppose that, instead of just printing the variable values, we would like to display more informative text. The following cell illustrates how this can be done:"
   ]
  },
  {
   "cell_type": "code",
   "execution_count": 15,
   "id": "9a4f27be-d803-4588-9918-02169d0a3584",
   "metadata": {},
   "outputs": [
    {
     "name": "stdout",
     "output_type": "stream",
     "text": [
      "The answer to live, the universe and everything is 42\n"
     ]
    }
   ],
   "source": [
    "answer = 42\n",
    "print(f\"The answer to life, the universe and everything is {answer}\")"
   ]
  },
  {
   "cell_type": "markdown",
   "id": "b6bb30bc-4bfa-44ca-87c9-c3740cb4669b",
   "metadata": {},
   "source": [
    "Make sure you understand well what is happening here. The string:\n",
    "\n",
    "    f\"The answer to life, the universe and everything is {answer}\"\n",
    "    \n",
    "is called a *format string*, indicated by the fact that the string definition starts with the letter `f`:\n",
    "\n",
    "    f\" ... \" or f' ... '   \n",
    "    \n",
    "In the format string, the expression in curly brackets `{answer}` is replaced by the value of the variable `answer`, resulting in:\n",
    "\n",
    "    \"The answer to life, the universe and everything is 42\"\n",
    "    \n",
    "which is then printed.\n",
    "\n",
    "In a format string, expressions between curly brackets `{ ... }` are evaluated, converted to a string, and then *interpolated* into the original string in the appropriate place. \n",
    "\n",
    "There can more than one interpolated expression in a single formatting string, as shown below: "
   ]
  },
  {
   "cell_type": "code",
   "execution_count": 21,
   "id": "bfcea8bf-69bf-4793-9d36-099d4057734b",
   "metadata": {},
   "outputs": [
    {
     "name": "stdout",
     "output_type": "stream",
     "text": [
      "The most important mathematical constants are pi=3.141592653589793 and e=2.718281828459045\n"
     ]
    }
   ],
   "source": [
    "import numpy as np\n",
    "print(f\"The most important mathematical constants are pi={np.pi} and e={np.e}\")"
   ]
  },
  {
   "cell_type": "markdown",
   "id": "e9e46eb6-6c94-476f-9f3f-0a9970e30f82",
   "metadata": {},
   "source": [
    "Formatting strings support any kind of expression. The following code shows one example:"
   ]
  },
  {
   "cell_type": "code",
   "execution_count": 22,
   "id": "fa7abb2b-d953-4b9e-ad3b-d2c0b3205fd5",
   "metadata": {},
   "outputs": [
    {
     "name": "stdout",
     "output_type": "stream",
     "text": [
      "The input values are 2.55 and 3.34\n",
      "The arithmetic mean is 2.945\n",
      "The geometric mean is 2.9183899670880176\n"
     ]
    }
   ],
   "source": [
    "a = 2.55\n",
    "b = 3.34\n",
    "print(f\"The input values are {a} and {b}\")\n",
    "print(f\"The arithmetic mean is {(a + b) / 2}\")\n",
    "print(f\"The geometric mean is {np.sqrt(a * b)}\")"
   ]
  },
  {
   "cell_type": "markdown",
   "id": "5d49eb9a-c3f8-4e02-8ce7-51550e6f5707",
   "metadata": {},
   "source": [
    "Formatting strings can be multiline strings, so the previous example could be written as:"
   ]
  },
  {
   "cell_type": "code",
   "execution_count": 23,
   "id": "f591f58b-bcc5-4582-b6ab-7da96191bbdf",
   "metadata": {},
   "outputs": [
    {
     "name": "stdout",
     "output_type": "stream",
     "text": [
      "The input values are 2.55 and 3.34\n",
      "The arithmetic mean is 2.945\n",
      "The geometric mean is 2.9183899670880176\n"
     ]
    }
   ],
   "source": [
    "a = 2.55\n",
    "b = 3.34\n",
    "print(f\"\"\"The input values are {a} and {b}\n",
    "The arithmetic mean is {(a + b) / 2}\n",
    "The geometric mean is {np.sqrt(a * b)}\"\"\")"
   ]
  },
  {
   "cell_type": "markdown",
   "id": "b15ae8ec-4983-4de0-bd82-89449798c0f3",
   "metadata": {},
   "source": [
    "Interpolated expressions can be more precisely formatted, as in the examples below:"
   ]
  },
  {
   "cell_type": "code",
   "execution_count": 24,
   "id": "39f588a0-508b-427c-9f3d-c9ae69b0f9c0",
   "metadata": {},
   "outputs": [
    {
     "name": "stdout",
     "output_type": "stream",
     "text": [
      "The value of a is |   1234|\n",
      "The value of a is |0001234|\n",
      "The value of a is |1234   |\n",
      "The value of b is |  12.346|\n",
      "The value of b is |1.23e+01|\n"
     ]
    }
   ],
   "source": [
    "a = 1234\n",
    "b = 12.3456789\n",
    "print(f\"The value of a is |{a:7d}|\")   # Print a as a decimal value, in a field of length 7\n",
    "print(f\"The value of a is |{a:07d}|\")  # Left padding with 0s\n",
    "print(f\"The value of a is |{a:<7d}|\")  # Align left\n",
    "print(f\"The value of b is |{b:8.3f}|\") # Print b as a float, in a field of length 8, with 3 decimal places\n",
    "print(f\"The value of b is |{b:8.2e}|\") # Scientific notation"
   ]
  },
  {
   "cell_type": "markdown",
   "id": "8a0369c6-e09b-4c49-ab0a-8abfa1a75ebd",
   "metadata": {},
   "source": [
    "To specify a format, the following syntax is used:\n",
    "\n",
    "    {variable_name:format_specifications}\n",
    "    \n",
    "There is a lot of flexibility in format specifications, which are described in detail [here](https://docs.python.org/3/reference/lexical_analysis.html#f-strings).\n",
    "\n",
    "If we append `=` at the end of a formatting string, then the variable name is also inserted in the interpolated string. This feature is very useful in debugging code:"
   ]
  },
  {
   "cell_type": "code",
   "execution_count": 27,
   "id": "0513ec17-6592-41fd-904c-1ac14bb8b73b",
   "metadata": {},
   "outputs": [
    {
     "name": "stdout",
     "output_type": "stream",
     "text": [
      "A this point in the code, we have a=5 , b=16 and a+b=21\n"
     ]
    }
   ],
   "source": [
    "a, b = 5, 16\n",
    "print(f\"A this point in the code, we have {a=} , {b=} and {a+b=}\")"
   ]
  },
  {
   "cell_type": "markdown",
   "id": "8e0548a6-e861-4ee4-b987-07af514c33ee",
   "metadata": {},
   "source": [
    "Finally, to enter curly braces in a format string, use `{{` and `}}`:"
   ]
  },
  {
   "cell_type": "code",
   "execution_count": 30,
   "id": "8c430260-1347-47ed-a3e2-b5757dbc6e52",
   "metadata": {},
   "outputs": [
    {
     "name": "stdout",
     "output_type": "stream",
     "text": [
      "Sets are surrounded by curly braces: { 2, 3, 4 }\n"
     ]
    }
   ],
   "source": [
    "a, b, c = 2, 3, 4\n",
    "print(f\"Sets are surrounded by braces: {{ {a}, {b}, {c} }}\")"
   ]
  },
  {
   "cell_type": "markdown",
   "id": "a83891c4-af48-47ad-b4e6-7187d511e41c",
   "metadata": {},
   "source": [
    "Notice that `{{` and `}}` are translated into a single curly bracket."
   ]
  },
  {
   "cell_type": "markdown",
   "id": "301092fb-4f0d-4243-922d-871da5a8a4df",
   "metadata": {},
   "source": [
    "# Escape sequences\n",
    "\n",
    "Escape sequences are used to insert special characters in strings. The following example shows how to insert a new line in a string:"
   ]
  },
  {
   "cell_type": "code",
   "execution_count": 32,
   "id": "2c74ae70-c88b-4e1d-a225-575eab4b4f11",
   "metadata": {},
   "outputs": [
    {
     "name": "stdout",
     "output_type": "stream",
     "text": [
      "This is a string\n",
      "with has two lines\n"
     ]
    }
   ],
   "source": [
    "two_lines = \"This is a string\\nwith has two lines\"\n",
    "print(two_lines)"
   ]
  },
  {
   "cell_type": "markdown",
   "id": "817de78c-31df-4de3-ba58-be687ea35476",
   "metadata": {},
   "source": [
    "The `\\n` in the string definition represents a *newline character*. This is an \"invisible character\" that causes a line break when printing. This is called *escaping*. Specifically, in this case, the character `n` was \"escaped\" with `\\n`, and acquires a special meaning (namely, a newline).\n",
    "\n",
    "Two other escape sequences that are sometimes useful are `\\\"` and `\\'`, which can be used to insert quotes in strings:"
   ]
  },
  {
   "cell_type": "code",
   "execution_count": 33,
   "id": "b6cdcb2d-7528-4476-ae89-3b280bc3fb8c",
   "metadata": {},
   "outputs": [
    {
     "name": "stdout",
     "output_type": "stream",
     "text": [
      "A double quoted string with \"double quotes\" inside it\n",
      "A single quoted string with 'single quotes' inside it\n"
     ]
    }
   ],
   "source": [
    "str1 = \"A double quoted string with \\\"double quotes\\\" inside it\"\n",
    "str2 = 'A single quoted string with \\'single quotes\\' inside it'\n",
    "print(str1)\n",
    "print(str2)"
   ]
  },
  {
   "cell_type": "markdown",
   "id": "00af5f4f-018b-48d7-ae14-82c07c134a87",
   "metadata": {},
   "source": [
    "Notice that if if you don't escape the quotes and write something like:\n",
    "    \n",
    "    str1 = \"A double quoted string with \"double quotes\" inside it\"\n",
    "    \n",
    "you will get a syntax error."
   ]
  },
  {
   "cell_type": "markdown",
   "id": "13bb9602-f473-4263-8a93-e150b4edcdc4",
   "metadata": {},
   "source": [
    "All this brings up an interesting question: how does one insert a backslash in a Python string? This is done by the escape sequence `\\\\`, as shown in the code below:"
   ]
  },
  {
   "cell_type": "code",
   "execution_count": 34,
   "id": "987c98cd-cea5-4a12-9c45-3cf7b877e6a6",
   "metadata": {},
   "outputs": [
    {
     "name": "stdout",
     "output_type": "stream",
     "text": [
      "The newline character is represented by the escape sequence \\n\n"
     ]
    }
   ],
   "source": [
    "msg = \"The newline character is represented by the escape sequence \\\\n\"\n",
    "print(msg)"
   ]
  },
  {
   "cell_type": "markdown",
   "id": "1adceda7-1464-4867-8158-69fe32aef614",
   "metadata": {},
   "source": [
    "In this example the `\\\\` represents a single backslash `\\`.\n",
    "\n",
    "Another use of escaped sequences is printing unicode characteres that are not available in the keyboard:"
   ]
  },
  {
   "cell_type": "code",
   "execution_count": 35,
   "id": "01d7c3be-4619-4289-8184-b6a82994aed0",
   "metadata": {},
   "outputs": [
    {
     "name": "stdout",
     "output_type": "stream",
     "text": [
      "🐍 makes me 😀\n"
     ]
    }
   ],
   "source": [
    "msg = \"\\U0001F40D makes me \\U0001F600\"\n",
    "print(msg)"
   ]
  },
  {
   "cell_type": "markdown",
   "id": "085f53dd-5573-4bdc-af2e-7fb0434bec3d",
   "metadata": {},
   "source": [
    "This, of course, is read \"Python makes me smile\".\n",
    "\n",
    "\n",
    "Fun fact: you can use unicode characters directly in Python, if you keyboard supports it:"
   ]
  },
  {
   "cell_type": "code",
   "execution_count": 36,
   "id": "2d9a5a2a-240c-450b-9293-2c6436350319",
   "metadata": {},
   "outputs": [
    {
     "name": "stdout",
     "output_type": "stream",
     "text": [
      "🐍 makes me 😀\n"
     ]
    }
   ],
   "source": [
    "msg = \"🐍 makes me 😀\"\n",
    "print(msg)"
   ]
  },
  {
   "cell_type": "markdown",
   "id": "dd9c0cd8-ee06-4607-b8b3-5b938c04fc0a",
   "metadata": {},
   "source": [
    "Notice that the above is not recommended. Not all text editors support unicode (alghough most modern editors do), so there is no guarantee that the example above will display correctly. The code:\n",
    "\n",
    "    msg = \"\\U0001F40D makes me \\U0001F600\"\n",
    "    \n",
    "may be less clear but is guaranteed to be readable in any text editor.\n",
    "\n",
    "Finally, there are situations in which we want to ignore escape sequences. As an example, the graphics package `matplotlib` allows formulas written in LaTeX to be used as graph components such as titles and labels. For example, let's say we want typeset the formula $f(x)=\\nabla\\tan(x)$, which is produced by the LaTeX code `$f(x)=\\nabla\\tan(x)$`. \n",
    "\n",
    "For these situations, Python has the concept of *raw string*, which uses the notation `r\" ... \"` or `r' ... '`. For example:"
   ]
  },
  {
   "cell_type": "code",
   "execution_count": 44,
   "id": "3b0a5496-e2a3-4019-ad5e-73c598c9ff20",
   "metadata": {},
   "outputs": [
    {
     "name": "stdout",
     "output_type": "stream",
     "text": [
      "$f(x)=\\nabla\\tan(x)$\n"
     ]
    }
   ],
   "source": [
    "label = r\"$f(x)=\\nabla\\tan(x)$\"\n",
    "print(label)"
   ]
  },
  {
   "cell_type": "markdown",
   "id": "6d6384ee-71cf-4c1f-b31e-316942f2abf1",
   "metadata": {},
   "source": [
    "Notice that the backslashes are not interpreted in any special way. You can run the cell above omitting the `r` in the string definition to see what happens."
   ]
  },
  {
   "cell_type": "markdown",
   "id": "5ea9335c-b9ef-474a-b14b-544f3dc7da0c",
   "metadata": {},
   "source": [
    "# Exercises\n",
    "\n",
    "**1.** Suppose we want to print the following:\n",
    "\n",
    "    Eating an apple a day\n",
    "    May not keep the doctor away\n",
    "    But is good for you anyway\n",
    "    \n",
    "Show how to do it in three different ways:\n",
    "\n",
    "- Using multiple `print()` calls.\n",
    "- Using a multiline string.\n",
    "- Using escape characters."
   ]
  },
  {
   "cell_type": "code",
   "execution_count": null,
   "id": "762aa183-1355-4387-9385-4419a5edaf8e",
   "metadata": {},
   "outputs": [],
   "source": []
  },
  {
   "cell_type": "markdown",
   "id": "38e18b4b-b92d-4b47-9efc-9bec96798dc6",
   "metadata": {},
   "source": [
    "**2.** Execute the following in a code cell:\n",
    "\n",
    "    talk = 3 * \"yadda \"\n",
    "    print(talk)\n",
    "    \n",
    "Using this as an example, write code that prints a string with the character `#` repeated 50 times."
   ]
  },
  {
   "cell_type": "code",
   "execution_count": null,
   "id": "baf1f8b7-b4bf-4208-852d-00ea7a3656e3",
   "metadata": {},
   "outputs": [],
   "source": []
  },
  {
   "cell_type": "markdown",
   "id": "4d9e5ba0-1d4c-451f-914b-673bd5b7b11d",
   "metadata": {},
   "source": [
    "**3.** Strings can also be arguments and/or return values in functions. Write a function with the following signature:\n",
    "\n",
    "    nosy_neighbor(name, visitors)\n",
    "    \n",
    "For example, the function call:\n",
    "\n",
    "    nosy_neighbor('Felipe', 36)\n",
    "    \n",
    "should return the string:\n",
    "\n",
    "    Good morning Felipe! I noticed you had 36 visitors last night!"
   ]
  },
  {
   "cell_type": "code",
   "execution_count": null,
   "id": "3afa685e-7edc-4168-92ce-d3d9b62b259a",
   "metadata": {},
   "outputs": [],
   "source": [
    "**4**"
   ]
  }
 ],
 "metadata": {
  "kernelspec": {
   "display_name": "Python 3 (ipykernel)",
   "language": "python",
   "name": "python3"
  },
  "language_info": {
   "codemirror_mode": {
    "name": "ipython",
    "version": 3
   },
   "file_extension": ".py",
   "mimetype": "text/x-python",
   "name": "python",
   "nbconvert_exporter": "python",
   "pygments_lexer": "ipython3",
   "version": "3.9.7"
  }
 },
 "nbformat": 4,
 "nbformat_minor": 5
}
