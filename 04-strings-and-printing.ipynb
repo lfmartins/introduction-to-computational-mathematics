{
 "cells": [
  {
   "cell_type": "markdown",
   "id": "9c620ffa-4b46-4863-816c-b264fb702dd9",
   "metadata": {},
   "source": [
    "[![Open In Colab](https://colab.research.google.com/assets/colab-badge.svg)](https://colab.research.google.com/github/lfmartins/introduction-to-computational-mathematics/blob/main/01-jupyter-as-a-calculator.ipynb)\n",
    "\n",
    "# Introduction\n",
    "\n",
    "Any useful computer code must produce some kind of output. The most basic form of output is *text based*, that is, a sequence of characteres that can be displayed on the screen or printed. A sequence of characters is called a *string*. In this lesson we explore the use of strings to display the result of computations."
   ]
  },
  {
   "cell_type": "markdown",
   "id": "1e788a82-e89e-43dc-b07d-7b29bcdede54",
   "metadata": {},
   "source": [
    "# Strings\n",
    "\n",
    "A *string* is a sequence of characters. To define a string we enclose the sequence of characters in either double quotes or single quotes:"
   ]
  },
  {
   "cell_type": "code",
   "execution_count": 2,
   "id": "37a7d4a9-42ba-4391-8a91-4d8884937a34",
   "metadata": {},
   "outputs": [
    {
     "name": "stdout",
     "output_type": "stream",
     "text": [
      "This is a string!\n",
      "This too!\n"
     ]
    }
   ],
   "source": [
    "string1 = \"This is a string!\"\n",
    "print(string1)\n",
    "string2 = 'This too!'\n",
    "print(string2)"
   ]
  },
  {
   "cell_type": "markdown",
   "id": "3f072977-7cd1-4a78-8892-6407d69d4b91",
   "metadata": {},
   "source": [
    "In Python, there is *absolutely no difference between using single quotes or double quotes* when defining a string. Many other languages make a distinction between `\"...\"` and `'...'` but Python doesn't. In fact, this is one of the ways of inserting quotes (double or single) in a string. For example, to define the string `Don't do this!`, we use syntax like:"
   ]
  },
  {
   "cell_type": "code",
   "execution_count": 7,
   "id": "584a2b48-551f-46f0-aa16-728eddaa846b",
   "metadata": {},
   "outputs": [
    {
     "name": "stdout",
     "output_type": "stream",
     "text": [
      "Don't do this!\n"
     ]
    }
   ],
   "source": [
    "warning= \"Don't do this!\"\n",
    "print(warning)"
   ]
  },
  {
   "cell_type": "markdown",
   "id": "5407f8a8-642f-4813-b27a-9e2df45b1477",
   "metadata": {},
   "source": [
    "Likewise, we can insert double quotes in single-quoted string:"
   ]
  },
  {
   "cell_type": "code",
   "execution_count": 9,
   "id": "31216e5c-6c01-48aa-8e96-8601fa3b0e2a",
   "metadata": {},
   "outputs": [
    {
     "name": "stdout",
     "output_type": "stream",
     "text": [
      "It is said that 42 is the answer to \"life, the universe and everything\"\n"
     ]
    }
   ],
   "source": [
    "message = 'It is said that 42 is the answer to \"life, the universe and everything\"'\n",
    "print(message)"
   ]
  },
  {
   "cell_type": "markdown",
   "id": "39f4c60c-b2d8-431b-90c7-29d89b08b646",
   "metadata": {},
   "source": [
    "Strings spanning multiple lines are specified using triple quotes, `\"\"\"   \"\"\"` or `'''   '''`:"
   ]
  },
  {
   "cell_type": "code",
   "execution_count": 36,
   "id": "1fa3581c-c3b3-4327-ae19-1899dcfd4c14",
   "metadata": {},
   "outputs": [
    {
     "name": "stdout",
     "output_type": "stream",
     "text": [
      "Tyger Tyger, burning bright, \n",
      "In the forests of the night; \n",
      "What immortal hand or eye, \n",
      "Could frame thy fearful symmetry?\n"
     ]
    }
   ],
   "source": [
    "poem = \"\"\"Tyger Tyger, burning bright, \n",
    "In the forests of the night; \n",
    "What immortal hand or eye, \n",
    "Could frame thy fearful symmetry?\"\"\"\n",
    "print(poem)"
   ]
  },
  {
   "cell_type": "markdown",
   "id": "736207f5-0e5b-4e58-a786-f9a8705072b2",
   "metadata": {},
   "source": [
    "Python provides a powerful set of operations for string manipulations. One of the most useful is *string concatenation*, which is represented by the plus operator `+`. As an example, we can write:"
   ]
  },
  {
   "cell_type": "code",
   "execution_count": 11,
   "id": "c4c718cd-e52a-4e46-a9d2-6d3a2e0a11d1",
   "metadata": {},
   "outputs": [
    {
     "name": "stdout",
     "output_type": "stream",
     "text": [
      "Hello Alex\n",
      "Hello Felipe\n"
     ]
    }
   ],
   "source": [
    "greeting = \"Hello \"\n",
    "name1 = \"Alex\"\n",
    "name2 = \"Felipe\"\n",
    "print(greeting + name1)\n",
    "print(greeting + name2)"
   ]
  },
  {
   "cell_type": "markdown",
   "id": "e02bd117-c0f8-4d48-afbd-c80b37fecd35",
   "metadata": {},
   "source": [
    "To get the length of a string, use the function `len()`:"
   ]
  },
  {
   "cell_type": "code",
   "execution_count": 17,
   "id": "63b3f553-d30c-4a19-910b-3a7d96eac78a",
   "metadata": {},
   "outputs": [
    {
     "data": {
      "text/plain": [
       "42"
      ]
     },
     "execution_count": 17,
     "metadata": {},
     "output_type": "execute_result"
    }
   ],
   "source": [
    "message = \"What is life, the universe and everything?\"\n",
    "len(message)"
   ]
  },
  {
   "cell_type": "markdown",
   "id": "0cd17332-6302-491e-bdba-d8e316e2beb0",
   "metadata": {},
   "source": [
    "Python has an extensive collection of string methods, documented in [this link](https://docs.python.org/3/library/stdtypes.html#string-methods). The following cell has some examples: "
   ]
  },
  {
   "cell_type": "code",
   "execution_count": 24,
   "id": "3e82d9fc-e0df-4f5e-982e-82a41e33b14e",
   "metadata": {},
   "outputs": [
    {
     "name": "stdout",
     "output_type": "stream",
     "text": [
      "The quick brown fox jumped over the lazy dog.\n",
      "THE QUICK BROWN FOX JUMPED OVER THE LAZY DOG.\n",
      "20\n",
      "The quick brown fox laughed at the lazy dog.\n"
     ]
    }
   ],
   "source": [
    "str1 = \"The quick brown fox jumped over the lazy dog.\"\n",
    "print(str1)\n",
    "str2 = str1.upper()  # Convert to uppercase\n",
    "print(str2)\n",
    "index = str1.find(\"jumped\") # Find position of a substring\n",
    "print(index)\n",
    "str3 = str1.replace(\"jumped over\", \"laughed at\") # Substring replacement\n",
    "print(str3)"
   ]
  },
  {
   "cell_type": "markdown",
   "id": "10468fd4-7c59-4ace-816f-6ff2cf6afbb0",
   "metadata": {},
   "source": [
    "One very important feature of Python is that *every object in Python can be represented by a string*. To convert a variable to a string, use the function `str()`, as shown in the next code cell"
   ]
  },
  {
   "cell_type": "code",
   "execution_count": 26,
   "id": "537182e9-b667-476a-988e-16af4330141f",
   "metadata": {},
   "outputs": [
    {
     "data": {
      "text/plain": [
       "('42', '3.14', 'Hello world')"
      ]
     },
     "execution_count": 26,
     "metadata": {},
     "output_type": "execute_result"
    }
   ],
   "source": [
    "a = 42\n",
    "b = 3.14\n",
    "c = \"Hello world\"\n",
    "str(a), str(b), str(c)"
   ]
  },
  {
   "cell_type": "markdown",
   "id": "aa1a1abd-ccd3-4e3b-acc0-cf33b23a44c5",
   "metadata": {},
   "source": [
    "Now, let's consider a less trivial example. In the example below we create a set of integers and then convert it to a string:"
   ]
  },
  {
   "cell_type": "code",
   "execution_count": 41,
   "id": "174e784b-2926-47b5-978c-06c7cebe4fc8",
   "metadata": {},
   "outputs": [
    {
     "data": {
      "text/plain": [
       "'{1, 2, 3}'"
      ]
     },
     "execution_count": 41,
     "metadata": {},
     "output_type": "execute_result"
    }
   ],
   "source": [
    "set_of_integers = {1, 2, 3}\n",
    "str(s)"
   ]
  },
  {
   "cell_type": "markdown",
   "id": "308cd979-d935-4cb8-ae53-f05583aa3873",
   "metadata": {},
   "source": [
    "One might think that strings are an outdated form of representing data, given that computer code today can work with rich media such as images, video and sound. Nothing could be further from the truth. Web pages for example, are just strings in the markup language HTML. Even Jupyter notebooks are strings. For example"
   ]
  },
  {
   "cell_type": "markdown",
   "id": "16706947-86d0-41d2-b561-1dabaff6b167",
   "metadata": {},
   "source": [
    "# The `print()` function and formatting.\n",
    "\n",
    "We have already seen how to use the `print()` function to display values of variables. Here is one more example:"
   ]
  },
  {
   "cell_type": "code",
   "execution_count": 25,
   "id": "f255c80f-8027-4d7d-a2e0-7638c4f65c9b",
   "metadata": {},
   "outputs": [
    {
     "name": "stdout",
     "output_type": "stream",
     "text": [
      "42 3.14 Hello, world!\n"
     ]
    }
   ],
   "source": [
    "life = 42\n",
    "pi = 3.14\n",
    "message = \"Hello, world!\"\n",
    "print(life, pi, message)"
   ]
  },
  {
   "cell_type": "markdown",
   "id": "0caddd89-a9dc-4f97-86b4-4aa3740d8d9c",
   "metadata": {},
   "source": [
    "It is worth to understand what is going on in the background here. "
   ]
  }
 ],
 "metadata": {
  "kernelspec": {
   "display_name": "Python 3 (ipykernel)",
   "language": "python",
   "name": "python3"
  },
  "language_info": {
   "codemirror_mode": {
    "name": "ipython",
    "version": 3
   },
   "file_extension": ".py",
   "mimetype": "text/x-python",
   "name": "python",
   "nbconvert_exporter": "python",
   "pygments_lexer": "ipython3",
   "version": "3.8.5"
  }
 },
 "nbformat": 4,
 "nbformat_minor": 5
}
