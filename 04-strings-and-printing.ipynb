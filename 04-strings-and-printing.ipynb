{
 "cells": [
  {
   "cell_type": "markdown",
   "id": "9c620ffa-4b46-4863-816c-b264fb702dd9",
   "metadata": {},
   "source": [
    "[![Open In Colab](https://colab.research.google.com/assets/colab-badge.svg)](https://colab.research.google.com/github/lfmartins/introduction-to-computational-mathematics/blob/main/01-jupyter-as-a-calculator.ipynb)\n",
    "\n",
    "# Introduction\n",
    "\n",
    "Any useful computer code must produce some kind of output. The most basic form of output is *text based*, that is, a sequence of characteres that can be displayed on the screen or printed. A sequence of characters is called a *string*. In this lesson we explore the use of strings to display the result of computations."
   ]
  },
  {
   "cell_type": "markdown",
   "id": "1e788a82-e89e-43dc-b07d-7b29bcdede54",
   "metadata": {},
   "source": [
    "# Strings\n",
    "\n",
    "A *string* is a sequence of characters. To define a string we enclose the sequence of characters in either double quotes or single quotes:"
   ]
  },
  {
   "cell_type": "code",
   "execution_count": 2,
   "id": "37a7d4a9-42ba-4391-8a91-4d8884937a34",
   "metadata": {},
   "outputs": [
    {
     "name": "stdout",
     "output_type": "stream",
     "text": [
      "This is a string!\n",
      "This too!\n"
     ]
    }
   ],
   "source": [
    "string1 = \"This is a string!\"\n",
    "print(string1)\n",
    "string2 = 'This too!'\n",
    "print(string2)"
   ]
  },
  {
   "cell_type": "markdown",
   "id": "3f072977-7cd1-4a78-8892-6407d69d4b91",
   "metadata": {},
   "source": [
    "In Python, there is *absolutely no difference between using single quotes or double quotes* when defining a string. Many other languages make a distinction between `\"...\"` and `'...'` but Python doesn't. In fact, this is one of the ways of inserting quotes (double or single) in a string. For example, to define the string `Don't do this!`, we use syntax like:"
   ]
  },
  {
   "cell_type": "code",
   "execution_count": 7,
   "id": "584a2b48-551f-46f0-aa16-728eddaa846b",
   "metadata": {},
   "outputs": [
    {
     "name": "stdout",
     "output_type": "stream",
     "text": [
      "Don't do this!\n"
     ]
    }
   ],
   "source": [
    "warning= \"Don't do this!\"\n",
    "print(warning)"
   ]
  },
  {
   "cell_type": "markdown",
   "id": "5407f8a8-642f-4813-b27a-9e2df45b1477",
   "metadata": {},
   "source": [
    "Likewise, we can insert double quotes in single-quoted string:"
   ]
  },
  {
   "cell_type": "code",
   "execution_count": 9,
   "id": "31216e5c-6c01-48aa-8e96-8601fa3b0e2a",
   "metadata": {},
   "outputs": [
    {
     "name": "stdout",
     "output_type": "stream",
     "text": [
      "It is said that 42 is the answer to \"life, the universe and everything\"\n"
     ]
    }
   ],
   "source": [
    "message = 'It is said that 42 is the answer to \"life, the universe and everything\"'\n",
    "print(message)"
   ]
  },
  {
   "cell_type": "markdown",
   "id": "736207f5-0e5b-4e58-a786-f9a8705072b2",
   "metadata": {},
   "source": [
    "Python provides a powerful set of operations for string manipulations. One of the most used is *string concatenation*, which is represented by the plus operator `+`. As an example, we can write:"
   ]
  },
  {
   "cell_type": "code",
   "execution_count": 11,
   "id": "c4c718cd-e52a-4e46-a9d2-6d3a2e0a11d1",
   "metadata": {},
   "outputs": [
    {
     "name": "stdout",
     "output_type": "stream",
     "text": [
      "Hello Alex\n",
      "Hello Felipe\n"
     ]
    }
   ],
   "source": [
    "greeting = \"Hello \"\n",
    "name1 = \"Alex\"\n",
    "name2 = \"Felipe\"\n",
    "print(greeting + name1)\n",
    "print(greeting + name2)"
   ]
  },
  {
   "cell_type": "code",
   "execution_count": null,
   "id": "b001561c-52b7-4308-952f-2f6b2151a39e",
   "metadata": {},
   "outputs": [],
   "source": []
  }
 ],
 "metadata": {
  "kernelspec": {
   "display_name": "Python 3 (ipykernel)",
   "language": "python",
   "name": "python3"
  },
  "language_info": {
   "codemirror_mode": {
    "name": "ipython",
    "version": 3
   },
   "file_extension": ".py",
   "mimetype": "text/x-python",
   "name": "python",
   "nbconvert_exporter": "python",
   "pygments_lexer": "ipython3",
   "version": "3.8.5"
  }
 },
 "nbformat": 4,
 "nbformat_minor": 5
}
