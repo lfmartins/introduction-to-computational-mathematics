{
 "cells": [
  {
   "cell_type": "markdown",
   "metadata": {
    "colab_type": "text",
    "id": "view-in-github"
   },
   "source": [
    "<a href=\"https://colab.research.google.com/github/lfmartins/introduction-to-computational-mathematics/blob/main/09_matplotlib_intro.ipynb\" target=\"_parent\"><img src=\"https://colab.research.google.com/assets/colab-badge.svg\" alt=\"Open In Colab\"/></a>"
   ]
  },
  {
   "cell_type": "markdown",
   "metadata": {
    "id": "83tsJMvkcaAA"
   },
   "source": [
    "\n",
    "\n",
    "# Introducing Matplotlib \n",
    "\n",
    "Today we are going to introduce one of the most useful libraries in python, [Matplotlib](https://matplotlib.org/). We will use this library in concert with NumPy, which we used in previous modules when introducing functions and arrays in Python. In this lesson we will work on plotting the data we generate in computational routine.\n",
    "\n",
    "NumPy is a mathematical library with a huge number of computational routines. For those with experience in Matlab, many of the functions have similar analogs in NumPy that are often using the same function call. The main difference is that Matlab has a commercial license and NumPy is completely free to use. \n",
    "\n",
    "\n",
    "Matplotlib is a scientific visualization library for plotting computational data. There are a number of plot styles that can be accessed with this library. "
   ]
  },
  {
   "cell_type": "markdown",
   "metadata": {
    "id": "p-wLHmblkMRz"
   },
   "source": [
    "# Plotting functions\n",
    "\n",
    "Getting started, we need to import Matplotlib into our environment. "
   ]
  },
  {
   "cell_type": "code",
   "execution_count": 2,
   "metadata": {
    "id": "imcmf5_tcaOt"
   },
   "outputs": [],
   "source": [
    "import matplotlib.pyplot as plt"
   ]
  },
  {
   "cell_type": "code",
   "execution_count": 2,
   "metadata": {
    "id": "D_qUB45rbIX8"
   },
   "outputs": [],
   "source": []
  },
  {
   "cell_type": "code",
   "execution_count": 2,
   "metadata": {
    "id": "USvjbeelcXVB"
   },
   "outputs": [],
   "source": []
  }
 ],
 "metadata": {
  "colab": {
   "authorship_tag": "ABX9TyMEbKzyJg9AlU95TVBh5Zxv",
   "include_colab_link": true,
   "name": "09-matplotlib-intro.ipynb",
   "provenance": []
  },
  "kernelspec": {
   "display_name": "Python 3 (ipykernel)",
   "language": "python",
   "name": "python3"
  },
  "language_info": {
   "codemirror_mode": {
    "name": "ipython",
    "version": 3
   },
   "file_extension": ".py",
   "mimetype": "text/x-python",
   "name": "python",
   "nbconvert_exporter": "python",
   "pygments_lexer": "ipython3",
   "version": "3.8.5"
  }
 },
 "nbformat": 4,
 "nbformat_minor": 4
}
