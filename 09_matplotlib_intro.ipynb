{
  "nbformat": 4,
  "nbformat_minor": 0,
  "metadata": {
    "colab": {
      "name": "09-matplotlib-intro.ipynb",
      "provenance": [],
      "authorship_tag": "ABX9TyMEbKzyJg9AlU95TVBh5Zxv",
      "include_colab_link": true
    },
    "kernelspec": {
      "name": "python3",
      "display_name": "Python 3"
    },
    "language_info": {
      "name": "python"
    }
  },
  "cells": [
    {
      "cell_type": "markdown",
      "metadata": {
        "id": "view-in-github",
        "colab_type": "text"
      },
      "source": [
        "<a href=\"https://colab.research.google.com/github/lfmartins/introduction-to-computational-mathematics/blob/main/09_matplotlib_intro.ipynb\" target=\"_parent\"><img src=\"https://colab.research.google.com/assets/colab-badge.svg\" alt=\"Open In Colab\"/></a>"
      ]
    },
    {
      "cell_type": "markdown",
      "source": [
        "\n",
        "\n",
        "# Introducing Matplotlib \n",
        "\n",
        "Today we are going to introduce one of the most useful libraries in python, [Matplotlib](https://matplotlib.org/). We will use this library in concert with NumPy, which we used in previous modules when introducing functions and arrays in Python. In this lesson we will work on plotting the data we generate in computational routine.\n",
        "\n",
        "NumPy is a mathematical library with a huge number of computational routines. For those with experience in Matlab, many of the functions have similar analogs in NumPy that are often using the same function call. The main difference is that Matlab has a commercial license and NumPy is completely free to use. \n",
        "\n",
        "\n",
        "Matplotlib is a scientific visualization library for plotting computational data. There are a number of plot styles that can be accessed with this library. "
      ],
      "metadata": {
        "id": "83tsJMvkcaAA"
      }
    },
    {
      "cell_type": "markdown",
      "source": [
        "# Plotting functions\n",
        "\n",
        "Getting started, we need to import Matplotlib into our environment. "
      ],
      "metadata": {
        "id": "p-wLHmblkMRz"
      }
    },
    {
      "cell_type": "code",
      "source": [
        "import matplotlib.pyplot as plt"
      ],
      "metadata": {
        "id": "imcmf5_tcaOt"
      },
      "execution_count": 2,
      "outputs": []
    },
    {
      "cell_type": "code",
      "execution_count": 2,
      "metadata": {
        "id": "D_qUB45rbIX8"
      },
      "outputs": [],
      "source": []
    },
    {
      "cell_type": "code",
      "source": [],
      "metadata": {
        "id": "USvjbeelcXVB"
      },
      "execution_count": 2,
      "outputs": []
    }
  ]
}