{
  "cells": [
    {
      "cell_type": "markdown",
      "metadata": {
        "id": "view-in-github",
        "colab_type": "text"
      },
      "source": [
        "<a href=\"https://colab.research.google.com/github/lfmartins/introduction-to-computational-mathematics/blob/main/09-matplotlib-intro.ipynb\" target=\"_parent\"><img src=\"https://colab.research.google.com/assets/colab-badge.svg\" alt=\"Open In Colab\"/></a>"
      ]
    },
    {
      "cell_type": "markdown",
      "metadata": {
        "id": "83tsJMvkcaAA"
      },
      "source": [
        "\n",
        "\n",
        "# Introducing Matplotlib \n",
        "\n",
        "Today we are going to introduce one of the most useful libraries in python, [Matplotlib](https://matplotlib.org/). We will use this library in concert with NumPy, which we used in previous modules when introducing functions and arrays in Python. In this lesson we will work on plotting the data we generate in computational routine.\n",
        "\n",
        "NumPy is a mathematical library with a huge number of computational routines. For those with experience in Matlab, many of the functions have similar analogs in NumPy that are often using the same function call. The main difference is that Matlab has a commercial license and NumPy is completely free to use. \n",
        "\n",
        "\n",
        "Matplotlib is a scientific visualization library for plotting computational data. There are a number of plot styles that can be accessed with this library. "
      ]
    },
    {
      "cell_type": "markdown",
      "metadata": {
        "id": "p-wLHmblkMRz"
      },
      "source": [
        "# Setting up the domain and range of a function\n",
        "Getting started, we need to import Matplotlib into our environment. To do so, we're going to import the submodule pyplot that integrates well with Jupyter Notebooks/Google *Colab*. \n",
        "\n",
        "Let's also import the NumPy library, since we'd like to plot a function with discrete values."
      ]
    },
    {
      "cell_type": "code",
      "execution_count": null,
      "metadata": {
        "id": "imcmf5_tcaOt"
      },
      "outputs": [],
      "source": [
        "import matplotlib.pyplot as plt\n",
        "import numpy as np"
      ]
    },
    {
      "cell_type": "markdown",
      "metadata": {
        "id": "ukgpvkctnqN_"
      },
      "source": [
        "Now let's plot a simple function. \n",
        "\n",
        "With any 2D plot there is an x-axis and y-axis. Usually the x-axis represents the domain of a function. Since we're talking about *discrete values*, we need to have an array of points in the domain using Numpy. \n",
        "\n",
        "One useful tool is to have an array evenly space points in our domain. For a 1D domain, this is done using the linspace(a,b) command in Numpy. Here 'a' is the one endpoint and 'b' is the other end point, so that the array represents a set of points on the interval [a,b].\n",
        "\n",
        "Let's try using linspace the create a set of equally space points from 0 to 1.\n",
        "\n"
      ]
    },
    {
      "cell_type": "code",
      "execution_count": null,
      "metadata": {
        "id": "D_qUB45rbIX8"
      },
      "outputs": [],
      "source": [
        "x=np.linspace(0,1)\n",
        "print(x)\n",
        "print('The default array size for linspace is',x.size)"
      ]
    },
    {
      "cell_type": "markdown",
      "metadata": {
        "id": "emvuqWkSq8oa"
      },
      "source": [
        "There are a number of options with linspace. By default it only needs the starting and stopping endpoints and will output 50 equally space points that include the endpoints. "
      ]
    },
    {
      "cell_type": "code",
      "execution_count": null,
      "metadata": {
        "id": "APOCiebjq70l"
      },
      "outputs": [],
      "source": [
        "np.linspace"
      ]
    },
    {
      "cell_type": "markdown",
      "metadata": {
        "id": "ah8Bz569truz"
      },
      "source": []
    },
    {
      "cell_type": "markdown",
      "metadata": {
        "id": "kCcCS6oXsnR7"
      },
      "source": [
        "Let's plot sin(4x) for the interval of [0,$\\pi$] using the default setting. Note, we use NumPy to define $\\pi$ and use NumPy's sine function.\n",
        "\n",
        "\n",
        "\n"
      ]
    },
    {
      "cell_type": "code",
      "execution_count": null,
      "metadata": {
        "id": "USvjbeelcXVB"
      },
      "outputs": [],
      "source": [
        "x=np.linspace(0,np.pi)\n",
        "print(x)\n",
        "y=np.sin(4*x)\n",
        "\n",
        "print(y) ## These are all the values of sin(4x) that are stored.\n"
      ]
    },
    {
      "cell_type": "markdown",
      "metadata": {
        "id": "arAj511YXYXn"
      },
      "source": [
        "# Plotting functions\n",
        "\n",
        "Let's now call Matplotlib and use its plot function. These will us the defaults of plot command."
      ]
    },
    {
      "cell_type": "code",
      "execution_count": null,
      "metadata": {
        "id": "q8_C1XqZs_Cf"
      },
      "outputs": [],
      "source": [
        "plt.plot(x,y)"
      ]
    },
    {
      "cell_type": "code",
      "execution_count": null,
      "metadata": {
        "id": "oPMGMno0Xpeo"
      },
      "outputs": [],
      "source": []
    },
    {
      "cell_type": "markdown",
      "metadata": {
        "id": "tQJbCGbLZbsj"
      },
      "source": [
        "We can change the color of the curve using the 'color' option. There are many, many different options to play around with. Let's try changing the color of the curve to red.\n"
      ]
    },
    {
      "cell_type": "code",
      "execution_count": null,
      "metadata": {
        "id": "_wisc6M6ZtxJ"
      },
      "outputs": [],
      "source": [
        "plt.plot(x,y,color='r')"
      ]
    },
    {
      "cell_type": "markdown",
      "metadata": {
        "id": "eGoLpGbHZzNe"
      },
      "source": [
        "If you squint closely at the graph, we can see this is not a continuous curve, but rather a collection of points evaluated with a sine function, all of which is stored in 'y'. This is more obvious when markers are turned on for the plot show what points are used.\n",
        "\n",
        "First let's print out markers for each of the points used. Then we will print the plot."
      ]
    },
    {
      "cell_type": "code",
      "execution_count": null,
      "metadata": {
        "id": "jNx4VJjsaOcD"
      },
      "outputs": [],
      "source": [
        "plt.plot(x,y,color='red',marker='.')"
      ]
    },
    {
      "cell_type": "markdown",
      "metadata": {
        "id": "RTH3wmC5uXJy"
      },
      "source": [
        "# Labeling Plots\n",
        "\n",
        "Plot are only as useful as what another viewer can impart from them. To aid in the transfer of knowledge, we should label our graphs. \n",
        "\n",
        "Labeling the x-axis and y-axis should be the first priority, using the 'ylabel' and 'xlabel' commands.\n",
        "\n",
        "We can give the graph a title as well using the 'title' command\n",
        "\n",
        "We can also use legend labels to identify what the curve represents. Note: there are multiple ways to label curves (as we'll show in the next section). \n",
        "\n",
        "Turning a grid on for the figure is also a helpful at times. We can turn it on, using the 'grid' command"
      ]
    },
    {
      "cell_type": "code",
      "source": [
        "plt.plot(x,y,color='red',marker='.')\n",
        "plt.ylabel('y=f(x)') # labels the y-axis\n",
        "plt.xlabel('x') # labels the x-axis\n",
        "plt.title('Plot of sin(x)')\n",
        "plt.legend(['sin(x)'])\n",
        "plt.grid()"
      ],
      "metadata": {
        "id": "eWa0n_fCi2Ca"
      },
      "execution_count": null,
      "outputs": []
    },
    {
      "cell_type": "markdown",
      "metadata": {
        "id": "r5ImE7aoubue"
      },
      "source": [
        "# Multiple Curves"
      ]
    },
    {
      "cell_type": "markdown",
      "metadata": {
        "id": "QhuW2XRscCkV"
      },
      "source": [
        "Remember that the smoothness of the graph depends on the number of points you use! Let's try compare the previous graph when only 10 points are used for linspace. This means having to use an option that isn't the default for linspace.\n",
        "\n",
        "To do this, we are going to call 'plot' twice, with two sets of domain and range, using a green line with right-pointing triangle markers for when 10 points are used. \n",
        "\n",
        "A legend is really helpful to help somebody understand what each of the curves represent. Let's use matplotlib's 'legend' function for this, but we also need to 'label' our curves, which is an option when using the 'plot' functon. \n",
        "\n",
        "If you don't label, then you must input a string array, i.e. legend(['fun1','fun2']), but labeling as you can be cleaner. \n",
        "\n",
        "We will tell matplotlib to place the legend in the upper right using the 'loc' option in legend."
      ]
    },
    {
      "cell_type": "code",
      "execution_count": null,
      "metadata": {
        "id": "P8TPILMBcBnC"
      },
      "outputs": [],
      "source": [
        "x1=np.linspace(0,np.pi,10)\n",
        "y1=np.sin(4*x1)\n",
        "plt.plot(x,y,color='r',marker='.',label='50 points (default)')\n",
        "plt.plot(x1,y1,color='g',marker='>',label='10 points')\n",
        "plt.legend(loc='upper right')\n",
        "\n",
        "\n",
        "## Alternative Code\n",
        "\n",
        "#plt.plot(x,y,color='r',marker='.')\n",
        "#plt.plot(x1,y1,color='g',marker='>')\n",
        "#plt.legend(['50 points (default)','10 points'],loc='upper right')"
      ]
    },
    {
      "cell_type": "markdown",
      "metadata": {
        "id": "uskk6tCVcCIE"
      },
      "source": [
        "Sometimes a grid is helpful to see with our plot. We can turn one on after we've plotted a curve using'grid()'."
      ]
    },
    {
      "cell_type": "code",
      "execution_count": null,
      "metadata": {
        "id": "FCocT7RzeSwL"
      },
      "outputs": [],
      "source": [
        "plt.plot(x,y,color='r',marker='.',label='50 points (default)')\n",
        "plt.plot(x1,y1,color='g',marker='>',label='10 points')\n",
        "plt.legend(loc='upper right')\n",
        "plt.grid()"
      ]
    },
    {
      "cell_type": "markdown",
      "metadata": {
        "id": "dWFI1_OxuNyV"
      },
      "source": [
        "#Multiple Figures and Subplots\n",
        "\n",
        "Sometimes data is best viewed in two separate plots. However, if we used the plot command twice, then we would have two curves plotted on the same figure. \n",
        "\n",
        "This can be fixed by assigning a figure to each of the plots.\n",
        "\n",
        "Below we plot two curves that are defined for the same interval $[0,2\\pi]$. \n",
        "\n",
        "The first figure plots them with respect to the interval. The x-axis is our interval $[0,2\\pi]$. \n",
        "\n",
        "The second figure plots one curve with respect to the other curve. We also plot every 10th point of the curve using the array command of $[0,-1,10]$. \n",
        "\n",
        "Here we specify the figure as figure(1) and figure(2), but we could also call figure() and a new figure would open.\n"
      ]
    },
    {
      "cell_type": "code",
      "source": [
        "x=np.linspace(0,2*np.pi,200)\n",
        "y1=np.sin(4*x)\n",
        "y2=np.cos(3*x)\n",
        "\n",
        "plt.figure(1)\n",
        "plt.plot(x,y1,':g') #\n",
        "plt.plot(x,y2,'-.r')\n",
        "\n",
        "\n",
        "plt.figure(2)\n",
        "plt.plot(y1,y2)\n",
        "plt.plot(y1[0:-1:10],y2[0:-1:10],'vr')\n"
      ],
      "metadata": {
        "id": "Q_2bB1MmjqSz"
      },
      "execution_count": null,
      "outputs": []
    },
    {
      "cell_type": "markdown",
      "source": [
        "Another option is to have one figure with two subplots. This avoids having to save two figures separate figures... especially if you'd like both plots to be seen together. \n",
        "\n",
        "The subplot command, plt.subplot(a,b,c), is called before the plot command is called. Here 'a' is the number of plots in a row, 'b' is the number of rows of plots, and 'c' is the order of the plot that will follow. The order goes from left-right and top-down (i.e. c=1 will be in the top left corner).\n",
        "\n",
        "Below we plot both figures, first in a horizontal configuration 'plt.subplot(1,2,c)', and then in a vertical configuration 'plt.subplot(2,1,c)'. "
      ],
      "metadata": {
        "id": "iaQo3yaE47r-"
      }
    },
    {
      "cell_type": "code",
      "source": [
        "plt.figure(3)\n",
        "plt.subplot(1,2,1)\n",
        "plt.plot(x,y1,':g') #\n",
        "plt.plot(x,y2,'-.r')\n",
        "\n",
        "plt.subplot(1,2,2)\n",
        "plt.plot(y1,y2)\n",
        "plt.plot(y1[0:-1:10],y2[0:-1:10],'vr')\n",
        "\n",
        "\n",
        "plt.figure(4)\n",
        "plt.subplot(2,1,1)\n",
        "plt.plot(x,y1,':g') #\n",
        "plt.plot(x,y2,'-.r')\n",
        "\n",
        "plt.subplot(2,1,2)\n",
        "plt.plot(y1,y2)\n",
        "plt.plot(y1[0:-1:10],y2[0:-1:10],'vr')"
      ],
      "metadata": {
        "id": "xofcu8LV5TAB"
      },
      "execution_count": null,
      "outputs": []
    },
    {
      "cell_type": "markdown",
      "source": [
        "# Saving a figure\n",
        "\n",
        "We can save a figure that we've plotted by using the Matplotlib command of \n",
        "```\n",
        "plt.savefig('filename.png')\n",
        "```\n",
        "\n",
        "Where 'filename.png' is the filename and image type that you're saving.\n",
        "\n",
        "To find the saved file, click on the folder icon on the right-hand side of Colab.\n"
      ],
      "metadata": {
        "id": "YGY7K5KphJrM"
      }
    },
    {
      "cell_type": "code",
      "source": [
        "plt.figure()\n",
        "plt.plot(x,y,color='r',marker='.',label='50 points (default)')\n",
        "plt.plot(x1,y1,color='g',marker='>',label='10 points')\n",
        "plt.legend(loc='upper right')\n",
        "plt.title('Plotting sin(x)')\n",
        "plt.xlabel('x')\n",
        "plt.ylabel('y=f(x)')\n",
        "plt.grid()\n",
        "plt.savefig('example.png')"
      ],
      "metadata": {
        "id": "owdcJ9q0-1H9"
      },
      "execution_count": null,
      "outputs": []
    },
    {
      "cell_type": "markdown",
      "metadata": {
        "id": "folo96q3swM3"
      },
      "source": [
        "# Exercises\n",
        "\n",
        "Matplotlib has a number of cheat sheets that are helpful and can be found [here](https://matplotlib.org/cheatsheets/).\n",
        "\n",
        "\n",
        "You will need to use them for the following set of exercises."
      ]
    },
    {
      "cell_type": "markdown",
      "source": [
        "1. Initialize an interval $[0,2]$ using the linspace command with 200 points. Plot the following two curves with the given plot specifications:\n",
        "\n",
        "    a. $f(x)=e^{-x}\\cos(4\\pi x)$ with a magenta, dotted (\":\") line and square markers. Set the line size of the curve to 2. \n",
        "\n",
        "    b. $g(x)=sinh(x)$ with a green, solid line and downward-pointing triangle markers. Set the line size of the curve to 1.5.  \n",
        "\n",
        "  Turn on the grid, label you x-axis and y-axis, and include a legend. Save the figure as 'fig1.png'.\n",
        "  "
      ],
      "metadata": {
        "id": "SS7zmfYaLrj0"
      }
    },
    {
      "cell_type": "code",
      "source": [],
      "metadata": {
        "id": "ipQ9ylsnZ2kl"
      },
      "execution_count": null,
      "outputs": []
    },
    {
      "cell_type": "code",
      "source": [],
      "metadata": {
        "id": "f9npDkw0aWDp"
      },
      "execution_count": null,
      "outputs": []
    },
    {
      "cell_type": "markdown",
      "source": [
        "2. Initialize four intervals of $[0,2\\pi]$ using the linspace command with 25, 50, 100, 200 points. Plot the function $f(x)=\\sin(8x)$ for each of the intervals. Each line should have a different line style, different color, and different marker type. Set the line size of the curves to 2 and the marker size to 10.\n",
        "\n",
        "  Save the figure and include a title, x-label, y-label, and legend. How many points do we need to adequately display the intended function?\n",
        "\n",
        "\n",
        "\n",
        "\n",
        "  "
      ],
      "metadata": {
        "id": "p3xiotgqaY4c"
      }
    },
    {
      "cell_type": "code",
      "source": [],
      "metadata": {
        "id": "hhXF-9V-bR45"
      },
      "execution_count": null,
      "outputs": []
    },
    {
      "cell_type": "markdown",
      "source": [
        "3. Let's test how to use subplots. Let $f(\\theta)=\\theta\\cos(\\theta)$ and $g(\\theta)=\\theta\\sin(\\theta)$. Use the subplot command to graph the following two graphs side-by-side (i.e. subplot(1,2,_) ). Let's use the linspace command for $[0,4\\pi]$ for $\\theta$.\n",
        "\n",
        "    a. Plot both equations on the same graph with $\\theta$ on the x-axis, where $f(\\theta)$ plotted in blue and $g(\\theta)$ plotted in red. Use the plot defaults for both lines (apart from the color choice). Label your axes.\n",
        "\n",
        "    b. Plot $f(\\theta)$ as the x coordinate and $g(\\theta)$ as the y coordinate using a solid green line. Label your axes.\n",
        "\n",
        "  Save the figure as 'r_theta.png'."
      ],
      "metadata": {
        "id": "TtH1wZyik5m9"
      }
    },
    {
      "cell_type": "code",
      "source": [],
      "metadata": {
        "id": "wmTCkba4troJ"
      },
      "execution_count": null,
      "outputs": []
    },
    {
      "cell_type": "markdown",
      "source": [
        "4. The previous question had the coordinates $(x,y)$ that could be represented using polar coordinates $(r,\\theta)$ for the polar curve of $r=\\theta$. Look up how matplotlib handles polar plots (Google it) and try to replicate the previous graph of 3b using a polar plot. Use the same interval $[0,4\\pi]$ for $\\theta$. "
      ],
      "metadata": {
        "id": "_EVAFVv6tsCu"
      }
    },
    {
      "cell_type": "code",
      "source": [],
      "metadata": {
        "id": "duIngqsDgKg6"
      },
      "execution_count": null,
      "outputs": []
    },
    {
      "cell_type": "markdown",
      "source": [
        "5. Let's consider the Fourier series for a square wave of period $2\\pi$:\n",
        "\n",
        "$$\n",
        "\\newcommand{\\mtab}{\\quad\\quad\\quad\\quad}\n",
        "\\mtab f(x) = \\frac{4}{\\pi}\\sum_{n=0}^{\\infty}\\frac{\\sin((2n+1)x)}{2n+1}\n",
        "$$\n",
        "\n",
        "  Plot the function on $[-2 \\pi, 2\\pi]$ for the first a) three terms, b) five terms, and c) 10 terms. Plot them on the same figure, and use different colors for each curve, and include no markers. Include a title, axes labels, and a legend. Use an appropriate number of points (it should appear smooth).\n",
        "\n"
      ],
      "metadata": {
        "id": "FOyTsD79gLD6"
      }
    },
    {
      "cell_type": "code",
      "source": [],
      "metadata": {
        "id": "wOZLKIl-qVUu"
      },
      "execution_count": null,
      "outputs": []
    }
  ],
  "metadata": {
    "colab": {
      "name": "09-matplotlib-intro.ipynb",
      "provenance": [],
      "authorship_tag": "ABX9TyNXEaAmTz+Y14rgEJNC1MMG",
      "include_colab_link": true
    },
    "kernelspec": {
      "display_name": "Python 3 (ipykernel)",
      "language": "python",
      "name": "python3"
    },
    "language_info": {
      "codemirror_mode": {
        "name": "ipython",
        "version": 3
      },
      "file_extension": ".py",
      "mimetype": "text/x-python",
      "name": "python",
      "nbconvert_exporter": "python",
      "pygments_lexer": "ipython3",
      "version": "3.8.5"
    }
  },
  "nbformat": 4,
  "nbformat_minor": 0
}