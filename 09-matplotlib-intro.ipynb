{
  "nbformat": 4,
  "nbformat_minor": 0,
  "metadata": {
    "colab": {
      "name": "09-matplotlib-intro.ipynb",
      "provenance": [],
      "authorship_tag": "ABX9TyPLWAY6IpmWaB/Fh7clLwZO",
      "include_colab_link": true
    },
    "kernelspec": {
      "name": "python3",
      "display_name": "Python 3"
    },
    "language_info": {
      "name": "python"
    }
  },
  "cells": [
    {
      "cell_type": "markdown",
      "metadata": {
        "id": "view-in-github",
        "colab_type": "text"
      },
      "source": [
        "<a href=\"https://colab.research.google.com/github/lfmartins/introduction-to-computational-mathematics/blob/main/09-matplotlib-intro.ipynb\" target=\"_parent\"><img src=\"https://colab.research.google.com/assets/colab-badge.svg\" alt=\"Open In Colab\"/></a>"
      ]
    },
    {
      "cell_type": "markdown",
      "source": [
        "\n",
        "\n",
        "# Introducing Matplotlib \n",
        "\n",
        "Today we are going to introduce one of the most useful libraries in python, [Matplotlib](https://matplotlib.org/). We will use this library in concert with NumPy, which we used in previous modules when introducing functions and arrays in Python. In this lesson we will work on plotting the data we generate in computational routine.\n",
        "\n",
        "NumPy is a mathematical library with a huge number of computational routines. For those with experience in Matlab, many of the functions have similar analogs in NumPy that are often using the same function call. The main difference is that Matlab has a commercial license and NumPy is completely free to use. \n",
        "\n",
        "\n",
        "Matplotlib is a scientific visualization library for plotting computational data. There are a number of plot styles that can be accessed with this library. "
      ],
      "metadata": {
        "id": "83tsJMvkcaAA"
      }
    },
    {
      "cell_type": "markdown",
      "source": [
        "# Plotting functions\n",
        "\n",
        "Getting started, we need to import Matplotlib into our environment. To do so, we're going to import the submodule pyplot that integrates well with Jupyter Notebooks/Google Colab. \n",
        "\n",
        "Let's also import the NumPy library, since we'd like to plot a function with discrete values."
      ],
      "metadata": {
        "id": "p-wLHmblkMRz"
      }
    },
    {
      "cell_type": "code",
      "source": [
        "import matplotlib.pyplot as plt\n",
        "import numpy as np"
      ],
      "metadata": {
        "id": "imcmf5_tcaOt"
      },
      "execution_count": 3,
      "outputs": []
    },
    {
      "cell_type": "markdown",
      "source": [
        "Now let's plot a simple function. \n",
        "\n",
        "With any 2D plot there is an x-axis and y-axis. Usually the x-axis represents the domain of a function. Since we're talking about *discrete values*, we need to have an array of points in the domain using Numpy. \n",
        "\n",
        "One useful tool is to have an array equally space points in our domain. For a 1D domain, this is done using the linspace(a,b) command in Numpy. Here 'a' is the one endpoint and 'b' is the other end point, so that the array represents a set of points on the interval [a,b].\n",
        "\n",
        "Let's try using linspace the create a set of equally space points from 0 to 1.\n",
        "\n"
      ],
      "metadata": {
        "id": "ukgpvkctnqN_"
      }
    },
    {
      "cell_type": "code",
      "execution_count": 9,
      "metadata": {
        "colab": {
          "base_uri": "https://localhost:8080/"
        },
        "id": "D_qUB45rbIX8",
        "outputId": "f1855794-9b98-4e7c-c992-6e3b0e1ad5ea"
      },
      "outputs": [
        {
          "output_type": "stream",
          "name": "stdout",
          "text": [
            "[0.         0.02040816 0.04081633 0.06122449 0.08163265 0.10204082\n",
            " 0.12244898 0.14285714 0.16326531 0.18367347 0.20408163 0.2244898\n",
            " 0.24489796 0.26530612 0.28571429 0.30612245 0.32653061 0.34693878\n",
            " 0.36734694 0.3877551  0.40816327 0.42857143 0.44897959 0.46938776\n",
            " 0.48979592 0.51020408 0.53061224 0.55102041 0.57142857 0.59183673\n",
            " 0.6122449  0.63265306 0.65306122 0.67346939 0.69387755 0.71428571\n",
            " 0.73469388 0.75510204 0.7755102  0.79591837 0.81632653 0.83673469\n",
            " 0.85714286 0.87755102 0.89795918 0.91836735 0.93877551 0.95918367\n",
            " 0.97959184 1.        ]\n",
            "The default array size for linspace is 50\n"
          ]
        }
      ],
      "source": [
        "x=np.linspace(0,1)\n",
        "print(x)\n",
        "print('The default array size for linspace is',x.size)"
      ]
    },
    {
      "cell_type": "markdown",
      "source": [
        "There are a number of options with linspace. By default it only needs the starting and stopping endpoints and will output 50 equally space points that include the endpoints. "
      ],
      "metadata": {
        "id": "emvuqWkSq8oa"
      }
    },
    {
      "cell_type": "code",
      "source": [
        "np.linspace"
      ],
      "metadata": {
        "colab": {
          "base_uri": "https://localhost:8080/"
        },
        "id": "APOCiebjq70l",
        "outputId": "f40eb114-9cb2-484a-b7bc-f2cfe81c3acb"
      },
      "execution_count": 11,
      "outputs": [
        {
          "output_type": "execute_result",
          "data": {
            "text/plain": [
              "<function numpy.linspace(start, stop, num=50, endpoint=True, retstep=False, dtype=None, axis=0)>"
            ]
          },
          "metadata": {},
          "execution_count": 11
        }
      ]
    },
    {
      "cell_type": "markdown",
      "source": [],
      "metadata": {
        "id": "ah8Bz569truz"
      }
    },
    {
      "cell_type": "markdown",
      "source": [
        "Let's plot sin(4x) for the interval of [0,$\\pi$] using the default setting. Note, we use NumPy to define $\\pi$.\n",
        "\n",
        "\n",
        "\n"
      ],
      "metadata": {
        "id": "kCcCS6oXsnR7"
      }
    },
    {
      "cell_type": "code",
      "source": [
        "x=np.linspace(0,np.pi)\n",
        "print(x)\n",
        "y=np.sin(4*x)"
      ],
      "metadata": {
        "colab": {
          "base_uri": "https://localhost:8080/"
        },
        "id": "USvjbeelcXVB",
        "outputId": "00b2ebff-7230-433e-e785-861237567f11"
      },
      "execution_count": 12,
      "outputs": [
        {
          "output_type": "stream",
          "name": "stdout",
          "text": [
            "[0.         0.06411414 0.12822827 0.19234241 0.25645654 0.32057068\n",
            " 0.38468481 0.44879895 0.51291309 0.57702722 0.64114136 0.70525549\n",
            " 0.76936963 0.83348377 0.8975979  0.96171204 1.02582617 1.08994031\n",
            " 1.15405444 1.21816858 1.28228272 1.34639685 1.41051099 1.47462512\n",
            " 1.53873926 1.60285339 1.66696753 1.73108167 1.7951958  1.85930994\n",
            " 1.92342407 1.98753821 2.05165235 2.11576648 2.17988062 2.24399475\n",
            " 2.30810889 2.37222302 2.43633716 2.5004513  2.56456543 2.62867957\n",
            " 2.6927937  2.75690784 2.82102197 2.88513611 2.94925025 3.01336438\n",
            " 3.07747852 3.14159265]\n"
          ]
        }
      ]
    },
    {
      "cell_type": "code",
      "source": [],
      "metadata": {
        "id": "q8_C1XqZs_Cf"
      },
      "execution_count": null,
      "outputs": []
    }
  ]
}