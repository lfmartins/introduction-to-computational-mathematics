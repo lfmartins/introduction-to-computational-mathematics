{
 "cells": [
  {
   "cell_type": "markdown",
   "metadata": {},
   "source": [
    "[![Open In Colab](https://colab.research.google.com/assets/colab-badge.svg)](https://colab.research.google.com/github/lfmartins/introduction-to-computational-mathematics/blob/main/02-variables-and-assignment.ipynb)\n",
    "\n",
    "# Introduction\n",
    "\n",
    "So far, we have seen how to use Jupyter to evaluate mathematical expressions. Imagine now that we would like to use a result in future computations. In this case, it is convenient to store the result of the computation in a Python *variable*. This allows us to better organize our computation, since partial results can be stored in variables that can be used in further expressions to build complex computations.\n",
    "\n",
    "In this tutorial we will learn about variables in Python and how to set and modify their values."
   ]
  },
  {
   "cell_type": "markdown",
   "metadata": {},
   "source": [
    "# Variables and assignment\n",
    "\n",
    "A Python variable is a sequence of characteres that is used to refer to a value. For example, let's say that we want to define a variable `a` and associate the value `2` to it. This is done with the use of the _assignment operator_, denoted by the equal sign `=`, as shown in the following cell:"
   ]
  },
  {
   "cell_type": "code",
   "execution_count": 3,
   "metadata": {},
   "outputs": [],
   "source": [
    "a = 2"
   ]
  },
  {
   "cell_type": "markdown",
   "metadata": {},
   "source": [
    "Execute the code cell to run the assignment statement. This assigns the value 2 to the variable `a`. In a little more detail the following happens in the background:\n",
    "\n",
    "- Python reserves some memory space.\n",
    "- The integer value `2` is stored in the reserved memory. \n",
    "- The name `a` is associated to the memory location.\n",
    "\n",
    "Notice that executing the assignment does not produce any output in Jupyter. Jupyter adopts the convention that it prints the output of the last evaluated expression. Since the assignment statement doe not return anything, nothing is printed.\n",
    "\n",
    "We can see what is the value of the variable `a` by entering it as the last expression in a code cell, as shown below."
   ]
  },
  {
   "cell_type": "code",
   "execution_count": 2,
   "metadata": {},
   "outputs": [
    {
     "data": {
      "text/plain": [
       "2"
      ]
     },
     "execution_count": 2,
     "metadata": {},
     "output_type": "execute_result"
    }
   ],
   "source": [
    "a"
   ]
  },
  {
   "cell_type": "markdown",
   "metadata": {},
   "source": [
    "Variables can also be used in expressions. Suppose we want to compute the area and perimeter of a rectangle of height 4 and width 3. We could do the following:"
   ]
  },
  {
   "cell_type": "code",
   "execution_count": 4,
   "metadata": {},
   "outputs": [
    {
     "name": "stdout",
     "output_type": "stream",
     "text": [
      "12 14\n"
     ]
    }
   ],
   "source": [
    "height = 4\n",
    "width = 3\n",
    "volume = height * width\n",
    "perimeter = 2 * (height + width)\n",
    "print(volume, perimeter)"
   ]
  },
  {
   "cell_type": "markdown",
   "metadata": {},
   "source": [
    "Notice that we entered several statements in the same cell. To enter a new line in a cell, simply press `Enter`. Evaluate the cell to print the computed values of volume and perimeter.\n",
    "\n",
    "In this cell, we show how to use the `print` function to display the values of the variables `volume` and `perimeter`. The `print` function is extremely flexible, and will be our preferred way to display the results of our computations."
   ]
  },
  {
   "cell_type": "markdown",
   "metadata": {},
   "source": [
    "There are some restrictions for what are the allowed variable names:\n",
    "\n",
    "- The only characteres that are allowed in variable names are alphabetic characteres (`a` to `z` and `A` to `Z`), digits (`0` to `9`) and the underscore character `_`\n",
    "- A variable name cannot start with a digit. That is, the initial character must be a letter or the underscore symbol\n",
    "- A variable name cannot be a *reserved word*, that is, a word that is used by Python itself. An example of reserved word is `print`.\n",
    "\n",
    "The next code cell shows some valid variable names:"
   ]
  },
  {
   "cell_type": "code",
   "execution_count": 5,
   "metadata": {},
   "outputs": [
    {
     "name": "stdout",
     "output_type": "stream",
     "text": [
      "3 12.4 1234567 7654321 123 42\n"
     ]
    }
   ],
   "source": [
    "a = 3\n",
    "width = 12.4\n",
    "customer_id = 1234567\n",
    "customer_ID = 7654321\n",
    "variable123 = 123\n",
    "the_meaning_of_life_the_universe_and_everything = 42\n",
    "print(a, width, customer_id, customer_ID, variable123,\n",
    "      the_meaning_of_life_the_universe_and_everything)"
   ]
  },
  {
   "cell_type": "markdown",
   "metadata": {},
   "source": [
    "Notice that `customer_id` and `customer_ID` represent different variables. In other words, Python is _case sensitive_, that is uppercase letters and lowercase letters are distinct. Also notice that there is no limit on the length of a variable name, but very long names are not encouraged.\n",
    "\n",
    "The Python style guide recommends that only lowercase letters should be used for the names of simple variables (such as `int`s and `floats`s). We will not strictly follow this convention, since in some situations, such as in variables representing matrices, it is traditional to use uppercase letters in mathematical notation.\n",
    "\n",
    "A final important observation is that, even though the underscore character `_` is allowed anywhere in a variable name, variables *starting* with a an underscore have special meaning in Python, and should be avoided, unless in special circumstances.\n",
    "\n",
    "As one more example, let's say that we want to compute the area of an anullus. An annulus is the region between two concentric circles of radiuses $r_{\\text{inner}}$ and $r_{\\text{outer}}$, where $r_\\text{inner}<r_\\text{outer}$. The area is then computed by:\n",
    "$$\n",
    "A_{\\text{annulus}} = \\pi(r_{\\text{outer}}^2-r_{\\text{inner}}^2)\n",
    "$$\n",
    "One possible solution is to code the problem as in the cell below:"
   ]
  },
  {
   "cell_type": "code",
   "execution_count": 10,
   "metadata": {},
   "outputs": [
    {
     "data": {
      "text/plain": [
       "50.26548245743669"
      ]
     },
     "execution_count": 10,
     "metadata": {},
     "output_type": "execute_result"
    }
   ],
   "source": [
    "r1 = 3\n",
    "r2 = 5\n",
    "A = 3.141592653589793 * (r2 ** 2 - r1 ** 2)\n",
    "A"
   ]
  },
  {
   "cell_type": "markdown",
   "metadata": {},
   "source": [
    "This solution, even though it works, is somewhat unsatisfactory. The variable names are not descriptive, and someone reading the code myght have difficulty what the variables really mean. A better approach is to use more descriptive names, as follows:"
   ]
  },
  {
   "cell_type": "code",
   "execution_count": 11,
   "metadata": {},
   "outputs": [
    {
     "data": {
      "text/plain": [
       "50.26548245743669"
      ]
     },
     "execution_count": 11,
     "metadata": {},
     "output_type": "execute_result"
    }
   ],
   "source": [
    "inner_radius = 3\n",
    "outer_radius = 5\n",
    "pi = 3.141592653589793\n",
    "annulus_area = pi * (outer_radius ** 2 - inner_radius ** 2)\n",
    "annulus_area"
   ]
  },
  {
   "cell_type": "markdown",
   "metadata": {},
   "source": [
    "This makes it much easier for someone reading the code to understand what is meant by it. We will always prefer this coding style, but there is a fine balance between using descriptive variable names and writing code that is too verbose. It is fair to assume that using a variable name like `volume_of_baloon_when_at_a_heigth_of_1000_feet` is not a very good thing."
   ]
  },
  {
   "cell_type": "markdown",
   "metadata": {},
   "source": [
    "# More features of assignment\n",
    "\n",
    "The assignment operator has a lot of flexibility associated to it. One interesting feature is *multiple assignment*, which allows the assignment of several variables in a single statement. This is useful when initializing several variables, as in the example below:"
   ]
  },
  {
   "cell_type": "code",
   "execution_count": 1,
   "metadata": {},
   "outputs": [
    {
     "name": "stdout",
     "output_type": "stream",
     "text": [
      "4.0 5.0 3.0\n"
     ]
    }
   ],
   "source": [
    "a, b, c = 4.0, 5.0, 3.0\n",
    "print(a, b, c)"
   ]
  },
  {
   "cell_type": "markdown",
   "metadata": {},
   "source": [
    "In a multiple assignment, any expression is allowed in the right-hand side of the assignment. Suppose, for example, that we want to compute the arithmetic, geometric and harmonic means of `a`, `b` and `c`. We can do this with the following multiple assignment:"
   ]
  },
  {
   "cell_type": "code",
   "execution_count": 4,
   "metadata": {},
   "outputs": [
    {
     "name": "stdout",
     "output_type": "stream",
     "text": [
      "4.0 3.9148676411688634 1.2765957446808511\n"
     ]
    }
   ],
   "source": [
    "arithmetic_mean, geometric_mean, harmonic_mean = (a + b + c)/3, (a * b * c) ** (1./3.), (1/a + 1/b + 1/c) ** (-1)\n",
    "print(arithmetic_mean, geometric_mean, harmonic_mean)"
   ]
  },
  {
   "cell_type": "markdown",
   "metadata": {},
   "source": [
    "In a multiple assignment, the computation proceeds as follows\n",
    "\n",
    "- First, all expressions in the right-hand side are evaluated independently.\n",
    "- Then, *and only then* each evaluated expression is assigned to the corresponding variable in the left-hand side.\n",
    "\n",
    "This is important because the variables in the left-hand side can also appear in the right-hand side, as illustrated in the example below:"
   ]
  },
  {
   "cell_type": "code",
   "execution_count": 5,
   "metadata": {},
   "outputs": [
    {
     "name": "stdout",
     "output_type": "stream",
     "text": [
      "2 7\n",
      "9 -5\n"
     ]
    }
   ],
   "source": [
    "a, b = 2, 7\n",
    "print(a,b)\n",
    "a, b = a + b, a - b\n",
    "print(a,b)"
   ]
  },
  {
   "cell_type": "markdown",
   "metadata": {},
   "source": [
    "The computation of the multiple assignment \n",
    "\n",
    "    a, b = a + b, a - b \n",
    "\n",
    "follows the steps below:\n",
    "\n",
    "1. The expressions `a + b` and `a - b` are evaluated, resulting `9` and `-5`, respectively.\n",
    "2. The values `9` and `-5` are assigned, respectively, to `a` and `b`.\n",
    "\n",
    "The following example shows how multiple assignment can be used to swap the values of two variables:"
   ]
  },
  {
   "cell_type": "code",
   "execution_count": 6,
   "metadata": {},
   "outputs": [
    {
     "name": "stdout",
     "output_type": "stream",
     "text": [
      "2 7\n",
      "7 2\n"
     ]
    }
   ],
   "source": [
    "a, b = 2, 7\n",
    "print(a,b)\n",
    "a, b = b, a\n",
    "print(a,b)"
   ]
  },
  {
   "cell_type": "markdown",
   "metadata": {},
   "source": [
    "It is often necessary to *update* the value of a variable. Suppose that at a certain point we have a variable `a` with the value `5`:"
   ]
  },
  {
   "cell_type": "code",
   "execution_count": 9,
   "metadata": {},
   "outputs": [],
   "source": [
    "a = 5"
   ]
  },
  {
   "cell_type": "markdown",
   "metadata": {},
   "source": [
    "Then, later in the code it is necessary to increment the variable by 1. This can be accomplished with the following code:"
   ]
  },
  {
   "cell_type": "code",
   "execution_count": 10,
   "metadata": {},
   "outputs": [
    {
     "data": {
      "text/plain": [
       "6"
      ]
     },
     "execution_count": 10,
     "metadata": {},
     "output_type": "execute_result"
    }
   ],
   "source": [
    "a = a + 1\n",
    "a"
   ]
  },
  {
   "cell_type": "markdown",
   "metadata": {},
   "source": [
    "This operation is so common that there is a special notation for it, called *compound assignment*, illustrated in the cell below:"
   ]
  },
  {
   "cell_type": "code",
   "execution_count": 11,
   "metadata": {},
   "outputs": [
    {
     "data": {
      "text/plain": [
       "7"
      ]
     },
     "execution_count": 11,
     "metadata": {},
     "output_type": "execute_result"
    }
   ],
   "source": [
    "a += 1\n",
    "a"
   ]
  },
  {
   "cell_type": "markdown",
   "metadata": {},
   "source": [
    "If we want to increment by 2, we could use:"
   ]
  },
  {
   "cell_type": "code",
   "execution_count": 12,
   "metadata": {},
   "outputs": [
    {
     "data": {
      "text/plain": [
       "9"
      ]
     },
     "execution_count": 12,
     "metadata": {},
     "output_type": "execute_result"
    }
   ],
   "source": [
    "a += 2\n",
    "a"
   ]
  },
  {
   "cell_type": "markdown",
   "metadata": {},
   "source": [
    "Any binary operator can be used in a compound assignment. For example `a *= 2` multiplies the variable `a` by `2`:"
   ]
  },
  {
   "cell_type": "code",
   "execution_count": 13,
   "metadata": {},
   "outputs": [
    {
     "data": {
      "text/plain": [
       "18"
      ]
     },
     "execution_count": 13,
     "metadata": {},
     "output_type": "execute_result"
    }
   ],
   "source": [
    "a *= 2\n",
    "a"
   ]
  },
  {
   "cell_type": "markdown",
   "metadata": {},
   "source": [
    "## Exercises\n",
    "\n",
    "__1__. Suppose you want to solve the quadratic equation $ax^2+bx+c=0$ for several values of $a$, $b$ and $c$. Use variables to write expressions that represent the solutions of the equation. Use separate variables for intermediate results that can be reused. Place all computations in a single cell, following the pattern:\n",
    "\n",
    "    a, b, c = .....\n",
    "    \n",
    "    .... intermediate computations ....\n",
    "    \n",
    "    x1, x2 = .....\n",
    "    \n",
    "Use your code to solve the following quadratic equations:"
   ]
  },
  {
   "cell_type": "code",
   "execution_count": null,
   "metadata": {},
   "outputs": [],
   "source": []
  },
  {
   "cell_type": "markdown",
   "metadata": {},
   "source": [
    "__2__. Test the expression your wrote in  the previous exercises with several values for the coefficients. In the tests, include both examples in which the computation is successful and examples where there is an error."
   ]
  },
  {
   "cell_type": "code",
   "execution_count": null,
   "metadata": {},
   "outputs": [],
   "source": []
  },
  {
   "cell_type": "markdown",
   "metadata": {},
   "source": [
    "__3__. Complex numbers are supported in Python. The complex constant $3-2i$, for example, is represented by:\n",
    "\n",
    "    3-2j\n",
    "    \n",
    "Notice the use of `j` for the imaginary unit. Choose values of $a$, $b$ and $c$ for which the solutions of $ax^2+bx+c=0$ are not real. Can you use the expressions from the previous exercises to find the solutions? Notice that you must enter the coefficients as complex values, even though they are real. For example, to set a coefficient to 2 use the expression:\n",
    "\n",
    "    2+0j"
   ]
  },
  {
   "cell_type": "code",
   "execution_count": null,
   "metadata": {},
   "outputs": [],
   "source": []
  },
  {
   "cell_type": "markdown",
   "metadata": {},
   "source": [
    "__5__. Guess what the values of the variables `a`, `b` and `c` are after the following statements. Then, run the statements in Jupyter to check your guess:\n",
    "\n",
    "    a, b, c = 1, 2, 3\n",
    "    r, s = a + b, b - c\n",
    "    r, s = s, r\n",
    "    c, a, b = a, b, c"
   ]
  },
  {
   "cell_type": "code",
   "execution_count": null,
   "metadata": {},
   "outputs": [],
   "source": []
  },
  {
   "cell_type": "markdown",
   "metadata": {},
   "source": [
    "__6__. What are the values of `a` and `b` after the following statements:\n",
    "\n",
    "    a, b = 2, 5\n",
    "    a += 2\n",
    "    b -= 1\n",
    "    a *= b\n",
    "    b **= 1 / 2"
   ]
  },
  {
   "cell_type": "code",
   "execution_count": null,
   "metadata": {},
   "outputs": [],
   "source": []
  },
  {
   "cell_type": "markdown",
   "metadata": {},
   "source": [
    "__7__. In a code cell execute the single statement:\n",
    "\n",
    "    x, y = 1, 1\n",
    "\n",
    "Then in another cell, run the command:\n",
    "\n",
    "    x, y = y, x + y\n",
    "    \n",
    "Run the second cell repeatedly and annotate the values you get. Can you recognize the famous sequence of integers that are generated?\n",
    "\n",
    "Explain why the code correctly computes the successive terms of this famous sequence."
   ]
  },
  {
   "cell_type": "code",
   "execution_count": null,
   "metadata": {},
   "outputs": [],
   "source": []
  },
  {
   "cell_type": "markdown",
   "metadata": {},
   "source": [
    "# What you learned in this lesson\n",
    "\n",
    "- How to use variables to store results of computations.\n",
    "- How to use the assignment operator to assign a value to a variable.\n",
    "- How multiple assignment works.\n",
    "- How to use compound assignments to update the value of a variable.\n",
    "- Using `print()` to display the value of a variable."
   ]
  },
  {
   "cell_type": "markdown",
   "metadata": {},
   "source": [
    "<a rel=\"license\" href=\"http://creativecommons.org/licenses/by-nc-sa/4.0/\"><img alt=\"Creative Commons License\" style=\"border-width:0\" src=\"http://i.creativecommons.org/l/by-nc-sa/4.0/88x31.png\" /></a><br /><span xmlns:dct=\"http://purl.org/dc/terms/\" property=\"dct:title\"><b>Introduction to Computational Mathematics with Python</b></span> by <a xmlns:cc=\"http://creativecommons.org/ns#\" href=\"mailto:l.martins@csuohio.edu\" property=\"cc:attributionName\" rel=\"cc:attributionURL\">L. Felipe Martins</a> and \n",
    "<a xmlns:cc=\"http://creativecommons.org/ns#\" href=\"mailto:a.p.hoover@csuohio.edu\" property=\"cc:attributionName\" rel=\"cc:attributionURL\">L. Alexander P. Hoover</a> and is licensed under a <a rel=\"license\" href=\"http://creativecommons.org/licenses/by-nc-sa/4.0/\">Creative Commons Attribution-NonCommercial-ShareAlike 4.0 International License</a>"
   ]
  },
  {
   "cell_type": "code",
   "execution_count": null,
   "metadata": {},
   "outputs": [],
   "source": []
  }
 ],
 "metadata": {
  "kernelspec": {
   "display_name": "Python 3 (ipykernel)",
   "language": "python",
   "name": "python3"
  },
  "language_info": {
   "codemirror_mode": {
    "name": "ipython",
    "version": 3
   },
   "file_extension": ".py",
   "mimetype": "text/x-python",
   "name": "python",
   "nbconvert_exporter": "python",
   "pygments_lexer": "ipython3",
   "version": "3.8.5"
  }
 },
 "nbformat": 4,
 "nbformat_minor": 4
}
