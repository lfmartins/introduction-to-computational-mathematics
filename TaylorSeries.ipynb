{
  "nbformat": 4,
  "nbformat_minor": 0,
  "metadata": {
    "colab": {
      "provenance": [],
      "collapsed_sections": [],
      "authorship_tag": "ABX9TyOiIgWPOCp9y8ihuauK9hJx",
      "include_colab_link": true
    },
    "kernelspec": {
      "name": "python3",
      "display_name": "Python 3"
    },
    "language_info": {
      "name": "python"
    }
  },
  "cells": [
    {
      "cell_type": "markdown",
      "metadata": {
        "id": "view-in-github",
        "colab_type": "text"
      },
      "source": [
        "<a href=\"https://colab.research.google.com/github/lfmartins/introduction-to-computational-mathematics/blob/main/TaylorSeries.ipynb\" target=\"_parent\"><img src=\"https://colab.research.google.com/assets/colab-badge.svg\" alt=\"Open In Colab\"/></a>"
      ]
    },
    {
      "cell_type": "markdown",
      "source": [
        "# Series and For Loops"
      ],
      "metadata": {
        "id": "k7Y8MFSLQR1L"
      }
    },
    {
      "cell_type": "markdown",
      "source": [
        "# Taylor Series\n",
        "\n",
        "One of the most useful tools in applied math is the ability to take Taylor series of continuous functions. Given a function $f(x)$ that is continuous on an interval containing $a$, we can have a series representation of the function\n",
        "\n",
        "$$f(x)=\\sum_{n=0}^{\\infty}\\frac{f^{(n)}(a)}{n!}(x-a)^{n}=f(a)+\\frac{f'(a)}{1!}(x-a)+\\frac{f''(a)}{2!}(x-a)^2+\\frac{f^{(3)}(a)}{3!}(x-a)^3+....$$\n",
        "\n",
        "Note that this is a power series, $\\sum_{n=0}^{\\infty}{c_n}{(x-a)^{n}}$, where $c_n$ is the nth coefficient, $a$ is the center of a the series, and $x$ is a variable. Remember that the derivative term we see in a Taylor series is a constant.\n",
        "\n",
        "$$\\sum_{n=0}^{\\infty}\\color{blue}{c_n}\\color{red}{(x-a)^{n}}=\\sum_{n=0}^{\\infty}\\color{blue}{\\frac{f^{(n)}(a)}{n!}}\\color{red}{(x-a)^{n}}$$\n",
        "\n",
        "Thinking about Taylor series a little bit, we note that when $x$ is close to $a$, the higher order terms associated with larger $n$ will be smaller. In other words, if $x$ is close to $a$\n",
        "\n",
        "$$|x-a|>|x-a|^2>|x-a|^3>|x-a|^4>|x-a|^5>...$$\n",
        "\n",
        "For example, if |x-a|=0.1, then the inequality shows\n",
        "$$0.1>(0.1)^2>(0.1)^3>(0.1)^4>(0.1)^5>...$$\n",
        "$$⇒$$\n",
        "$$0.1>0.01>0.001>0.0001>0.00001>...$$\n",
        "\n",
        "This means that as $x$ gets close to $a$, the contributions of higher order terms will decrease.\n"
      ],
      "metadata": {
        "id": "cvdxZQS1kzcR"
      }
    },
    {
      "cell_type": "markdown",
      "source": [
        "Let's test this out numerically. The function $e^x$ has a Taylor series of $\\sum_{n=0}^{\\infty}\\frac{e}{n!}(x-1)^n$ at $a=1$. For practice, confirm this formula to be true, using the definition of the Taylor series.\n",
        "\n"
      ],
      "metadata": {
        "id": "FAICi7MH3ELu"
      }
    },
    {
      "cell_type": "code",
      "source": [],
      "metadata": {
        "id": "t082PdM80zYH"
      },
      "execution_count": null,
      "outputs": []
    },
    {
      "cell_type": "markdown",
      "source": [
        "The following function computes the Taylor series of $e^x$ at $a=1$ up to first $N$ terms. This is equivalent to $\\sum_{n=0}^{N}\\frac{e}{n!}(x-1)^n$ \n",
        "\n",
        "The function 'exp_TS_1' has two inputs; $x$ is the point at which we're evaluating the Taylor series and $N$ is the highest index we're using in our summation. Remember we also include n=0, so the number of terms in the series is $N+1$."
      ],
      "metadata": {
        "id": "4OxrV78n0Uto"
      }
    },
    {
      "cell_type": "code",
      "source": [
        "import numpy as np\n",
        "def exp_TS_1(x,N):\n",
        "    y=np.exp(1)\n",
        "    for n in range(1,N+1):\n",
        "      y = y + (np.exp(1)/np.math.factorial(n))*(x-1)**n\n",
        "    return y"
      ],
      "metadata": {
        "id": "apS_O89K6NTA"
      },
      "execution_count": null,
      "outputs": []
    },
    {
      "cell_type": "code",
      "source": [
        "x=10\n",
        "N=40\n",
        "\n",
        "e_true=np.exp(x)\n",
        "e_TS=exp_TS_1(x,N)\n",
        "\n",
        "print('The true value of the exponential at x=',x,'is', e_true)\n",
        "print('The Taylor series value of the exponential using N=',N,'terms at x=',x,'is',e_TS)"
      ],
      "metadata": {
        "id": "9VgJeDWK7W9f",
        "colab": {
          "base_uri": "https://localhost:8080/"
        },
        "outputId": "f1c2eedf-5f57-4ac5-befd-07e7cdfd3186"
      },
      "execution_count": null,
      "outputs": [
        {
          "output_type": "stream",
          "name": "stdout",
          "text": [
            "The true value of the exponential at x= 10 is 22026.465794806718\n",
            "The Taylor series value of the exponential using N= 40 terms at x= 10 is 22026.465794806583\n"
          ]
        }
      ]
    },
    {
      "cell_type": "markdown",
      "source": [
        "## Exercises\n",
        "\n",
        "1. Use the code given above to test how accurate the Taylor series is at $x=1.1$ using a few different $N$ values. Calculate the absolute error (i.e. the absolute value of the difference between the two values) for each term. How larger an $N$ do we need for a 'reasonable' answer (... say accurate up to 8 digits)?\n",
        "\n",
        "2. What if we have an $x$ that is further away from the center $a$ of the Taylor series? How many terms do we need to be 'reasonable'? Try for $x=2, 5, 10$.\n",
        "\n",
        "3. Adjust the code above to make it so that we can have an input for any $a$ center point of our Taylor series. Let the new function be\n",
        "```\n",
        "def exp_TS_1(x,N,a):\n",
        "```\n",
        "\n",
        "  Test it for $f(x)=e^{x}$ with $a=10$ at $x=9$"
      ],
      "metadata": {
        "id": "BZXt-6tX1acL"
      }
    },
    {
      "cell_type": "code",
      "source": [],
      "metadata": {
        "id": "jJ3pVB75Pm-m"
      },
      "execution_count": null,
      "outputs": []
    },
    {
      "cell_type": "markdown",
      "source": [
        "## Absolute error\n",
        "\n",
        "If we think of the \n",
        "\n",
        "Let's plot the absolute error for the first 40 terms using of Q1 and Q2. Use a for loop to store the absolute value. To do this, set up a for-loop using "
      ],
      "metadata": {
        "id": "1pJHvnpEPpYm"
      }
    },
    {
      "cell_type": "markdown",
      "source": [
        "If one chops of the number of terms of a One can think of them as a polynomial approximation to the function $f(x)$, which does not have to be a polynomial."
      ],
      "metadata": {
        "id": "U8tRlKYA1-5a"
      }
    }
  ]
}