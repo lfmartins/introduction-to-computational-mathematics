{
 "cells": [
  {
   "cell_type": "markdown",
   "id": "f1970d38-9a74-4d87-aabf-1eb20b3afe2d",
   "metadata": {},
   "source": [
    "# Introduction\n",
    "\n",
    "In this notebook, we explore the heat equation. This model was created by the french mathematician Joseph Fourier to model the heat flow on a conducting material. Heat conduction is an example of of a *diffusion process*, which is one of the most important types of models in applied mathematics. They are used to model, for example, how diseases spread, how pollutants spread in the atmosphere and (somewhat surprising) how the stock market evolves."
   ]
  },
  {
   "cell_type": "markdown",
   "id": "1d5cdc27-df2e-4b5e-bd0f-b7f51ddaa634",
   "metadata": {},
   "source": [
    "# Discretization of the one-dimensional heat equation\n",
    "\n",
    "We start with a simple one-dimensional model. Suppose we have a rod of heat-conducting material. We assume that  the rod is well-insulated, except at it's endpoints, where heat can be exchanged with the environment. Let $L$ be the length of the rod. We use the variable $x$ to identify the position of a point on the rod, and let $u(x,t)$ denote the temperature of the rod at position $x$ and time $t$. The evolution of $u(x,t)$ is then derived according to the following equation:\n",
    "$$\n",
    "u_t=\\alpha u_{xx}+f(x)\n",
    "$$\n",
    "In this equation, $\\alpha>0$ is a called the *diffusion coefficient*, and is related to how fast heat flows. The function $f(x)$ represents an *internal heat source* at position $x$. The equation above is called the *time dependent heat equation*, and the solution $u(x,t)$ represents the evolution of the temperature distribution as $t$ changes. In many situations, $u(x,t)$ converges, as $t\\to\\infty$, to a stable temperature distribution. In this limit, the distribution does not change with time, so that $u_t=0$, and the equation becomes:\n",
    "$$\n",
    "\\alpha u_{xx}+f(x)=0\n",
    "$$\n",
    "Notice that now $u(x)$ is a function of one variable, denoting the stationary heat distribution.\n",
    "\n",
    "Besides the equation above, which models heat flow in the rod, we need to set *boundary conditions* that specify how heat is exchange at the ends of the rod. In our first example, we will assume that the ends of the rod are kept at constant temperature, represented by the equations:\n",
    "$$\n",
    "u(0)=a,\\quad u(L)=b\n",
    "$$\n",
    "\n",
    "We will solve this equation by the *method of finite differecences*. We discretize both space and time using the same formulas for numerical differentiation from Lesson 13. \n",
    "\n",
    "To discretize space, we choose am integer $N$ and subdivide the interval $[0,L]$ in $N$ subintervals, by defining the *grid points*:\n",
    "\\[\n",
    "x_i=ih,\\quad(0\\le i\\le N),\n",
    "\\]\n",
    "where $h=1/N$. We want to approximate the solution $u(x)$ at the grid points $x_i$. To be precise, we want to compute values $u_0,\\ldots u_N$ such that $u_i=u(x_i)$\n",
    "\n",
    "To construct the approximation, we use a central difference approximation for the second derivative:\n",
    "$$\n",
    "u_{xx}(x_i)\\approx \\frac{u(x_i+h)-2u(x_i)+u(x_i-h)}{h^2}\\approx \\frac{u_{i+1}-2u_i+u_{i-1}}{h^2}\n",
    "$$\n",
    "We use this formula to define the discretized version of the heat equation:\n",
    "$$\n",
    "\\alpha \\frac{u_{i+1}-2u_i+u_{i-1}}{h^2}+f(x_i)=0,\\quad (1\\le i\\le N-1),\n",
    "$$\n",
    "which we rewrite as:\n",
    "$$\n",
    "u_{i+1}-2 u_i+u_{i-1}=-\\frac{h^2}{\\alpha}f(x_i)=0,\\quad (1\\le i\\le N-1)\n",
    "$$\n",
    "This formula is only valid at the *interior* grid points. At the boundary points we have:\n",
    "$$\n",
    "u_0=a,\\quad u_N=b.\n",
    "$$\n",
    "\n",
    "In order to compute a numerical approximation, we reformulate the problem in terms of matrices. We define a vector:\n",
    "$$\n",
    "\\mathbf{u}=\\left[\\begin{matrix}u_0 \\\\ u_2 \\\\ \\vdots \\\\ u_N\\end{matrix}\\right]\n",
    "$$\n",
    "We also define a matrix $A=(a_{ij})_{0\\le i,j\\le N}$ by:\n",
    "$$\n",
    "\\begin{cases}\n",
    "a_{ii}=-2 & \\text{if $1\\le i\\le N-1$}\\\\\n",
    "a_{i,i+1}=a_{i,i-1}=1 & \\text{if $1\\le i\\le N-1$}\\\\\n",
    "a_{00}=a_{NN}=1\\\\\n",
    "a_{ij}=0 & \\text{for all other values of $i$, $j$}\n",
    "\\end{cases}\n",
    "$$\n",
    "Finally, we define a vector $\\mathbf{r}=(r_i)_{0\\le i\\le N}$ by:\n",
    "$$\n",
    "r_i=\n",
    "\\begin{cases}\n",
    "-\\frac{h^2}{\\alpha}f(x_i) & \\text{if $1\\le i\\le N-1$}\\\\\n",
    "a & \\text{if $i=0$}\\\\\n",
    "b & \\text{if $i=N$}\n",
    "\\end{cases}\n",
    "$$\n",
    "With this notation, we can write the discretized heat equation as the linear system:\n",
    "$$\n",
    "A\\mathbf{u}=\\mathbf{r}\n",
    "$$\n"
   ]
  },
  {
   "cell_type": "markdown",
   "id": "05ec0e1c-1a49-4fe3-8db1-59cfb3b6c452",
   "metadata": {},
   "source": [
    "# Numerical Implementation\n",
    "\n",
    "As a concrete example, we will solve the following version of the stady-state heat equation, for a rod of length $L=1$:\n",
    "$$\n",
    "0.5 u_{xx}+\\sin(\\pi x)=0\n",
    "$$\n",
    "with boundary conditions:\n",
    "$$\n",
    "u(0)=1,\\quad u(\\pi)=-2\n",
    "$$\n",
    "\n",
    "We now want to, in Python, do the following:\n",
    "\n",
    "- Define the problem parameters $L$, $a$, $b$, $\\alpha$ and the discretization data, consisting of $N$, $h$, and the vector of grid points.\n",
    "- Define the matrix $A$ and the vector $\\mathbf{r}$.\n",
    "- Find the solution $\\mathbf{u}$ of the linear system $A\\mathbf{u}=\\mathbf{r}$\n",
    "\n",
    "We start by defining the problem parameters and the discretization data. We first choose a small number of grid points to make error-checking easier:"
   ]
  },
  {
   "cell_type": "code",
   "execution_count": 1,
   "id": "74e83b08-f1c5-4dc8-b2f1-2e2d80a50e17",
   "metadata": {},
   "outputs": [
    {
     "name": "stdout",
     "output_type": "stream",
     "text": [
      "1 0.2 0.5 0.5 5 0.2 [0.   0.25 0.5  0.75 1.  ]\n"
     ]
    }
   ],
   "source": [
    "import numpy as np\n",
    "L = 1\n",
    "alpha = 0.5\n",
    "a, b = 0.2, 0.5\n",
    "N = 5\n",
    "h = L / N\n",
    "xgrid = np.linspace(0, L, N)\n",
    "print(L, a, b, alpha, N, h, xgrid)"
   ]
  },
  {
   "cell_type": "markdown",
   "id": "d87abd8c-46d1-49d7-bbe5-63d9662f05b1",
   "metadata": {},
   "source": [
    "Notice that to define the vector of grid points, we use the function `linspace():`\n",
    "    \n",
    "    xgrid = np.linspace(0, L, N)\n",
    "    \n",
    "This function returns an array of equally spaced points. Notice that, contrary to the usual convention, the rightmost point *is included* in  the range.\n",
    "\n",
    "It is now easy to define the right-hand side of the numerical approximation:"
   ]
  },
  {
   "cell_type": "code",
   "execution_count": 2,
   "id": "9a2639c3-974f-4c9e-8efa-7e94de50e4cf",
   "metadata": {},
   "outputs": [
    {
     "name": "stdout",
     "output_type": "stream",
     "text": [
      "[ 0.2        -0.05656854 -0.08       -0.05656854  0.5       ]\n"
     ]
    }
   ],
   "source": [
    "r = - h ** 2 / alpha * np.sin(np.pi * xgrid)\n",
    "r[0], r[N-1] = a, b\n",
    "print(r)"
   ]
  },
  {
   "cell_type": "markdown",
   "id": "b1265b4e-f79e-4777-874a-c7e7d56b0d12",
   "metadata": {},
   "source": [
    "Let's now consider the matrix $A$. This is a *tridiagonal matrix* with the following structure:\n",
    "\n",
    "$$\n",
    "\\left[\\begin{matrix}\n",
    "1 &  0 &  0 &  0 & \\cdots & 0 & 0 & 0\\\\\n",
    "1 & -2 &  1 &  0 & \\cdots & 0 & 0 & 0\\\\\n",
    "0 &  1 & -2 &  1 & \\cdots & 0 & 0 & 0\\\\\n",
    "0 &  0 &  1 & -2 & \\cdots & 0 & 0 & 0\\\\\n",
    "\\vdots & \\vdots & \\vdots & \\vdots & \\ddots & \\vdots & \\vdots & \\vdots \\\\\n",
    "0 &  0 &  0 & 0 & \\cdots & 1 & -2 & 1\\\\\n",
    "0 &  0 &  0 & 0 & \\cdots & 0 &  0 & 1\\\\\n",
    "\\end{matrix}\\right]\n",
    "$$\n",
    "\n",
    "To construct this matrix, we use the following simple approach: first create a matrix of zeros with the appropriate size and then set the entries using a `for` loop."
   ]
  },
  {
   "cell_type": "code",
   "execution_count": 3,
   "id": "69c5a8ae-33b7-40b3-9368-557c3b113558",
   "metadata": {},
   "outputs": [
    {
     "name": "stdout",
     "output_type": "stream",
     "text": [
      "[[ 1.  0.  0.  0.  0.]\n",
      " [ 1. -2.  1.  0.  0.]\n",
      " [ 0.  1. -2.  1.  0.]\n",
      " [ 0.  0.  1. -2.  1.]\n",
      " [ 0.  0.  0.  0.  1.]]\n"
     ]
    }
   ],
   "source": [
    "A = np.zeros((N, N), np.float64)\n",
    "for i in range(N):\n",
    "    A[i,i] = -2.0\n",
    "for i in range(1, N-1):\n",
    "    A[i, i - 1] = 1.0\n",
    "for i in range(1, N-1):\n",
    "    A[i, i + 1] = 1.0\n",
    "A[0, 0] = 1\n",
    "A[N-1, N-1] = 1\n",
    "print(A)"
   ]
  },
  {
   "cell_type": "markdown",
   "id": "21ce1d50-a648-4f36-ad5f-5a6789aab87a",
   "metadata": {},
   "source": [
    "We are now ready to solve the system. In computational mathematics, the method chosen to solve a linear system is of crucial importance. Somewhat non-intuitively, matrix inversion is, in general, *not* the recommended approach, since there are more efficient methods. Here, we use the function `solve()` from the module `np.linalg`, which implements a LU decomposition:"
   ]
  },
  {
   "cell_type": "code",
   "execution_count": 4,
   "id": "c5b35079-4541-4ecc-a1c6-63896182e282",
   "metadata": {},
   "outputs": [
    {
     "name": "stdout",
     "output_type": "stream",
     "text": [
      "[0.2        0.37156854 0.48656854 0.52156854 0.5       ]\n"
     ]
    }
   ],
   "source": [
    "u = np.linalg.solve(A, r)\n",
    "print(u)"
   ]
  },
  {
   "cell_type": "markdown",
   "id": "6f98ef92-b070-4ac2-99d2-41e946d44b69",
   "metadata": {},
   "source": [
    "Let's now solve the problem with a larger grid, and plot the solution:"
   ]
  },
  {
   "cell_type": "code",
   "execution_count": 5,
   "id": "e7f01ddd-8acf-4458-b34d-ce5cb1a8ebd0",
   "metadata": {},
   "outputs": [],
   "source": [
    "L = 1\n",
    "alpha = 0.5\n",
    "a, b = 0.2, 0.5\n",
    "N = 100\n",
    "h = L / N\n",
    "xgrid = np.linspace(0, L, N)\n",
    "r = - h ** 2 / alpha * 5 * np.sin(np.pi * xgrid)\n",
    "r[0], r[N-1] = a, b\n",
    "A = np.zeros((N, N), np.float64)\n",
    "for i in range(N):\n",
    "    A[i,i] = -2.0\n",
    "for i in range(1, N-1):\n",
    "    A[i, i - 1] = 1.0\n",
    "for i in range(1, N-1):\n",
    "    A[i, i + 1] = 1.0\n",
    "A[0, 0] = 1\n",
    "A[N-1, N-1] = 1\n",
    "u = np.linalg.solve(A, r)"
   ]
  },
  {
   "cell_type": "code",
   "execution_count": 6,
   "id": "03e57718-0803-4bfa-95f2-67960acca838",
   "metadata": {},
   "outputs": [
    {
     "data": {
      "image/png": "[encoded data removed]",
      "text/plain": [
       "<Figure size 576x432 with 1 Axes>"
      ]
     },
     "metadata": {
      "needs_background": "light"
     },
     "output_type": "display_data"
    }
   ],
   "source": [
    "import matplotlib.pyplot as plt\n",
    "plt.figure(figsize=(8,6))\n",
    "plt.plot(xgrid, u, color='red', lw=2)\n",
    "plt.axhline(0, color='black', lw=1)\n",
    "plt.axvline(0, color='black', lw=1)\n",
    "None"
   ]
  },
  {
   "cell_type": "code",
   "execution_count": 7,
   "id": "cc26c2c4-aa47-4c98-ae1a-1a540fc17b93",
   "metadata": {},
   "outputs": [
    {
     "name": "stdout",
     "output_type": "stream",
     "text": [
      "[0.2        0.23454034 0.26904895 0.30349413 0.33784426 0.3720678\n",
      " 0.40613333 0.44000962 0.47366559 0.50707042 0.54019351 0.57300457\n",
      " 0.60547361 0.63757099 0.66926743 0.70053409 0.73134251 0.76166474\n",
      " 0.79147329 0.8207412  0.84944205 0.87754999 0.90503978 0.93188677\n",
      " 0.958067   0.98355715 1.0083346  1.03237746 1.05566458 1.07817554\n",
      " 1.09989075 1.12079137 1.14085943 1.16007777 1.17843007 1.19590093\n",
      " 1.21247579 1.22814102 1.24288389 1.25669262 1.26955634 1.28146516\n",
      " 1.29241014 1.30238331 1.31137768 1.31938724 1.32640698 1.33243288\n",
      " 1.33746192 1.3414921  1.3445224  1.34655283 1.34758439 1.3476191\n",
      " 1.34665997 1.34471101 1.34177725 1.33786469 1.33298032 1.3271321\n",
      " 1.32032898 1.31258086 1.30389859 1.29429397 1.28377971 1.27236947\n",
      " 1.26007777 1.24692004 1.23291259 1.21807256 1.20241797 1.18596761\n",
      " 1.1687411  1.15075884 1.132042   1.11261245 1.09249283 1.07170644\n",
      " 1.05027727 1.02822993 1.00558969 0.98238238 0.95863444 0.93437281\n",
      " 0.90962499 0.88441895 0.85878311 0.83274634 0.8063379  0.77958745\n",
      " 0.75252496 0.72518074 0.69758538 0.6697697  0.64176477 0.61360184\n",
      " 0.58531231 0.55692773 0.52847973 0.5       ]\n"
     ]
    }
   ],
   "source": [
    "print(u)"
   ]
  },
  {
   "cell_type": "code",
   "execution_count": null,
   "id": "848a5f43-04ee-4fed-885f-b5369abf564a",
   "metadata": {},
   "outputs": [],
   "source": []
  }
 ],
 "metadata": {
  "kernelspec": {
   "display_name": "Python 3 (ipykernel)",
   "language": "python",
   "name": "python3"
  },
  "language_info": {
   "codemirror_mode": {
    "name": "ipython",
    "version": 3
   },
   "file_extension": ".py",
   "mimetype": "text/x-python",
   "name": "python",
   "nbconvert_exporter": "python",
   "pygments_lexer": "ipython3",
   "version": "3.8.5"
  }
 },
 "nbformat": 4,
 "nbformat_minor": 5
}
