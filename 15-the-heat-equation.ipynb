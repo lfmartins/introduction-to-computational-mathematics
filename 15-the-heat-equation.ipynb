{
 "cells": [
  {
   "cell_type": "markdown",
   "id": "f1970d38-9a74-4d87-aabf-1eb20b3afe2d",
   "metadata": {},
   "source": [
    "# Introduction\n",
    "\n",
    "In this notebook, we explore the heat equation. This model was created by the french mathematician Joseph Fourier to model the heat flow on a conducting material. Heat conduction is an example of of a *diffusion process*, which is one of the most important types of models in applied mathematics. They are used to model, for example, how diseases spread, how pollutants spread in the atmosphere and (somewhat surprising) how the stock market evolves."
   ]
  },
  {
   "cell_type": "markdown",
   "id": "1d5cdc27-df2e-4b5e-bd0f-b7f51ddaa634",
   "metadata": {},
   "source": [
    "# The one-dimensional heat equation\n",
    "\n",
    "We start with a simple one-dimensional model. Suppose we have a rod of heat-conducting material. We assume that  the rod is well-insulated, except at it's endpoints, where heat can be exchanged with the environment. Let $L$ be the length of the rod. We use the variable $x$ to identify the position of a point on the rod, and let $u(x,t)$ denote the temperature of the rod at position $x$ and time $t$. The evolution of $u(x,t)$ is then derived according to the following equation:\n",
    "$$\n",
    "u_t=\\alpha u_{xx}+f(x)\n",
    "$$\n",
    "In this equation, $\\alpha>0$ is a called the *diffusion coefficient*, and is related to how fast heat flows. The function $f(x)$ represents an *internal heat source* at position $x$. The equation above is called the *time dependent heat equation*, and the solution $u(x,t)$ represents the evolution of the temperature distribution as $t$ changes. In many situations, $u(x,t)$ converges, as $t\\to\\infty$, to a stable temperature distribution. In this limit, the distribution does not change with time, so that $u_t=0$, and the equation becomes:\n",
    "$$\n",
    "0=\\alpha u_{xx}+f(x)\n",
    "$$\n",
    "Notice that now $u(x)$ is a function of one variable, denoting the stationary heat distribution.\n",
    "\n",
    "Besides the equation above, which models heat flow in the rod, we need to set *boundary conditions* that specify how heat is exchange at the ends of the rod. In our first example, we will assume that the ends of the rod are kept at constant temperature, represented by the equations:\n",
    "$$\n",
    "u(0)=a,\\quad u(L)=b\n",
    "$$\n",
    "\n",
    "We will solve this equation by the *method of finite differe\n"
   ]
  },
  {
   "cell_type": "code",
   "execution_count": null,
   "id": "cc848c92-f074-4267-988a-03f7f9edbde8",
   "metadata": {},
   "outputs": [],
   "source": []
  }
 ],
 "metadata": {
  "kernelspec": {
   "display_name": "Python 3 (ipykernel)",
   "language": "python",
   "name": "python3"
  },
  "language_info": {
   "codemirror_mode": {
    "name": "ipython",
    "version": 3
   },
   "file_extension": ".py",
   "mimetype": "text/x-python",
   "name": "python",
   "nbconvert_exporter": "python",
   "pygments_lexer": "ipython3",
   "version": "3.9.7"
  }
 },
 "nbformat": 4,
 "nbformat_minor": 5
}
