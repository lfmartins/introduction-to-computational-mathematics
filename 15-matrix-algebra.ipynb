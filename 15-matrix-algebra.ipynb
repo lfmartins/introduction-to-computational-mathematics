{
 "cells": [
  {
   "cell_type": "markdown",
   "id": "fc659029-cb5b-4ae3-b270-0582fc911c78",
   "metadata": {},
   "source": [
    "<a href=\"https://colab.research.google.com/github/lfmartins/introduction-to-computational-mathematics/blob/main/11-TaylorSeries.ipynb\" target=\"_parent\"><img src=\"https://colab.research.google.com/assets/colab-badge.svg\" alt=\"Open In Colab\"/></a>"
   ]
  },
  {
   "cell_type": "markdown",
   "id": "7c1e660a-d102-4446-a8ef-443653602313",
   "metadata": {},
   "source": [
    "# Introduction\n",
    "\n",
    "In this notebook, we will study how to solve some basic problems of matrix algebra computationally. We cover the following topics:\n",
    "\n",
    "- Matrix and vector operations\n",
    "- Solution of linear systems\n",
    "\n",
    "Before running code in the notebook, please execute the following cell, which imports the modules that we will be using:"
   ]
  },
  {
   "cell_type": "code",
   "execution_count": 1,
   "id": "93c89e02-26a5-440f-ac31-c9b3e9d3967f",
   "metadata": {},
   "outputs": [],
   "source": [
    "import numpy as np"
   ]
  },
  {
   "cell_type": "markdown",
   "id": "bd3a05cd-fa88-4b94-adcc-58840370ea88",
   "metadata": {},
   "source": [
    "# Matrix and vector operations\n",
    "\n",
    "Matrices and vectors are represented, as expected, by `numpy` arrays. A matrix is just an two-dimensional array: "
   ]
  },
  {
   "cell_type": "code",
   "execution_count": 3,
   "id": "27d66bd8-0328-4873-8186-e4141de19be0",
   "metadata": {},
   "outputs": [
    {
     "data": {
      "text/plain": [
       "array([[ 1., -1.,  3.,  4.],\n",
       "       [ 2.,  0., -3.,  1.],\n",
       "       [ 1.,  1.,  2., -2.]])"
      ]
     },
     "execution_count": 3,
     "metadata": {},
     "output_type": "execute_result"
    }
   ],
   "source": [
    "A = np.array([[1,-1,3,4],[2,0,-3,1],[1,1,2,-2]], dtype=np.float64)\n",
    "A"
   ]
  },
  {
   "cell_type": "markdown",
   "id": "0b95007c-3ad6-41b0-9ce1-e3ddb7dbc8de",
   "metadata": {},
   "source": [
    "Notice that we specify `dtype=np.float64` to force the matrix entries to be floating-point numbers, which is what we usually want when doing numerical computations.\n",
    "\n",
    "Vectors can be represented as one-dimensional arrays:"
   ]
  },
  {
   "cell_type": "code",
   "execution_count": 5,
   "id": "34f61db6-765d-45e4-814a-f234c7b85bec",
   "metadata": {},
   "outputs": [
    {
     "data": {
      "text/plain": [
       "(array([ 1.,  2.,  0., -3.]), array([ 2., -3.,  1.]))"
      ]
     },
     "execution_count": 5,
     "metadata": {},
     "output_type": "execute_result"
    }
   ],
   "source": [
    "u = np.array([1,2,0,-3], dtype=np.float64)\n",
    "v = np.array([2,-3,1], dtype=np.float64)\n",
    "u, v"
   ]
  },
  {
   "cell_type": "markdown",
   "id": "a71891a4-b122-4e84-a659-7b7a64a9963c",
   "metadata": {},
   "source": [
    "There is a peculiarity about one-dimensional arrays: they are neither row nor column vectors, but can play the role of both, depending on the context they are used. If we need to guarantee that we have a column or row vector, we can use the `reshape` functions:"
   ]
  },
  {
   "cell_type": "code",
   "execution_count": 10,
   "id": "822ea64b-9ae6-4dde-a191-ed50c2ea8814",
   "metadata": {},
   "outputs": [
    {
     "data": {
      "text/plain": [
       "array([[ 1.],\n",
       "       [ 2.],\n",
       "       [ 0.],\n",
       "       [-3.]])"
      ]
     },
     "execution_count": 10,
     "metadata": {},
     "output_type": "execute_result"
    }
   ],
   "source": [
    "u_col = u.reshape(4, 1)\n",
    "u_col"
   ]
  },
  {
   "cell_type": "markdown",
   "id": "c494bf03-27ed-488f-877d-bebd8e8d9807",
   "metadata": {},
   "source": [
    "In the code above, we are asking to reshape the array `u` to be a $4\\times 1$ array, which is a column vector. If we want a row vector instead, we can use:"
   ]
  },
  {
   "cell_type": "code",
   "execution_count": 11,
   "id": "c1045b68-0700-4784-9281-408402724441",
   "metadata": {},
   "outputs": [
    {
     "data": {
      "text/plain": [
       "array([[ 1.,  2.,  0., -3.]])"
      ]
     },
     "execution_count": 11,
     "metadata": {},
     "output_type": "execute_result"
    }
   ],
   "source": [
    "u_row = u.reshape(1, 4)\n",
    "u_row"
   ]
  },
  {
   "cell_type": "markdown",
   "id": "f77335ed-8dfd-4f78-9095-f7ceadb713a6",
   "metadata": {},
   "source": [
    "Matrix addition and multiplication by scalar are performed by the operators `+` and `*`, respectively:"
   ]
  },
  {
   "cell_type": "code",
   "execution_count": 12,
   "id": "652dd51f-9d0d-4d4e-82ea-6f29783c0f6c",
   "metadata": {},
   "outputs": [
    {
     "data": {
      "text/plain": [
       "array([[ 3,  1, -1,  0],\n",
       "       [ 2, -3,  4,  4],\n",
       "       [ 3, -2,  1,  2]])"
      ]
     },
     "execution_count": 12,
     "metadata": {},
     "output_type": "execute_result"
    }
   ],
   "source": [
    "B = np.array([[3,1,-1,0],[2,-3,4,4],[3,-2,1,2]])\n",
    "B"
   ]
  },
  {
   "cell_type": "code",
   "execution_count": 13,
   "id": "3561b357-c821-47fc-bc0e-a8b6e9335df7",
   "metadata": {},
   "outputs": [
    {
     "data": {
      "text/plain": [
       "array([[ 4.,  0.,  2.,  4.],\n",
       "       [ 4., -3.,  1.,  5.],\n",
       "       [ 4., -1.,  3.,  0.]])"
      ]
     },
     "execution_count": 13,
     "metadata": {},
     "output_type": "execute_result"
    }
   ],
   "source": [
    "A + B"
   ]
  },
  {
   "cell_type": "code",
   "execution_count": 14,
   "id": "3e7aaf46-ee52-4f52-839c-9bc016703c97",
   "metadata": {},
   "outputs": [
    {
     "data": {
      "text/plain": [
       "array([[ 3., -3.,  9., 12.],\n",
       "       [ 6.,  0., -9.,  3.],\n",
       "       [ 3.,  3.,  6., -6.]])"
      ]
     },
     "execution_count": 14,
     "metadata": {},
     "output_type": "execute_result"
    }
   ],
   "source": [
    "3 * A"
   ]
  },
  {
   "cell_type": "markdown",
   "id": "3b5a3168-c375-4eb5-8467-36bcdaace9db",
   "metadata": {},
   "source": [
    "Matrix multiplication _is not_ represented by `*`. This can be seen clearly if we try to multiply the matrix `A` by the vector `u`:"
   ]
  },
  {
   "cell_type": "code",
   "execution_count": 15,
   "id": "4dbe9de7-138a-4cdc-b453-f4dc88fba9ad",
   "metadata": {},
   "outputs": [
    {
     "data": {
      "text/plain": [
       "array([[  1.,  -2.,   0., -12.],\n",
       "       [  2.,   0.,  -0.,  -3.],\n",
       "       [  1.,   2.,   0.,   6.]])"
      ]
     },
     "execution_count": 15,
     "metadata": {},
     "output_type": "execute_result"
    }
   ],
   "source": [
    "A * u"
   ]
  },
  {
   "cell_type": "markdown",
   "id": "baf81d7f-ab64-4a09-b3b9-c03a3136dec2",
   "metadata": {},
   "source": [
    "Look carefully at the result. It should be clear that the result _is not_ what we expect when computing the matrix-vector product $Au$. Instead, each _row_ of `A` is multiplied, component by component, by the entries of vector `u`.\n",
    "\n",
    "Behind the scenes, numpy is using what is called _broadcasting_. The rules for broadcasting are complex, so let's see how `numpy` deals with the present example.\n",
    "\n",
    "- `numpy` realizes that we are trying to multiply the array `A` of shape (3,4) by the array `u` of shape (4,).\n",
    "- Since the sizes don't match, `numpy` expands the array `u` by interpreting it as a row vector and repeating it to obtain an array of shape (3,4)\n",
    "- Once this is done, the two arrays match shapes, and can be multiplied.\n",
    "\n",
    "This could be accomplished explicitly with the following code:"
   ]
  },
  {
   "cell_type": "code",
   "execution_count": 17,
   "id": "a02cc611-0724-4c0f-9f95-97366f03c069",
   "metadata": {},
   "outputs": [
    {
     "data": {
      "text/plain": [
       "array([[ 1.,  2.,  0., -3.],\n",
       "       [ 1.,  2.,  0., -3.],\n",
       "       [ 1.,  2.,  0., -3.]])"
      ]
     },
     "execution_count": 17,
     "metadata": {},
     "output_type": "execute_result"
    }
   ],
   "source": [
    "u_stack = np.stack([u,u,u])\n",
    "u_stack"
   ]
  },
  {
   "cell_type": "code",
   "execution_count": 18,
   "id": "15812b4b-1d79-4c43-ba41-cbca5ce6cea0",
   "metadata": {},
   "outputs": [
    {
     "data": {
      "text/plain": [
       "array([[  1.,  -2.,   0., -12.],\n",
       "       [  2.,   0.,  -0.,  -3.],\n",
       "       [  1.,   2.,   0.,   6.]])"
      ]
     },
     "execution_count": 18,
     "metadata": {},
     "output_type": "execute_result"
    }
   ],
   "source": [
    "A * u_stack"
   ]
  },
  {
   "cell_type": "markdown",
   "id": "0355a29a-a1fd-4c5b-b48b-0247f0567b35",
   "metadata": {},
   "source": [
    "The take-home message is that, in general _we should not use the `*` operator to multiply matrices_, unless in very specific applications.\n",
    "\n",
    "To compute the matrix-vector product $Au$ we have to options: use either the `dot()` method or the `@` operator. These two methods are illustrated in the following two cells:"
   ]
  },
  {
   "cell_type": "code",
   "execution_count": 19,
   "id": "24fd8f95-e812-49de-8647-0249f9effcbe",
   "metadata": {},
   "outputs": [
    {
     "data": {
      "text/plain": [
       "array([-13.,  -1.,   9.])"
      ]
     },
     "execution_count": 19,
     "metadata": {},
     "output_type": "execute_result"
    }
   ],
   "source": [
    "A.dot(u)"
   ]
  },
  {
   "cell_type": "code",
   "execution_count": 20,
   "id": "d845ee6f-a4ed-4a69-871b-d7fadd31d7b4",
   "metadata": {},
   "outputs": [
    {
     "data": {
      "text/plain": [
       "array([-13.,  -1.,   9.])"
      ]
     },
     "execution_count": 20,
     "metadata": {},
     "output_type": "execute_result"
    }
   ],
   "source": [
    "A @ u"
   ]
  },
  {
   "cell_type": "markdown",
   "id": "b8eb2dd4-e0b6-4707-b10e-bb50e67bc4ce",
   "metadata": {},
   "source": [
    "Notice that `numpy` is smart enough to realize that `u` should be interpreted as a column vector. Also notice that the returned vector is of shape (3,), which, if interpreted as a column vector, has the right dimension. If we try to compute $uA$ we get an error:"
   ]
  },
  {
   "cell_type": "code",
   "execution_count": 21,
   "id": "38130742-3e4f-4698-bad5-1448a3ffd3cd",
   "metadata": {},
   "outputs": [
    {
     "ename": "ValueError",
     "evalue": "shapes (4,) and (3,4) not aligned: 4 (dim 0) != 3 (dim 0)",
     "output_type": "error",
     "traceback": [
      "\u001b[0;31m---------------------------------------------------------------------------\u001b[0m",
      "\u001b[0;31mValueError\u001b[0m                                Traceback (most recent call last)",
      "Input \u001b[0;32mIn [21]\u001b[0m, in \u001b[0;36m<cell line: 1>\u001b[0;34m()\u001b[0m\n\u001b[0;32m----> 1\u001b[0m \u001b[43mu\u001b[49m\u001b[38;5;241;43m.\u001b[39;49m\u001b[43mdot\u001b[49m\u001b[43m(\u001b[49m\u001b[43mA\u001b[49m\u001b[43m)\u001b[49m\n",
      "\u001b[0;31mValueError\u001b[0m: shapes (4,) and (3,4) not aligned: 4 (dim 0) != 3 (dim 0)"
     ]
    }
   ],
   "source": [
    "u.dot(A)"
   ]
  },
  {
   "cell_type": "markdown",
   "id": "079bb7d0-ff49-428a-b4a7-e6925de85fda",
   "metadata": {},
   "source": [
    "We can, of course, left-multiply an array of shape (3,) by the matrix `A`:"
   ]
  },
  {
   "cell_type": "code",
   "execution_count": 22,
   "id": "165026c4-7390-45d3-a2a3-da01ef22ee10",
   "metadata": {},
   "outputs": [
    {
     "data": {
      "text/plain": [
       "array([-3., -1., 17.,  3.])"
      ]
     },
     "execution_count": 22,
     "metadata": {},
     "output_type": "execute_result"
    }
   ],
   "source": [
    "v.dot(A)"
   ]
  },
  {
   "cell_type": "markdown",
   "id": "11cfc25e-5815-4404-8064-032c8cdac19c",
   "metadata": {},
   "source": [
    "It should come as no surprise that matrix inversion _is not_ computed by raising to the power $-1$, as shown in the example below:"
   ]
  },
  {
   "cell_type": "code",
   "execution_count": 28,
   "id": "551750da-e809-4e90-a7c6-69ca7b3c1fa8",
   "metadata": {},
   "outputs": [
    {
     "data": {
      "text/plain": [
       "array([[ 1.,  2., -2.,  1.],\n",
       "       [ 2., -3.,  4., -5.],\n",
       "       [ 1.,  1.,  2., -1.],\n",
       "       [-3.,  2.,  1.,  2.]])"
      ]
     },
     "execution_count": 28,
     "metadata": {},
     "output_type": "execute_result"
    }
   ],
   "source": [
    "M = np.array([[1,2,-2,1],[2,-3,4,-5],[1,1,2,-1],[-3,2,1,2]], dtype=np.float64)\n",
    "M"
   ]
  },
  {
   "cell_type": "code",
   "execution_count": 29,
   "id": "a120dff3-f296-43c1-81f3-af77689a1abd",
   "metadata": {},
   "outputs": [
    {
     "data": {
      "text/plain": [
       "array([[ 1.        ,  0.5       , -0.5       ,  1.        ],\n",
       "       [ 0.5       , -0.33333333,  0.25      , -0.2       ],\n",
       "       [ 1.        ,  1.        ,  0.5       , -1.        ],\n",
       "       [-0.33333333,  0.5       ,  1.        ,  0.5       ]])"
      ]
     },
     "execution_count": 29,
     "metadata": {},
     "output_type": "execute_result"
    }
   ],
   "source": [
    "M ** (-1)"
   ]
  },
  {
   "cell_type": "markdown",
   "id": "10bf8552-985c-46d6-b91a-f18ed8cc64b4",
   "metadata": {},
   "source": [
    "As can be seen, what `numpy` is doing here is to raise every entry of the matrix to the power $-1$, which is does not correspond to matrix inversion. To compute the inverse of a matrix, we can use the function `np.linalg.inv()`:"
   ]
  },
  {
   "cell_type": "code",
   "execution_count": 34,
   "id": "b240ec54-5f4e-4f67-a079-a616300e4216",
   "metadata": {},
   "outputs": [
    {
     "data": {
      "text/plain": [
       "array([[-0.51612903, -0.48387097,  0.74193548, -0.58064516],\n",
       "       [ 0.67741935,  0.32258065, -0.16129032,  0.38709677],\n",
       "       [-0.64516129, -0.35483871,  0.67741935, -0.22580645],\n",
       "       [-1.12903226, -0.87096774,  0.93548387, -0.64516129]])"
      ]
     },
     "execution_count": 34,
     "metadata": {},
     "output_type": "execute_result"
    }
   ],
   "source": [
    "M_inv = np.linalg.inv(M)\n",
    "M_inv"
   ]
  },
  {
   "cell_type": "code",
   "execution_count": 35,
   "id": "765642fd-dec3-4c9c-a893-e4984ff3845a",
   "metadata": {},
   "outputs": [
    {
     "data": {
      "text/plain": [
       "array([[ 1.00000000e+00, -5.55111512e-17,  2.22044605e-16,\n",
       "        -1.11022302e-16],\n",
       "       [ 0.00000000e+00,  1.00000000e+00, -8.88178420e-16,\n",
       "         0.00000000e+00],\n",
       "       [ 0.00000000e+00,  0.00000000e+00,  1.00000000e+00,\n",
       "         2.22044605e-16],\n",
       "       [-3.33066907e-16, -2.22044605e-16,  0.00000000e+00,\n",
       "         1.00000000e+00]])"
      ]
     },
     "execution_count": 35,
     "metadata": {},
     "output_type": "execute_result"
    }
   ],
   "source": [
    "M.dot(M_inv)"
   ]
  },
  {
   "cell_type": "markdown",
   "id": "fa99f062-b596-4b62-bdb9-7349086801bb",
   "metadata": {},
   "source": [
    "Notice that the product is not exactly equal to the identity matrix due to rounding errors.\n",
    "\n",
    "Here is a summary of what we learned in this section:\n",
    "\n",
    "- Matrix addition and scalar-matrix multiplication are done with the operators `+` and `*`, respectively.\n",
    "- Matrix multiplication is done either with the method `dot()` or the operator `@`.\n",
    "- Matrix inversion is doen with the `np.linalg.inv()` function."
   ]
  },
  {
   "cell_type": "markdown",
   "id": "4b868e19-46d2-4e24-bdad-a21fc8912ddc",
   "metadata": {},
   "source": [
    "# Solving linear systems\n",
    "\n",
    "To solve a square linear system, the recommended method is to use the function `np.linalg.solve()`, as illustrated in the example below:"
   ]
  },
  {
   "cell_type": "code",
   "execution_count": 36,
   "id": "4f057d59-6fda-4e18-a55a-349fcbb67f16",
   "metadata": {},
   "outputs": [
    {
     "data": {
      "text/plain": [
       "array([[ 1.,  2.,  1., -3.],\n",
       "       [ 2., -1.,  2.,  1.],\n",
       "       [ 0.,  1.,  2.,  1.],\n",
       "       [-3.,  2.,  1.,  1.]])"
      ]
     },
     "execution_count": 36,
     "metadata": {},
     "output_type": "execute_result"
    }
   ],
   "source": [
    "A = np.array([[1,2,1,-3],[2,-1,2,1],[0,1,2,1],[-3,2,1,1]], dtype=np.float64)\n",
    "A"
   ]
  },
  {
   "cell_type": "code",
   "execution_count": 37,
   "id": "f4ab3cba-4108-44c3-8244-348eae8b2e61",
   "metadata": {},
   "outputs": [
    {
     "data": {
      "text/plain": [
       "array([1, 1, 1, 1])"
      ]
     },
     "execution_count": 37,
     "metadata": {},
     "output_type": "execute_result"
    }
   ],
   "source": [
    "b = np.array([1,1,1,1])\n",
    "b"
   ]
  },
  {
   "cell_type": "markdown",
   "id": "b58f8b8e-a4d3-46bd-87e9-7b93ad038a0f",
   "metadata": {},
   "source": [
    "To solve the system $Ax=b$, we use:"
   ]
  },
  {
   "cell_type": "code",
   "execution_count": 38,
   "id": "6a72097c-098b-4a21-b55b-222e56f13410",
   "metadata": {},
   "outputs": [
    {
     "data": {
      "text/plain": [
       "array([-0.5, -0.5,  1. , -0.5])"
      ]
     },
     "execution_count": 38,
     "metadata": {},
     "output_type": "execute_result"
    }
   ],
   "source": [
    "x = np.linalg.solve(A, b)\n",
    "x"
   ]
  },
  {
   "cell_type": "markdown",
   "id": "216b8677-027b-4960-a9ea-2cbe255b0572",
   "metadata": {},
   "source": [
    "We can verify that the solution is correct we can use matrix-vector multiplication:"
   ]
  },
  {
   "cell_type": "code",
   "execution_count": 39,
   "id": "53f08721-0b32-4fe9-9a90-861eb4130a05",
   "metadata": {},
   "outputs": [
    {
     "data": {
      "text/plain": [
       "array([1., 1., 1., 1.])"
      ]
     },
     "execution_count": 39,
     "metadata": {},
     "output_type": "execute_result"
    }
   ],
   "source": [
    "A.dot(x)"
   ]
  },
  {
   "cell_type": "markdown",
   "id": "0b7bfa40-8a0f-42cc-87a9-406ad31b5436",
   "metadata": {},
   "source": [
    "An important point to notice is that, to solve large systems, _matrix inversion should not be used_. The function `np.linalg.solve()` uses an $LU$ decomposition, a method based on Gaussian Elimination that is much more efficient than inversion. To see the point, let's create a $100\\times 100$ random system and solve it both by inversion and using `np.linalg.solve()`:"
   ]
  },
  {
   "cell_type": "code",
   "execution_count": 43,
   "id": "5c547cc4-82a0-4a20-a702-a746c44be567",
   "metadata": {},
   "outputs": [],
   "source": [
    "A = np.random.rand(100, 100)\n",
    "b = np.random.rand(100)"
   ]
  },
  {
   "cell_type": "code",
   "execution_count": 44,
   "id": "849def6e-6eb9-473d-8e5d-b0fa3615f728",
   "metadata": {},
   "outputs": [
    {
     "name": "stdout",
     "output_type": "stream",
     "text": [
      "213 µs ± 76.8 µs per loop (mean ± std. dev. of 7 runs, 1,000 loops each)\n"
     ]
    }
   ],
   "source": [
    "%%timeit\n",
    "x = np.linalg.inv(A).dot(b)"
   ]
  },
  {
   "cell_type": "code",
   "execution_count": 45,
   "id": "7fb79226-cebf-48c5-8c39-0008042b385e",
   "metadata": {},
   "outputs": [
    {
     "name": "stdout",
     "output_type": "stream",
     "text": [
      "76.3 µs ± 3.35 µs per loop (mean ± std. dev. of 7 runs, 10,000 loops each)\n"
     ]
    }
   ],
   "source": [
    "%%timeit\n",
    "x = np.linalg.solve(A, b)"
   ]
  },
  {
   "cell_type": "markdown",
   "id": "336fd09e-a804-4b67-ac7c-1fb3ee118c1e",
   "metadata": {},
   "source": [
    "It can be seen that using `np.linalg.solve()` is much faster."
   ]
  },
  {
   "cell_type": "markdown",
   "id": "4c48d926-95a8-4b54-af74-b4ac60bf71b9",
   "metadata": {},
   "source": [
    "# Exercises\n",
    "\n"
   ]
  },
  {
   "cell_type": "markdown",
   "id": "75683eb1-32f5-4c00-9fbc-31366a1164f0",
   "metadata": {},
   "source": [
    "*1.* *Polynomial interpolation*. Suppose we are given the following four points on the plane: \n",
    "$$\n",
    "\\begin{matrix}\n",
    "(x_0,y_0)=(1,-2)\\\\\n",
    "(x_1,y_1)=(3,5)\\\\\n",
    "(x_2,y_2)=(4,-10)\\\\\n",
    "(x_3,y_3)=(-1, -3)\n",
    "\\end{matrix}\n",
    "$$\n",
    "\n",
    "We want to find a cubic polynomial:\n",
    "$$\n",
    "f(x) = a_0+a_1x+a_2x^2+a_3x^3\n",
    "$$\n",
    "such that $f(x_i)=y_i$ for $i=0,1,2,3$. Show that this problem can be formulated as a linear system with unknowns $a_0$, $a_1$, $a_2$ and $a_3$, and solve the system using `numpy`.\n",
    "Then, plot the given points and the cubic polynomial to verify that the curve actually goes through the given points."
   ]
  },
  {
   "cell_type": "code",
   "execution_count": null,
   "id": "6796f4d1-3532-4938-8f38-0795f3e85166",
   "metadata": {},
   "outputs": [],
   "source": []
  }
 ],
 "metadata": {
  "kernelspec": {
   "display_name": "Python 3 (ipykernel)",
   "language": "python",
   "name": "python3"
  },
  "language_info": {
   "codemirror_mode": {
    "name": "ipython",
    "version": 3
   },
   "file_extension": ".py",
   "mimetype": "text/x-python",
   "name": "python",
   "nbconvert_exporter": "python",
   "pygments_lexer": "ipython3",
   "version": "3.8.5"
  }
 },
 "nbformat": 4,
 "nbformat_minor": 5
}
