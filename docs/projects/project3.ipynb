{
  "cells": [
    {
      "cell_type": "markdown",
      "metadata": {
        "id": "sA8gnvTB6Zse"
      },
      "source": [
        "# MTH 493/593 --- Introduction to Computational Mathematics --- Project 3\n",
        "## Submission Instructions\n",
        "**Due November 4, 2022.** The project must be submitted through BBLearn as a Jupyter notebook. Create a new notebook in Google Colab. Please name your notebook as follows:\n",
        "\n",
        "<center>Project 3 - Your Name - Your CSU ID </center>\n",
        "\n",
        "For example, Alice Mathperson with ID 1234567 would name her notebook:\n",
        "\n",
        "<center>\n",
        "Project 3 - Alice Mathperson - 1234567\n",
        "    </center>\n",
        "\n",
        "You are allowed to make multiple submissions in BBLearn. However, only the final submission will be graded. In your final submission, make sure of the following:\n",
        "\n",
        "\n",
        "1. The notebook must run without errors. Before submitting the notebook, check that all cells execute correctly, \\emph{in the order they appear in the notebook}.\n",
        "2. There is one exception to the rule above. It is often useful to test code we know to produce errors, so that we know how our code reacts to mistakes made by the user. In this case, provide an explanation of the code being tested.\n",
        "3. Add text cells to explain what you are doing in each step, and state your conclusions. Your project should be readable as a mathematical paper.\n",
        "4. Your code should not only be correct, but well structured and clear. Use meaningful variable names and add comments where you feel necessary.\n",
        "\n",
        "        \n",
        "## Project Statement\n",
        "In this project you will learn to use python's ODE solvers using the scipy library. We have three subprojects. **Students of 493 can choose two of the subprojects, though one of them must be the first.** If the third subproject is completed, it will be treated as a *bonus.* **Students of 593 must do all three.**\n",
        "\n",
        "We will go over how to use ODE solvers on the week of 10/23-10/30. \n"
      ]
    },
    {
      "cell_type": "code",
      "execution_count": null,
      "metadata": {
        "id": "sJ_VoVVt6Zsg"
      },
      "outputs": [],
      "source": []
    },
    {
      "cell_type": "markdown",
      "metadata": {
        "id": "gB3OfHIi6Zsg"
      },
      "source": [
        "____ \n",
        "\n",
        "### Project 1: SIR Models\n",
        "\n",
        "SIR Models are compartmental models that describe spread of infectiors diesases within a population, assuming that\n",
        "\n",
        "a) the population is large enough to make individual fluctuations irrelevant\n",
        "b) the time of observation is short enough to justify neglecting the effect of births and deaths\n",
        "c) There is no latent period of infection (it doesn't go undetected)\n",
        "d) Recovery from the infection give immunity\n",
        "\n",
        "These assumptions can be played around with in more detailed models. Generally, there are three compartments with SIR models\n",
        "\n",
        "$S(t)$: Susceptible individuals, people who have no infection nor immunity\n",
        "$I(t)$: Infected individuals\n",
        "$R(t)$: Recovered individuals, immune to the disease\n",
        "\n",
        "We assume that the rate of infection is jointly proportional with respect to the number of infected people and susceptible people. We also assume that the recovery rate is constant per capita of number of infected\n",
        "\n",
        "$$\\frac{dS}{dt}=-\\alpha S I$$\n",
        "\n",
        "The number of infected people increases if a susceptible gets infected. But infected people also recover at a certain rate, leading to a loss of the number of infected.\n",
        "\n",
        "$$\\frac{dI}{dt}=\\alpha S I -\\beta I$$\n",
        "\n",
        "The number of recovered people depends on the rate of recovery for infected people.\n",
        "\n",
        "$$\\frac{dR}{dt}=\\beta I$$\n",
        "\n",
        "Note that if we assume a fixed population, then\n",
        "$$\\frac{dS}{dt}+\\frac{dI}{dt}+\\frac{dR}{dt}=0$$\n",
        "\n",
        "**Question 1**: Set up a system in module below with five out of one hundred people infected. Let $S(0)=95$ and $I(0)=5$ with $R(0)=0$. **Choose an infection rate of $\\alpha=.1$ and a recovery rate of $\\beta=.5$ and solve over an interval $[0,10]$.** Run the system and plot the three populations\n",
        "\n",
        "**Question 2** Under what conditions does the number of infected decrease? Are there any initial conditions that will cause the infection to dissipate? **Ask yourself when does $dI/dt<0$ occur?** Show three cases using code.\n",
        "\t\n",
        "\n",
        "**Question 3** What if the recovered lose their immunity over time? How could incorporate this detail into our model? Show an example with code and you must justify your answer using at least a few sentences. Incorporate these changes into code. Let's set the rate at which recovered change to susceptible at $\\gamma R$, and vary $\\gamma$.    \n",
        "\n",
        "\n",
        "**Question 4**  Let's assume that the infection rate is seasonally dependent. How could we model this? Incorporate this into our model above. You must justify your answer using at least a few sentences.\n",
        "\n",
        "\n",
        "**Question 5** Herd immunity occurs when enough of the population has developed an immunity to the disease that the number of infected does not grow. This immunity is achieved by either a) recovering from the disease or b) being vaccinated. How would you model vaccinated as a separate compartment? Would you use a constant vaccination rate or one dependent on the number of susceptible? Use Q1's setup as the baseline and show examples with code. \n",
        "\n"
      ]
    },
    {
      "cell_type": "code",
      "execution_count": null,
      "metadata": {
        "id": "c-I7cTC66Zsh"
      },
      "outputs": [],
      "source": []
    },
    {
      "cell_type": "markdown",
      "metadata": {
        "id": "FLGM6X5d6Zsh"
      },
      "source": [
        "### Project 2: Chemical Kinetics Models\n",
        "\n",
        "\n",
        "Chemical kinetics can be modeled as a system of ODEs. The idea here is that a substrate, $[S]$, can bind and unbind to an enzyme, $[E]$, forming and enzyme-substrate complex, $[ES]$,\n",
        "\n",
        "$$E+S\\underset{k_{on}}{\\stackrel{k_{off}}{\\rightleftharpoons}}ES$$\n",
        "\n",
        "This process can be represented using the following ODE sytem, with the arrows indicating which direction a chemical reaction, and $k_{on}$ is the binding rate of the substrate and $k_{off}$ is the unbinding rate.\n",
        "\n",
        "$$\\frac{d[E]}{dt}=-k_{on}[E][S]+k_{off}[ES]$$\n",
        "$$\\frac{d[S]}{dt}=-k_{on}[E][S]+k_{off}[ES]$$\n",
        "$$\\frac{d[ES]}{dt}=k_{on}[E][S]-k_{off}[ES]$$\n",
        "\n",
        "Now, if the enzyme-substrate reacts irreversibly to produce of a product, $[P]$, and a free enzyme $[E]$.\n",
        "\n",
        "$$E+S\\underset{k_{on}}{\\stackrel{k_{off}}{\\rightleftharpoons}}ES\\rightarrow^{k_{cat}}E+P$$\n",
        "\n",
        "Which can again be represented as an ODE system\n",
        "\n",
        "\n",
        "$$\\frac{d[E]}{dt}=-k_{on}[E][S]+k_{off}[ES]+k_{cat}[ES]$$\n",
        "$$\\frac{d[S]}{dt}=-k_{on}[E][S]+k_{off}[ES]$$\n",
        "$$\\frac{d[ES]}{dt}=k_{on}[E][S]-k_{off}[ES]-k_{cat}[ES]$$\n",
        "$$\\frac{d[P]}{dt}=k_{cat}[ES]$$\n",
        "\n",
        "where $k_{cat}$ is the rate of enzyme-substrate complex dissociating to produce a product $[P]$.\n",
        "\n",
        "**Question 1** Set $k_{cat}=0$. Let's explore how binding and unbinding rate affect equilibrium. Set up the ODE system and solve using ``solve_ivp`` with $[E](0)=1.0,[S](0)=1.0,[ES](0)=0.0,$ and $[P](0)=0.0$. Try for (a) $k_{on}=0.1$ and $k_{off}=0.1$, (a) $k_{on}=0.1$ and $k_{off}=0.05$, and (a) $k_{on}=0.1$ and $k_{off}=0.01$. How do you interpret these results?\n",
        "\n",
        "**Question 2** Set $\\frac{d[ES]}{dt}=0$ and determine the equilibrium condition for $[E],[S],$ and $[ES]$. Check with the results of Question 1.\n",
        "\n",
        "\n",
        "**Question 3** Set $k_{on}=0.1$ and $k_{off}=0.05$ but now set $k_{cat}=1,0.1,0.01$ (keep the same initial conditions). How does the solution change?\n",
        "\n",
        "\n",
        "**Question 4**. Stiff problems emerge when rapid changes occurs. Compute the Jacobian of the system. What are its eigenvalues for the different case of Question 3?  You can use numpy to determine the eigenvalues.\n",
        "\n",
        "**Question 5** Test the different solvers, stiff and non-stiff. Examine the runtime using the ``time`` library as a function of error tolerance."
      ]
    },
    {
      "cell_type": "markdown",
      "metadata": {
        "id": "dNl0zRrZ6Zsh"
      },
      "source": []
    },
    {
      "cell_type": "markdown",
      "metadata": {
        "id": "Qle7r_XG6Zsi"
      },
      "source": [
        "\n",
        "---\n",
        "### Project 3: Electrophysiology\n",
        "\n",
        "One way to model a neuronal membrane potential is using the Fitz-Hugh Nagumo Model\n",
        "\n",
        "$$\\frac{dV}{dt}=-V(V-1)(V-\\alpha)-W+I $$\n",
        "$$\\frac{dW}{dt}=\\beta(V-\\gamma W) $$\n",
        "\n",
        "Here $V$ is membrane potential, $W$ is a gating variable that describes ionic channels phenomenologically, and $I$ is an applied current. Here $\\alpha=0.1$, $\\gamma=1$, and $\\beta=.01$ are constants.\n",
        "\n",
        "Let $V(0)=W(0)=0$. We can excite the system by applying a current at a certain time point. \n",
        "\n",
        "**Question 1** Set up the code for the Fitz Hugh Nagumo Equations. Given an interval [0,500], let $I(t)$ be a constant current applied at $t=50$ and held until $t=60$. Try this by using an if-else statement.\n",
        "\n",
        "``I=0``\n",
        "\n",
        "``if (t>=50 and t=<60):``\n",
        "\n",
        "``    I=0.1 ``\n",
        "\n",
        "To get this to work, one of the options of solve\\_ivp should be 'max\\_step=1e-1'.\n",
        "\n",
        "**Question 2** Plot $V(t)$ with respect to $t$ and plot $W$ with respect to $V$, i.e. the phase plot.\n",
        "\n",
        "\n",
        "\n",
        "**Question 3** Vary $\\alpha$, which represent the gating threshold. How does increasing it affect the action potential?\n",
        "\n",
        "**Question 4** Vary $\\beta$ and $\\gamma$. How does this affect the solution?\n",
        "\n",
        "**Question 5** What is the nullcline ($dV/dt=0$ and $dW/dt=0$) of each variable?\n",
        "\n",
        "\n",
        "\n"
      ]
    },
    {
      "cell_type": "code",
      "execution_count": null,
      "metadata": {
        "id": "lHb8oZYF6Zsi"
      },
      "outputs": [],
      "source": []
    }
  ],
  "metadata": {
    "kernelspec": {
      "display_name": "Python 3 (ipykernel)",
      "language": "python",
      "name": "python3"
    },
    "language_info": {
      "codemirror_mode": {
        "name": "ipython",
        "version": 3
      },
      "file_extension": ".py",
      "mimetype": "text/x-python",
      "name": "python",
      "nbconvert_exporter": "python",
      "pygments_lexer": "ipython3",
      "version": "3.9.12"
    },
    "colab": {
      "provenance": [],
      "collapsed_sections": []
    }
  },
  "nbformat": 4,
  "nbformat_minor": 0
}