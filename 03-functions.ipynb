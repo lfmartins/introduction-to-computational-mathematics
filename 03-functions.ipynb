{
 "cells": [
  {
   "cell_type": "markdown",
   "metadata": {},
   "source": [
    "# Introduction\n",
    "\n",
    "A Python *function* is very much like a mathematical function: it receives one or more input values, does some computations, and returns a result.\n",
    "\n",
    "Functions are one of the most useful programming structures, and helps writing code that clear and efficient. Collections of functions with a similar purpose are organized in *modules* that can be imported into our code. In fact, a major part of any computing project in Python relies on calling functions from external modules.\n",
    "\n",
    "As a consequence, it is essential to become comfortable with using functions from external modules. In fact, a good deal of the functionality in Python comes from its extensive *standard library*, which included with the Python distribution. However, in scientific computing, we need to use other specialized libraries. Some of these are introduced here, but will be treated with greater detail in future lessons.\n",
    "\n",
    "We start in the next section by showing how to use some built-in functions. Then we will learn how to define our own functions. Finally, we will see how to use functions in external modules."
   ]
  },
  {
   "cell_type": "markdown",
   "metadata": {},
   "source": [
    "# Calling functions\n",
    "\n",
    "Python functions use a notation similar to mathematics. As an example, let's see how to use the absolute value `abs()`, which is a built-in function in Python. To compute the absolute value of $-2.5$, we use the code below:"
   ]
  },
  {
   "cell_type": "code",
   "execution_count": null,
   "metadata": {},
   "outputs": [],
   "source": [
    "abs(-2.5)"
   ]
  },
  {
   "cell_type": "markdown",
   "metadata": {},
   "source": [
    "When we using a function, we say that we are *calling* the function. In the same way, the expression `abs(-2)` is a *function call*. Think of it as the function being \"called into action\". (This not the real reason for the terminology, but it makes it easy to remember).\n",
    "\n",
    "Functions can have more than argument. For example, let's consider the functions `max()` and `min()`, which compute, respectively, the maximum and minimum of a set of values. Below are two examples of usage:"
   ]
  },
  {
   "cell_type": "code",
   "execution_count": null,
   "metadata": {},
   "outputs": [],
   "source": [
    "max(3, 5, -3, 4, 0)"
   ]
  },
  {
   "cell_type": "code",
   "execution_count": null,
   "metadata": {},
   "outputs": [],
   "source": [
    "min(3, 5, -3, 4, 0)"
   ]
  },
  {
   "cell_type": "markdown",
   "metadata": {},
   "source": [
    "It may come as a surprise that the set of built-in functions is quite limited. For example, one might think that to compute $\\sin(3.5)$ we would run the code below:"
   ]
  },
  {
   "cell_type": "code",
   "execution_count": null,
   "metadata": {},
   "outputs": [],
   "source": [
    "sin(3.5)"
   ]
  },
  {
   "cell_type": "markdown",
   "metadata": {},
   "source": [
    "If the code in the previous cell is run, we get an error saying that `sin` is not defined. Python adopts a minimalistic approach, where the language defines only a small core of functions, called *built-ins*, and leave more specialized functionality to external modules. We will learn later in this lesson how to use the mathematical functions in the `numpy` module.\n",
    "\n",
    "Let's now take a closer look at the structure of function calls. Let's consider the function function call from the previous example:\n",
    "\n",
    "    min(3, 5, -3, 4, 0)\n",
    "    \n",
    "We say that `3`, `5`, `-3`, `4`, `0` are the *arguments* of the function call. The result of a function call is called its *return value*. So, we can say that the function call above has return value `-3`, or simply that it *returns* `-3`.\n",
    "\n",
    "One aspect in which Python functions differ from mathematical functions is that Python functions can return more than one value. For example, the built-in function `divmod()` computes the quotient and remainder of the division of two values. This is illustrated in the cell below:"
   ]
  },
  {
   "cell_type": "code",
   "execution_count": null,
   "metadata": {},
   "outputs": [],
   "source": [
    "quotient, remainder = divmod(100, 3)\n",
    "print(quotient, remainder)"
   ]
  },
  {
   "cell_type": "markdown",
   "metadata": {},
   "source": [
    "*Technical note*: Python functions like `divmod()` don't actually return multiple values. The return values are wrapped in a data structure called a `tuple`, which we will learn about later. The statement:\n",
    "\n",
    "    quotient, remainder = divmod(100, 3)\n",
    "    \n",
    "is actually using Pythons multiple assignment to \"unwrap\" the result and store the returned values in the variables `quotient` and `remainder`. It is a nice example of how Python combines features to produce code that is simple to understand and efficient."
   ]
  },
  {
   "cell_type": "markdown",
   "metadata": {},
   "source": [
    "# Mathematical functions\n",
    "\n",
    "The mathematical functions we need are defined in the module `numpy`. Before using the functions in this module, we need to *import* it, using the code shown in the cell below:"
   ]
  },
  {
   "cell_type": "code",
   "execution_count": null,
   "metadata": {},
   "outputs": [],
   "source": [
    "import numpy as np"
   ]
  },
  {
   "cell_type": "markdown",
   "metadata": {},
   "source": [
    "You should go ahead and execute the code in the cell above. Notice that no output is generated. In the background, Python creates references to the functions in the module and makes them available to our code. \n",
    "\n",
    "The code:\n",
    "\n",
    "    import numpy as np\n",
    "    \n",
    "imports the module `numpy` and associates to it the *alias* `np`. This way, we don't need to type the whole word `numpy` each time we refer to a function in the module.\n",
    "\n",
    "Once we have imported the module, we can, for example, compute $\\sin(1.2)$ with the code:"
   ]
  },
  {
   "cell_type": "code",
   "execution_count": null,
   "metadata": {},
   "outputs": [],
   "source": [
    "np.sin(1.2)"
   ]
  },
  {
   "cell_type": "markdown",
   "metadata": {},
   "source": [
    "That's it. The only difference from usual mathematical notation is that we have to `np.` as a prefix. The dot `.` notation is the way we refer to members of a module. Later we will see that the dot notation is the generic way to refers to members of a Python *object*. Python is an *object oriented* language, which is one of the main sources for its power and flexibility.\n",
    "\n",
    "The next code cell shows how to compute square roots:"
   ]
  },
  {
   "cell_type": "code",
   "execution_count": null,
   "metadata": {},
   "outputs": [],
   "source": [
    "np.sqrt(2)"
   ]
  },
  {
   "cell_type": "markdown",
   "metadata": {},
   "source": [
    "The following computing cell illustrates the computation of exponential and logarithmic functions:"
   ]
  },
  {
   "cell_type": "code",
   "execution_count": null,
   "metadata": {},
   "outputs": [],
   "source": [
    "a = np.exp(3)      # Natural exponential (base e)\n",
    "b = np.log(2)      # Natural logarithm\n",
    "c = np.log10(2)    # Base 10 logarithm\n",
    "d = np.log2(1024)  # Base 2 logarithm\n",
    "print(a, b, c, d)"
   ]
  },
  {
   "cell_type": "markdown",
   "metadata": {},
   "source": [
    "Notice that the function `np.log()` computes the *natural logarithm*. There is no function corresponding to the calculus notation for the natural logarithm $\\ln(x)$.\n",
    "\n",
    "The constants $\\pi$ and $e$ are also defined in `numpy`:"
   ]
  },
  {
   "cell_type": "code",
   "execution_count": null,
   "metadata": {},
   "outputs": [],
   "source": [
    "print(np.pi, np.e)"
   ]
  },
  {
   "cell_type": "markdown",
   "metadata": {},
   "source": [
    "Here are some examples with trigonometric and inverse trig functions:"
   ]
  },
  {
   "cell_type": "code",
   "execution_count": null,
   "metadata": {},
   "outputs": [],
   "source": [
    "a = np.cos(np.pi / 3)\n",
    "b = np.arcsin(0.5)     # Inverse sine\n",
    "c = np.tan(np.pi / 4)\n",
    "d = np.arctan(1)       # Inverse tan\n",
    "print(a, b, c, d)"
   ]
  },
  {
   "cell_type": "markdown",
   "metadata": {},
   "source": [
    "Angles are always in radians, and inverse trigonometric functions use standard definitions.\n",
    "\n",
    "[Click here](https://numpy.org/doc/stable/reference/routines.math.html) for a complete list of mathematical functions defined in `numpy`."
   ]
  },
  {
   "cell_type": "markdown",
   "metadata": {},
   "source": [
    "# Defining functions\n",
    "\n",
    "Efficient use of a computer language requires understanding how to define our own functions. The numerical methods in SciPy, for example, often require user-defined function.\n",
    "\n",
    "Function definition is done with the keywork `def`. In the cell below, we define a function that computes the sine of an angle given in degrees:"
   ]
  },
  {
   "cell_type": "code",
   "execution_count": null,
   "metadata": {},
   "outputs": [],
   "source": [
    "def sin_deg(theta):\n",
    "    theta_rad = np.pi * theta / 180\n",
    "    return np.sin(theta_rad)"
   ]
  },
  {
   "cell_type": "markdown",
   "metadata": {},
   "source": [
    "There are quite a few things to note in this piece of code:\n",
    "\n",
    "- There is one input parameter, denoted by `theta`.\n",
    "- We first compute the angle in radians, and assig it to the variable `theta_rad`.\n",
    "- The _return value_ is computed by the expression `np.sin(theta_rad)`. The keyword `return` is used to specify the output of the function.\n",
    "- _Notice the indentation pattern_. Indentation is the way blocks of code are defined in Python. Python code will not compile correctly if indentation is not correct.\n",
    "\n",
    "Run the cell above. Notice that there is no output. The code above simply _defines_ the meaning of the function `sin_deg`. To compute something, we need to _call_ the function, as in the next example:"
   ]
  },
  {
   "cell_type": "code",
   "execution_count": null,
   "metadata": {},
   "outputs": [],
   "source": [
    "sin_deg(30)"
   ]
  },
  {
   "cell_type": "markdown",
   "metadata": {},
   "source": [
    "Functions can have more than one input. Let's say we want to define a function that, given a point $(x,y)$ on the plane, returns the value of the expression $\\sin(x)+\\cos(y)$. This is how this function could be defined:"
   ]
  },
  {
   "cell_type": "code",
   "execution_count": null,
   "metadata": {},
   "outputs": [],
   "source": [
    "def sincos(x, y):\n",
    "    return np.sin(x) + np.cos(y)"
   ]
  },
  {
   "cell_type": "code",
   "execution_count": null,
   "metadata": {},
   "outputs": [],
   "source": [
    "print(sincos(20,15))\n",
    "print(sincos(-3,5))"
   ]
  },
  {
   "cell_type": "markdown",
   "metadata": {},
   "source": [
    "A very useful Python feature is that functions can return more than one value, packaged as a _tuple_. Let's say we want to define a function that, given the polar cooordinates $(\\rho,\\theta)$ of a point, returns the rectangular coordinates:\n",
    "\n",
    "$$\n",
    "x = \\rho\\cos(\\theta)\n",
    "$$\n",
    "\n",
    "$$\n",
    "y = \\rho\\sin(\\theta)\n",
    "$$\n",
    "\n",
    "This is how the function could be defined:"
   ]
  },
  {
   "cell_type": "code",
   "execution_count": null,
   "metadata": {},
   "outputs": [],
   "source": [
    "def polar(rho, theta):\n",
    "    return rho * np.cos(theta), rho * np.sin(theta)"
   ]
  },
  {
   "cell_type": "markdown",
   "metadata": {},
   "source": [
    "The next cell contains an example of use of this function:"
   ]
  },
  {
   "cell_type": "code",
   "execution_count": null,
   "metadata": {},
   "outputs": [],
   "source": [
    "x, y = polar(-2, np.pi/3)\n",
    "x, y"
   ]
  },
  {
   "cell_type": "markdown",
   "metadata": {},
   "source": [
    "Notice that in the expression\n",
    "\n",
    "    x, y = polar(-2, np.pi/3)\n",
    "    \n",
    "we use a multiple assignment, to set the values of `x` and `y` symultaneously."
   ]
  },
  {
   "cell_type": "markdown",
   "metadata": {},
   "source": [
    "## Lambda Functions and Function Factories\n",
    "\n",
    "This section contains more advanced techniques that will be needed later. It can be skipped for now.\n",
    "\n",
    "There is another way to define a function in Python called a _lambda function_. A lambda function is just a function defined \"in place\". This is the syntax:"
   ]
  },
  {
   "cell_type": "code",
   "execution_count": null,
   "metadata": {},
   "outputs": [],
   "source": [
    "f = lambda x : x ** 2 + 1"
   ]
  },
  {
   "cell_type": "markdown",
   "metadata": {},
   "source": [
    "Notice that there is no output. The expression that defines the function is:\n",
    "\n",
    "    lambda x : x ** 2 + 1\n",
    "    \n",
    "The keyword `lambda` indicates that we are defining a function. Then the argument(s) of the function are listed before the colon `:`, followed by the return value. Thus, the function above corresponds to the mathematical function $f(x) = x^2+1$. We can now use it as a regular function:"
   ]
  },
  {
   "cell_type": "code",
   "execution_count": null,
   "metadata": {},
   "outputs": [],
   "source": [
    "f(3.5)"
   ]
  },
  {
   "cell_type": "markdown",
   "metadata": {},
   "source": [
    "The keyword `lambda` comes from _lambda calculus_, which is a formalization of mathematica computation invented by the logician Alonzo Church. \n",
    "\n",
    "Lambda definitions can be used only for functions whose output value consists of a single expression. However, the number of variables is arbitrary. For example, a function that computes the distance from a point ($x,y$) to the origin could be defined as:"
   ]
  },
  {
   "cell_type": "code",
   "execution_count": null,
   "metadata": {},
   "outputs": [],
   "source": [
    "dist = lambda x, y : ((x ** 2) + (y ** 2)) ** 0.5"
   ]
  },
  {
   "cell_type": "code",
   "execution_count": null,
   "metadata": {},
   "outputs": [],
   "source": [
    "dist(3, -1)"
   ]
  },
  {
   "cell_type": "code",
   "execution_count": null,
   "metadata": {},
   "outputs": [],
   "source": [
    "dist(1, 1)"
   ]
  },
  {
   "cell_type": "markdown",
   "metadata": {},
   "source": [
    "We now discuss a pretty advanced Python technique: _function factories_. To illustrate this concept, suppose that we need to work with quadratic functions such as $f(x)=ax^2+bx+c$, but we don't know the values of the coefficients $a$, $b$ and $c$ beforehand. We will need to do several operations with the quadratic, such as computing values, graphing, solving equations. Furthermore, we will want to do the same operation to several different quadratics.\n",
    "\n",
    "A convenient way to do that is to use a _function factory_, which is \"a function that creates functions\". Here is standard syntax:"
   ]
  },
  {
   "cell_type": "code",
   "execution_count": null,
   "metadata": {},
   "outputs": [],
   "source": [
    "def make_quadratic(a, b, c):\n",
    "    quadratic = lambda x : a * x ** 2 + b * x + c\n",
    "    return quadratic"
   ]
  },
  {
   "cell_type": "markdown",
   "metadata": {},
   "source": [
    "We can than use this to create different quadratic functions:"
   ]
  },
  {
   "cell_type": "code",
   "execution_count": null,
   "metadata": {},
   "outputs": [],
   "source": [
    "q1 = make_quadratic(2, -1, 4)\n",
    "q2 = make_quadratic(3, 0, -2)"
   ]
  },
  {
   "cell_type": "markdown",
   "metadata": {},
   "source": [
    "We can now use `q1` and `q2` like regular functions:"
   ]
  },
  {
   "cell_type": "code",
   "execution_count": null,
   "metadata": {},
   "outputs": [],
   "source": [
    "q1(3)"
   ]
  },
  {
   "cell_type": "code",
   "execution_count": null,
   "metadata": {},
   "outputs": [],
   "source": [
    "q2(4)"
   ]
  },
  {
   "cell_type": "markdown",
   "metadata": {},
   "source": [
    "Here is how we would graph the two quadratics (graphing is discussed in detail in a further lesson):"
   ]
  },
  {
   "cell_type": "code",
   "execution_count": null,
   "metadata": {},
   "outputs": [],
   "source": [
    "x = np.linspace(-5,5,100)\n",
    "y1 = q1(x)\n",
    "y2 = q2(x)\n",
    "plt.plot(x, y1, x, y2)\n",
    "None"
   ]
  },
  {
   "cell_type": "markdown",
   "metadata": {},
   "source": [
    "## Exercises\n",
    "\n",
    "__1__. Write a function that, given the radius $r$ of a sphere, returns the volume of the sphere, given by:\n",
    "$$\n",
    "V=\\frac{4}{3}\\pi r^3.\n",
    "$$\n",
    "Test your function with various input values, both integers and floating point numbers."
   ]
  },
  {
   "cell_type": "code",
   "execution_count": null,
   "metadata": {},
   "outputs": [],
   "source": []
  },
  {
   "cell_type": "markdown",
   "metadata": {},
   "source": [
    "__2__. Write a function that, given the radius $r$ of a sphere, returns two values, the volume and surface area of the sphere. The surface area is given by:\n",
    "$$\n",
    "A=4\\pi r^2\n",
    "$$\n",
    "Test your function with various input values, both integers and floating point numbers. "
   ]
  },
  {
   "cell_type": "code",
   "execution_count": null,
   "metadata": {},
   "outputs": [],
   "source": []
  },
  {
   "cell_type": "markdown",
   "metadata": {},
   "source": [
    "__3__. Write a function that, given three coefficients $a$, $b$, $c$, outputs the two solutions of the quadratic $ax^2+bx+c=0$. Test your functions with several values of the coefficients, both integers and floating point numbers. Make sure you are getting the correct output in all cases."
   ]
  },
  {
   "cell_type": "code",
   "execution_count": null,
   "metadata": {},
   "outputs": [],
   "source": []
  },
  {
   "cell_type": "markdown",
   "metadata": {},
   "source": [
    "__4__. Does your function of Problem 3 produce the correct results if the solutions of the quadratic are not real numbers? Modify your function in such a way that:\n",
    "\n",
    "- If the solution is real, the output is a floating point number.\n",
    "- If the solution is not real, the output is a complex number.\n",
    "\n",
    "_Hint_: To distinguish the two cases, you can look at the discriminant $\\Delta = b^2-4ac$. You will need to use the `if` command, according to the pattern:\n",
    "\n",
    "    delta = b ** 2 - 4 * a * c\n",
    "    if delta >= 0:\n",
    "        ... root computation if roots are real ...\n",
    "        x1 = ...\n",
    "        x2 = ...\n",
    "    else:\n",
    "        ... root computation if roots are not real ...\n",
    "        x1 = ...\n",
    "        x2 = ...\n",
    "    return x1, x2\n",
    "    \n",
    "You have to indent your code exactly as in the outline above."
   ]
  },
  {
   "cell_type": "code",
   "execution_count": null,
   "metadata": {},
   "outputs": [],
   "source": []
  },
  {
   "cell_type": "markdown",
   "metadata": {},
   "source": [
    "__*5__. Modify your function from the previous examples so that the type of the result reflects the type of the inputs. More specifically:\n",
    "\n",
    "- If the inputs are not all real, the output should be a complex number.\n",
    "- If the inputs are all integer or floating point numbers, the output should be a floating point number, if possible (of course, even in this case the output could be complex).\n",
    "\n",
    "_Hint_: You can organize your computation as follows:\n",
    "\n",
    "    if type(a) == complex or type(b) == complex or type(c) == complex:\n",
    "        ... computation in the case of complex coefficients ...\n",
    "        x1 = ...\n",
    "        x2 = ...\n",
    "    else:\n",
    "        delta = b ** 2 - 4 * a * c\n",
    "        if delta >= 0:\n",
    "            ... computation in the case of real coefficients, but complex roots ...\n",
    "            x1 = ...\n",
    "            x2 = ...\n",
    "        else:\n",
    "            ... computation in the case of real coefficients, real roots ...\n",
    "            x1 = ...\n",
    "            x2 = ...\n",
    "    return x1, x2\n",
    "    \n",
    "Be very careful with indentation!"
   ]
  },
  {
   "cell_type": "code",
   "execution_count": null,
   "metadata": {},
   "outputs": [],
   "source": []
  },
  {
   "cell_type": "markdown",
   "metadata": {},
   "source": [
    "__6__. Define a function that, given four inputs $a$, $b$, $c$ and $d$, returns the determinant of the matrix:\n",
    "$$\n",
    "\\left(\n",
    "\\begin{matrix}\n",
    "a&b\\\\\n",
    "c&d\\\\\n",
    "\\end{matrix}\n",
    "\\right)\n",
    "$$\n",
    "As usual, test your function for several different input values."
   ]
  },
  {
   "cell_type": "code",
   "execution_count": null,
   "metadata": {},
   "outputs": [],
   "source": []
  },
  {
   "cell_type": "markdown",
   "metadata": {},
   "source": [
    "__7__. Use the function defined in the previous exercise to write a function that, given inputs $a$, $b$, $c$, $d$, $r$ and $s$, returns the solution $(x,y)$ of the system:\n",
    "\n",
    "$$\n",
    "\\begin{align*}\n",
    "ax+by &= r\\\\\n",
    "cx+dy &= s\n",
    "\\end{align*}\n",
    "$$\n",
    "\n",
    "Test your function at least 5 different sets of input values.\n",
    "\n",
    "_Hint_: Use [Cramer's rule](http://mathworld.wolfram.com/CramersRule.html). The function you wrote for the previous exercise will be useful."
   ]
  },
  {
   "cell_type": "code",
   "execution_count": null,
   "metadata": {},
   "outputs": [],
   "source": []
  },
  {
   "cell_type": "markdown",
   "metadata": {},
   "source": [
    "__*8__. How does your function from the previous exercise behave if the determinant in the denominator is zero? Modify your function in such a way that the function returns an appropriate value. For example, if the system has no solutions, the function could return `None`, Python's value to represent \"no output\". What should the function return if there are infinitely many solutions? Write tests for each of the possible cases."
   ]
  },
  {
   "cell_type": "markdown",
   "metadata": {},
   "source": [
    "__*9__. Suppose that you want to study waveforms defined as combinations of sine and cosine:\n",
    "$$\n",
    "f(t) = A\\sin(\\omega t) + B\\cos(\\omega t)\n",
    "$$\n",
    "Write a function factory called `make_waveform` that generates a function according to the formula above. This will be the pattern for your solutions:\n",
    "\n",
    "    def make_waveform(A, B, omega):\n",
    "        f = ... waveform definition ...\n",
    "        return f\n",
    "Use your function factory to create three waveforms with different values of the parameters. Compute the values of the waveforms at $t=\\pi/2$ and $t=\\pi/3$ and check that you get the right answers. Then, plot the three waveforms. "
   ]
  },
  {
   "cell_type": "code",
   "execution_count": null,
   "metadata": {},
   "outputs": [],
   "source": []
  },
  {
   "cell_type": "markdown",
   "metadata": {},
   "source": [
    "__*10__. The waveform of the previous exercise represents the solution of an (undamped) linear oscillator with natural frequency $\\frac{2\\pi}{\\omega}$ rad/sec. The full state of the oscillator must also include the velocity:\n",
    "$$\n",
    "g(x)=\\omega A\\cos(\\omega t)-\\omega B\\sin(\\omega t).\n",
    "$$\n",
    "Write a function factory called `make_oscillator` that returns both $f$ and $g$, according to the following pattern:\n",
    "\n",
    "    def make_oscillator(A, B, omega):\n",
    "        f = ... position function definition ...\n",
    "        g = ... velocity function definition ...\n",
    "        return f, g\n",
    "        \n",
    "Use your function factory to create the oscillator functions for a given set of parameters, and then plot both the position and velocity for the oscillator in a single plot."
   ]
  },
  {
   "cell_type": "code",
   "execution_count": null,
   "metadata": {},
   "outputs": [],
   "source": []
  },
  {
   "cell_type": "markdown",
   "metadata": {},
   "source": [
    "## What you learned in this lesson\n",
    "\n",
    "- How to use predefined functions.\n",
    "- What are function arguments and return values.\n",
    "- How to write functions using `def`.\n",
    "- How to write functions using `lambda`\n",
    "- The \"function factory\" pattern."
   ]
  },
  {
   "cell_type": "markdown",
   "metadata": {},
   "source": [
    "## Further information\n",
    "\n",
    "- Python has a small set of [built-in functions](https://docs.python.org/3.5/library/functions.html). Most of these are of interest only for programmers, but some are interesting for us: `abs()`, `max()`, `min()`, `sum()` and the conversion functions `int()`, `float()` and `complex()`.\n",
    "- Functions can be very sophisticated in Python, and the full function definition syntax is pretty complexs. See [the Python tutorial on functions](https://docs.python.org/3.5/tutorial/controlflow.html#defining-functions) for a thorough introduction.\n",
    "- [This site](http://www.secnetix.de/~olli/Python/lambda_functions.hawk) contains a nice introduction to lambda functions."
   ]
  },
  {
   "cell_type": "markdown",
   "metadata": {},
   "source": [
    "<a rel=\"license\" href=\"http://creativecommons.org/licenses/by-nc-sa/4.0/\"><img alt=\"Creative Commons License\" style=\"border-width:0\" src=\"http://i.creativecommons.org/l/by-nc-sa/4.0/88x31.png\" /></a><br /><span xmlns:dct=\"http://purl.org/dc/terms/\" property=\"dct:title\"><b>Introduction to IPython, SciPy and matplotlib</b></span> by <a xmlns:cc=\"http://creativecommons.org/ns#\" href=\"http://academic.csuohio.edu/fmartins\" property=\"cc:attributionName\" rel=\"cc:attributionURL\">L. Felipe Martins</a> is licensed under a <a rel=\"license\" href=\"http://creativecommons.org/licenses/by-nc-sa/4.0/\">Creative Commons Attribution-NonCommercial-ShareAlike 4.0 International License</a>."
   ]
  },
  {
   "cell_type": "code",
   "execution_count": null,
   "metadata": {},
   "outputs": [],
   "source": []
  },
  {
   "cell_type": "code",
   "execution_count": null,
   "metadata": {},
   "outputs": [],
   "source": []
  }
 ],
 "metadata": {
  "kernelspec": {
   "display_name": "Python 3 (ipykernel)",
   "language": "python",
   "name": "python3"
  },
  "language_info": {
   "codemirror_mode": {
    "name": "ipython",
    "version": 3
   },
   "file_extension": ".py",
   "mimetype": "text/x-python",
   "name": "python",
   "nbconvert_exporter": "python",
   "pygments_lexer": "ipython3",
   "version": "3.8.5"
  }
 },
 "nbformat": 4,
 "nbformat_minor": 4
}
